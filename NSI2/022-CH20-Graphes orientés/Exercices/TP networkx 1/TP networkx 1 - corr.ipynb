{
 "cells": [
  {
   "cell_type": "markdown",
   "metadata": {
    "pycharm": {
     "name": "#%% md\n"
    }
   },
   "source": [
    "# Utilisation de `networkx` : graphes non orientés\n",
    "\n",
    "Commençons par importer la bibliothèque :"
   ]
  },
  {
   "cell_type": "code",
   "execution_count": 1,
   "metadata": {
    "pycharm": {
     "name": "#%%\n"
    }
   },
   "outputs": [],
   "source": [
    "import networkx as nx #SyntaxWarning à ignorer"
   ]
  },
  {
   "cell_type": "markdown",
   "metadata": {
    "pycharm": {
     "name": "#%% md\n"
    }
   },
   "source": [
    "On crée une instance de la classe Graph de networkx :"
   ]
  },
  {
   "cell_type": "code",
   "execution_count": 2,
   "metadata": {
    "pycharm": {
     "name": "#%%\n"
    }
   },
   "outputs": [],
   "source": [
    "G = nx.Graph()"
   ]
  },
  {
   "cell_type": "markdown",
   "metadata": {
    "pycharm": {
     "name": "#%% md\n"
    }
   },
   "source": [
    "G est vide. Il y a plusieurs manières de le peupler :\n",
    "## Sommets"
   ]
  },
  {
   "cell_type": "code",
   "execution_count": 3,
   "metadata": {
    "pycharm": {
     "name": "#%%\n"
    }
   },
   "outputs": [],
   "source": [
    "G.add_node(\"A\")  # On peut utiliser tous les types qui conviennent aux clés de dictionnaires\n",
    "\n",
    "G.add_nodes_from([\"B\", \"C\"])  # Voilà qui est pratique pour aller vite\n",
    "\n",
    "H = nx.Graph()\n",
    "\n",
    "H.add_nodes_from(G)  # On peut même récupérer les sommets à partir d'un autre graphe"
   ]
  },
  {
   "cell_type": "markdown",
   "metadata": {
    "pycharm": {
     "name": "#%% md\n"
    }
   },
   "source": [
    "On peut avoir envie de récupérer la liste des sommets :"
   ]
  },
  {
   "cell_type": "code",
   "execution_count": 4,
   "metadata": {
    "pycharm": {
     "name": "#%%\n"
    }
   },
   "outputs": [
    {
     "data": {
      "text/plain": "['A', 'B', 'C']"
     },
     "execution_count": 4,
     "metadata": {},
     "output_type": "execute_result"
    }
   ],
   "source": [
    "list(G.nodes)  # ou list(G.nodes())"
   ]
  },
  {
   "cell_type": "markdown",
   "metadata": {
    "pycharm": {
     "name": "#%% md\n"
    }
   },
   "source": [
    "Si le sommet existe déjà l'ajouter ne produit rien :"
   ]
  },
  {
   "cell_type": "code",
   "execution_count": 5,
   "metadata": {
    "pycharm": {
     "name": "#%%\n"
    }
   },
   "outputs": [
    {
     "name": "stdout",
     "output_type": "stream",
     "text": [
      "['A', 'B', 'C']\n"
     ]
    }
   ],
   "source": [
    "G.add_node(\"A\")\n",
    "print(G.nodes)  # ou print(G.nodes())"
   ]
  },
  {
   "cell_type": "markdown",
   "metadata": {
    "pycharm": {
     "name": "#%% md\n"
    }
   },
   "source": [
    "On peut même ajouter des données aux sommets lors de leur création :"
   ]
  },
  {
   "cell_type": "code",
   "execution_count": 6,
   "metadata": {
    "pycharm": {
     "name": "#%%\n"
    }
   },
   "outputs": [],
   "source": [
    "G.add_node(\"D\", depart=True)"
   ]
  },
  {
   "cell_type": "markdown",
   "metadata": {
    "pycharm": {
     "name": "#%% md\n"
    }
   },
   "source": [
    "`list(G.nodes)` ne renvoie que la liste des noms donnés aux sommets.\n",
    "Pour récupérer les données ajoutées il faut utiliser :"
   ]
  },
  {
   "cell_type": "code",
   "execution_count": 7,
   "metadata": {
    "pycharm": {
     "name": "#%%\n"
    }
   },
   "outputs": [
    {
     "data": {
      "text/plain": "[('A', {}), ('B', {}), ('C', {}), ('D', {'depart': True})]"
     },
     "execution_count": 7,
     "metadata": {},
     "output_type": "execute_result"
    }
   ],
   "source": [
    "list(G.nodes(data=True))"
   ]
  },
  {
   "cell_type": "markdown",
   "metadata": {
    "pycharm": {
     "name": "#%% md\n"
    }
   },
   "source": [
    " Et pour récupérer seulement une donnée particulière :"
   ]
  },
  {
   "cell_type": "code",
   "execution_count": 8,
   "metadata": {
    "pycharm": {
     "name": "#%%\n"
    }
   },
   "outputs": [
    {
     "data": {
      "text/plain": "[('A', None), ('B', None), ('C', None), ('D', True)]"
     },
     "execution_count": 8,
     "metadata": {},
     "output_type": "execute_result"
    }
   ],
   "source": [
    "list(G.nodes(data=\"depart\"))"
   ]
  },
  {
   "cell_type": "markdown",
   "metadata": {
    "pycharm": {
     "name": "#%% md\n"
    }
   },
   "source": [
    "Pour ajouter une donnée à un sommet déjà créé :"
   ]
  },
  {
   "cell_type": "code",
   "execution_count": 9,
   "metadata": {
    "pycharm": {
     "name": "#%%\n"
    }
   },
   "outputs": [
    {
     "name": "stdout",
     "output_type": "stream",
     "text": [
      "[('A', False), ('B', None), ('C', None), ('D', True)]\n"
     ]
    }
   ],
   "source": [
    "G.nodes[\"A\"][\"depart\"] = False\n",
    "\n",
    "print(list(G.nodes(data=\"depart\")))  # attention c'est 'depart' et non depart"
   ]
  },
  {
   "cell_type": "markdown",
   "metadata": {
    "pycharm": {
     "name": "#%% md\n"
    }
   },
   "source": [
    "## Arêtes\n",
    "\n",
    "On peut bien sûr ajouter des arêtes en mentionnant les noms des sommets :"
   ]
  },
  {
   "cell_type": "code",
   "execution_count": 10,
   "metadata": {
    "pycharm": {
     "name": "#%%\n"
    }
   },
   "outputs": [],
   "source": [
    "G.add_edge(\"A\", \"B\")\n",
    "G.add_edges_from([(\"B\", \"D\"), (\"B\", \"C\")])  # Pour aller plus vite"
   ]
  },
  {
   "cell_type": "markdown",
   "metadata": {
    "pycharm": {
     "name": "#%% md\n"
    }
   },
   "source": [
    "On peut même créer les sommets à l'aide des arêtes !"
   ]
  },
  {
   "cell_type": "code",
   "execution_count": 11,
   "metadata": {
    "pycharm": {
     "name": "#%%\n"
    }
   },
   "outputs": [],
   "source": [
    "G.add_edge(\"A\", \"E\")  # crée le sommet E et le relie à A"
   ]
  },
  {
   "cell_type": "markdown",
   "metadata": {
    "pycharm": {
     "name": "#%% md\n"
    }
   },
   "source": [
    "On peut récupérer la liste des arêtes et ajouter des données à chacune\n",
    "d'entre elles de la même manière que pour les sommets :"
   ]
  },
  {
   "cell_type": "code",
   "execution_count": 12,
   "metadata": {
    "pycharm": {
     "name": "#%%\n"
    }
   },
   "outputs": [
    {
     "data": {
      "text/plain": "[('A', 'B'), ('A', 'E'), ('B', 'D'), ('B', 'C')]"
     },
     "execution_count": 12,
     "metadata": {},
     "output_type": "execute_result"
    }
   ],
   "source": [
    "list(G.edges)"
   ]
  },
  {
   "cell_type": "code",
   "execution_count": 13,
   "metadata": {
    "pycharm": {
     "name": "#%%\n"
    }
   },
   "outputs": [
    {
     "data": {
      "text/plain": "[('A', 'B', {}),\n ('A', 'E', {}),\n ('B', 'D', {}),\n ('B', 'C', {}),\n ('B', 'E', {'poids': 2})]"
     },
     "execution_count": 13,
     "metadata": {},
     "output_type": "execute_result"
    }
   ],
   "source": [
    "G.add_edge(\"B\", \"E\", poids=2)\n",
    "list(G.edges(data=True))"
   ]
  },
  {
   "cell_type": "code",
   "execution_count": 14,
   "metadata": {
    "pycharm": {
     "name": "#%%\n"
    }
   },
   "outputs": [
    {
     "data": {
      "text/plain": "[('A', 'B', None),\n ('A', 'E', None),\n ('B', 'D', None),\n ('B', 'C', None),\n ('B', 'E', 2)]"
     },
     "execution_count": 14,
     "metadata": {},
     "output_type": "execute_result"
    }
   ],
   "source": [
    "list(G.edges(data=\"poids\"))  # attention c'est 'poids' et non poids"
   ]
  },
  {
   "cell_type": "code",
   "execution_count": 15,
   "metadata": {
    "pycharm": {
     "name": "#%%\n"
    }
   },
   "outputs": [
    {
     "data": {
      "text/plain": "[('A', 'B', 3),\n ('A', 'E', None),\n ('B', 'D', None),\n ('B', 'C', None),\n ('B', 'E', 2)]"
     },
     "execution_count": 15,
     "metadata": {},
     "output_type": "execute_result"
    }
   ],
   "source": [
    "G.edges[(\"A\", \"B\")][\"poids\"] = 3\n",
    "\n",
    "list(G.edges(data=\"poids\"))"
   ]
  },
  {
   "cell_type": "markdown",
   "metadata": {
    "pycharm": {
     "name": "#%% md\n"
    }
   },
   "source": [
    "# Représenter un graphe non orienté\n",
    "\n",
    "On commence par créer un graphe simple"
   ]
  },
  {
   "cell_type": "code",
   "execution_count": 16,
   "metadata": {
    "pycharm": {
     "name": "#%%\n"
    }
   },
   "outputs": [],
   "source": [
    "G = nx.Graph()\n",
    "G.add_edges_from(\n",
    "    [(\"A\", \"B\"), (\"B\", \"C\"), (\"C\", \"D\"), (\"D\", \"A\"), (\"A\", \"C\"), (\"C\", \"E\")]\n",
    ")"
   ]
  },
  {
   "cell_type": "markdown",
   "metadata": {
    "pycharm": {
     "name": "#%% md\n"
    }
   },
   "source": [
    "Et voici comment le dessiner de manière basique : on doit d'abord importer de la bibliothèque\n",
    "`matplotlib`"
   ]
  },
  {
   "cell_type": "code",
   "execution_count": 17,
   "metadata": {
    "pycharm": {
     "name": "#%%\n"
    }
   },
   "outputs": [
    {
     "data": {
      "text/plain": "<Figure size 432x288 with 1 Axes>",
      "image/png": "[encoded data removed]"
     },
     "metadata": {},
     "output_type": "display_data"
    }
   ],
   "source": [
    "import matplotlib.pyplot as plt\n",
    "\n",
    "plt.clf() # on efface\n",
    "nx.draw(G)\n",
    "plt.show()\n"
   ]
  },
  {
   "cell_type": "markdown",
   "metadata": {
    "pycharm": {
     "name": "#%% md\n"
    }
   },
   "source": [
    "C'est bien mais il nous manque les noms des sommets !\n",
    "\n",
    "Heureusement il est facile de les afficher :"
   ]
  },
  {
   "cell_type": "code",
   "execution_count": 18,
   "metadata": {
    "pycharm": {
     "name": "#%%\n"
    }
   },
   "outputs": [
    {
     "data": {
      "text/plain": "<Figure size 432x288 with 1 Axes>",
      "image/png": "[encoded data removed]"
     },
     "metadata": {},
     "output_type": "display_data"
    }
   ],
   "source": [
    "plt.clf() # on efface\n",
    "nx.draw(G, with_labels=True)\n",
    "plt.show()"
   ]
  },
  {
   "cell_type": "markdown",
   "metadata": {
    "pycharm": {
     "name": "#%% md\n"
    }
   },
   "source": [
    "# A faire\n",
    "\n",
    "Dans la cellule suivante, écrire un script qui génère un graphe :\n",
    "- avec un nombre aléatoire de sommets compris entre 5 et 10;\n",
    "- dont les noms de sommets sont des majuscules de l'alphabet;\n",
    "- avec des arêtes aléatoires mais de chaque sommet doit partir entre 1 et 3 arêtes.\n",
    "\n",
    "Voici 2 exemples de tels graphes :\n",
    "![ex1](https://i.postimg.cc/ryJZTQjP/exemple1.png)\n",
    "![ex2](https://i.postimg.cc/ZK575pDK/exemple2.png)"
   ]
  },
  {
   "cell_type": "code",
   "execution_count": 19,
   "metadata": {
    "pycharm": {
     "name": "#%%\n"
    }
   },
   "outputs": [
    {
     "name": "stdout",
     "output_type": "stream",
     "text": [
      "7\n",
      "['T', 'J', 'H', 'X', 'O', 'Q', 'S']\n"
     ]
    },
    {
     "data": {
      "text/plain": "<Figure size 432x288 with 1 Axes>",
      "image/png": "[encoded data removed]"
     },
     "metadata": {},
     "output_type": "display_data"
    }
   ],
   "source": [
    "from random import randint, sample\n",
    "\n",
    "node_name = \"AZERTYUIOPQSDFGHJKLMWXCVBN\"\n",
    "\n",
    "n = randint(5, 10)\n",
    "print(n)\n",
    "nodes = sample(node_name, n)\n",
    "print(nodes)\n",
    "edges = []\n",
    "for node in nodes:\n",
    "    remaining_nodes = list(nodes)\n",
    "    remaining_nodes.remove(node)\n",
    "    extremities = sample(remaining_nodes, randint(1, 3))\n",
    "    edges.extend([(node, e) for e in extremities])\n",
    "\n",
    "plt.clf() # on efface\n",
    "G = nx.Graph()\n",
    "G.add_edges_from(edges)\n",
    "nx.draw(G, with_labels=True)\n",
    "plt.show()"
   ]
  },
  {
   "cell_type": "code",
   "execution_count": 19,
   "metadata": {},
   "outputs": [],
   "source": []
  }
 ],
 "metadata": {
  "kernelspec": {
   "display_name": "Python 3",
   "language": "python",
   "name": "python3"
  },
  "language_info": {
   "codemirror_mode": {
    "name": "ipython",
    "version": 3
   },
   "file_extension": ".py",
   "mimetype": "text/x-python",
   "name": "python",
   "nbconvert_exporter": "python",
   "pygments_lexer": "ipython3",
   "version": "3.9.2"
  }
 },
 "nbformat": 4,
 "nbformat_minor": 2
}