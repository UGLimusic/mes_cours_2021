{
 "cells": [
  {
   "cell_type": "markdown",
   "metadata": {},
   "source": [
    "<h1 style='text-align:center'>N.S.I. Term. - 2021.02.15 - Annales - sem20 (prn24)</h1>\n",
    "<h2 style='text-align:center'>Annales Épreuve Pratique 2020-21</h2>\n",
    "<h2 style='text-align:center'>Sujet 007 - corrigé</h2>"
   ]
  },
  {
   "cell_type": "markdown",
   "metadata": {},
   "source": [
    "* Cadrage officiel :  https://www.education.gouv.fr/bo/20/Special2/MENE2001797N.htm"
   ]
  },
  {
   "cell_type": "markdown",
   "metadata": {},
   "source": [
    "**Durée : 1 heure**<br/>\n",
    "<br/>\n",
    "<span style=\"color:blue;font-weight:900;font-family:Arial;font:20px Arial\">**Modalités**</span>\n",
    "<br/>\n",
    "<br/>\n",
    "<div style=\"font:16px Arial\">\n",
    "La partie pratique consiste en la résolution de deux exercices sur ordinateur, chacun étant noté sur 4 points.\n",
    "\n",
    "Le candidat est évalué sur la base d'un dialogue avec un professeur-examinateur. Un examinateur évalue au maximum quatre élèves. L'examinateur ne peut pas évaluer un élève qu'il a eu en classe durant l'année en cours.\n",
    "\n",
    "L'évaluation de cette partie se déroule au cours du deuxième trimestre pendant la période de l'épreuve écrite de spécialité.\n",
    "- **Premier exercice**\n",
    "\n",
    "Le premier exercice consiste à programmer un algorithme figurant explicitement au programme, ne présentant pas de difficulté particulière, dont on fournit une spécification. Il s'agit donc de restituer un algorithme rencontré et travaillé à plusieurs reprises en cours de formation. Le sujet peut proposer un jeu de test avec les réponses attendues pour permettre au candidat de vérifier son travail.\n",
    "\n",
    "- **Deuxième exercice**\n",
    "\n",
    "Pour le second exercice, un programme est fourni au candidat. Cet exercice ne demande pas l'écriture complète d'un programme, mais permet de valider des compétences de programmation suivant des modalités variées : le candidat doit, par exemple, compléter un programme « à trous » afin de répondre à une spécification donnée, ou encore compléter un programme pour le documenter, ou encore compléter un programme en ajoutant des assertions, *etc.*\n",
    "</div>"
   ]
  },
  {
   "cell_type": "markdown",
   "metadata": {},
   "source": [
    "<h2 style='text-align:center'>Sujet 007 - corrigé - v0</h2>"
   ]
  },
  {
   "cell_type": "markdown",
   "metadata": {},
   "source": [
    "https://www.education.gouv.fr/bo/20/Special2/MENE2001797N.htm"
   ]
  },
  {
   "cell_type": "markdown",
   "metadata": {},
   "source": [
    "**Durée 1 heure**  \n",
    "***Compte pour 8 points sur 20***"
   ]
  },
  {
   "cell_type": "markdown",
   "metadata": {},
   "source": [
    "<div style=\"font-family: \"Arial\", Times, serif;\">\n",
    "    <h2 style=\"text-align:center\">EXERCICE 1 (4 points)</h2>\n",
    "    <span style=\"font: 18px Arial, sans-serif;\">\n",
    "    <br/>\n",
    "    <p>\n",
    "    On s’intéresse à la suite d’entiers définie par\n",
    "        <p/><p style=\"text-align:center\">\n",
    "$U_1 = 1$, $U_2 = 1$ et, pour tout entier naturel $n$, par $U_{n+2} = U_{n+1} + U_n$.\n",
    "        </p>\n",
    "        <p>\n",
    "Elle s’appelle la suite de Fibonacci.</p><p>\n",
    "        Écrire la fonction <code>fibonacci</code> qui prend un entier $n > 0$ en argument et qui renvoie l’élément d’indice $n$ de cette suite.</p><p>\n",
    "On utilisera une programmation dynamique (pas de récursivité).\n",
    "        </p>\n",
    "        <p style=\"font: 18px Arial, sans-serif;\">\n",
    "        <i>Exemples :</i>\n",
    "        </p>\n",
    "        <p style=\"padding:0 0 0 0px;font: 18px Courier New, sans-serif;\">\n",
    "            >>> fibonacci(1)<br/>\n",
    "            1<br/>\n",
    "            >>> fibonacci(2)<br/>\n",
    "            1<br/>\n",
    "            >>> fibonacci(25)<br/>\n",
    "            75025<br/>\n",
    "            >>> fibonacci(45)<br/>\n",
    "            1134903170<br/>\n",
    "        </p>\n",
    "</div>\n",
    "</span>\n",
    "</div>"
   ]
  },
  {
   "cell_type": "code",
   "execution_count": null,
   "metadata": {},
   "outputs": [],
   "source": []
  },
  {
   "cell_type": "markdown",
   "metadata": {},
   "source": [
    "### Corrigé"
   ]
  },
  {
   "cell_type": "code",
   "execution_count": 1,
   "metadata": {},
   "outputs": [],
   "source": [
    "def fibonacci(n):\n",
    "    if n <= 2:\n",
    "        return 1\n",
    "    precedents = [1, 1] ## avant_dernier et dernier terme\n",
    "    for k in range(3, n + 1):\n",
    "        precedents = [precedents[-1], precedents[-1] + precedents[-2]]\n",
    "    return precedents[-1]"
   ]
  },
  {
   "cell_type": "markdown",
   "metadata": {},
   "source": [
    "$\\checkmark\\;$ tests"
   ]
  },
  {
   "cell_type": "code",
   "execution_count": 2,
   "metadata": {},
   "outputs": [
    {
     "data": {
      "text/plain": [
       "1"
      ]
     },
     "execution_count": 2,
     "metadata": {},
     "output_type": "execute_result"
    }
   ],
   "source": [
    "fibonacci(1)"
   ]
  },
  {
   "cell_type": "code",
   "execution_count": 3,
   "metadata": {},
   "outputs": [
    {
     "data": {
      "text/plain": [
       "1"
      ]
     },
     "execution_count": 3,
     "metadata": {},
     "output_type": "execute_result"
    }
   ],
   "source": [
    "fibonacci(2)"
   ]
  },
  {
   "cell_type": "code",
   "execution_count": 4,
   "metadata": {},
   "outputs": [
    {
     "data": {
      "text/plain": [
       "75025"
      ]
     },
     "execution_count": 4,
     "metadata": {},
     "output_type": "execute_result"
    }
   ],
   "source": [
    "fibonacci(25)"
   ]
  },
  {
   "cell_type": "code",
   "execution_count": 5,
   "metadata": {},
   "outputs": [
    {
     "data": {
      "text/plain": [
       "1134903170"
      ]
     },
     "execution_count": 5,
     "metadata": {},
     "output_type": "execute_result"
    }
   ],
   "source": [
    "fibonacci(45)"
   ]
  },
  {
   "cell_type": "markdown",
   "metadata": {},
   "source": [
    "<div style=\"font-family: Arial, Times, serif;\">\n",
    "    <h2 style=\"text-align:center\">EXERCICE 2 (4 points)</h2>\n",
    "<span style=\"font: 18px Arial, sans-serif;\">\n",
    "    <br/>\n",
    "    <p>\n",
    "        Les variables <code>liste_eleves</code> et <code>liste_notes</code> ayant été préalablement définies et étant de même longueur, la fonction <code>meilleures_notes</code> renvoie la note maximale qui a été attribuée, le nombre d’élèves ayant obtenu cette note et la liste des noms de ces élèves.\n",
    "    </p>\n",
    "    <p>\n",
    "        Compléter le code Python de la fonction <code>meilleures_notes</code> ci-dessous.\n",
    "    </p>\n",
    "</span>\n",
    "<br/>\n",
    "<br/>\n",
    "<span style=\"font: 18px Courier New, sans-serif;\">\n",
    "liste_eleves = ['a', 'b', 'c', 'd', 'e', 'f', 'g', 'h', 'i', 'j']<br/>\n",
    "liste_notes = [1, 40, 80, 60, 58, 80, 75, 80, 60, 24]<br/>\n",
    "<br/>\n",
    "def meilleures_notes():<br/>\n",
    "<span style=\"display:inline-block; width: 36px;\"></span>note_maxi = 0<br/>\n",
    "&emsp;&emsp;nb_eleves_note_maxi = ...<br/>\n",
    "&emsp;&emsp;liste_maxi = ...<br/>\n",
    "<br/>\n",
    "&emsp;&emsp;for compteur in range(...):<br/>\n",
    "&emsp;&emsp;&emsp;&emsp;if liste_notes[compteur] == ...:<br/>\n",
    "&emsp;&emsp;&emsp;&emsp;&emsp;&emsp;nb_eleves_note_maxi = nb_eleves_note_maxi + 1<br/>\n",
    "&emsp;&emsp;&emsp;&emsp;&emsp;&emsp;liste_maxi.append(liste_eleves[...])<br/>\n",
    "&emsp;&emsp;&emsp;&emsp;if liste_notes[compteur] > note_maxi:<br/>\n",
    "&emsp;&emsp;&emsp;&emsp;&emsp;&emsp;note_maxi = liste_notes[compteur]<br/>\n",
    "&emsp;&emsp;&emsp;&emsp;&emsp;&emsp;nb_eleves_note_maxi = ...<br/>\n",
    "&emsp;&emsp;&emsp;&emsp;&emsp;&emsp;liste_maxi = [...]<br/>\n",
    "<br/>\n",
    "&emsp;&emsp;return (note_maxi, nb_eleves_note_maxi, liste_maxi)<br/>\n",
    "</span>\n",
    "<br/>\n",
    "<span style=\"font: 18px Arial, sans-serif;\">\n",
    "<p>\n",
    "Une fois complété, le code ci-dessus donne\n",
    "</p>\n",
    "</span>\n",
    "<p style=\"padding:0 0 0 0px;font: 18px Courier New, sans-serif;\">\n",
    ">>> meilleures_notes()<br/>\n",
    "(80, 3, ['c', 'f', 'h'])<br/>\n",
    "</p>\n",
    "</div>"
   ]
  },
  {
   "cell_type": "code",
   "execution_count": null,
   "metadata": {},
   "outputs": [],
   "source": []
  },
  {
   "cell_type": "markdown",
   "metadata": {},
   "source": [
    "### Complément : contenu du fichier <code>.py</code> distribué avec le sujet"
   ]
  },
  {
   "cell_type": "code",
   "execution_count": 6,
   "metadata": {},
   "outputs": [],
   "source": [
    "liste_eleves = ['a', 'b', 'c', 'd', 'e', 'f', 'g', 'h', 'i', 'j']\n",
    "liste_notes = [1, 40, 80, 60, 58, 80, 75, 80, 60, 24]\n",
    "\n",
    "def meilleures_notes():\n",
    "    note_maxi = 0\n",
    "    nb_eleves_note_maxi = ...\n",
    "    liste_maxi =  ...\n",
    "    \n",
    "    for compteur in range(...):\n",
    "        if liste_notes[compteur] == ...:\n",
    "            nb_eleves_note_maxi = nb_eleves_note_maxi + 1\n",
    "            liste_maxi.append(liste_eleves[...])\n",
    "        if liste_notes[compteur] > note_maxi:\n",
    "            note_maxi = liste_notes[compteur]\n",
    "            nb_eleves_note_maxi = ...\n",
    "            liste_maxi = [...]\n",
    "            \n",
    "    return (note_maxi, nb_eleves_note_maxi, liste_maxi)"
   ]
  },
  {
   "cell_type": "code",
   "execution_count": null,
   "metadata": {},
   "outputs": [],
   "source": []
  },
  {
   "cell_type": "markdown",
   "metadata": {},
   "source": [
    "### Corrigé"
   ]
  },
  {
   "cell_type": "markdown",
   "metadata": {},
   "source": [
    "On remarquera que les listes `liste_eleves` et `liste_notes` sont utilisées en tant que variables globales par la fonction `meilleures_notes`.  \n",
    "Par ailleurs les notes sont supposées toutes positives (ce qui légitime l'initialisation de la variable `note_maxi` à zéro)."
   ]
  },
  {
   "cell_type": "code",
   "execution_count": 7,
   "metadata": {},
   "outputs": [],
   "source": [
    "liste_eleves = ['a', 'b', 'c', 'd', 'e', 'f', 'g', 'h', 'i', 'j']\n",
    "liste_notes = [1, 40, 80, 60, 58, 80, 75, 80, 60, 24]\n",
    "\n",
    "def meilleures_notes():\n",
    "    note_maxi = 0           ## initialisation\n",
    "    nb_eleves_note_maxi = 0 ## initialisation\n",
    "    liste_maxi =  []        ## initialisation\n",
    "    \n",
    "    for compteur in range(len(liste_notes)): ## compteur parcourant les positions dans les deux listes\n",
    "        if liste_notes[compteur] == note_maxi: ## si la note lue est égale à la note maximale rencontrée jusque là\n",
    "            nb_eleves_note_maxi = nb_eleves_note_maxi + 1 ## on actualise le compteur d'élèves\n",
    "                                                          ## ayant obtenus cette note\n",
    "            liste_maxi.append(liste_eleves[compteur])     ## on ajoute le nom de l'élève à la liste des élèves\n",
    "                                                          ## ayant obtenu la note maximale à ce stade\n",
    "        if liste_notes[compteur] > note_maxi: ## si l'on rencontre une note > à la note maximale déjà constatée\n",
    "            note_maxi = liste_notes[compteur] ## on enregistre la note en tant que nouvelle note maximale\n",
    "            nb_eleves_note_maxi = 1       ## on initialise à 1 le compteur d'élèves ayant obtenu la note maximale\n",
    "            liste_maxi = [liste_eleves[compteur]]  ## on initialise avec le nom de l'élève ayant eu cette note\n",
    "                                                   ## la liste des élèves ayant obtenu cette nouvelle note maximale\n",
    "            \n",
    "    return (note_maxi, nb_eleves_note_maxi, liste_maxi)"
   ]
  },
  {
   "cell_type": "markdown",
   "metadata": {},
   "source": [
    "$\\checkmark\\;$ test"
   ]
  },
  {
   "cell_type": "code",
   "execution_count": 8,
   "metadata": {},
   "outputs": [
    {
     "data": {
      "text/plain": [
       "(80, 3, ['c', 'f', 'h'])"
      ]
     },
     "execution_count": 8,
     "metadata": {},
     "output_type": "execute_result"
    }
   ],
   "source": [
    "meilleures_notes()"
   ]
  },
  {
   "cell_type": "code",
   "execution_count": null,
   "metadata": {},
   "outputs": [],
   "source": []
  }
 ],
 "metadata": {
  "kernelspec": {
   "display_name": "Python 3",
   "language": "python",
   "name": "python3"
  },
  "language_info": {
   "codemirror_mode": {
    "name": "ipython",
    "version": 3
   },
   "file_extension": ".py",
   "mimetype": "text/x-python",
   "name": "python",
   "nbconvert_exporter": "python",
   "pygments_lexer": "ipython3",
   "version": "3.7.1"
  },
  "latex_envs": {
   "LaTeX_envs_menu_present": true,
   "autoclose": false,
   "autocomplete": true,
   "bibliofile": "biblio.bib",
   "cite_by": "apalike",
   "current_citInitial": 1,
   "eqLabelWithNumbers": true,
   "eqNumInitial": 1,
   "hotkeys": {
    "equation": "Ctrl-E",
    "itemize": "Ctrl-I"
   },
   "labels_anchors": false,
   "latex_user_defs": false,
   "report_style_numbering": false,
   "user_envs_cfg": false
  }
 },
 "nbformat": 4,
 "nbformat_minor": 4
}
