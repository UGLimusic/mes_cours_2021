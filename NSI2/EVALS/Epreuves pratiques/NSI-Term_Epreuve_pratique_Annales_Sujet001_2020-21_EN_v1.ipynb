{
 "cells": [
  {
   "cell_type": "markdown",
   "metadata": {},
   "source": [
    "<h1 style='text-align:center'>N.S.I. Term. - 2021.02.07 - Annales - sem20 (prn24)</h1>\n",
    "<h2 style='text-align:center'>Annales Épreuve Pratique 2020-21</h2>\n",
    "<h2 style='text-align:center'>Sujet 001 - énoncé</h2>"
   ]
  },
  {
   "cell_type": "markdown",
   "metadata": {},
   "source": [
    "* Cadrage officiel :  https://www.education.gouv.fr/bo/20/Special2/MENE2001797N.htm"
   ]
  },
  {
   "cell_type": "markdown",
   "metadata": {},
   "source": [
    "**Durée : 1 heure**<br/>\n",
    "<br/>\n",
    "<span style=\"color:blue;font-weight:900;font-family:Arial;font:20px Arial\">**Modalités**</span>\n",
    "<br/>\n",
    "<br/>\n",
    "<div style=\"font:16px Arial\">\n",
    "La partie pratique consiste en la résolution de deux exercices sur ordinateur, chacun étant noté sur 4 points.\n",
    "\n",
    "Le candidat est évalué sur la base d'un dialogue avec un professeur-examinateur. Un examinateur évalue au maximum quatre élèves. L'examinateur ne peut pas évaluer un élève qu'il a eu en classe durant l'année en cours.\n",
    "\n",
    "L'évaluation de cette partie se déroule au cours du deuxième trimestre pendant la période de l'épreuve écrite de spécialité.\n",
    "- **Premier exercice**\n",
    "\n",
    "Le premier exercice consiste à programmer un algorithme figurant explicitement au programme, ne présentant pas de difficulté particulière, dont on fournit une spécification. Il s'agit donc de restituer un algorithme rencontré et travaillé à plusieurs reprises en cours de formation. Le sujet peut proposer un jeu de test avec les réponses attendues pour permettre au candidat de vérifier son travail.\n",
    "\n",
    "- **Deuxième exercice**\n",
    "\n",
    "Pour le second exercice, un programme est fourni au candidat. Cet exercice ne demande pas l'écriture complète d'un programme, mais permet de valider des compétences de programmation suivant des modalités variées : le candidat doit, par exemple, compléter un programme « à trous » afin de répondre à une spécification donnée, ou encore compléter un programme pour le documenter, ou encore compléter un programme en ajoutant des assertions, *etc.*\n",
    "</div>"
   ]
  },
  {
   "cell_type": "markdown",
   "metadata": {},
   "source": [
    "<h2 style='text-align:center'>Sujet 001 - v1</h2>"
   ]
  },
  {
   "cell_type": "markdown",
   "metadata": {},
   "source": [
    "https://www.education.gouv.fr/bo/20/Special2/MENE2001797N.htm"
   ]
  },
  {
   "cell_type": "markdown",
   "metadata": {},
   "source": [
    "**Durée 1 heure**  \n",
    "***Compte pour 8 points sur 20***"
   ]
  },
  {
   "cell_type": "markdown",
   "metadata": {},
   "source": [
    "<div style=\"font-family: \"Arial\", Times, serif;\">\n",
    "    <h2 style=\"text-align:center\">EXERCICE 1 (4 points)</h2>\n",
    "    <span style=\"font: 18px Arial, sans-serif;\">\n",
    "    <br/>\n",
    "    <p>\n",
    "    Programmer la fonction <code>recherche</code>, prenant en paramètre un tableau non vide <code>tab</code> (type <code>list</code>) d'entiers et un entier $n$, et qui renvoie l'indice de la <b>dernière</b> occurrence de l'élément cherché. Si l'élément n'est pas présent, la fonction renvoie la longueur du tableau. \n",
    "    </p>\n",
    "    <p style=\"font: 18px Arial, sans-serif;\">\n",
    "        <i>Exemples :</i>\n",
    "    </p>\n",
    "        <p style=\"padding:0 0 0 0px;font: 18px Courier New, sans-serif;\">\n",
    "            >>> recherche([5, 3], 1)<br/>\n",
    "            2<br/>\n",
    "            >>> recherche([2, 4], 2)<br/>\n",
    "            0<br/>\n",
    "            >>> recherche([2, 3, 5, 2, 4], 2)<br/>\n",
    "            3<br/>\n",
    "        </p>\n",
    "    </span>\n",
    "</div>"
   ]
  },
  {
   "cell_type": "code",
   "execution_count": null,
   "metadata": {},
   "outputs": [],
   "source": []
  },
  {
   "cell_type": "markdown",
   "metadata": {},
   "source": [
    "<div style=\"font-family: Arial, Times, serif;\">\n",
    "    <h2 style=\"text-align:center\">EXERCICE 2 (4 points)</h2>\n",
    "<span style=\"font: 18px Arial, sans-serif;\">\n",
    "    <br/>\n",
    "    <p>\n",
    "    On souhaite programmer une fonction donnant la distance la plus courte entre un point de départ et une liste de points.\n",
    "    Les points sont tous à coordonnées entières.\n",
    "    </p>\n",
    "    <p>Les points sont donnés sous la forme d'un tuple de deux entiers.</p>\n",
    "    <p>\n",
    "La liste des points à traiter est donc un tableau de tuples.\n",
    "    </p>\n",
    "    <p>\n",
    "On rappelle que la distance entre deux points du plan de coordonnées (x ; y) et (x' ; y') est donnée par la formule :\n",
    "    </p>\n",
    "    <p>\n",
    "    $$\n",
    "    \\rm d= \\sqrt{\\left(x-x'\\right)^2+\\left(y-y'\\right)^2}\n",
    "    $$\n",
    "    </p>\n",
    "    <p>\n",
    "            On importe pour cela la fonction racine carrée (<code>sqrt</code>) du module <code>math</code> de Python.\n",
    "    </p>\n",
    "    <p>\n",
    "    On dispose d'une fonction <code>distance</code> et d'une fonction <code>plus_courte_distance</code> :    \n",
    "    </p>\n",
    "    <br/>\n",
    "</span>\n",
    "<span style=\"font: 18px Courier New, sans-serif;\">\n",
    "            from math import sqrt   # import de la fonction racine carrée<br/>\n",
    "            <br/>\n",
    "            def distance(point1, point2):<br/>\n",
    "            &emsp;&emsp;\"\"\" Calcule et renvoie la distance entre deux points. \"\"\"<br/>\n",
    "            <span style=\"display:inline-block; width: 36px;\"></span>return sqrt((...)**2 + (...)**2)<br/>\n",
    "            <br/>\n",
    "            assert distance((1, 0), (5, 3)) == 5.0, \"erreur de calcul\" # test discutable !<br/>\n",
    "            <br/>\n",
    "            def plus_courte_distance(tab, depart):<br/>\n",
    "            &emsp;&emsp;\"\"\" Renvoie le point du tableau tab se trouvant à la plus<br/>\n",
    "            &emsp;&emsp;courte distance du point depart.\"\"\"<br/> \n",
    "            &emsp;&emsp;point = tab[0]<br/> \n",
    "            &emsp;&emsp;min_dist = ...<br/> \n",
    "            &emsp;&emsp;for i in range (1, ...):<br/> \n",
    "            &emsp;&emsp;&emsp;&emsp;if distance(tab[i], depart)...:<br/> \n",
    "            &emsp;&emsp;&emsp;&emsp;&emsp;&emsp;point = ... min_dist = ...:<br/> \n",
    "            &emsp;&emsp;return point<br/>\n",
    "            <br/>\n",
    "            assert plus_courte_distance([(7, 9), (2, 5), (5, 2)], (0, 0)) == (2, 5), \"erreur\"<br/>\n",
    "            <br/>\n",
    "</span>\n",
    "<span style=\"font: 18px Arial, sans-serif;\">\n",
    "        Recopier sous Python (sans les commentaires) ces deux fonctions puis compléter leur code\n",
    "        et ajouter une ou des déclarations (<code>assert</code>) à la fonction <code>distance</code> permettant de vérifier la ou les préconditions.\n",
    "    </span>\n",
    "</div>"
   ]
  },
  {
   "cell_type": "code",
   "execution_count": null,
   "metadata": {},
   "outputs": [],
   "source": []
  },
  {
   "cell_type": "markdown",
   "metadata": {},
   "source": [
    "### Complément : contenu du fichier <code>.py</code> distribué avec le sujet"
   ]
  },
  {
   "cell_type": "code",
   "execution_count": 4,
   "metadata": {},
   "outputs": [
    {
     "ename": "SyntaxError",
     "evalue": "invalid syntax (<ipython-input-4-d699fd9625f4>, line 15)",
     "output_type": "error",
     "traceback": [
      "\u001b[1;36m  File \u001b[1;32m\"<ipython-input-4-d699fd9625f4>\"\u001b[1;36m, line \u001b[1;32m15\u001b[0m\n\u001b[1;33m    if distance(tab[i], depart) ... :\u001b[0m\n\u001b[1;37m                                  ^\u001b[0m\n\u001b[1;31mSyntaxError\u001b[0m\u001b[1;31m:\u001b[0m invalid syntax\n"
     ]
    }
   ],
   "source": [
    "from math import sqrt   # import de la fonction racine carrée\n",
    "\n",
    "def distance(point1, point2): \n",
    "    \"\"\" Calcule et renvoie la distance entre deux points. \"\"\"\n",
    "    return sqrt((...)**2 + (...)**2)\n",
    "\n",
    "assert distance((1, 0), (5, 3)) == 5.0, \"erreur de calcul\"\n",
    "\n",
    "def plus_courte_distance(tab, depart):\n",
    "    \"\"\" Renvoie le point du tableau tab se trouvant à la plus     \n",
    "    courte distance du point depart.\"\"\"\n",
    "    point = tab[0]\n",
    "    min_dist = ...\n",
    "    for i in range (1, ...):\n",
    "        if distance(tab[i], depart) ... :\n",
    "            point = ...\n",
    "            min_dist = ...\n",
    "    return point\n",
    "\n",
    "assert plus_courte_distance([(7, 9), (2, 5), (5, 2)], (0, 0)) == (2, 5), \"erreur\""
   ]
  },
  {
   "cell_type": "code",
   "execution_count": null,
   "metadata": {},
   "outputs": [],
   "source": []
  },
  {
   "cell_type": "code",
   "execution_count": null,
   "metadata": {},
   "outputs": [],
   "source": []
  }
 ],
 "metadata": {
  "kernelspec": {
   "display_name": "Python 3",
   "language": "python",
   "name": "python3"
  },
  "language_info": {
   "codemirror_mode": {
    "name": "ipython",
    "version": 3
   },
   "file_extension": ".py",
   "mimetype": "text/x-python",
   "name": "python",
   "nbconvert_exporter": "python",
   "pygments_lexer": "ipython3",
   "version": "3.7.1"
  },
  "latex_envs": {
   "LaTeX_envs_menu_present": true,
   "autoclose": false,
   "autocomplete": true,
   "bibliofile": "biblio.bib",
   "cite_by": "apalike",
   "current_citInitial": 1,
   "eqLabelWithNumbers": true,
   "eqNumInitial": 1,
   "hotkeys": {
    "equation": "Ctrl-E",
    "itemize": "Ctrl-I"
   },
   "labels_anchors": false,
   "latex_user_defs": false,
   "report_style_numbering": false,
   "user_envs_cfg": false
  }
 },
 "nbformat": 4,
 "nbformat_minor": 4
}
