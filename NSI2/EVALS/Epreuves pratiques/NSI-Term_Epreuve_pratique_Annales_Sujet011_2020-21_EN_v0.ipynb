{
 "cells": [
  {
   "cell_type": "markdown",
   "metadata": {},
   "source": [
    "<h1 style='text-align:center'>N.S.I. Term. - 2021.02.15 - Annales - sem20 (prn24)</h1>\n",
    "<h2 style='text-align:center'>Annales Épreuve Pratique 2020-21</h2>\n",
    "<h2 style='text-align:center'>Sujet 011 - énoncé</h2>"
   ]
  },
  {
   "cell_type": "markdown",
   "metadata": {},
   "source": [
    "* Cadrage officiel :  https://www.education.gouv.fr/bo/20/Special2/MENE2001797N.htm"
   ]
  },
  {
   "cell_type": "markdown",
   "metadata": {},
   "source": [
    "**Durée : 1 heure**<br/>\n",
    "<br/>\n",
    "<span style=\"color:blue;font-weight:900;font-family:Arial;font:20px Arial\">**Modalités**</span>\n",
    "<br/>\n",
    "<br/>\n",
    "<div style=\"font:16px Arial\">\n",
    "La partie pratique consiste en la résolution de deux exercices sur ordinateur, chacun étant noté sur 4 points.\n",
    "\n",
    "Le candidat est évalué sur la base d'un dialogue avec un professeur-examinateur. Un examinateur évalue au maximum quatre élèves. L'examinateur ne peut pas évaluer un élève qu'il a eu en classe durant l'année en cours.\n",
    "\n",
    "L'évaluation de cette partie se déroule au cours du deuxième trimestre pendant la période de l'épreuve écrite de spécialité.\n",
    "- **Premier exercice**\n",
    "\n",
    "Le premier exercice consiste à programmer un algorithme figurant explicitement au programme, ne présentant pas de difficulté particulière, dont on fournit une spécification. Il s'agit donc de restituer un algorithme rencontré et travaillé à plusieurs reprises en cours de formation. Le sujet peut proposer un jeu de test avec les réponses attendues pour permettre au candidat de vérifier son travail.\n",
    "\n",
    "- **Deuxième exercice**\n",
    "\n",
    "Pour le second exercice, un programme est fourni au candidat. Cet exercice ne demande pas l'écriture complète d'un programme, mais permet de valider des compétences de programmation suivant des modalités variées : le candidat doit, par exemple, compléter un programme « à trous » afin de répondre à une spécification donnée, ou encore compléter un programme pour le documenter, ou encore compléter un programme en ajoutant des assertions, *etc.*\n",
    "</div>"
   ]
  },
  {
   "cell_type": "markdown",
   "metadata": {},
   "source": [
    "<h2 style='text-align:center'>Sujet 011 - énoncé - v0</h2>"
   ]
  },
  {
   "cell_type": "markdown",
   "metadata": {},
   "source": [
    "https://www.education.gouv.fr/bo/20/Special2/MENE2001797N.htm"
   ]
  },
  {
   "cell_type": "markdown",
   "metadata": {},
   "source": [
    "**Durée 1 heure**  \n",
    "***Compte pour 8 points sur 20***"
   ]
  },
  {
   "cell_type": "markdown",
   "metadata": {},
   "source": [
    "<div style=\"font-family: \"Arial\", Times, serif;\">\n",
    "<h2 style=\"text-align:center\">EXERCICE 1 (4 points)</h2>\n",
    "<span style=\"font: 18px Arial, sans-serif;\">\n",
    "<br/>\n",
    "\n",
    "<p>\n",
    "    Écrire une fonction <code>conv_bin</code> qui prend en paramètre un entier positif <code>n</code> et renvoie un couple <code>(b, bit)</code> où :\n",
    "<ul><li>\n",
    "<code>b</code> est une liste d'entiers correspondant à la représentation binaire de <code>n</code> ;</li>\n",
    "    <li><code>bit</code> correspond aux nombre de bits qui constituent <code>b</code>.</li>\n",
    "    </ul>\n",
    "</p>\n",
    "<br/>\n",
    "<p style=\"font: 18px Arial, sans-serif;\">\n",
    "<i>Exemple :</i>\n",
    "</p>\n",
    "<p style=\"padding:0 0 0 0px;font: 18px Courier New, sans-serif;\">\n",
    ">>> conv_bin(11)<br/>\n",
    "([1, 0, 1, 1], 4)<br/>\n",
    "</p>\n",
    "</div>\n",
    "</span>\n",
    "<span style=\"font: 18px Arial, sans-serif;\">\n",
    "<br/>\n",
    "\n",
    "<p>\n",
    "    Aide :\n",
    "<ul><li> l'opérateur <code>//</code> donne le quotient de la division euclidienne : <code>5 // 2</code> donne <code>2</code> ;</li>\n",
    "    <li> l'opérateur <code>%</code> donne le reste de la division euclidienne : <code>5 % 2</code> donne <code>1</code> ;</li>\n",
    "    <li> <code>append</code> est une méthode qui ajoute un élément à une liste existante :<br/><br/>\n",
    "        <div style=\"padding:0 0 0 30px;\">\n",
    "Soit <code>T = [5, 2, 4]</code>, alors <code>T.append(10)</code> ajoute 10 à la liste <code>T</code>. Ainsi, <code>T</code> devient <code>[5, 2, 4, 10]</code>.</div><br/></li>\n",
    "    <li> <code>reverse</code> est une méthode qui renverse les éléments d'une liste.<br/><br/>\n",
    "        <div style=\"padding:0 0 0 30px;\">\n",
    "            Soit <code>T = [5, 2, 4, 10]</code>. Après exécution de l'instruction <code>T.reverse()</code>, la liste <code>T</code> devient <code>[10, 4, 2, 5]</code>.</div><br/></li>\n",
    "    </ul>\n",
    "On remarquera qu’on récupère la représentation binaire d’un entier <code>n</code> en partant de la droite en appliquant successivement les instructions :<br/>\n",
    "<p style=\"padding:0 0 0 0px;font: 18px Courier New, sans-serif;\">\n",
    "c = n % 2<br/>\n",
    "n = n // 2<br/>\n",
    "</p>\n",
    "<br/>\n",
    "répétées autant que nécessaire.\n",
    "</div>"
   ]
  },
  {
   "cell_type": "code",
   "execution_count": null,
   "metadata": {},
   "outputs": [],
   "source": []
  },
  {
   "cell_type": "markdown",
   "metadata": {},
   "source": [
    "<div style=\"font-family: Arial, Times, serif;\">\n",
    "<h2 style=\"text-align:center\">EXERCICE 2 (4 points)</h2>\n",
    "<span style=\"font: 18px Arial, sans-serif;\">\n",
    "<br/>\n",
    "<p>\n",
    "La fonction <code>tri_bulles</code> prend en paramètre une liste <code>T</code> d’entiers non triés et renvoie la liste triée par ordre croissant.\n",
    "</p>\n",
    "<p>\n",
    "Compléter le code Python ci-dessous qui implémente la fonction <code>tri_bulles</code>.\n",
    "</p>\n",
    "</span>\n",
    "<br/>\n",
    "<br/>\n",
    "<span style=\"font: 18px Courier New, sans-serif;\">\n",
    "def tri_bulles(T):<br/>\n",
    "<span style=\"display:inline-block; width: 36px;\"></span>n = len(T)<br/>\n",
    "&emsp;&emsp;for i in range(..., ..., -1):<br/>\n",
    "&emsp;&emsp;&emsp;&emsp;for j in range(i):<br/>\n",
    "&emsp;&emsp;&emsp;&emsp;&emsp;&emsp;if T[j] > T[...]:<br/>\n",
    "&emsp;&emsp;&emsp;&emsp;&emsp;&emsp;&emsp;&emsp;... = T[j]<br/>\n",
    "&emsp;&emsp;&emsp;&emsp;&emsp;&emsp;&emsp;&emsp;T[j] = T[...]<br/>\n",
    "&emsp;&emsp;&emsp;&emsp;&emsp;&emsp;&emsp;&emsp;T[j+1] = temp<br/>\n",
    "&emsp;&emsp;return T<br/>\n",
    "</span>\n",
    "<br/>\n",
    "<p style=\"font: 18px Arial, sans-serif;\">\n",
    "Écrire une autre version de l’algorithme avec\n",
    "</p>\n",
    "<p style=\"padding:0 0 0 0px;font: 18px Courier New, sans-serif;\">\n",
    "&emsp;&emsp;for i in range(n-1):<br/>\n",
    "</p>\n",
    "    <p style=\"font: 18px Arial, sans-serif;\">\n",
    "en lieu et place de la troisième ligne du code précédent.    \n",
    "    </p>\n",
    "</div>\n",
    "</span>\n",
    "</div>"
   ]
  },
  {
   "cell_type": "code",
   "execution_count": null,
   "metadata": {},
   "outputs": [],
   "source": []
  },
  {
   "cell_type": "markdown",
   "metadata": {},
   "source": [
    "### Complément : contenu du fichier <code>.py</code> distribué avec le sujet"
   ]
  },
  {
   "cell_type": "code",
   "execution_count": 1,
   "metadata": {},
   "outputs": [
    {
     "ename": "SyntaxError",
     "evalue": "can't assign to Ellipsis (<ipython-input-1-6c90ca78e824>, line 6)",
     "output_type": "error",
     "traceback": [
      "\u001b[1;36m  File \u001b[1;32m\"<ipython-input-1-6c90ca78e824>\"\u001b[1;36m, line \u001b[1;32m6\u001b[0m\n\u001b[1;33m    ... = T[j]\u001b[0m\n\u001b[1;37m    ^\u001b[0m\n\u001b[1;31mSyntaxError\u001b[0m\u001b[1;31m:\u001b[0m can't assign to Ellipsis\n"
     ]
    }
   ],
   "source": [
    "def tri_bulles(T):\n",
    "    n = len(T)\n",
    "    for i in range(..., ..., -1):\n",
    "        for j in range(i):\n",
    "            if T[j] > T[...]:\n",
    "                ... = T[j]\n",
    "                T[j] = T[...]\n",
    "                T[j + 1] = temp\n",
    "    return T"
   ]
  },
  {
   "cell_type": "code",
   "execution_count": null,
   "metadata": {},
   "outputs": [],
   "source": []
  },
  {
   "cell_type": "code",
   "execution_count": null,
   "metadata": {},
   "outputs": [],
   "source": []
  }
 ],
 "metadata": {
  "kernelspec": {
   "display_name": "Python 3",
   "language": "python",
   "name": "python3"
  },
  "language_info": {
   "codemirror_mode": {
    "name": "ipython",
    "version": 3
   },
   "file_extension": ".py",
   "mimetype": "text/x-python",
   "name": "python",
   "nbconvert_exporter": "python",
   "pygments_lexer": "ipython3",
   "version": "3.7.1"
  },
  "latex_envs": {
   "LaTeX_envs_menu_present": true,
   "autoclose": false,
   "autocomplete": true,
   "bibliofile": "biblio.bib",
   "cite_by": "apalike",
   "current_citInitial": 1,
   "eqLabelWithNumbers": true,
   "eqNumInitial": 1,
   "hotkeys": {
    "equation": "Ctrl-E",
    "itemize": "Ctrl-I"
   },
   "labels_anchors": false,
   "latex_user_defs": false,
   "report_style_numbering": false,
   "user_envs_cfg": false
  }
 },
 "nbformat": 4,
 "nbformat_minor": 4
}
