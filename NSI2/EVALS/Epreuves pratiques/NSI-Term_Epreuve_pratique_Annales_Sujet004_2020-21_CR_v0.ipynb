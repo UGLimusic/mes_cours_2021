{
 "cells": [
  {
   "cell_type": "markdown",
   "metadata": {},
   "source": [
    "<h1 style='text-align:center'>N.S.I. Term. - 2021.02.15 - Annales - sem20 (prn24)</h1>\n",
    "<h2 style='text-align:center'>Annales Épreuve Pratique 2020-21</h2>\n",
    "<h2 style='text-align:center'>Sujet 004 - corrigé</h2>"
   ]
  },
  {
   "cell_type": "markdown",
   "metadata": {},
   "source": [
    "* Cadrage officiel :  https://www.education.gouv.fr/bo/20/Special2/MENE2001797N.htm"
   ]
  },
  {
   "cell_type": "markdown",
   "metadata": {},
   "source": [
    "**Durée : 1 heure**<br/>\n",
    "<br/>\n",
    "<span style=\"color:blue;font-weight:900;font-family:Arial;font:20px Arial\">**Modalités**</span>\n",
    "<br/>\n",
    "<br/>\n",
    "<div style=\"font:16px Arial\">\n",
    "La partie pratique consiste en la résolution de deux exercices sur ordinateur, chacun étant noté sur 4 points.\n",
    "\n",
    "Le candidat est évalué sur la base d'un dialogue avec un professeur-examinateur. Un examinateur évalue au maximum quatre élèves. L'examinateur ne peut pas évaluer un élève qu'il a eu en classe durant l'année en cours.\n",
    "\n",
    "L'évaluation de cette partie se déroule au cours du deuxième trimestre pendant la période de l'épreuve écrite de spécialité.\n",
    "- **Premier exercice**\n",
    "\n",
    "Le premier exercice consiste à programmer un algorithme figurant explicitement au programme, ne présentant pas de difficulté particulière, dont on fournit une spécification. Il s'agit donc de restituer un algorithme rencontré et travaillé à plusieurs reprises en cours de formation. Le sujet peut proposer un jeu de test avec les réponses attendues pour permettre au candidat de vérifier son travail.\n",
    "\n",
    "- **Deuxième exercice**\n",
    "\n",
    "Pour le second exercice, un programme est fourni au candidat. Cet exercice ne demande pas l'écriture complète d'un programme, mais permet de valider des compétences de programmation suivant des modalités variées : le candidat doit, par exemple, compléter un programme « à trous » afin de répondre à une spécification donnée, ou encore compléter un programme pour le documenter, ou encore compléter un programme en ajoutant des assertions, *etc.*\n",
    "</div>"
   ]
  },
  {
   "cell_type": "markdown",
   "metadata": {},
   "source": [
    "<h2 style='text-align:center'>Sujet 004 - corrigé - v0</h2>"
   ]
  },
  {
   "cell_type": "markdown",
   "metadata": {},
   "source": [
    "https://www.education.gouv.fr/bo/20/Special2/MENE2001797N.htm"
   ]
  },
  {
   "cell_type": "markdown",
   "metadata": {},
   "source": [
    "**Durée 1 heure**  \n",
    "***Compte pour 8 points sur 20***"
   ]
  },
  {
   "cell_type": "markdown",
   "metadata": {},
   "source": [
    "<div style=\"font-family: \"Arial\", Times, serif;\">\n",
    "    <h2 style=\"text-align:center\">EXERCICE 1 (4 points)</h2>\n",
    "    <span style=\"font: 18px Arial, sans-serif;\">\n",
    "    <br/>\n",
    "    <p>\n",
    "    Ecrire une fonction qui prend en paramètre un tableau d'entiers non vide et qui renvoie la moyenne de ces entiers. La fonction est spécifiée ci-après et doit passer les assertions fournies.\n",
    "    </p>\n",
    "    </span>\n",
    "    <br/>\n",
    "<span style=\"font: 18px Courier New, sans-serif;\">\n",
    "            def moyenne (tab):<br/>\n",
    "            &emsp;&emsp;\"\"\"<br/>\n",
    "            <span style=\"display:inline-block; width: 36px;\"></span>moyenne(list) -> float<br/>\n",
    "    <span style=\"display:inline-block; width: 36px;\"></span>Entrée : un tableau non vide d'entiers<br/>\n",
    "    <span style=\"display:inline-block; width: 36px;\"></span>Sortie : nombre de type float<br/>\n",
    "    <span style=\"display:inline-block; width: 36px;\"></span>Correspondant à la moyenne des valeurs présentes dans le\n",
    "tableau<br/>\n",
    "            &emsp;&emsp;\"\"\"<br/>\n",
    "</span>\n",
    "<br/>\n",
    "<span style=\"font: 18px Courier New, sans-serif;\">\n",
    "assert moyenne([1]) == 1<br/>\n",
    "assert moyenne([1, 2, 3, 4, 5, 6, 7]) == 4<br/>\n",
    "assert moyenne([1, 2]) == 1.5<br/>\n",
    "</span>\n",
    "</div>"
   ]
  },
  {
   "cell_type": "code",
   "execution_count": null,
   "metadata": {},
   "outputs": [],
   "source": []
  },
  {
   "cell_type": "markdown",
   "metadata": {},
   "source": [
    "### Corrigé"
   ]
  },
  {
   "cell_type": "code",
   "execution_count": 1,
   "metadata": {},
   "outputs": [],
   "source": [
    "def moyenne (tab):\n",
    "    \"\"\"\n",
    "    moyenne(list) -> float\n",
    "    Entrée : un tableau non vide d'entiers\n",
    "    Sortie : nombre de type float\n",
    "    Correspondant à la moyenne des valeurs présentes dans le tableau\n",
    "    \"\"\"\n",
    "    somme = 0\n",
    "    for val in tab:\n",
    "        somme += val\n",
    "    return somme / len(tab)\n",
    "    \n",
    "assert moyenne([1]) == 1\n",
    "assert moyenne([1, 2, 3, 4, 5, 6, 7]) == 4\n",
    "assert moyenne([1, 2]) == 1.5"
   ]
  },
  {
   "cell_type": "markdown",
   "metadata": {},
   "source": [
    "<div style=\"font-family: Arial, Times, serif;\">\n",
    "    <h2 style=\"text-align:center\">EXERCICE 2 (4 points)</h2>\n",
    "<span style=\"font: 18px Arial, sans-serif;\">\n",
    "    <br/>\n",
    "    <p>\n",
    "    Le but de l'exercice est de compléter une fonction qui détermine si une valeur est présente dans un tableau de valeurs triées dans l'ordre croissant.\n",
    "    </p>\n",
    "    <p>\n",
    "L'algorithme traite le cas du tableau vide.\n",
    "    </p>\n",
    "    <p>\n",
    "L'algorithme est écrit pour que la recherche dichotomique ne se fasse que dans le cas où la valeur est comprise entre les valeurs extrêmes du tableau.\n",
    "    </p>\n",
    "    <p>\n",
    "On distingue les trois cas qui renvoient <code>False</code> en renvoyant <code>False, 1</code>, <code>False, 2</code> et <code>False, 3</code>.\n",
    "    </p>\n",
    "    <p>\n",
    "Compléter l'algorithme de dichotomie donné ci-après.\n",
    "    </p>\n",
    "</span>\n",
    "<br/>\n",
    "<span style=\"font: 18px Courier New, sans-serif;\">\n",
    "            def dichotomie(tab, x):<br/>\n",
    "            &emsp;&emsp;\"\"\"<br/>\n",
    "            <span style=\"display:inline-block; width: 36px;\"></span>tab : tableau trié dans l’ordre croissant<br/>\n",
    "    <span style=\"display:inline-block; width: 36px;\"></span>x : nombre entier<br/>\n",
    "    <span style=\"display:inline-block; width: 36px;\"></span>La fonction renvoie True si tab contient x et False sinon<br/>\n",
    "            &emsp;&emsp;\"\"\"<br/>\n",
    "            &emsp;&emsp;# cas du tableau vide<br/> \n",
    "            &emsp;&emsp;if ...:<br/> \n",
    "            &emsp;&emsp;&emsp;&emsp;return False, 1<br/> \n",
    "            &emsp;&emsp;# cas où x n'est pas compris entre les valeurs extrêmes<br/> \n",
    "            &emsp;&emsp;if (x < tab[0]) or ...:<br/>  \n",
    "            &emsp;&emsp;&emsp;&emsp;return False, 2<br/> \n",
    "            &emsp;&emsp;&emsp;&emsp;&emsp;&emsp;return ...<br/> \n",
    "            &emsp;&emsp;debut = 0<br/>  \n",
    "            &emsp;&emsp;fin = len(tab) - 1<br/>   \n",
    "            &emsp;&emsp;while debut <= fin:<br/>    \n",
    "            &emsp;&emsp;&emsp;&emsp;m = ...<br/>    \n",
    "            &emsp;&emsp;&emsp;&emsp;if x == tab[m]:<br/>     \n",
    "            &emsp;&emsp;&emsp;&emsp;&emsp;&emsp;return ...<br/>    \n",
    "            &emsp;&emsp;&emsp;&emsp;if x > tab[m]:<br/>     \n",
    "            &emsp;&emsp;&emsp;&emsp;&emsp;&emsp;debut = m + 1<br/>    \n",
    "            &emsp;&emsp;&emsp;&emsp;else:<br/>     \n",
    "            &emsp;&emsp;&emsp;&emsp;&emsp;&emsp;fin = ...<br/> \n",
    "            &emsp;&emsp;return ...<br/> \n",
    "</span>\n",
    "<p style=\"font: 18px Arial, sans-serif;\">\n",
    "        <i>Exemples :</i>\n",
    "    </p>\n",
    "        <p style=\"padding:0 0 0 0px;font: 18px Courier New, sans-serif;\">\n",
    "            >>> dichotomie([15, 16, 18, 19, 23, 24, 28, 29, 31, 33], 28)<br/>\n",
    "            True<br/>\n",
    "            >>> dichotomie([15, 16, 18, 19, 23, 24, 28, 29, 31, 33], 27)<br/>\n",
    "            (False, 3)<br/>\n",
    "            >>> dichotomie([15, 16, 18, 19, 23, 24, 28, 29, 31, 33], 1)<br/>\n",
    "            (False, 2)<br/>\n",
    "            >>> dichotomie([], 28)<br/>\n",
    "            (False, 1)<br/>\n",
    "            <br/>\n",
    "        </p>\n",
    "</div>"
   ]
  },
  {
   "cell_type": "code",
   "execution_count": null,
   "metadata": {},
   "outputs": [],
   "source": []
  },
  {
   "cell_type": "markdown",
   "metadata": {},
   "source": [
    "### Complément : contenu du fichier <code>.py</code> distribué avec le sujet"
   ]
  },
  {
   "cell_type": "code",
   "execution_count": 2,
   "metadata": {},
   "outputs": [],
   "source": [
    "def dichotomie(tab, x):\n",
    "    \"\"\"\n",
    "        tab : tableau trié dans l’ordre croissant\n",
    "        x : nombre entier\n",
    "        La fonction renvoie True si tab contient x et False sinon\n",
    "    \"\"\"\n",
    "    # cas du tableau vide\n",
    "    if ...:\n",
    "        return False, 1\n",
    "\n",
    "    # cas où x n'est pas compris entre les valeurs extrêmes\n",
    "    if (x < tab[0]) or ...:\n",
    "        return False, 2\n",
    "    \n",
    "    debut = 0\n",
    "    fin = len(tab) - 1\n",
    "    while debut <= fin:\n",
    "        m = ...\n",
    "        if x == tab[m]:\n",
    "            return ...\n",
    "        if x > tab[m]:\n",
    "            debut = m + 1\n",
    "        else:\n",
    "            fin = ...\n",
    "    return ..."
   ]
  },
  {
   "cell_type": "code",
   "execution_count": null,
   "metadata": {},
   "outputs": [],
   "source": []
  },
  {
   "cell_type": "markdown",
   "metadata": {},
   "source": [
    "### Corrigé"
   ]
  },
  {
   "cell_type": "code",
   "execution_count": 3,
   "metadata": {},
   "outputs": [],
   "source": [
    "def dichotomie(tab, x):\n",
    "    \"\"\"\n",
    "        tab : tableau trié dans l’ordre croissant\n",
    "        x : nombre entier\n",
    "        La fonction renvoie True si tab contient x et False sinon\n",
    "    \"\"\"\n",
    "    # cas du tableau vide\n",
    "    if len(tab) == 0:\n",
    "        return False, 1\n",
    "\n",
    "    # cas où x n'est pas compris entre les valeurs extrêmes\n",
    "    if (x < tab[0]) or x > tab[-1]:\n",
    "        return False, 2\n",
    "    debut = 0 \n",
    "    fin = len(tab) - 1\n",
    "    while debut <= fin:\n",
    "        m = (debut + fin) // 2 ## on calcule une valeur de l'indice située \"au milieu\" entre debut et fin\n",
    "        if x == tab[m]:\n",
    "            return True\n",
    "        if x > tab[m]:         ## si la valeur x cherchée est située dans le tableau trié tab,\n",
    "            debut = m + 1      ## alors elle s'y trouve entre les indices debut = m + 1  et fin (inchangé)\n",
    "        else: ## dans ce cas, x < tab[m], donc, si la valeur x cherchée est située dans le tableau trié tab,\n",
    "             fin = m - 1       ## alors elle s'y trouve entre les indices debut (inchangé) et fin = m - 1\n",
    "    ## en sortie de boucle while, debut > fin, il est impossible que la valeur x soit dans le tableau tab\n",
    "    return False, 3 ## on renvoie donc la valeur booléenne False et l'entier 3 correspondant au cas 3"
   ]
  },
  {
   "cell_type": "markdown",
   "metadata": {},
   "source": [
    "$\\checkmark\\;$ tests"
   ]
  },
  {
   "cell_type": "code",
   "execution_count": 4,
   "metadata": {},
   "outputs": [
    {
     "data": {
      "text/plain": [
       "True"
      ]
     },
     "execution_count": 4,
     "metadata": {},
     "output_type": "execute_result"
    }
   ],
   "source": [
    "dichotomie([15, 16, 18, 19, 23, 24, 28, 29, 31, 33], 28)"
   ]
  },
  {
   "cell_type": "code",
   "execution_count": 5,
   "metadata": {},
   "outputs": [
    {
     "data": {
      "text/plain": [
       "(False, 3)"
      ]
     },
     "execution_count": 5,
     "metadata": {},
     "output_type": "execute_result"
    }
   ],
   "source": [
    "dichotomie([15, 16, 18, 19, 23, 24, 28, 29, 31, 33], 27)"
   ]
  },
  {
   "cell_type": "code",
   "execution_count": 6,
   "metadata": {},
   "outputs": [
    {
     "data": {
      "text/plain": [
       "(False, 2)"
      ]
     },
     "execution_count": 6,
     "metadata": {},
     "output_type": "execute_result"
    }
   ],
   "source": [
    "dichotomie([15, 16, 18, 19, 23, 24, 28, 29, 31, 33], 1)"
   ]
  },
  {
   "cell_type": "code",
   "execution_count": 7,
   "metadata": {},
   "outputs": [
    {
     "data": {
      "text/plain": [
       "(False, 1)"
      ]
     },
     "execution_count": 7,
     "metadata": {},
     "output_type": "execute_result"
    }
   ],
   "source": [
    "dichotomie([], 28)"
   ]
  },
  {
   "cell_type": "code",
   "execution_count": null,
   "metadata": {},
   "outputs": [],
   "source": []
  },
  {
   "cell_type": "code",
   "execution_count": null,
   "metadata": {},
   "outputs": [],
   "source": []
  }
 ],
 "metadata": {
  "kernelspec": {
   "display_name": "Python 3",
   "language": "python",
   "name": "python3"
  },
  "language_info": {
   "codemirror_mode": {
    "name": "ipython",
    "version": 3
   },
   "file_extension": ".py",
   "mimetype": "text/x-python",
   "name": "python",
   "nbconvert_exporter": "python",
   "pygments_lexer": "ipython3",
   "version": "3.7.1"
  },
  "latex_envs": {
   "LaTeX_envs_menu_present": true,
   "autoclose": false,
   "autocomplete": true,
   "bibliofile": "biblio.bib",
   "cite_by": "apalike",
   "current_citInitial": 1,
   "eqLabelWithNumbers": true,
   "eqNumInitial": 1,
   "hotkeys": {
    "equation": "Ctrl-E",
    "itemize": "Ctrl-I"
   },
   "labels_anchors": false,
   "latex_user_defs": false,
   "report_style_numbering": false,
   "user_envs_cfg": false
  }
 },
 "nbformat": 4,
 "nbformat_minor": 4
}
