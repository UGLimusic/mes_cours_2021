{
 "cells": [
  {
   "cell_type": "markdown",
   "metadata": {},
   "source": [
    "<h1 style='text-align:center'>N.S.I. Term. - 2021.02.15 - Annales - sem20 (prn25)</h1>\n",
    "<h2 style='text-align:center'>Annales Épreuve Pratique 2020-21</h2>\n",
    "<h2 style='text-align:center'>Sujet 009 - Corrigé</h2>"
   ]
  },
  {
   "cell_type": "markdown",
   "metadata": {},
   "source": [
    "* Cadrage officiel :  https://www.education.gouv.fr/bo/20/Special2/MENE2001797N.htm"
   ]
  },
  {
   "cell_type": "markdown",
   "metadata": {},
   "source": [
    "**Durée : 1 heure**<br/>\n",
    "<br/>\n",
    "<span style=\"color:blue;font-weight:900;font-family:Arial;font:20px Arial\">**Modalités**</span>\n",
    "<br/>\n",
    "<br/>\n",
    "<div style=\"font:16px Arial\">\n",
    "La partie pratique consiste en la résolution de deux exercices sur ordinateur, chacun étant noté sur 4 points.\n",
    "\n",
    "Le candidat est évalué sur la base d'un dialogue avec un professeur-examinateur. Un examinateur évalue au maximum quatre élèves. L'examinateur ne peut pas évaluer un élève qu'il a eu en classe durant l'année en cours.\n",
    "\n",
    "L'évaluation de cette partie se déroule au cours du deuxième trimestre pendant la période de l'épreuve écrite de spécialité.\n",
    "- **Premier exercice**\n",
    "\n",
    "Le premier exercice consiste à programmer un algorithme figurant explicitement au programme, ne présentant pas de difficulté particulière, dont on fournit une spécification. Il s'agit donc de restituer un algorithme rencontré et travaillé à plusieurs reprises en cours de formation. Le sujet peut proposer un jeu de test avec les réponses attendues pour permettre au candidat de vérifier son travail.\n",
    "\n",
    "- **Deuxième exercice**\n",
    "\n",
    "Pour le second exercice, un programme est fourni au candidat. Cet exercice ne demande pas l'écriture complète d'un programme, mais permet de valider des compétences de programmation suivant des modalités variées : le candidat doit, par exemple, compléter un programme « à trous » afin de répondre à une spécification donnée, ou encore compléter un programme pour le documenter, ou encore compléter un programme en ajoutant des assertions, *etc.*\n",
    "</div>"
   ]
  },
  {
   "cell_type": "markdown",
   "metadata": {},
   "source": [
    "<h2 style='text-align:center'>Sujet 009 - corrigé - v0</h2>"
   ]
  },
  {
   "cell_type": "markdown",
   "metadata": {},
   "source": [
    "https://www.education.gouv.fr/bo/20/Special2/MENE2001797N.htm"
   ]
  },
  {
   "cell_type": "markdown",
   "metadata": {},
   "source": [
    "**Durée 1 heure**  \n",
    "***Compte pour 8 points sur 20***"
   ]
  },
  {
   "cell_type": "markdown",
   "metadata": {},
   "source": [
    "<div style=\"font-family: \"Arial\", Times, serif;\">\n",
    "    <h2 style=\"text-align:center\">EXERCICE 1 (4 points)</h2>\n",
    "    <span style=\"font: 18px Arial, sans-serif;\">\n",
    "    <br/>\n",
    "    <p>\n",
    "        Soit le couple <code>(note, coefficient)</code> :\n",
    "<ul>\n",
    "    <li> <code>note</code> est un nombre de type flottant (<code>float</code>) compris entre 0 et 20 ;</li>\n",
    "    <li> <code>coefficient</code> est un nombre entier positif.</li>\n",
    "</ul>\n",
    "Les résultats aux évaluations d'un élève sont regroupés dans une liste composée de couples <code>(note, coefficient)</code>.\n",
    "        <br/>\n",
    "Écrire une fonction <code>moyenne</code> qui renvoie la moyenne pondérée de cette liste donnée en paramètre.\n",
    "        <br/>\n",
    "Par exemple, l’expression <code>moyenne([(15, 2), (9, 1), (12, 3)])</code> devra renvoyer le résultat du calcul suivant :\n",
    "        <br/>\n",
    "        <br/>\n",
    "        $$\n",
    "        \\frac{2\\times 15+1\\times 9+3\\times 12}{2+1+3}=12,5\n",
    "        $$\n",
    "</p>\n",
    "    </span>\n",
    "</div>"
   ]
  },
  {
   "cell_type": "code",
   "execution_count": 1,
   "metadata": {},
   "outputs": [],
   "source": [
    "def moyenne(liste_notes_coeff):\n",
    "    somme_notes_ponderees, somme_coefficients = 0, 0\n",
    "    for k in range(len(liste_notes_coeff)):\n",
    "        note, coefficient = liste_notes_coeff[k]\n",
    "        somme_notes_ponderees += coefficient * note\n",
    "        somme_coefficients += coefficient\n",
    "    return somme_notes_ponderees / somme_coefficients"
   ]
  },
  {
   "cell_type": "markdown",
   "metadata": {},
   "source": [
    "* test"
   ]
  },
  {
   "cell_type": "code",
   "execution_count": 2,
   "metadata": {},
   "outputs": [
    {
     "data": {
      "text/plain": [
       "12.5"
      ]
     },
     "execution_count": 2,
     "metadata": {},
     "output_type": "execute_result"
    }
   ],
   "source": [
    "moyenne([(15, 2), (9, 1), (12, 3)])"
   ]
  },
  {
   "cell_type": "markdown",
   "metadata": {},
   "source": [
    "<div style=\"font-family: Arial, Times, serif;\">\n",
    "    <h2 style=\"text-align:center\">EXERCICE 2 (4 points)</h2>\n",
    "<span style=\"font: 18px Arial, sans-serif;\">\n",
    "    <br/>\n",
    "    <p>\n",
    "    On cherche à déterminer les valeurs du triangle de Pascal. Dans ce tableau de forme triangulaire, chaque ligne commence et se termine par le nombre 1. La première ligne d'indice zéro, ne comporte qu'une seule valeur, égale à 1. Par ailleurs, la valeur qui occupe une case située à l’intérieur du tableau s’obtient en ajoutant les valeurs des deux cases situées juste au-dessus, comme l’indique la figure suivante :\n",
    "    </p>\n",
    "    <p>\n",
    "        <img src=\"https://github.com/lbaille20/NSI-Term_2020-21/raw/master/AnnalesEpreuvePratique2021/Sujet09/NSI-Term_EprPratique2021_Sujet09_ex2_fig1.PNG\">\n",
    "    </p>\n",
    "    <p>Compléter la fonction <code>pascal</code> ci-après. Elle doit renvoyer une liste correspondant au triangle de Pascal de la ligne d'indice zéro à la ligne d'indice $n$, où <code>n</code> est un nombre entier supérieur ou égal à 1 (le tableau sera contenu dans la variable <code>C</code>). La variable <code>Ck</code> doit, quant à elle, contenir, à l’étape numéro $k$ ($1\\leqslant k\\leqslant n$), la $(k+1)$-ième ligne du tableau, composée de $k+1$ valeurs entières.\n",
    "    </p>\n",
    "    <br/>\n",
    "</span>\n",
    "<span style=\"font: 18px Courier New, sans-serif;\">\n",
    "            def pascal(n):<br/>\n",
    "            <span style=\"display:inline-block; width: 36px;\"></span>C = [[1]]<br/>\n",
    "            &emsp;&emsp;for k in range(1, ...):<br/> \n",
    "            &emsp;&emsp;&emsp;&emsp;Ck = [...]<br/> \n",
    "            &emsp;&emsp;&emsp;&emsp;for i in range(1, k):<br/> \n",
    "            &emsp;&emsp;&emsp;&emsp;&emsp;&emsp;Ck.append(C[...][i-1] + C[...][...] )<br/>\n",
    "            &emsp;&emsp;&emsp;&emsp;Ck.append(...)<br/>  \n",
    "            &emsp;&emsp;&emsp;&emsp;C.append(Ck)<br/>  \n",
    "            &emsp;&emsp;return C<br/>\n",
    "            <br/>\n",
    "</span>\n",
    "<span style=\"font: 18px Arial, sans-serif;\">\n",
    "        Pour n = 4, voici ce que l’on devra obtenir :\n",
    "    </span>\n",
    "</div>\n",
    "<p style=\"padding:0 0 0 0px;font: 18px Courier New, sans-serif;\">\n",
    "            >>> pascal(4)<br/>\n",
    "[[1], [1, 1], [1, 2, 1], [1, 3, 3, 1], [1, 4, 6, 4, 1]]\n",
    "</p>\n",
    "<br/>\n",
    "<span style=\"font: 18px Arial, sans-serif;\">\n",
    "        Et pour n = 5, voici ce que l’on devra obtenir :\n",
    "    </span>\n",
    "</div>\n",
    "<p style=\"padding:0 0 0 0px;font: 18px Courier New, sans-serif;\">\n",
    "            >>> pascal(5)<br/>\n",
    "[[1], [1, 1], [1, 2, 1], [1, 3, 3, 1], [1, 4, 6, 4, 1], [1, 5, 10, 10, 5, 1]]\n",
    "</p>"
   ]
  },
  {
   "cell_type": "code",
   "execution_count": null,
   "metadata": {},
   "outputs": [],
   "source": []
  },
  {
   "cell_type": "markdown",
   "metadata": {},
   "source": [
    "### Complément : contenu du fichier <code>.py</code> distribué avec le sujet"
   ]
  },
  {
   "cell_type": "code",
   "execution_count": 3,
   "metadata": {},
   "outputs": [],
   "source": [
    "def pascal(n):\n",
    "    C = [[1]]\n",
    "    for k in range(1, ...):\n",
    "        Ck = [...]\n",
    "        for i in range(1, k):\n",
    "            Ck.append(C[...][i - 1] + C[...][...])\n",
    "        Ck.append(...)\n",
    "        C.append(Ck)\n",
    "    return C"
   ]
  },
  {
   "cell_type": "code",
   "execution_count": null,
   "metadata": {},
   "outputs": [],
   "source": []
  },
  {
   "cell_type": "markdown",
   "metadata": {},
   "source": [
    "### Corrigé"
   ]
  },
  {
   "cell_type": "code",
   "execution_count": 4,
   "metadata": {},
   "outputs": [],
   "source": [
    "def pascal(n):\n",
    "    C = [[1]]\n",
    "    for k in range(1, n + 1):\n",
    "        Ck = [1]\n",
    "        for i in range(1, k):\n",
    "            Ck.append(C[k - 1][i - 1] + C[k - 1][i])\n",
    "        Ck.append(1)\n",
    "        C.append(Ck)\n",
    "    return C"
   ]
  },
  {
   "cell_type": "code",
   "execution_count": 5,
   "metadata": {},
   "outputs": [
    {
     "data": {
      "text/plain": [
       "[[1], [1, 1], [1, 2, 1], [1, 3, 3, 1], [1, 4, 6, 4, 1]]"
      ]
     },
     "execution_count": 5,
     "metadata": {},
     "output_type": "execute_result"
    }
   ],
   "source": [
    "pascal(4)"
   ]
  },
  {
   "cell_type": "code",
   "execution_count": 6,
   "metadata": {},
   "outputs": [
    {
     "data": {
      "text/plain": [
       "[[1], [1, 1], [1, 2, 1], [1, 3, 3, 1], [1, 4, 6, 4, 1], [1, 5, 10, 10, 5, 1]]"
      ]
     },
     "execution_count": 6,
     "metadata": {},
     "output_type": "execute_result"
    }
   ],
   "source": [
    "pascal(5)"
   ]
  },
  {
   "cell_type": "code",
   "execution_count": null,
   "metadata": {},
   "outputs": [],
   "source": []
  },
  {
   "cell_type": "code",
   "execution_count": null,
   "metadata": {},
   "outputs": [],
   "source": []
  }
 ],
 "metadata": {
  "kernelspec": {
   "display_name": "Python 3",
   "language": "python",
   "name": "python3"
  },
  "language_info": {
   "codemirror_mode": {
    "name": "ipython",
    "version": 3
   },
   "file_extension": ".py",
   "mimetype": "text/x-python",
   "name": "python",
   "nbconvert_exporter": "python",
   "pygments_lexer": "ipython3",
   "version": "3.7.1"
  },
  "latex_envs": {
   "LaTeX_envs_menu_present": true,
   "autoclose": false,
   "autocomplete": true,
   "bibliofile": "biblio.bib",
   "cite_by": "apalike",
   "current_citInitial": 1,
   "eqLabelWithNumbers": true,
   "eqNumInitial": 1,
   "hotkeys": {
    "equation": "Ctrl-E",
    "itemize": "Ctrl-I"
   },
   "labels_anchors": false,
   "latex_user_defs": false,
   "report_style_numbering": false,
   "user_envs_cfg": false
  }
 },
 "nbformat": 4,
 "nbformat_minor": 4
}
