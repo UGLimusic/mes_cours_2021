{
 "cells": [
  {
   "cell_type": "markdown",
   "metadata": {},
   "source": [
    "<h1 style='text-align:center'>N.S.I. Term. - 2021.02.15 - Annales - sem20 (prn24)</h1>\n",
    "<h2 style='text-align:center'>Annales Épreuve Pratique 2020-21</h2>\n",
    "<h2 style='text-align:center'>Sujet 023 - corrigé</h2>"
   ]
  },
  {
   "cell_type": "markdown",
   "metadata": {},
   "source": [
    "* Cadrage officiel :  https://www.education.gouv.fr/bo/20/Special2/MENE2001797N.htm"
   ]
  },
  {
   "cell_type": "markdown",
   "metadata": {},
   "source": [
    "**Durée : 1 heure**<br/>\n",
    "<br/>\n",
    "<span style=\"color:blue;font-weight:900;font-family:Arial;font:20px Arial\">**Modalités**</span>\n",
    "<br/>\n",
    "<br/>\n",
    "<div style=\"font:16px Arial\">\n",
    "La partie pratique consiste en la résolution de deux exercices sur ordinateur, chacun étant noté sur 4 points.\n",
    "\n",
    "Le candidat est évalué sur la base d'un dialogue avec un professeur-examinateur. Un examinateur évalue au maximum quatre élèves. L'examinateur ne peut pas évaluer un élève qu'il a eu en classe durant l'année en cours.\n",
    "\n",
    "L'évaluation de cette partie se déroule au cours du deuxième trimestre pendant la période de l'épreuve écrite de spécialité.\n",
    "- **Premier exercice**\n",
    "\n",
    "Le premier exercice consiste à programmer un algorithme figurant explicitement au programme, ne présentant pas de difficulté particulière, dont on fournit une spécification. Il s'agit donc de restituer un algorithme rencontré et travaillé à plusieurs reprises en cours de formation. Le sujet peut proposer un jeu de test avec les réponses attendues pour permettre au candidat de vérifier son travail.\n",
    "\n",
    "- **Deuxième exercice**\n",
    "\n",
    "Pour le second exercice, un programme est fourni au candidat. Cet exercice ne demande pas l'écriture complète d'un programme, mais permet de valider des compétences de programmation suivant des modalités variées : le candidat doit, par exemple, compléter un programme « à trous » afin de répondre à une spécification donnée, ou encore compléter un programme pour le documenter, ou encore compléter un programme en ajoutant des assertions, *etc.*\n",
    "</div>"
   ]
  },
  {
   "cell_type": "markdown",
   "metadata": {},
   "source": [
    "<h2 style='text-align:center'>Sujet 023 - corrigé - v0</h2>"
   ]
  },
  {
   "cell_type": "markdown",
   "metadata": {},
   "source": [
    "https://www.education.gouv.fr/bo/20/Special2/MENE2001797N.htm"
   ]
  },
  {
   "cell_type": "markdown",
   "metadata": {},
   "source": [
    "**Durée 1 heure**  \n",
    "***Compte pour 8 points sur 20***"
   ]
  },
  {
   "cell_type": "markdown",
   "metadata": {},
   "source": [
    "<div style=\"font-family: Arial, Times, sans-serif;font-size: 18px\">\n",
    "    <h2 style=\"text-align:center\">EXERCICE 1 (4 points)</h2>\n",
    "    <br/>\n",
    "    <p>\n",
    "        L’occurrence (usuellement , le <i>nombre d'occurrences</i>) d’un caractère dans une phrase est le nombre de fois où ce caractère est présent.\n",
    "    </p>\n",
    "    <p>\n",
    "        Exemples :\n",
    "    </p>\n",
    "    <ul>\n",
    "        <li>l’occurrence du caractère 'o' dans 'bonjour' est 2 ;</li>\n",
    "        <li>l’occurrence du caractère 'b' dans 'Bébé' est 1 ;</li>\n",
    "        <li>l’occurrence du caractère 'B' dans 'Bébé' est 1 ;</li>\n",
    "        <li>l’occurrence du caractère ' ' dans 'Hello world !' est 2.</li>\n",
    "    </ul>\n",
    "    <p>\n",
    "        On cherche les occurrences des caractères dans une phrase. On souhaite stocker ces occurrences dans un dictionnaire dont les clefs seraient les caractères de la phrase et les valeurs l’occurrence de ces caractères.\n",
    "    </p>\n",
    "    <p>\n",
    "        Par exemple : avec la phrase 'Hello world !' le dictionnaire est le suivant :\n",
    "    </p>\n",
    "    <p style=\"padding:0 0 0 0px;font: 18px Courier New, sans-serif;text-align:center\">\n",
    "        {'H': 1, 'e': 1, 'l': 3, 'o': 2, ' ': 2, 'w': 1, 'r': 1, 'd': 1, '!': 1}\n",
    "    </p>\n",
    "    <p>\n",
    "        (l’ordre des clefs n’ayant pas d’importance).\n",
    "    </p>\n",
    "    <p>\n",
    "        Écrire une fonction <code>occurence_lettres</code> prenant comme paramètre une variable <code>phrase</code> de type <code>str</code>. Cette fonction doit renvoyer un dictionnaire constitué, comme dans l'exemple, des occurrences des caractères présents dans la phrase.\n",
    "    </p>\n",
    "</div>"
   ]
  },
  {
   "cell_type": "code",
   "execution_count": null,
   "metadata": {},
   "outputs": [],
   "source": []
  },
  {
   "cell_type": "markdown",
   "metadata": {},
   "source": [
    "### Corrigé"
   ]
  },
  {
   "cell_type": "code",
   "execution_count": 4,
   "metadata": {},
   "outputs": [],
   "source": [
    "def occurence_lettres(phrase):\n",
    "    dict_occurrences = {} ## initialisation du dictionnaire à renvoyer à un dictionnaire vide\n",
    "    for caractere in phrase: ## parcours de la phrase par les valeurs\n",
    "        if caractere not in dict_occurrences.keys(): ## si le caractère n'a pas déjà été rencontré\n",
    "            dict_occurrences[caractere] = 1 ## on ajoute ce caractère au dictionnaire avec une occurrence de 1\n",
    "        else:\n",
    "            dict_occurrences[caractere] += 1 ## si le caractère a déjà été rencontré, on augmente son occurrence de 1\n",
    "    return dict_occurrences"
   ]
  },
  {
   "cell_type": "markdown",
   "metadata": {},
   "source": [
    "$\\checkmark\\;$ test"
   ]
  },
  {
   "cell_type": "code",
   "execution_count": 7,
   "metadata": {},
   "outputs": [
    {
     "data": {
      "text/plain": [
       "{'H': 1, 'e': 1, 'l': 3, 'o': 2, ' ': 2, 'w': 1, 'r': 1, 'd': 1, '!': 1}"
      ]
     },
     "execution_count": 7,
     "metadata": {},
     "output_type": "execute_result"
    }
   ],
   "source": [
    "occurence_lettres('Hello world !')"
   ]
  },
  {
   "cell_type": "markdown",
   "metadata": {},
   "source": [
    "<div style=\"font-family: Arial, Times, sans-serif;font-size: 18px\">\n",
    "    <h2 style=\"text-align:center\">EXERCICE 2 (4 points)</h2>\n",
    "    <br/>\n",
    "    <p>\n",
    "        La fonction <code>fusion</code> prend deux listes <code>L1</code>, <code>L2</code> d’entiers triées par ordre croissant et les fusionne en une liste triée <code>L12</code> qu’elle renvoie.\n",
    "    </p>\n",
    "    <p>\n",
    "    Le code Python de la fonction est\n",
    "    </p>\n",
    "    <p style=\"font: 18px Courier New, sans-serif;\">\n",
    "        def fusion(L1, L2):<br/>\n",
    "        <!-- &emsp; équivalent à <span style=\"display:inline-block; width: 36px;\"></span> -->\n",
    "        &emsp;&emsp;n1 = len(L1)<br/>\n",
    "        &emsp;&emsp;n2 = len(L2)<br/>\n",
    "        &emsp;&emsp;L12 = [0] * (n1 + n2)<br/>\n",
    "        &emsp;&emsp;i1 = 0<br/>\n",
    "        &emsp;&emsp;i2 = 0<br/>\n",
    "        &emsp;&emsp;i = 0<br/>\n",
    "        &emsp;&emsp;while i1 < n1 and ... :<br/>\n",
    "        &emsp;&emsp;&emsp;&emsp;if L1[i1] < L2[i2]:<br/>\n",
    "        &emsp;&emsp;&emsp;&emsp;&emsp;&emsp;L12[i] = ...<br/>\n",
    "        &emsp;&emsp;&emsp;&emsp;&emsp;&emsp;i1 = ...<br/>\n",
    "        &emsp;&emsp;&emsp;&emsp;else:<br/>\n",
    "        &emsp;&emsp;&emsp;&emsp;&emsp;&emsp;L12[i] = L2[i2]<br/>\n",
    "        &emsp;&emsp;&emsp;&emsp;&emsp;&emsp;i2 = ...<br/>\n",
    "        &emsp;&emsp;&emsp;&emsp;i += 1<br/>\n",
    "        &emsp;&emsp;while i1 < n1:<br/>\n",
    "        &emsp;&emsp;&emsp;&emsp;L12[i] = ...<br/>\n",
    "        &emsp;&emsp;&emsp;&emsp;i1 = i1 + 1<br/>\n",
    "        &emsp;&emsp;&emsp;&emsp;i = ...<br/>\n",
    "        &emsp;&emsp;while i2 < n2:<br/>\n",
    "        &emsp;&emsp;&emsp;&emsp;L12[i] = ...<br/>\n",
    "        &emsp;&emsp;&emsp;&emsp;i2 = i2 + 1<br/>\n",
    "        &emsp;&emsp;&emsp;&emsp;i = ...<br/>\n",
    "        &emsp;&emsp;return L12\n",
    "    </p>\n",
    "    <br/>\n",
    "    <p>\n",
    "        Compléter le code.\n",
    "    </p>\n",
    "    <p>\n",
    "        <i>Exemple :</i>\n",
    "    </p>\n",
    "    <p style=\"padding:0 0 0 0px;font: 18px Courier New, sans-serif;\">\n",
    "        >>> fusion([1, 6, 10], [0, 7, 8, 9])<br/>\n",
    "        [0, 1, 6, 7, 8, 9, 10]<br/>\n",
    "    </p>\n",
    "</div>"
   ]
  },
  {
   "cell_type": "code",
   "execution_count": null,
   "metadata": {},
   "outputs": [],
   "source": []
  },
  {
   "cell_type": "markdown",
   "metadata": {},
   "source": [
    "### Complément : contenu du fichier <code>.py</code> distribué avec le sujet"
   ]
  },
  {
   "cell_type": "code",
   "execution_count": 8,
   "metadata": {},
   "outputs": [],
   "source": [
    "def fusion(L1, L2):\n",
    "    n1 = len(L1)\n",
    "    n2 = len(L2)\n",
    "    L12 = [0] * (n1 + n2)\n",
    "    i1 = 0\n",
    "    i2 = 0\n",
    "    i = 0\n",
    "    while i1 < n1 and ... :\n",
    "        if L1[i1] < L2[i2]:\n",
    "            L12[i] = ...\n",
    "            i1 = ...\n",
    "        else:\n",
    "            L12[i] = L2[i2]\n",
    "            i2 = ...\n",
    "        i += 1\n",
    "    while i1 < n1:\n",
    "        L12[i] = ...\n",
    "        i1 = i1 + 1\n",
    "        i = ...\n",
    "    while i2 < n2:\n",
    "        L12[i] = ...\n",
    "        i2 = i2 + 1\n",
    "        i = ...\n",
    "    return L12"
   ]
  },
  {
   "cell_type": "code",
   "execution_count": null,
   "metadata": {},
   "outputs": [],
   "source": []
  },
  {
   "cell_type": "markdown",
   "metadata": {},
   "source": [
    "### Corrigé"
   ]
  },
  {
   "cell_type": "code",
   "execution_count": 9,
   "metadata": {},
   "outputs": [],
   "source": [
    "def fusion(L1, L2):\n",
    "    n1 = len(L1)\n",
    "    n2 = len(L2)\n",
    "    L12 = [0] * (n1 + n2) ## création d'une liste de zéros pour recueillir le résultat de la fusion\n",
    "    i1 = 0 ## initialisation d'un indice, i1, pour le parcours de la liste triée L1\n",
    "    i2 = 0 ## initialisation d'un indice, i1, pour le parcours de la liste triée L2\n",
    "    i = 0  ## initialisation d'un indice, i1, pour le remplissage de la liste L12\n",
    "    while i1 < n1 and i2 < n2 : ## tant que l'on n'a pas placé toutes les valeurs de l'une des deux listes triées\n",
    "        if L1[i1] < L2[i2]: ## si le prochain élément de L1 à placer est inférieur strictement\n",
    "                            ## au prochain élément à placer de L2\n",
    "            L12[i] = L1[i1] ## on le place dans L12\n",
    "            i1 = i1 + 1     ## on passe à l'élément suivant de L1\n",
    "        else: ## si le prochain élément de L2 à placer est inférieur au égal au prochain élément à placer de L1\n",
    "            L12[i] = L2[i2] ## on le place dans L12\n",
    "            i2 = i2 + 1     ## on passe à l'élément suivant de L2\n",
    "        i += 1 ## on actualise l'indice i, de sorte à placer à la bonne place dans L12 le prochain élément à placer\n",
    "    ## en sortie de boucle while, tous les éléments de l'une des deux listes, L1 ou L2, ont été placés dans L12\n",
    "    while i1 < n1:      ## s'il reste des éléments de L1 à placer, on parcourt L1 jusqu'à son dernier terme\n",
    "        L12[i] = L1[i1] ## on place les éléments de L1 restant à placer \n",
    "        i1 = i1 + 1     ## les uns après les autres\n",
    "        i = i + 1       ## dans L12 (tous les éléments de L2 ont été placés)\n",
    "    while i2 < n2:      ## s'il reste des éléments de L2 à placer, on parcourt L2 jusqu'à son dernier terme\n",
    "        L12[i] = L2[i2] ## on place les éléments de L2 restant à placer \n",
    "        i2 = i2 + 1     ## les uns après les autres\n",
    "        i = i + 1       ## dans L12 (tous les éléments de L1 ont été placés)\n",
    "    return L12"
   ]
  },
  {
   "cell_type": "markdown",
   "metadata": {},
   "source": [
    "$\\checkmark\\;$ test"
   ]
  },
  {
   "cell_type": "code",
   "execution_count": 10,
   "metadata": {},
   "outputs": [
    {
     "data": {
      "text/plain": [
       "[0, 1, 6, 7, 8, 9, 10]"
      ]
     },
     "execution_count": 10,
     "metadata": {},
     "output_type": "execute_result"
    }
   ],
   "source": [
    "fusion([1, 6, 10], [0, 7, 8, 9])"
   ]
  },
  {
   "cell_type": "code",
   "execution_count": null,
   "metadata": {},
   "outputs": [],
   "source": []
  }
 ],
 "metadata": {
  "kernelspec": {
   "display_name": "Python 3",
   "language": "python",
   "name": "python3"
  },
  "language_info": {
   "codemirror_mode": {
    "name": "ipython",
    "version": 3
   },
   "file_extension": ".py",
   "mimetype": "text/x-python",
   "name": "python",
   "nbconvert_exporter": "python",
   "pygments_lexer": "ipython3",
   "version": "3.7.1"
  },
  "latex_envs": {
   "LaTeX_envs_menu_present": true,
   "autoclose": false,
   "autocomplete": true,
   "bibliofile": "biblio.bib",
   "cite_by": "apalike",
   "current_citInitial": 1,
   "eqLabelWithNumbers": true,
   "eqNumInitial": 1,
   "hotkeys": {
    "equation": "Ctrl-E",
    "itemize": "Ctrl-I"
   },
   "labels_anchors": false,
   "latex_user_defs": false,
   "report_style_numbering": false,
   "user_envs_cfg": false
  }
 },
 "nbformat": 4,
 "nbformat_minor": 4
}
