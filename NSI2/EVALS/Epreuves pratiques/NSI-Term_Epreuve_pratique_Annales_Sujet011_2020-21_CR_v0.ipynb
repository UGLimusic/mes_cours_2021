{
 "cells": [
  {
   "cell_type": "markdown",
   "metadata": {},
   "source": [
    "<h1 style='text-align:center'>N.S.I. Term. - 2021.02.15 - Annales - sem20 (prn24)</h1>\n",
    "<h2 style='text-align:center'>Annales Épreuve Pratique 2020-21</h2>\n",
    "<h2 style='text-align:center'>Sujet 011 - corrigé</h2>"
   ]
  },
  {
   "cell_type": "markdown",
   "metadata": {},
   "source": [
    "* Cadrage officiel :  https://www.education.gouv.fr/bo/20/Special2/MENE2001797N.htm"
   ]
  },
  {
   "cell_type": "markdown",
   "metadata": {},
   "source": [
    "**Durée : 1 heure**<br/>\n",
    "<br/>\n",
    "<span style=\"color:blue;font-weight:900;font-family:Arial;font:20px Arial\">**Modalités**</span>\n",
    "<br/>\n",
    "<br/>\n",
    "<div style=\"font:16px Arial\">\n",
    "La partie pratique consiste en la résolution de deux exercices sur ordinateur, chacun étant noté sur 4 points.\n",
    "\n",
    "Le candidat est évalué sur la base d'un dialogue avec un professeur-examinateur. Un examinateur évalue au maximum quatre élèves. L'examinateur ne peut pas évaluer un élève qu'il a eu en classe durant l'année en cours.\n",
    "\n",
    "L'évaluation de cette partie se déroule au cours du deuxième trimestre pendant la période de l'épreuve écrite de spécialité.\n",
    "- **Premier exercice**\n",
    "\n",
    "Le premier exercice consiste à programmer un algorithme figurant explicitement au programme, ne présentant pas de difficulté particulière, dont on fournit une spécification. Il s'agit donc de restituer un algorithme rencontré et travaillé à plusieurs reprises en cours de formation. Le sujet peut proposer un jeu de test avec les réponses attendues pour permettre au candidat de vérifier son travail.\n",
    "\n",
    "- **Deuxième exercice**\n",
    "\n",
    "Pour le second exercice, un programme est fourni au candidat. Cet exercice ne demande pas l'écriture complète d'un programme, mais permet de valider des compétences de programmation suivant des modalités variées : le candidat doit, par exemple, compléter un programme « à trous » afin de répondre à une spécification donnée, ou encore compléter un programme pour le documenter, ou encore compléter un programme en ajoutant des assertions, *etc.*\n",
    "</div>"
   ]
  },
  {
   "cell_type": "markdown",
   "metadata": {},
   "source": [
    "<h2 style='text-align:center'>Sujet 011 - corrigé - v0</h2>"
   ]
  },
  {
   "cell_type": "markdown",
   "metadata": {},
   "source": [
    "https://www.education.gouv.fr/bo/20/Special2/MENE2001797N.htm"
   ]
  },
  {
   "cell_type": "markdown",
   "metadata": {},
   "source": [
    "**Durée 1 heure**  \n",
    "***Compte pour 8 points sur 20***"
   ]
  },
  {
   "cell_type": "markdown",
   "metadata": {},
   "source": [
    "<div style=\"font-family: \"Arial\", Times, serif;\">\n",
    "<h2 style=\"text-align:center\">EXERCICE 1 (4 points)</h2>\n",
    "<span style=\"font: 18px Arial, sans-serif;\">\n",
    "<br/>\n",
    "\n",
    "<p>\n",
    "    Écrire une fonction <code>conv_bin</code> qui prend en paramètre un entier positif <code>n</code> et renvoie un couple <code>(b, bit)</code> où :\n",
    "<ul><li>\n",
    "<code>b</code> est une liste d'entiers correspondant à la représentation binaire de <code>n</code> ;</li>\n",
    "    <li><code>bit</code> correspond aux nombre de bits qui constituent <code>b</code>.</li>\n",
    "    </ul>\n",
    "</p>\n",
    "<br/>\n",
    "<p style=\"font: 18px Arial, sans-serif;\">\n",
    "<i>Exemple :</i>\n",
    "</p>\n",
    "<p style=\"padding:0 0 0 0px;font: 18px Courier New, sans-serif;\">\n",
    ">>> conv_bin(11)<br/>\n",
    "([1, 0, 1, 1], 4)<br/>\n",
    "</p>\n",
    "</div>\n",
    "</span>\n",
    "<span style=\"font: 18px Arial, sans-serif;\">\n",
    "<br/>\n",
    "\n",
    "<p>\n",
    "    Aide :\n",
    "<ul><li> l'opérateur <code>//</code> donne le quotient de la division euclidienne : <code>5 // 2</code> donne <code>2</code> ;</li>\n",
    "    <li> l'opérateur <code>%</code> donne le reste de la division euclidienne : <code>5 % 2</code> donne <code>1</code> ;</li>\n",
    "    <li> <code>append</code> est une méthode qui ajoute un élément à une liste existante :<br/><br/>\n",
    "        <div style=\"padding:0 0 0 30px;\">\n",
    "Soit <code>T = [5, 2, 4]</code>, alors <code>T.append(10)</code> ajoute 10 à la liste <code>T</code>. Ainsi, <code>T</code> devient <code>[5, 2, 4, 10]</code>.</div><br/></li>\n",
    "    <li> <code>reverse</code> est une méthode qui renverse les éléments d'une liste.<br/><br/>\n",
    "        <div style=\"padding:0 0 0 30px;\">\n",
    "            Soit <code>T = [5, 2, 4, 10]</code>. Après exécution de l'instruction <code>T.reverse()</code>, la liste <code>T</code> devient <code>[10, 4, 2, 5]</code>.</div><br/></li>\n",
    "    </ul>\n",
    "On remarquera qu’on récupère la représentation binaire d’un entier <code>n</code> en partant de la droite en appliquant successivement les instructions :<br/>\n",
    "<p style=\"padding:0 0 0 0px;font: 18px Courier New, sans-serif;\">\n",
    "c = n % 2<br/>\n",
    "n = n // 2<br/>\n",
    "</p>\n",
    "<br/>\n",
    "répétées autant que nécessaire.\n",
    "</div>"
   ]
  },
  {
   "cell_type": "code",
   "execution_count": null,
   "metadata": {},
   "outputs": [],
   "source": []
  },
  {
   "cell_type": "markdown",
   "metadata": {},
   "source": [
    "### Corrigé"
   ]
  },
  {
   "cell_type": "markdown",
   "metadata": {},
   "source": [
    "Il s'agit de l'algorithme des divisions euclidiennes par 2, vu en classe de Première."
   ]
  },
  {
   "cell_type": "code",
   "execution_count": 3,
   "metadata": {},
   "outputs": [],
   "source": [
    "def conv_bin(n):\n",
    "    b, bit = [], 0\n",
    "    while n > 0:\n",
    "        c = n % 2   # obtention d'un chiffre de l'écriture binaire de n. On obtient d'abord le chiffre des unités\n",
    "        b.append(c) # ajout du chiffre à la liste des chiffres de l'écriture binaire de n\n",
    "        bit += 1    # actualisation du compteur de chiffres de l'écriture binaire de n\n",
    "        n = n // 2  # actualisation de la valeur de n pour l'obtention du chiffre suivant\n",
    "    b.reverse()     # on \"renverse\" la liste de chiffres obtenue\n",
    "    return (b, bit)"
   ]
  },
  {
   "cell_type": "markdown",
   "metadata": {},
   "source": [
    "$\\checkmark\\;$ test"
   ]
  },
  {
   "cell_type": "code",
   "execution_count": 5,
   "metadata": {},
   "outputs": [
    {
     "data": {
      "text/plain": [
       "([1, 0, 1, 1], 4)"
      ]
     },
     "execution_count": 5,
     "metadata": {},
     "output_type": "execute_result"
    }
   ],
   "source": [
    "conv_bin(11)"
   ]
  },
  {
   "cell_type": "markdown",
   "metadata": {},
   "source": [
    "<div style=\"font-family: Arial, Times, serif;\">\n",
    "<h2 style=\"text-align:center\">EXERCICE 2 (4 points)</h2>\n",
    "<span style=\"font: 18px Arial, sans-serif;\">\n",
    "<br/>\n",
    "<p>\n",
    "La fonction <code>tri_bulles</code> prend en paramètre une liste <code>T</code> d’entiers non triés et renvoie la liste triée par ordre croissant.\n",
    "</p>\n",
    "<p>\n",
    "Compléter le code Python ci-dessous qui implémente la fonction <code>tri_bulles</code>.\n",
    "</p>\n",
    "</span>\n",
    "<br/>\n",
    "<br/>\n",
    "<span style=\"font: 18px Courier New, sans-serif;\">\n",
    "def tri_bulles(T):<br/>\n",
    "<span style=\"display:inline-block; width: 36px;\"></span>n = len(T)<br/>\n",
    "&emsp;&emsp;for i in range(..., ..., -1):<br/>\n",
    "&emsp;&emsp;&emsp;&emsp;for j in range(i):<br/>\n",
    "&emsp;&emsp;&emsp;&emsp;&emsp;&emsp;if T[j] > T[...]:<br/>\n",
    "&emsp;&emsp;&emsp;&emsp;&emsp;&emsp;&emsp;&emsp;... = T[j]<br/>\n",
    "&emsp;&emsp;&emsp;&emsp;&emsp;&emsp;&emsp;&emsp;T[j] = T[...]<br/>\n",
    "&emsp;&emsp;&emsp;&emsp;&emsp;&emsp;&emsp;&emsp;T[j+1] = temp<br/>\n",
    "&emsp;&emsp;return T<br/>\n",
    "</span>\n",
    "<br/>\n",
    "<p style=\"font: 18px Arial, sans-serif;\">\n",
    "Écrire une autre version de l’algorithme avec\n",
    "</p>\n",
    "<p style=\"padding:0 0 0 0px;font: 18px Courier New, sans-serif;\">\n",
    "&emsp;&emsp;for i in range(n-1):<br/>\n",
    "</p>\n",
    "    <p style=\"font: 18px Arial, sans-serif;\">\n",
    "en lieu et place de la troisième ligne du code précédent.    \n",
    "    </p>\n",
    "</div>\n",
    "</span>\n",
    "</div>"
   ]
  },
  {
   "cell_type": "code",
   "execution_count": null,
   "metadata": {},
   "outputs": [],
   "source": []
  },
  {
   "cell_type": "markdown",
   "metadata": {},
   "source": [
    "### Complément : contenu du fichier <code>.py</code> distribué avec le sujet"
   ]
  },
  {
   "cell_type": "code",
   "execution_count": 1,
   "metadata": {},
   "outputs": [
    {
     "ename": "SyntaxError",
     "evalue": "can't assign to Ellipsis (<ipython-input-1-6c90ca78e824>, line 6)",
     "output_type": "error",
     "traceback": [
      "\u001b[1;36m  File \u001b[1;32m\"<ipython-input-1-6c90ca78e824>\"\u001b[1;36m, line \u001b[1;32m6\u001b[0m\n\u001b[1;33m    ... = T[j]\u001b[0m\n\u001b[1;37m    ^\u001b[0m\n\u001b[1;31mSyntaxError\u001b[0m\u001b[1;31m:\u001b[0m can't assign to Ellipsis\n"
     ]
    }
   ],
   "source": [
    "def tri_bulles(T):\n",
    "    n = len(T)\n",
    "    for i in range(..., ..., -1):\n",
    "        for j in range(i):\n",
    "            if T[j] > T[...]:\n",
    "                ... = T[j]\n",
    "                T[j] = T[...]\n",
    "                T[j + 1] = temp\n",
    "    return T"
   ]
  },
  {
   "cell_type": "code",
   "execution_count": null,
   "metadata": {},
   "outputs": [],
   "source": []
  },
  {
   "cell_type": "markdown",
   "metadata": {},
   "source": [
    "### Corrigé"
   ]
  },
  {
   "cell_type": "markdown",
   "metadata": {},
   "source": [
    "Le tri-bulles consiste à  parcourir la liste à trier en \"redressant\" toutes les \"inversions\", c'est-à-dire, lors d'un parcours de la liste `T`, de gauche à droite, à l'aide d'un indice $j$ variant de 0 à $\\rm len(T) - 2$, on échangera, au fil du parcours, les valeurs `T[j]` et `T[j - 1]` si `T[j] > T[j - 1]`.  \n",
    "On effectue ce parcours autant de fois que nécessaire, jusqu'à ce que la liste soit triée.  \n",
    "On peut démontrer que lors du premier parcours, le maximum de la liste se retrouve nécessairement en dernière position.  \n",
    "On peut démontrer encore qu'après $k$ parcours, $k\\geqslant 0$, les $k$ plus grandes valeurs de la liste sont triées et sont à leur place définitive dans la liste, de sorte que seule la portion de liste  `L[0:len(L) - k]` reste à trier.  \n",
    "Ainsi, on est assuré qu'après $\\rm len(L) - 1$ parcours de la liste à trier, la liste a été triée."
   ]
  },
  {
   "cell_type": "markdown",
   "metadata": {},
   "source": [
    "On qualifie ce tri de *tri-bulle*, car à chaque parcours, la valeur la plus à gauche dans la liste est déplacée vers la droite (*remonte* dans la liste) jusqu'à ce qu'elle ait à sa droite une valeur qui lui est supérieure, si alors on n'a pas encore atteint la fin de la liste, il en est de même pour la valeur supérieure rencontrée, qui remonte de même vers la fin de liste, et ainsi de suite jusqu'à atteindre la fin de liste.  "
   ]
  },
  {
   "cell_type": "markdown",
   "metadata": {},
   "source": [
    "* illustration :  \n",
    "si la liste à trier est <code>L = [5, 3, 8, 1, 4, 2, 7]</code>,  \n",
    "    - lors du premier parcours,  \n",
    "    le 5, <code>L = [<u>5</u>, 3, 8, 1, 4, 2, 7]</code>, *remonte* jusqu'à être à la gauche du 8 :  <code>L = [3, <b>5</b>, 8, 1, 4, 2, 7]</code> ;  \n",
    "    puis le 8, <code>L = [3, <b>5</b>, <u>8</u>, 1, 4, 2, 7]</code>, remonte jusqu'à la fin de liste :  <code>L = [3, <b>5</b>, 1, 4, 2, 7, <b>8</b>]</code>.  \n",
    "    Le 8 est à sa place définitive :  <code>L = [3, 5, 1, 4, 2, 7, <span style=\"background-color:yellow;font-weight:bold;\">8</span>]</code>.  \n",
    "    - lors du deuxième parcours,  \n",
    "    le 3, <code>L = [<u>3</u>, 5, 1, 4, 2, 7, <span style=\"background-color:yellow;font-weight:bold;\">8</span>]</code>,  reste fixe,  \n",
    "    et le 5, <code>L = [3, <u>5</u>, 1, 4, 2, 7, <span style=\"background-color:yellow;font-weight:bold;\">8</span>]</code>,  *remonte* jusqu'à être à la gauche du 7 :  <code>L = [3, 1, 4, 2, <b>5</b>, 7, <span style=\"background-color:yellow;font-weight:bold;\">8</span>]</code> ;  \n",
    "    le 7, <code>L = [3, 1, 4, 2, 5, <u>7</u>, <span style=\"background-color:yellow;font-weight:bold;\">8</span>]</code> reste fixe.  \n",
    "    Le 7 est à sa place définitive :  <code>L = [3, 1, 4, 2, 5, <span style=\"background-color:yellow;font-weight:bold;\">7, 8</span>]</code>.  \n",
    "    - lors du troisième parcours,  \n",
    "    le 3, \n",
    "    <code>L = [<u>3</u>, 1, 4, 2, 5, <span style=\"background-color:yellow;font-weight:bold;\">7, 8</span>]</code>,  *remonte* jusqu'à être à la gauche du 4 :  <code>L = [1, <b>3</b>, 4, 2, 5, <span style=\"background-color:yellow;font-weight:bold;\">7, 8</span>]</code> ;  \n",
    "    et le 4, <code>L = [1, <b>3</b>, <u>4</u>, 2, 5, <span style=\"background-color:yellow;font-weight:bold;\">7, 8</span>]</code>,  *remonte* jusqu'à être à la gauche du 5 :  <code>L = [1, <b>3</b>, 2, <b>4</b>, 5, <span style=\"background-color:yellow;font-weight:bold;\">7, 8</span>]</code> ;  \n",
    "    le 5, <code>L = [1, <b>3</b>, 2, <b>4</b>, <u>5</u>, <span style=\"background-color:yellow;font-weight:bold;\">7, 8</span>]</code> reste fixe.  \n",
    "    Le 5 est à sa place définitive :  <code>L = [1, 3, 2, 4, <span style=\"background-color:yellow;font-weight:bold;\">5, 7, 8</span>]</code>.  \n",
    "    - lors du quatrième parcours,  \n",
    "    le 1, \n",
    "    <code>L = [<u>1</u>, 3, 2, 4, <span style=\"background-color:yellow;font-weight:bold;\">5, 7, 8</span>]</code>, \n",
    "    reste fixe ;  \n",
    "    le 3, <code>L = [1, <u>3</u>, 2, 4, <span style=\"background-color:yellow;font-weight:bold;\">5, 7, 8</span>]</code>, *remonte* jusqu'à être à la gauche du 4 :  <code>L = [1, 2, <b>3</b>, 4, <span style=\"background-color:yellow;font-weight:bold;\">5, 7, 8</span>]</code> ;  \n",
    "    le 4, <code>L = [1, 2, <b>3</b>, <u>4</u>, <span style=\"background-color:yellow;font-weight:bold;\">5, 7, 8</span>]</code> reste fixe.  \n",
    "    Le 4 est à sa place définitive :  <code>L = [1, 2, 3, <span style=\"background-color:yellow;font-weight:bold;\">4, 5, 7, 8</span>]</code>.  \n",
    "    - lors des $5^{\\rm ème}$, $6^{\\rm ème}$ et $7^{\\rm ème}$ parcours, aucune valeur n'est déplacée.  \n",
    "    \n",
    "La liste est alors triée :  <code>L = [<span style=\"background-color:yellow;font-weight:bold;\">1, 2, 3, 4, 5, 7, 8</span>]</code>."
   ]
  },
  {
   "cell_type": "code",
   "execution_count": 32,
   "metadata": {},
   "outputs": [],
   "source": [
    "def tri_bulles(T):\n",
    "    n = len(T)\n",
    "    for i in range(n - 1, 0, -1):\n",
    "        for j in range(i):\n",
    "            if T[j] > T[j + 1]:\n",
    "                temp = T[j]\n",
    "                T[j] = T[j + 1]\n",
    "                T[j + 1] = temp\n",
    "    return T"
   ]
  },
  {
   "cell_type": "markdown",
   "metadata": {},
   "source": [
    "$\\checkmark\\;$ tests"
   ]
  },
  {
   "cell_type": "code",
   "execution_count": 33,
   "metadata": {},
   "outputs": [
    {
     "data": {
      "text/plain": [
       "[1, 2, 3, 4, 5, 7, 8]"
      ]
     },
     "execution_count": 33,
     "metadata": {},
     "output_type": "execute_result"
    }
   ],
   "source": [
    "tri_bulles([5, 3, 8, 1, 4, 2, 7])"
   ]
  },
  {
   "cell_type": "code",
   "execution_count": 34,
   "metadata": {},
   "outputs": [
    {
     "data": {
      "text/plain": [
       "[1, 2, 3, 4, 5, 6, 7, 8]"
      ]
     },
     "execution_count": 34,
     "metadata": {},
     "output_type": "execute_result"
    }
   ],
   "source": [
    "tri_bulles([8, 7, 6, 5, 4, 3, 2, 1])"
   ]
  },
  {
   "cell_type": "markdown",
   "metadata": {},
   "source": [
    "Avec le détail de l'état de la liste avant chaque parcours, dans le pire cas (liste initialement triée dans l'ordre décroissant) :"
   ]
  },
  {
   "cell_type": "code",
   "execution_count": 35,
   "metadata": {},
   "outputs": [],
   "source": [
    "def tri_bulles_avec_affichages(T):\n",
    "    n = len(T)\n",
    "    numero_parcours = 0\n",
    "    for i in range(n - 1, 0, -1):\n",
    "        numero_parcours += 1\n",
    "        print(f\"Avant le parcours n° {numero_parcours}, T = {T}\")\n",
    "        for j in range(i):\n",
    "            if T[j] > T[j + 1]:\n",
    "                temp = T[j]\n",
    "                T[j] = T[j + 1]\n",
    "                T[j + 1] = temp\n",
    "    return T"
   ]
  },
  {
   "cell_type": "code",
   "execution_count": 36,
   "metadata": {},
   "outputs": [
    {
     "name": "stdout",
     "output_type": "stream",
     "text": [
      "Avant le parcours n° 1, T = [8, 7, 6, 5, 4, 3, 2, 1]\n",
      "Avant le parcours n° 2, T = [7, 6, 5, 4, 3, 2, 1, 8]\n",
      "Avant le parcours n° 3, T = [6, 5, 4, 3, 2, 1, 7, 8]\n",
      "Avant le parcours n° 4, T = [5, 4, 3, 2, 1, 6, 7, 8]\n",
      "Avant le parcours n° 5, T = [4, 3, 2, 1, 5, 6, 7, 8]\n",
      "Avant le parcours n° 6, T = [3, 2, 1, 4, 5, 6, 7, 8]\n",
      "Avant le parcours n° 7, T = [2, 1, 3, 4, 5, 6, 7, 8]\n"
     ]
    },
    {
     "data": {
      "text/plain": [
       "[1, 2, 3, 4, 5, 6, 7, 8]"
      ]
     },
     "execution_count": 36,
     "metadata": {},
     "output_type": "execute_result"
    }
   ],
   "source": [
    "tri_bulles_avec_affichages([8, 7, 6, 5, 4, 3, 2, 1])"
   ]
  },
  {
   "cell_type": "code",
   "execution_count": null,
   "metadata": {},
   "outputs": [],
   "source": []
  }
 ],
 "metadata": {
  "kernelspec": {
   "display_name": "Python 3",
   "language": "python",
   "name": "python3"
  },
  "language_info": {
   "codemirror_mode": {
    "name": "ipython",
    "version": 3
   },
   "file_extension": ".py",
   "mimetype": "text/x-python",
   "name": "python",
   "nbconvert_exporter": "python",
   "pygments_lexer": "ipython3",
   "version": "3.7.1"
  },
  "latex_envs": {
   "LaTeX_envs_menu_present": true,
   "autoclose": false,
   "autocomplete": true,
   "bibliofile": "biblio.bib",
   "cite_by": "apalike",
   "current_citInitial": 1,
   "eqLabelWithNumbers": true,
   "eqNumInitial": 1,
   "hotkeys": {
    "equation": "Ctrl-E",
    "itemize": "Ctrl-I"
   },
   "labels_anchors": false,
   "latex_user_defs": false,
   "report_style_numbering": false,
   "user_envs_cfg": false
  }
 },
 "nbformat": 4,
 "nbformat_minor": 4
}
