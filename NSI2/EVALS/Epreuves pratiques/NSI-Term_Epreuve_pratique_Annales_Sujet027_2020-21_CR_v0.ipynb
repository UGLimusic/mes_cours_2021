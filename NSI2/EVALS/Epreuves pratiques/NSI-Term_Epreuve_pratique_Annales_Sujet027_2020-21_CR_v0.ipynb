{
 "cells": [
  {
   "cell_type": "markdown",
   "metadata": {},
   "source": [
    "<h1 style='text-align:center'>N.S.I. Term. - 2021.02.15 - Annales - sem20 (prn24)</h1>\n",
    "<h2 style='text-align:center'>Annales Épreuve Pratique 2020-21</h2>\n",
    "<h2 style='text-align:center'>Sujet 027 - corrigé</h2>"
   ]
  },
  {
   "cell_type": "markdown",
   "metadata": {},
   "source": [
    "* Cadrage officiel :  https://www.education.gouv.fr/bo/20/Special2/MENE2001797N.htm"
   ]
  },
  {
   "cell_type": "markdown",
   "metadata": {},
   "source": [
    "**Durée : 1 heure**<br/>\n",
    "<br/>\n",
    "<span style=\"color:blue;font-weight:900;font-family:Arial;font:20px Arial\">**Modalités**</span>\n",
    "<br/>\n",
    "<br/>\n",
    "<div style=\"font:16px Arial\">\n",
    "La partie pratique consiste en la résolution de deux exercices sur ordinateur, chacun étant noté sur 4 points.\n",
    "\n",
    "Le candidat est évalué sur la base d'un dialogue avec un professeur-examinateur. Un examinateur évalue au maximum quatre élèves. L'examinateur ne peut pas évaluer un élève qu'il a eu en classe durant l'année en cours.\n",
    "\n",
    "L'évaluation de cette partie se déroule au cours du deuxième trimestre pendant la période de l'épreuve écrite de spécialité.\n",
    "- **Premier exercice**\n",
    "\n",
    "Le premier exercice consiste à programmer un algorithme figurant explicitement au programme, ne présentant pas de difficulté particulière, dont on fournit une spécification. Il s'agit donc de restituer un algorithme rencontré et travaillé à plusieurs reprises en cours de formation. Le sujet peut proposer un jeu de test avec les réponses attendues pour permettre au candidat de vérifier son travail.\n",
    "\n",
    "- **Deuxième exercice**\n",
    "\n",
    "Pour le second exercice, un programme est fourni au candidat. Cet exercice ne demande pas l'écriture complète d'un programme, mais permet de valider des compétences de programmation suivant des modalités variées : le candidat doit, par exemple, compléter un programme « à trous » afin de répondre à une spécification donnée, ou encore compléter un programme pour le documenter, ou encore compléter un programme en ajoutant des assertions, *etc.*\n",
    "</div>"
   ]
  },
  {
   "cell_type": "markdown",
   "metadata": {},
   "source": [
    "<h2 style='text-align:center'>Sujet 027 - corrigé - v0</h2>"
   ]
  },
  {
   "cell_type": "markdown",
   "metadata": {},
   "source": [
    "https://www.education.gouv.fr/bo/20/Special2/MENE2001797N.htm"
   ]
  },
  {
   "cell_type": "markdown",
   "metadata": {},
   "source": [
    "**Durée 1 heure**  \n",
    "***Compte pour 8 points sur 20***"
   ]
  },
  {
   "cell_type": "markdown",
   "metadata": {},
   "source": [
    "<div style=\"font-family: Arial, Times, sans-serif;font-size: 18px\">\n",
    "    <h2 style=\"text-align:center\">EXERCICE 1 (4 points)</h2>\n",
    "    <br/>\n",
    "    <p>\n",
    "        Écrire une fonction <code>moyenne</code> prenant en paramètres une liste d’entiers, supposée non vide, et qui renvoie la\n",
    "moyenne des valeurs de cette liste.\n",
    "    </p>\n",
    "    <p>\n",
    "        <i>Exemple</i> :\n",
    "    </p>\n",
    "    <p style=\"padding:0 0 0 0px;font: 18px Courier New, sans-serif;\">\n",
    "        >>> moyenne([10, 20, 30, 40, 60, 110])<br/>\n",
    "        45.0<br/>\n",
    "    </p>\n",
    "</div>"
   ]
  },
  {
   "cell_type": "code",
   "execution_count": null,
   "metadata": {},
   "outputs": [],
   "source": []
  },
  {
   "cell_type": "markdown",
   "metadata": {},
   "source": [
    "### Corrigé"
   ]
  },
  {
   "cell_type": "code",
   "execution_count": 1,
   "metadata": {},
   "outputs": [],
   "source": [
    "def moyenne(L):\n",
    "    somme = 0\n",
    "    for val in L:\n",
    "        somme += val\n",
    "    return somme / len(L)"
   ]
  },
  {
   "cell_type": "markdown",
   "metadata": {},
   "source": [
    "$\\checkmark\\;$ test"
   ]
  },
  {
   "cell_type": "code",
   "execution_count": 2,
   "metadata": {},
   "outputs": [
    {
     "data": {
      "text/plain": [
       "45.0"
      ]
     },
     "execution_count": 2,
     "metadata": {},
     "output_type": "execute_result"
    }
   ],
   "source": [
    "moyenne([10, 20, 30, 40, 60, 110])"
   ]
  },
  {
   "cell_type": "markdown",
   "metadata": {},
   "source": [
    "<div style=\"font-family: Arial, Times, sans-serif;font-size: 18px\">\n",
    "    <h2 style=\"text-align:center\">EXERCICE 2 (4 points)</h2>\n",
    "    <br/>\n",
    "    <p>\n",
    "        On travaille sur des dessins en noir et blanc obtenus à partir de pixels noirs et blancs :\n",
    "    </p>\n",
    "    <p style=\"vertical-align:middle\">\n",
    "    <div style=\"display:inline-block; width: 591px;\">\n",
    "        <p>\n",
    "            La figure « cœur » ci-contre va servir d’exemple.\n",
    "        </p>\n",
    "        <p>\n",
    "        On la représente par une grille de nombres, c’est-à-dire par une liste composée de sous-listes de mêmes longueurs.\n",
    "        </p>\n",
    "        <p>\n",
    "            Chaque sous-liste représentera donc une ligne du dessin.\n",
    "        </p>\n",
    "    </div>\n",
    "    <div style=\"display:inline-block; width: 369px;\">\n",
    "    <img src=\"https://github.com/lbaille20/NSI-Term_2020-21/raw/master/AnnalesEpreuvePratique2021/Sujet27/NSI-Term_EprPratique2021_Sujet27_ex2_fig1.PNG\" alt=\"\" style=\"width:369px;height:274px;vertical-align:middle;\" /></span>\n",
    "    </div>\n",
    "    <br/>\n",
    "    <p>\n",
    "        Dans le code ci-dessous, la fonction <code>affiche</code> permet d’afficher le dessin. Les pixels noirs\n",
    "(1 dans la grille) seront représentés par les caractères \" *\" (espace suivi de *) et les blancs (0 dans la grille) par\n",
    "deux espaces.\n",
    "    </p>\n",
    "    <p>\n",
    "        La fonction <code>zoomListe</code> prend en argument une liste <code>liste_depart</code> et un entier <code>k</code>. Elle renvoie une liste où chaque élément de <code>liste_depart</code> est dupliqué <code>k</code> fois.\n",
    "    </p>\n",
    "    <p>\n",
    "        La fonction <code>zoomDessin</code> prend en argument la grille <code>dessin</code> et renvoie une grille où\n",
    "toutes les lignes de <code>dessin</code> sont zoomées <code>k</code> fois et répétées <code>k</code> fois.<br/>\n",
    "Soit le code ci-dessous :\n",
    "    </p>\n",
    "    <br/>\n",
    "    <p style=\"font: 18px Courier New, sans-serif;\">\n",
    "        coeur = [[0, 0, 0, 0, 0, 0, 0, 0, 0, 0, 0, 0, 0], \\<br/>\n",
    "    <span style=\"display:inline-block; width: 97px;\"></span>[0, 0, 0, 1, 1, 0, 0, 0, 1, 1, 0, 0, 0], \\<br/>\n",
    "    <span style=\"display:inline-block; width: 97px;\"></span>[0, 0, 1, 0, 0, 1, 0, 1, 0, 0, 1, 0, 0], \\<br/>\n",
    "    <span style=\"display:inline-block; width: 97px;\"></span>[0, 1, 0, 0, 0, 0, 1, 0, 0, 0, 0, 1, 0], \\<br/>\n",
    "    <span style=\"display:inline-block; width: 97px;\"></span>[0, 1, 0, 0, 0, 0, 0, 0, 0, 0, 0, 1, 0], \\<br/>\n",
    "    <span style=\"display:inline-block; width: 97px;\"></span>[0, 1, 0, 0, 0, 0, 0, 0, 0, 0, 0, 1, 0], \\<br/>\n",
    "    <span style=\"display:inline-block; width: 97px;\"></span>[0, 0, 1, 0, 0, 0, 0, 0, 0, 0, 1, 0, 0], \\<br/>\n",
    "    <span style=\"display:inline-block; width: 97px;\"></span>[0, 0, 0, 1, 0, 0, 0, 0, 0, 1, 0, 0, 0], \\<br/>\n",
    "    <span style=\"display:inline-block; width: 97px;\"></span>[0, 0, 0, 0, 1, 0, 0, 0, 1, 0, 0, 0, 0], \\<br/>\n",
    "    <span style=\"display:inline-block; width: 97px;\"></span>[0, 0, 0, 0, 0, 1, 0, 1, 0, 0, 0, 0, 0], \\<br/>\n",
    "    <span style=\"display:inline-block; width: 97px;\"></span>[0, 0, 0, 0, 0, 0, 1, 0, 0, 0, 0, 0, 0], \\<br/>\n",
    "    <span style=\"display:inline-block; width: 97px;\"></span>[0, 0, 0, 0, 0, 0, 0, 0, 0, 0, 0, 0, 0]]<br/>\n",
    "        <!-- &emsp; équivalent à <span style=\"display:inline-block; width: 36px;\"></span> -->\n",
    "    <br/>\n",
    "    def affiche(dessin):<br/>\n",
    "    &emsp;&emsp;''' affichage d'une grille : les 1 sont représentés par<br/>\n",
    "    <span style=\"display:inline-block; width: 70px;\"></span>des \" *\" , les 0 par deux espaces \"  \" '''<br/>\n",
    "    &emsp;&emsp;for ligne in dessin:<br/>\n",
    "    &emsp;&emsp;&emsp;&emsp;for col in ligne:<br/>\n",
    "    &emsp;&emsp;&emsp;&emsp;&emsp;&emsp;if col == 1:<br/>\n",
    "    &emsp;&emsp;&emsp;&emsp;&emsp;&emsp;&emsp;&emsp;print(\" *\", end = \"\")<br/>\n",
    "    &emsp;&emsp;&emsp;&emsp;&emsp;&emsp;else:<br/>\n",
    "    &emsp;&emsp;&emsp;&emsp;&emsp;&emsp;&emsp;&emsp;print(\"  \", end = \"\")<br/>\n",
    "    &emsp;&emsp;&emsp;&emsp;print()<br/>\n",
    "    <br/>\n",
    "    <br/>\n",
    "    def zoomListe(liste_depart, k):<br/>\n",
    "    &emsp;&emsp;'''renvoie une liste contenant k fois chaque élément de liste_depart'''<br/>\n",
    "    &emsp;&emsp;liste_zoom = ...<br/>\n",
    "    &emsp;&emsp;for elt in ... :<br/>\n",
    "    &emsp;&emsp;&emsp;&emsp;for i in range(k):<br/>\n",
    "    &emsp;&emsp;&emsp;&emsp;&emsp;&emsp;...<br/>\n",
    "    &emsp;&emsp;return liste_zoom<br/>\n",
    "    <br/>\n",
    "    def zoomDessin(grille, k):<br/>\n",
    "    &emsp;&emsp;'''renvoie une grille où les lignes sont zoomées k fois\n",
    "ET répétées k fois'''<br/>\n",
    "    &emsp;&emsp;grille_zoom = []<br/>\n",
    "    &emsp;&emsp;for elt in grille:<br/>\n",
    "    &emsp;&emsp;&emsp;&emsp;liste_zoom = ...<br/>\n",
    "    &emsp;&emsp;&emsp;&emsp;for i in range(k):<br/>\n",
    "    &emsp;&emsp;&emsp;&emsp;&emsp;&emsp;... .append(...)<br/>\n",
    "    &emsp;&emsp;return grille_zoom<br/>\n",
    "    </p>\n",
    "    <br/>\n",
    "    <p>\n",
    "    Résultats à obtenir :\n",
    "    </p>\n",
    "    <br/>\n",
    "    <span style=\"padding:0 0 0 0px;font: 18px Courier New, sans-serif;\">\n",
    "        >>> affiche(coeur)<br/>\n",
    "    <img src=\"https://github.com/lbaille20/NSI-Term_2020-21/raw/master/AnnalesEpreuvePratique2021/Sujet27/NSI-Term_EprPratique2021_Sujet27_ex2_fig2.PNG\", alt=\"\" />\n",
    "    <br/>\n",
    "    >>> affiche(zoomDessin(coeur, 3))<br/>\n",
    "    <img src=\"https://github.com/lbaille20/NSI-Term_2020-21/raw/master/AnnalesEpreuvePratique2021/Sujet27/NSI-Term_EprPratique2021_Sujet27_ex2_fig3.PNG\", alt=\"\" />\n",
    "    <br/>\n",
    "    </span>\n",
    "</div>"
   ]
  },
  {
   "cell_type": "code",
   "execution_count": null,
   "metadata": {},
   "outputs": [],
   "source": []
  },
  {
   "cell_type": "markdown",
   "metadata": {},
   "source": [
    "### Complément : contenu du fichier <code>.py</code> distribué avec le sujet"
   ]
  },
  {
   "cell_type": "code",
   "execution_count": 3,
   "metadata": {},
   "outputs": [],
   "source": [
    "coeur = [[0, 0, 0, 0, 0, 0, 0, 0, 0, 0, 0, 0, 0], \\\n",
    "         [0, 0, 0, 1, 1, 0, 0, 0, 1, 1, 0, 0, 0], \\\n",
    "         [0, 0, 1, 0, 0, 1, 0, 1, 0, 0, 1, 0, 0], \\\n",
    "         [0, 1, 0, 0, 0, 0, 1, 0, 0, 0, 0, 1, 0], \\\n",
    "         [0, 1, 0, 0, 0, 0, 0, 0, 0, 0, 0, 1, 0], \\\n",
    "         [0, 1, 0, 0, 0, 0, 0, 0, 0, 0, 0, 1, 0], \\\n",
    "         [0, 0, 1, 0, 0, 0, 0, 0, 0, 0, 1, 0, 0], \\\n",
    "         [0, 0, 0, 1, 0, 0, 0, 0, 0, 1, 0, 0, 0], \\\n",
    "         [0, 0, 0, 0, 1, 0, 0, 0, 1, 0, 0, 0, 0], \\\n",
    "         [0, 0, 0, 0, 0, 1, 0, 1, 0, 0, 0, 0, 0], \\\n",
    "         [0, 0, 0, 0, 0, 0, 1, 0, 0, 0, 0, 0, 0], \\\n",
    "         [0, 0, 0, 0, 0, 0, 0, 0, 0, 0, 0, 0, 0]]\n",
    "\n",
    "def affiche(dessin):\n",
    "    ''' affichage d'une grille : les 1 sont représentés par \n",
    "        des \" *\" , les 0 par deux espaces \"  \" '''\n",
    "    for ligne in dessin:\n",
    "        for col in ligne:\n",
    "            if col == 1:\n",
    "                print(\" *\", end = \"\")\n",
    "            else:\n",
    "                print(\"  \", end = \"\")\n",
    "        print()\n",
    "\n",
    "\n",
    "def zoomListe(liste_depart, k):\n",
    "    '''renvoie une liste contenant k fois chaque \n",
    "       élément de liste_depart'''\n",
    "    liste_zoom = ...\n",
    "    for elt in ... :\n",
    "        for i in range(k):\n",
    "            ...\n",
    "    return liste_zoom\n",
    "\n",
    "def zoomDessin(grille, k):\n",
    "    '''renvoie une grille où les lignes sont zoomées k fois \n",
    "       ET répétées k fois'''\n",
    "    grille_zoom = []\n",
    "    for elt in grille:\n",
    "        liste_zoom = ...\n",
    "        for i in range(k):\n",
    "            ... .append(...)\n",
    "    return grille_zoom"
   ]
  },
  {
   "cell_type": "code",
   "execution_count": null,
   "metadata": {},
   "outputs": [],
   "source": []
  },
  {
   "cell_type": "markdown",
   "metadata": {},
   "source": [
    "### Corrigé"
   ]
  },
  {
   "cell_type": "code",
   "execution_count": 4,
   "metadata": {},
   "outputs": [],
   "source": [
    "def affiche(dessin):\n",
    "    ''' affichage d'une grille : les 1 sont représentés par \n",
    "        des \" *\" , les 0 par deux espaces \"  \" '''\n",
    "    for ligne in dessin:\n",
    "        for col in ligne:\n",
    "            if col == 1:\n",
    "                print(\" *\", end = \"\")\n",
    "            else:\n",
    "                print(\"  \", end = \"\")\n",
    "        print()\n",
    "\n",
    "\n",
    "def zoomListe(liste_depart, k):\n",
    "    '''renvoie une liste contenant k fois chaque \n",
    "       élément de liste_depart'''\n",
    "    liste_zoom = [] ## initialisation de la ligne \"zoomée\" à la liste vide\n",
    "    for elt in liste_depart: ## parcours par les valeurs de la liste à zoomer\n",
    "        for i in range(k):         ## on duplique k fois\n",
    "            liste_zoom.append(elt) ## chaque élément de liste_depart dans la liste liste_zoom   \n",
    "    return liste_zoom\n",
    "\n",
    "def zoomDessin(grille, k):\n",
    "    '''renvoie une grille où les lignes sont zoomées k fois \n",
    "       ET répétées k fois'''\n",
    "    grille_zoom = [] ## initialisation de la grille \"zoomée\" à la liste vide\n",
    "    for elt in grille: ## pour chaque ligne dans la grille à zoomer\n",
    "        liste_zoom = zoomListe(elt, k) ## on zoome k fois la ligne elt à l'aide de la fonction zoomListe\n",
    "        for i in range(k):                 ## on duplique k fois\n",
    "            grille_zoom.append(liste_zoom) ## une référence à la liste zoomée issue de la lecture de la liste elt\n",
    "    return grille_zoom"
   ]
  },
  {
   "cell_type": "markdown",
   "metadata": {},
   "source": [
    "$\\checkmark\\;$ tests"
   ]
  },
  {
   "cell_type": "code",
   "execution_count": 5,
   "metadata": {},
   "outputs": [],
   "source": [
    "coeur = [[0, 0, 0, 0, 0, 0, 0, 0, 0, 0, 0, 0, 0], \\\n",
    "         [0, 0, 0, 1, 1, 0, 0, 0, 1, 1, 0, 0, 0], \\\n",
    "         [0, 0, 1, 0, 0, 1, 0, 1, 0, 0, 1, 0, 0], \\\n",
    "         [0, 1, 0, 0, 0, 0, 1, 0, 0, 0, 0, 1, 0], \\\n",
    "         [0, 1, 0, 0, 0, 0, 0, 0, 0, 0, 0, 1, 0], \\\n",
    "         [0, 0, 1, 0, 0, 0, 0, 0, 0, 0, 1, 0, 0], \\\n",
    "         [0, 0, 0, 1, 0, 0, 0, 0, 0, 1, 0, 0, 0], \\\n",
    "         [0, 0, 0, 0, 1, 0, 0, 0, 1, 0, 0, 0, 0], \\\n",
    "         [0, 0, 0, 0, 0, 1, 0, 1, 0, 0, 0, 0, 0], \\\n",
    "         [0, 0, 0, 0, 0, 0, 1, 0, 0, 0, 0, 0, 0], \\\n",
    "         [0, 0, 0, 0, 0, 0, 0, 0, 0, 0, 0, 0, 0]]"
   ]
  },
  {
   "cell_type": "code",
   "execution_count": 6,
   "metadata": {},
   "outputs": [
    {
     "name": "stdout",
     "output_type": "stream",
     "text": [
      "                          \n",
      "       * *       * *      \n",
      "     *     *   *     *    \n",
      "   *         *         *  \n",
      "   *                   *  \n",
      "     *               *    \n",
      "       *           *      \n",
      "         *       *        \n",
      "           *   *          \n",
      "             *            \n",
      "                          \n"
     ]
    }
   ],
   "source": [
    "affiche(coeur)"
   ]
  },
  {
   "cell_type": "code",
   "execution_count": 7,
   "metadata": {},
   "outputs": [
    {
     "name": "stdout",
     "output_type": "stream",
     "text": [
      "                                                                              \n",
      "                                                                              \n",
      "                                                                              \n",
      "                   * * * * * *                   * * * * * *                  \n",
      "                   * * * * * *                   * * * * * *                  \n",
      "                   * * * * * *                   * * * * * *                  \n",
      "             * * *             * * *       * * *             * * *            \n",
      "             * * *             * * *       * * *             * * *            \n",
      "             * * *             * * *       * * *             * * *            \n",
      "       * * *                         * * *                         * * *      \n",
      "       * * *                         * * *                         * * *      \n",
      "       * * *                         * * *                         * * *      \n",
      "       * * *                                                       * * *      \n",
      "       * * *                                                       * * *      \n",
      "       * * *                                                       * * *      \n",
      "             * * *                                           * * *            \n",
      "             * * *                                           * * *            \n",
      "             * * *                                           * * *            \n",
      "                   * * *                               * * *                  \n",
      "                   * * *                               * * *                  \n",
      "                   * * *                               * * *                  \n",
      "                         * * *                   * * *                        \n",
      "                         * * *                   * * *                        \n",
      "                         * * *                   * * *                        \n",
      "                               * * *       * * *                              \n",
      "                               * * *       * * *                              \n",
      "                               * * *       * * *                              \n",
      "                                     * * *                                    \n",
      "                                     * * *                                    \n",
      "                                     * * *                                    \n",
      "                                                                              \n",
      "                                                                              \n",
      "                                                                              \n"
     ]
    }
   ],
   "source": [
    "affiche(zoomDessin(coeur, 3))"
   ]
  },
  {
   "cell_type": "code",
   "execution_count": null,
   "metadata": {},
   "outputs": [],
   "source": []
  }
 ],
 "metadata": {
  "kernelspec": {
   "display_name": "Python 3",
   "language": "python",
   "name": "python3"
  },
  "language_info": {
   "codemirror_mode": {
    "name": "ipython",
    "version": 3
   },
   "file_extension": ".py",
   "mimetype": "text/x-python",
   "name": "python",
   "nbconvert_exporter": "python",
   "pygments_lexer": "ipython3",
   "version": "3.7.1"
  },
  "latex_envs": {
   "LaTeX_envs_menu_present": true,
   "autoclose": false,
   "autocomplete": true,
   "bibliofile": "biblio.bib",
   "cite_by": "apalike",
   "current_citInitial": 1,
   "eqLabelWithNumbers": true,
   "eqNumInitial": 1,
   "hotkeys": {
    "equation": "Ctrl-E",
    "itemize": "Ctrl-I"
   },
   "labels_anchors": false,
   "latex_user_defs": false,
   "report_style_numbering": false,
   "user_envs_cfg": false
  }
 },
 "nbformat": 4,
 "nbformat_minor": 4
}
