{
 "cells": [
  {
   "cell_type": "markdown",
   "metadata": {},
   "source": [
    "<h1 style='text-align:center'>N.S.I. Term. - 2021.02.15 - Annales - sem20 (prn24)</h1>\n",
    "<h2 style='text-align:center'>Annales Épreuve Pratique 2020-21</h2>\n",
    "<h2 style='text-align:center'>Sujet 005 - énoncé</h2>"
   ]
  },
  {
   "cell_type": "markdown",
   "metadata": {},
   "source": [
    "* Cadrage officiel :  https://www.education.gouv.fr/bo/20/Special2/MENE2001797N.htm"
   ]
  },
  {
   "cell_type": "markdown",
   "metadata": {},
   "source": [
    "**Durée : 1 heure**<br/>\n",
    "<br/>\n",
    "<span style=\"color:blue;font-weight:900;font-family:Arial;font:20px Arial\">**Modalités**</span>\n",
    "<br/>\n",
    "<br/>\n",
    "<div style=\"font:16px Arial\">\n",
    "La partie pratique consiste en la résolution de deux exercices sur ordinateur, chacun étant noté sur 4 points.\n",
    "\n",
    "Le candidat est évalué sur la base d'un dialogue avec un professeur-examinateur. Un examinateur évalue au maximum quatre élèves. L'examinateur ne peut pas évaluer un élève qu'il a eu en classe durant l'année en cours.\n",
    "\n",
    "L'évaluation de cette partie se déroule au cours du deuxième trimestre pendant la période de l'épreuve écrite de spécialité.\n",
    "- **Premier exercice**\n",
    "\n",
    "Le premier exercice consiste à programmer un algorithme figurant explicitement au programme, ne présentant pas de difficulté particulière, dont on fournit une spécification. Il s'agit donc de restituer un algorithme rencontré et travaillé à plusieurs reprises en cours de formation. Le sujet peut proposer un jeu de test avec les réponses attendues pour permettre au candidat de vérifier son travail.\n",
    "\n",
    "- **Deuxième exercice**\n",
    "\n",
    "Pour le second exercice, un programme est fourni au candidat. Cet exercice ne demande pas l'écriture complète d'un programme, mais permet de valider des compétences de programmation suivant des modalités variées : le candidat doit, par exemple, compléter un programme « à trous » afin de répondre à une spécification donnée, ou encore compléter un programme pour le documenter, ou encore compléter un programme en ajoutant des assertions, *etc.*\n",
    "</div>"
   ]
  },
  {
   "cell_type": "markdown",
   "metadata": {},
   "source": [
    "<h2 style='text-align:center'>Sujet 005 - énoncé - v0</h2>"
   ]
  },
  {
   "cell_type": "markdown",
   "metadata": {},
   "source": [
    "https://www.education.gouv.fr/bo/20/Special2/MENE2001797N.htm"
   ]
  },
  {
   "cell_type": "markdown",
   "metadata": {},
   "source": [
    "**Durée 1 heure**  \n",
    "***Compte pour 8 points sur 20***"
   ]
  },
  {
   "cell_type": "markdown",
   "metadata": {},
   "source": [
    "<div style=\"font-family: \"Arial\", Times, serif;\">\n",
    "    <h2 style=\"text-align:center\">EXERCICE 1 (4 points)</h2>\n",
    "    <span style=\"font: 18px Arial, sans-serif;\">\n",
    "    <br/>\n",
    "    <p>\n",
    "    On modélise la représentation binaire d'un entier non signé par un tableau d'entiers dont les éléments sont 0 ou 1. Par exemple, le tableau <code>[1, 0, 1, 0, 0, 1, 1]</code> représente l'écriture binaire de l'entier dont l'écriture décimale est<br/>\n",
    "        <p style=\"text-align:center;font: 18px Courier New, sans-serif;\">\n",
    "            2**6 + 2**4 + 2**1 + 2**0 = 83.\n",
    "        </p>\n",
    "        <p>\n",
    "            À l'aide d'un parcours séquentiel, écrire la fonction <code>convertir</code> répondant aux spécifications suivantes :\n",
    "    </p>\n",
    "    </span>\n",
    "    <br/>\n",
    "<span style=\"font: 18px Courier New, sans-serif;\">\n",
    "            def convertir(T):<br/>\n",
    "            &emsp;&emsp;\"\"\"<br/>\n",
    "    <span style=\"display:inline-block; width: 36px;\"></span>T est un tableau d'entiers, dont les éléments sont 0 ou 1 et<br/>\n",
    "    <span style=\"display:inline-block; width: 36px;\"></span>représentant un entier écrit en binaire.<br/>\n",
    "    <span style=\"display:inline-block; width: 36px;\"></span>Renvoie l'entier positif dont la représentation binaire<br/>\n",
    "    <span style=\"display:inline-block; width: 36px;\"></span>est donnée par le tableau T<br/>\n",
    "            &emsp;&emsp;\"\"\"<br/>\n",
    "</span>\n",
    "<br/>\n",
    "<span style=\"font: 18px Courier New, sans-serif;\">\n",
    ">>> convertir([1, 0, 1, 0, 0, 1, 1])<br/>\n",
    "83<br/>\n",
    ">>> convertir([1, 0, 0, 0, 0, 0, 1, 0])<br/>\n",
    "130<br/>\n",
    "</span>\n",
    "</div>"
   ]
  },
  {
   "cell_type": "code",
   "execution_count": null,
   "metadata": {},
   "outputs": [],
   "source": []
  },
  {
   "cell_type": "markdown",
   "metadata": {},
   "source": [
    "<div style=\"font-family: Arial, Times, serif;\">\n",
    "    <h2 style=\"text-align:center\">EXERCICE 2 (4 points)</h2>\n",
    "<span style=\"font: 18px Arial, sans-serif;\">\n",
    "    <br/>\n",
    "    <p>\n",
    "        La fonction <code>tri_insertion</code> suivante prend en argument une liste <code>L</code> et trie cette liste en utilisant la méthode du tri par insertion. Compléter cette fonction pour qu'elle réponde à la spécification demandée.\n",
    "    </p>\n",
    "</span>\n",
    "<br/>\n",
    "<span style=\"font: 18px Courier New, sans-serif;\">\n",
    "            def tri_insertion(L):<br/>\n",
    "            <span style=\"display:inline-block; width: 36px;\"></span>n = len(L)<br/>\n",
    "            <br/>\n",
    "            &emsp;&emsp;# cas du tableau vide<br/>\n",
    "            &emsp;&emsp;if ...:<br/>\n",
    "            &emsp;&emsp;&emsp;&emsp;return L<br/>\n",
    "            <br/>\n",
    "            &emsp;&emsp;for j in range(1, n):<br/>\n",
    "            &emsp;&emsp;&emsp;&emsp;e = L[j]<br/>\n",
    "            &emsp;&emsp;&emsp;&emsp;i = j<br/>\n",
    "            <br/>\n",
    "            &emsp;&emsp;# A l'étape j, le sous-tableau L[0,j-1] est trié<br/>\n",
    "            &emsp;&emsp;# et on insère L[j] dans ce sous-tableau en déterminant<br/>\n",
    "            &emsp;&emsp;# le plus petit i tel que 0 <= i <= j et L[i-1] > L[j].<br/>\n",
    "            &emsp;&emsp;&emsp;&emsp;while i > 0 and L[i-1] > ...:<br/>\n",
    "            &emsp;&emsp;&emsp;&emsp;&emsp;&emsp;i = ...<br/>\n",
    "            <br/>\n",
    "            &emsp;&emsp;&emsp;&emsp;# si i != j, on décale le sous tableau L[i,j-1] d’un cran<br/>\n",
    "            &emsp;&emsp;&emsp;&emsp;# vers la droite et on place L[j] en position i<br/>\n",
    "            &emsp;&emsp;&emsp;&emsp;if i != j:<br/>\n",
    "            &emsp;&emsp;&emsp;&emsp;&emsp;&emsp;for k in range(j,i,...):<br/>\n",
    "            &emsp;&emsp;&emsp;&emsp;&emsp;&emsp;&emsp;&emsp;L[k] = L[...]<br/>\n",
    "            &emsp;&emsp;&emsp;&emsp;&emsp;&emsp;L[i] = ...<br/>\n",
    "            &emsp;&emsp;return L<br/>\n",
    "</span>\n",
    "<p style=\"font: 18px Arial, sans-serif;\">\n",
    "        <i>Exemples :</i>\n",
    "    </p>\n",
    "        <p style=\"padding:0 0 0 0px;font: 18px Courier New, sans-serif;\">\n",
    "            >>> tri_insertion([2, 5, -1, 7, 0, 28])<br/>\n",
    "            [-1, 0, 2, 5, 7, 28]<br/>\n",
    "            >>> tri_insertion([10, 9, 8, 7, 6, 5, 4, 3, 2, 1, 0])<br/>\n",
    "            [0, 1, 2, 3, 4, 5, 6, 7, 8, 9, 10]<br/>\n",
    "        </p>\n",
    "</div>"
   ]
  },
  {
   "cell_type": "code",
   "execution_count": null,
   "metadata": {},
   "outputs": [],
   "source": []
  },
  {
   "cell_type": "markdown",
   "metadata": {},
   "source": [
    "### Complément : contenu du fichier <code>.py</code> distribué avec le sujet"
   ]
  },
  {
   "cell_type": "code",
   "execution_count": 1,
   "metadata": {},
   "outputs": [],
   "source": [
    "def tri_insertion(L):\n",
    "    n = len(L)\n",
    "\n",
    "    # cas du tableau vide\n",
    "    if ...:\n",
    "        return L\n",
    "\n",
    "    for j in range(1,n):\n",
    "        e = L[j]\n",
    "        i = j\n",
    "\n",
    "    # A l'étape j, le sous-tableau L[0,j-1] est trié\n",
    "    # et on insère L[j] dans ce sous-tableau en déterminant\n",
    "    # le plus petit i tel que 0 <= i <= j et L[i-1] > L[j].\n",
    "        while  i > 0 and L[i-1] > ...:\n",
    "            i = ...\n",
    "        \n",
    "        # si i != j, on décale le sous tableau L[i,j-1] d’un cran\n",
    "        # vers la droite et on place L[j] en position i\n",
    "        if i != j:\n",
    "            for k in range(j,i,...):\n",
    "                L[k] = L[...]\n",
    "            L[i] = ...\n",
    "    return L"
   ]
  },
  {
   "cell_type": "code",
   "execution_count": null,
   "metadata": {},
   "outputs": [],
   "source": []
  },
  {
   "cell_type": "code",
   "execution_count": null,
   "metadata": {},
   "outputs": [],
   "source": []
  }
 ],
 "metadata": {
  "kernelspec": {
   "display_name": "Python 3",
   "language": "python",
   "name": "python3"
  },
  "language_info": {
   "codemirror_mode": {
    "name": "ipython",
    "version": 3
   },
   "file_extension": ".py",
   "mimetype": "text/x-python",
   "name": "python",
   "nbconvert_exporter": "python",
   "pygments_lexer": "ipython3",
   "version": "3.7.1"
  },
  "latex_envs": {
   "LaTeX_envs_menu_present": true,
   "autoclose": false,
   "autocomplete": true,
   "bibliofile": "biblio.bib",
   "cite_by": "apalike",
   "current_citInitial": 1,
   "eqLabelWithNumbers": true,
   "eqNumInitial": 1,
   "hotkeys": {
    "equation": "Ctrl-E",
    "itemize": "Ctrl-I"
   },
   "labels_anchors": false,
   "latex_user_defs": false,
   "report_style_numbering": false,
   "user_envs_cfg": false
  }
 },
 "nbformat": 4,
 "nbformat_minor": 4
}
