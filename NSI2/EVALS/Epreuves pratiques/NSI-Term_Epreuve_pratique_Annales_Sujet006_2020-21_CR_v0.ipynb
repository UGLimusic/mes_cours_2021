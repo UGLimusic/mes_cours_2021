{
 "cells": [
  {
   "cell_type": "markdown",
   "metadata": {},
   "source": [
    "<h1 style='text-align:center'>N.S.I. Term. - 2021.02.15 - Annales - sem20 (prn24)</h1>\n",
    "<h2 style='text-align:center'>Annales Épreuve Pratique 2020-21</h2>\n",
    "<h2 style='text-align:center'>Sujet 006 - corrigé</h2>"
   ]
  },
  {
   "cell_type": "markdown",
   "metadata": {},
   "source": [
    "* Cadrage officiel :  https://www.education.gouv.fr/bo/20/Special2/MENE2001797N.htm"
   ]
  },
  {
   "cell_type": "markdown",
   "metadata": {},
   "source": [
    "**Durée : 1 heure**<br/>\n",
    "<br/>\n",
    "<span style=\"color:blue;font-weight:900;font-family:Arial;font:20px Arial\">**Modalités**</span>\n",
    "<br/>\n",
    "<br/>\n",
    "<div style=\"font:16px Arial\">\n",
    "La partie pratique consiste en la résolution de deux exercices sur ordinateur, chacun étant noté sur 4 points.\n",
    "\n",
    "Le candidat est évalué sur la base d'un dialogue avec un professeur-examinateur. Un examinateur évalue au maximum quatre élèves. L'examinateur ne peut pas évaluer un élève qu'il a eu en classe durant l'année en cours.\n",
    "\n",
    "L'évaluation de cette partie se déroule au cours du deuxième trimestre pendant la période de l'épreuve écrite de spécialité.\n",
    "- **Premier exercice**\n",
    "\n",
    "Le premier exercice consiste à programmer un algorithme figurant explicitement au programme, ne présentant pas de difficulté particulière, dont on fournit une spécification. Il s'agit donc de restituer un algorithme rencontré et travaillé à plusieurs reprises en cours de formation. Le sujet peut proposer un jeu de test avec les réponses attendues pour permettre au candidat de vérifier son travail.\n",
    "\n",
    "- **Deuxième exercice**\n",
    "\n",
    "Pour le second exercice, un programme est fourni au candidat. Cet exercice ne demande pas l'écriture complète d'un programme, mais permet de valider des compétences de programmation suivant des modalités variées : le candidat doit, par exemple, compléter un programme « à trous » afin de répondre à une spécification donnée, ou encore compléter un programme pour le documenter, ou encore compléter un programme en ajoutant des assertions, *etc.*\n",
    "</div>"
   ]
  },
  {
   "cell_type": "markdown",
   "metadata": {},
   "source": [
    "<h2 style='text-align:center'>Sujet 006 - corrigé - v0</h2>"
   ]
  },
  {
   "cell_type": "markdown",
   "metadata": {},
   "source": [
    "https://www.education.gouv.fr/bo/20/Special2/MENE2001797N.htm"
   ]
  },
  {
   "cell_type": "markdown",
   "metadata": {},
   "source": [
    "**Durée 1 heure**  \n",
    "***Compte pour 8 points sur 20***"
   ]
  },
  {
   "cell_type": "markdown",
   "metadata": {},
   "source": [
    "<div style=\"font-family: \"Arial\", Times, serif;\">\n",
    "    <h2 style=\"text-align:center\">EXERCICE 1 (4 points)</h2>\n",
    "    <span style=\"font: 18px Arial, sans-serif;\">\n",
    "    <br/>\n",
    "    <p>\n",
    "    On s’intéresse au problème du rendu de monnaie. On suppose que l’on dispose d’un nombre infini de billets de 5 euros, de pièces de 2 euros et de pièces de 1 euro.\n",
    "        </p>\n",
    "        <p>\n",
    "        Le but est d’écrire une fonction nommée <code>rendu</code> dont le paramètre est un entier positif non nul <code>somme_a_rendre</code> et qui retourne une liste de trois entiers <code>n1</code>, <code>n2</code> et <code>n3</code> qui correspondent aux nombres de billets de 5 euros (<code>n1</code>) de pièces de 2 euros (<code>n2</code>) et de pièces de 1 euro (<code>n3</code>) à rendre afin que le total rendu soit égal à <code>somme_a_rendre</code>.\n",
    "        </p>\n",
    "        <p>\n",
    "On utilisera un algorithme glouton : on commencera par rendre le nombre maximal de billets de 5 euros, puis celui de pièces de 2 euros et enfin celui de pièces de 1 euro.\n",
    "        </p>\n",
    "        <p style=\"font: 18px Arial, sans-serif;\">\n",
    "        <i>Exemples :</i>\n",
    "        </p>\n",
    "        <p style=\"padding:0 0 0 0px;font: 18px Courier New, sans-serif;\">\n",
    "            >>> rendu(13)<br/>\n",
    "            [2, 1, 1]<br/>\n",
    "            >>> rendu(64)<br/>\n",
    "            [12, 2, 0]<br/>\n",
    "            >>> rendu(89)<br/>\n",
    "            [17, 2, 0]\n",
    "        </p>\n",
    "</div>\n",
    "</span>\n",
    "</div>"
   ]
  },
  {
   "cell_type": "code",
   "execution_count": null,
   "metadata": {},
   "outputs": [],
   "source": []
  },
  {
   "cell_type": "markdown",
   "metadata": {},
   "source": [
    "### Corrigé"
   ]
  },
  {
   "cell_type": "code",
   "execution_count": 1,
   "metadata": {},
   "outputs": [],
   "source": [
    "def rendu(somme_a_rendre):\n",
    "    n1 = somme_a_rendre // 5\n",
    "    somme_a_rendre = somme_a_rendre % 5\n",
    "    n2 = somme_a_rendre // 2\n",
    "    somme_a_rendre = somme_a_rendre % 2\n",
    "    n3 = somme_a_rendre\n",
    "    return [n1, n2, n3]"
   ]
  },
  {
   "cell_type": "markdown",
   "metadata": {},
   "source": [
    "$\\checkmark\\;$ tests"
   ]
  },
  {
   "cell_type": "code",
   "execution_count": 2,
   "metadata": {},
   "outputs": [
    {
     "data": {
      "text/plain": [
       "[2, 1, 1]"
      ]
     },
     "execution_count": 2,
     "metadata": {},
     "output_type": "execute_result"
    }
   ],
   "source": [
    "rendu(13)"
   ]
  },
  {
   "cell_type": "code",
   "execution_count": 3,
   "metadata": {},
   "outputs": [
    {
     "data": {
      "text/plain": [
       "[12, 2, 0]"
      ]
     },
     "execution_count": 3,
     "metadata": {},
     "output_type": "execute_result"
    }
   ],
   "source": [
    "rendu(64)"
   ]
  },
  {
   "cell_type": "code",
   "execution_count": 4,
   "metadata": {},
   "outputs": [
    {
     "data": {
      "text/plain": [
       "[17, 2, 0]"
      ]
     },
     "execution_count": 4,
     "metadata": {},
     "output_type": "execute_result"
    }
   ],
   "source": [
    "rendu(89)"
   ]
  },
  {
   "cell_type": "markdown",
   "metadata": {},
   "source": [
    "<div style=\"font-family: Arial, Times, serif;\">\n",
    "    <h2 style=\"text-align:center\">EXERCICE 2 (4 points)</h2>\n",
    "<span style=\"font: 18px Arial, sans-serif;\">\n",
    "    <br/>\n",
    "    <p>\n",
    "        On veut écrire une classe pour gérer une file à l’aide d’une liste chaînée. On dispose d’une classe <code>Maillon</code> permettant la création d’un maillon de la chaîne, celui-ci étant constitué d’une valeur et d’une référence au maillon suivant de la chaîne :\n",
    "    </p>\n",
    "</span>\n",
    "<br/>\n",
    "<span style=\"font: 18px Courier New, sans-serif;\">\n",
    "            class Maillon :<br/>\n",
    "            <span style=\"display:inline-block; width: 36px;\"></span>def __init__(self, v, s):<br/>\n",
    "            &emsp;&emsp;&emsp;&emsp;self.valeur = v<br/>\n",
    "            &emsp;&emsp;&emsp;&emsp;self.suivant = s<br/>\n",
    "</span>\n",
    "<br/>\n",
    "<span style=\"font: 18px Arial, sans-serif;\">\n",
    "<p>\n",
    "    Compléter la classe <code>File</code> suivante où l’attribut <code>dernier_file</code> contient le maillon correspondant à l’élément arrivé en dernier dans la file :\n",
    "    </p>\n",
    "</span>\n",
    "<br/>\n",
    "<span style=\"font: 18px Courier New, sans-serif;\">\n",
    "            class File :<br/>\n",
    "            <span style=\"display:inline-block; width: 36px;\"></span>def __init__(self):<br/>\n",
    "            &emsp;&emsp;&emsp;&emsp;self.dernier_file = None<br/>\n",
    "            <br/>\n",
    "            &emsp;&emsp;def enfile(self, element):<br/>\n",
    "            &emsp;&emsp;&emsp;&emsp;nouveau_maillon = Maillon(... , self.dernier_file)<br/>\n",
    "            &emsp;&emsp;&emsp;&emsp;self.dernier_file = ...<br/>\n",
    "            <br/>\n",
    "            &emsp;&emsp;def est_vide(self):<br/>\n",
    "            &emsp;&emsp;&emsp;&emsp;return self.dernier_file == None<br/>\n",
    "            <br/>\n",
    "            &emsp;&emsp;def affiche(self):<br/>\n",
    "            &emsp;&emsp;&emsp;&emsp;maillon = self.dernier_file<br/>\n",
    "            &emsp;&emsp;&emsp;&emsp;while maillon != ... :<br/>\n",
    "            &emsp;&emsp;&emsp;&emsp;&emsp;&emsp;print(maillon.valeur)<br/>\n",
    "            &emsp;&emsp;&emsp;&emsp;&emsp;&emsp;maillon = ...<br/>\n",
    "            <br/>\n",
    "            &emsp;&emsp;def defile(self):<br/>\n",
    "            &emsp;&emsp;&emsp;&emsp;if not self.est_vide():<br/>\n",
    "            &emsp;&emsp;&emsp;&emsp;&emsp;&emsp;if self.dernier_file.suivant == None:<br/>\n",
    "            &emsp;&emsp;&emsp;&emsp;&emsp;&emsp;&emsp;&emsp;resultat = self.dernier_file.valeur<br/>\n",
    "            &emsp;&emsp;&emsp;&emsp;&emsp;&emsp;&emsp;&emsp;self.dernier_file = None<br/>\n",
    "            &emsp;&emsp;&emsp;&emsp;&emsp;&emsp;&emsp;&emsp;return resultat<br/>\n",
    "            &emsp;&emsp;&emsp;&emsp;&emsp;&emsp;maillon = ...<br/>\n",
    "            &emsp;&emsp;&emsp;&emsp;&emsp;&emsp;while maillon.suivant.suivant != None:<br/>\n",
    "            &emsp;&emsp;&emsp;&emsp;&emsp;&emsp;&emsp;&emsp;maillon = maillon.suivant<br/>\n",
    "            &emsp;&emsp;&emsp;&emsp;&emsp;&emsp;resultat = ...<br/>\n",
    "            &emsp;&emsp;&emsp;&emsp;&emsp;&emsp;maillon.suivant = None<br/>\n",
    "            &emsp;&emsp;&emsp;&emsp;&emsp;&emsp;return resultat<br/>\n",
    "            &emsp;&emsp;&emsp;&emsp;return None<br/>\n",
    "</span>\n",
    "    <br/>\n",
    "<span style=\"font: 18px Arial, sans-serif;\">\n",
    "<p>\n",
    "    On pourra tester le fonctionnement de la classe en utilisant les commandes suivantes dans la console Python :\n",
    "    </p>\n",
    "</span>\n",
    "<p style=\"padding:0 0 0 0px;font: 18px Courier New, sans-serif;\">\n",
    ">>> F = File()<br/>\n",
    ">>> F.est_vide()<br/>\n",
    "True<br/>\n",
    ">>> F.enfile(2)<br/>\n",
    ">>> F.affiche()<br/>\n",
    "2<br/>\n",
    ">>> F.est_vide()<br/>\n",
    "False<br/>\n",
    ">>> F.enfile(5)<br/>\n",
    ">>> F.enfile(7)<br/>\n",
    ">>> F.affiche()<br/>\n",
    "7<br/>\n",
    "5<br/>\n",
    "2<br/>\n",
    ">>> F.defile()<br/>\n",
    "2<br/>\n",
    ">>> F.defile()<br/>\n",
    "5<br/>\n",
    ">>> F.affiche()<br/>\n",
    "7<br/>\n",
    "</p>\n",
    "</div>"
   ]
  },
  {
   "cell_type": "code",
   "execution_count": null,
   "metadata": {},
   "outputs": [],
   "source": []
  },
  {
   "cell_type": "markdown",
   "metadata": {},
   "source": [
    "### Complément : contenu du fichier <code>.py</code> distribué avec le sujet"
   ]
  },
  {
   "cell_type": "code",
   "execution_count": 5,
   "metadata": {},
   "outputs": [],
   "source": [
    "class Maillon :\n",
    "    def __init__(self, v, s) :\n",
    "        self.valeur = v\n",
    "        self.suivant = s\n",
    "\n",
    "class File :\n",
    "    def __init__(self) :\n",
    "        self.dernier_file = None\n",
    "\n",
    "    def enfile(self, element) :\n",
    "        nouveau_maillon = Maillon(... , self.dernier_file)\n",
    "        self.dernier_file = ...\n",
    "\n",
    "    def est_vide(self) :\n",
    "        return self.dernier_file == None\n",
    "\n",
    "    def affiche(self) :\n",
    "        maillon = self.dernier_file\n",
    "        while maillon != ... :\n",
    "            print(maillon.valeur)\n",
    "            maillon = ...\n",
    "\n",
    "    def defile(self) :\n",
    "        if not self.est_vide() :\n",
    "            if self.dernier_file.suivant == None :\n",
    "                resultat = self.dernier_file.valeur\n",
    "                self.dernier_file = None\n",
    "                return resultat\n",
    "            maillon = ...\n",
    "            while maillon.suivant.suivant != None :\n",
    "                maillon = maillon.suivant\n",
    "            resultat = ...\n",
    "            maillon.suivant = None\n",
    "            return resultat\n",
    "        return None"
   ]
  },
  {
   "cell_type": "code",
   "execution_count": null,
   "metadata": {},
   "outputs": [],
   "source": []
  },
  {
   "cell_type": "markdown",
   "metadata": {},
   "source": [
    "### Corrigé"
   ]
  },
  {
   "cell_type": "markdown",
   "metadata": {},
   "source": [
    "On doit garder à l'esprit que l'attribut <code>dernier_file</code> contient le maillon correspondant au dernier élément arrivé dans la file.  \n",
    "Il doit être clair également que si l'ajout d'un élément à la file sera en temps constant, en revanche **le retrait d'un élément de la file se fera en temps linéaire** (proportionnel au nombre d'éléments dans la file), faute d'avoir un second attribut <code>premier_file</code>, contenant une référence au maillon présent depuis le plus longtemps dans la file."
   ]
  },
  {
   "cell_type": "code",
   "execution_count": 6,
   "metadata": {},
   "outputs": [],
   "source": [
    "class Maillon :\n",
    "    def __init__(self, v, s) :\n",
    "        self.valeur = v\n",
    "        self.suivant = s\n",
    "\n",
    "class File :\n",
    "    def __init__(self) :\n",
    "        self.dernier_file = None\n",
    "\n",
    "    def enfile(self, element) :\n",
    "        nouveau_maillon = Maillon(element , self.dernier_file) ## on créé un nouveau maillon contenant la valeur, \n",
    "                                                               ## notée \"element\", à ajouter à la file\n",
    "        self.dernier_file = nouveau_maillon ## ce maillon devient le dernier maillon de la file\n",
    "\n",
    "    def est_vide(self) :\n",
    "        return self.dernier_file == None\n",
    "\n",
    "    def affiche(self) :\n",
    "        maillon = self.dernier_file\n",
    "        while maillon != None :   ## tant que l'on n'a pas déjà affiché l'élément le plus ancien dans la file\n",
    "            print(maillon.valeur) ## on affiche la valeur du maillon atteint\n",
    "            maillon = maillon.suivant ## on passe au maillon suivant (plus ancien dans la file)\n",
    "\n",
    "    def defile(self) : ## on doit remonter la file depuis le dernier élément ajouté jusqu'au plus ancien ajouté\n",
    "        if not self.est_vide() : ## sauf si la file est vide\n",
    "            if self.dernier_file.suivant == None : ## si la file ne contient qu'un élément\n",
    "                resultat = self.dernier_file.valeur ## on note sauvegarde sa valeur sous le nom \"resultat\"\n",
    "                self.dernier_file = None ## on supprime l'unique maillon de la file\n",
    "                return resultat\n",
    "            maillon = self.dernier_file ## si la file contient plus d'un élément\n",
    "            while maillon.suivant.suivant != None : ## on teste si ce maillon est le second plus ancien\n",
    "                maillon = maillon.suivant## tant que le maillon atteint n'est pas le second plus ancien,\n",
    "                                         ## on passe au suivant\n",
    "            resultat = maillon.suivant.valeur ## on sauvegarde la valeur du plus ancien\n",
    "            maillon.suivant = None ## on supprime la référence au maillon le plus ancien en la remplaçant par None\n",
    "                                   ## au niveau du second maillon le plus ancien\n",
    "            return resultat ## on renvoie la valeur du maillon qui était le plus ancien dans la file\n",
    "        return None ## si la file est vide, la fonction renvoie None"
   ]
  },
  {
   "cell_type": "markdown",
   "metadata": {},
   "source": [
    "$\\checkmark\\;$ tests"
   ]
  },
  {
   "cell_type": "code",
   "execution_count": 7,
   "metadata": {},
   "outputs": [
    {
     "data": {
      "text/plain": [
       "True"
      ]
     },
     "execution_count": 7,
     "metadata": {},
     "output_type": "execute_result"
    }
   ],
   "source": [
    "F = File()\n",
    "F.est_vide()"
   ]
  },
  {
   "cell_type": "code",
   "execution_count": 8,
   "metadata": {},
   "outputs": [
    {
     "name": "stdout",
     "output_type": "stream",
     "text": [
      "2\n"
     ]
    }
   ],
   "source": [
    "F.enfile(2)\n",
    "F.affiche()"
   ]
  },
  {
   "cell_type": "code",
   "execution_count": 9,
   "metadata": {},
   "outputs": [
    {
     "name": "stdout",
     "output_type": "stream",
     "text": [
      "7\n",
      "5\n",
      "2\n"
     ]
    }
   ],
   "source": [
    "F.enfile(5)\n",
    "F.enfile(7)\n",
    "F.affiche()"
   ]
  },
  {
   "cell_type": "code",
   "execution_count": 10,
   "metadata": {},
   "outputs": [
    {
     "data": {
      "text/plain": [
       "2"
      ]
     },
     "execution_count": 10,
     "metadata": {},
     "output_type": "execute_result"
    }
   ],
   "source": [
    "F.defile()"
   ]
  },
  {
   "cell_type": "code",
   "execution_count": 11,
   "metadata": {},
   "outputs": [
    {
     "data": {
      "text/plain": [
       "5"
      ]
     },
     "execution_count": 11,
     "metadata": {},
     "output_type": "execute_result"
    }
   ],
   "source": [
    "F.defile()"
   ]
  },
  {
   "cell_type": "code",
   "execution_count": 12,
   "metadata": {},
   "outputs": [
    {
     "name": "stdout",
     "output_type": "stream",
     "text": [
      "7\n"
     ]
    }
   ],
   "source": [
    "F.affiche()"
   ]
  },
  {
   "cell_type": "code",
   "execution_count": 13,
   "metadata": {},
   "outputs": [
    {
     "data": {
      "text/plain": [
       "7"
      ]
     },
     "execution_count": 13,
     "metadata": {},
     "output_type": "execute_result"
    }
   ],
   "source": [
    "F.defile()"
   ]
  },
  {
   "cell_type": "code",
   "execution_count": 14,
   "metadata": {},
   "outputs": [],
   "source": [
    "F.affiche()"
   ]
  },
  {
   "cell_type": "code",
   "execution_count": null,
   "metadata": {},
   "outputs": [],
   "source": []
  }
 ],
 "metadata": {
  "kernelspec": {
   "display_name": "Python 3",
   "language": "python",
   "name": "python3"
  },
  "language_info": {
   "codemirror_mode": {
    "name": "ipython",
    "version": 3
   },
   "file_extension": ".py",
   "mimetype": "text/x-python",
   "name": "python",
   "nbconvert_exporter": "python",
   "pygments_lexer": "ipython3",
   "version": "3.7.1"
  },
  "latex_envs": {
   "LaTeX_envs_menu_present": true,
   "autoclose": false,
   "autocomplete": true,
   "bibliofile": "biblio.bib",
   "cite_by": "apalike",
   "current_citInitial": 1,
   "eqLabelWithNumbers": true,
   "eqNumInitial": 1,
   "hotkeys": {
    "equation": "Ctrl-E",
    "itemize": "Ctrl-I"
   },
   "labels_anchors": false,
   "latex_user_defs": false,
   "report_style_numbering": false,
   "user_envs_cfg": false
  }
 },
 "nbformat": 4,
 "nbformat_minor": 4
}
