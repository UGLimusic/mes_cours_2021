{
 "cells": [
  {
   "cell_type": "markdown",
   "metadata": {},
   "source": [
    "<h1 style='text-align:center'>N.S.I. Term. - 2021.02.15 - Annales - sem20 (prn24)</h1>\n",
    "<h2 style='text-align:center'>Annales Épreuve Pratique 2020-21</h2>\n",
    "<h2 style='text-align:center'>Sujet 015 - énoncé</h2>"
   ]
  },
  {
   "cell_type": "markdown",
   "metadata": {},
   "source": [
    "* Cadrage officiel :  https://www.education.gouv.fr/bo/20/Special2/MENE2001797N.htm"
   ]
  },
  {
   "cell_type": "markdown",
   "metadata": {},
   "source": [
    "**Durée : 1 heure**<br/>\n",
    "<br/>\n",
    "<span style=\"color:blue;font-weight:900;font-family:Arial;font:20px Arial\">**Modalités**</span>\n",
    "<br/>\n",
    "<br/>\n",
    "<div style=\"font:16px Arial\">\n",
    "La partie pratique consiste en la résolution de deux exercices sur ordinateur, chacun étant noté sur 4 points.\n",
    "\n",
    "Le candidat est évalué sur la base d'un dialogue avec un professeur-examinateur. Un examinateur évalue au maximum quatre élèves. L'examinateur ne peut pas évaluer un élève qu'il a eu en classe durant l'année en cours.\n",
    "\n",
    "L'évaluation de cette partie se déroule au cours du deuxième trimestre pendant la période de l'épreuve écrite de spécialité.\n",
    "- **Premier exercice**\n",
    "\n",
    "Le premier exercice consiste à programmer un algorithme figurant explicitement au programme, ne présentant pas de difficulté particulière, dont on fournit une spécification. Il s'agit donc de restituer un algorithme rencontré et travaillé à plusieurs reprises en cours de formation. Le sujet peut proposer un jeu de test avec les réponses attendues pour permettre au candidat de vérifier son travail.\n",
    "\n",
    "- **Deuxième exercice**\n",
    "\n",
    "Pour le second exercice, un programme est fourni au candidat. Cet exercice ne demande pas l'écriture complète d'un programme, mais permet de valider des compétences de programmation suivant des modalités variées : le candidat doit, par exemple, compléter un programme « à trous » afin de répondre à une spécification donnée, ou encore compléter un programme pour le documenter, ou encore compléter un programme en ajoutant des assertions, *etc.*\n",
    "</div>"
   ]
  },
  {
   "cell_type": "markdown",
   "metadata": {},
   "source": [
    "<h2 style='text-align:center'>Sujet 015 - énoncé - v0</h2>"
   ]
  },
  {
   "cell_type": "markdown",
   "metadata": {},
   "source": [
    "https://www.education.gouv.fr/bo/20/Special2/MENE2001797N.htm"
   ]
  },
  {
   "cell_type": "markdown",
   "metadata": {},
   "source": [
    "**Durée 1 heure**  \n",
    "***Compte pour 8 points sur 20***"
   ]
  },
  {
   "cell_type": "markdown",
   "metadata": {},
   "source": [
    "<div style=\"font-family: \"Arial\", Times, serif;\">\n",
    "<h2 style=\"text-align:center\">EXERCICE 1 (4 points)</h2>\n",
    "<span style=\"font: 18px Arial, sans-serif;\">\n",
    "<br/>\n",
    "\n",
    "<p>\n",
    "    Écrire une fonction <code>RechercheMinMax</code> qui prend en paramètre un tableau de nombres non triés <code>tab</code>, et qui renvoie la plus petite et la plus grande valeur du tableau sous la forme d’un dictionnaire à deux clés <code>'min'</code> et <code>'max'</code>. Les tableaux seront représentés sous forme de liste Python.\n",
    "</p>\n",
    "<br/>\n",
    "<p style=\"font: 18px Arial, sans-serif;\">\n",
    "<i>Exemples :</i>\n",
    "</p>\n",
    "<p style=\"padding:0 0 0 0px;font: 18px Courier New, sans-serif;\">\n",
    ">>> tableau = [0, 1, 4, 2, -2, 9, 3, 1, 7, 1]<br/>\n",
    ">>> resultat = rechercheMinMax(tableau)<br/>\n",
    ">>> resultat<br/>\n",
    "{'min': -2, 'max': 9}<br/>\n",
    "    <br/>\n",
    "    <br/>\n",
    ">>> tableau = []<br/>\n",
    ">>> resultat = rechercheMinMax(tableau)<br/>\n",
    ">>> resultat<br/>\n",
    "{'min': None, 'max': None}<br/>\n",
    "</p>\n",
    "</div>\n",
    "</span>\n",
    "</div>"
   ]
  },
  {
   "cell_type": "code",
   "execution_count": null,
   "metadata": {},
   "outputs": [],
   "source": []
  },
  {
   "cell_type": "markdown",
   "metadata": {},
   "source": [
    "<div style=\"font-family: Arial, Times, serif;\">\n",
    "<h2 style=\"text-align:center\">EXERCICE 2 (4 points)</h2>\n",
    "<span style=\"font: 18px Arial, sans-serif;\">\n",
    "<br/>\n",
    "<p>\n",
    "On dispose d’un programme permettant de créer un objet de type <code>PaquetDeCarte</code>, selon les éléments indiqués dans le code ci-dessous.\n",
    "</p>\n",
    "<p>Compléter ce code aux endroits indiqués par <code>#A compléter</code>, puis ajouter des assertions dans l’initialiseur de <code>Carte</code>, ainsi que dans la méthode <code>getCarteAt()</code>.\n",
    "    </p>\n",
    "</span>\n",
    "<br/>\n",
    "<span style=\"font: 18px Courier New, sans-serif;\">\n",
    "class Carte:<br/>\n",
    "<span style=\"display:inline-block; width: 36px;\"></span>def __init__(self, c, v):<br/>\n",
    "&emsp;&emsp;&emsp;&emsp;\"\"\"Initialise Couleur (entre 1 à 4), et Valeur (entre 1 à 13)\"\"\"<br/>\n",
    "&emsp;&emsp;&emsp;&emsp;self.Couleur = c<br/>\n",
    "&emsp;&emsp;&emsp;&emsp;self.Valeur = v<br/>\n",
    "<br/>\n",
    "&emsp;&emsp;def getNom(self):<br/>\n",
    "&emsp;&emsp;&emsp;&emsp;\"\"\"Renvoie le nom de la Carte As, 2, ... 10, Valet, Dame, Roi\"\"\"<br/>\n",
    "&emsp;&emsp;&emsp;&emsp;if (self.Valeur > 1 and self.Valeur < 11):<br/>\n",
    "&emsp;&emsp;&emsp;&emsp;&emsp;&emsp;return str(self.Valeur)<br/>\n",
    "&emsp;&emsp;&emsp;&emsp;elif self.Valeur == 11:<br/>\n",
    "&emsp;&emsp;&emsp;&emsp;&emsp;&emsp;return \"Valet\"<br/>\n",
    "&emsp;&emsp;&emsp;&emsp;elif self.Valeur == 12:<br/>\n",
    "&emsp;&emsp;&emsp;&emsp;&emsp;&emsp;return \"Dame\"<br/>\n",
    "&emsp;&emsp;&emsp;&emsp;elif self.Valeur == 13:<br/>\n",
    "&emsp;&emsp;&emsp;&emsp;&emsp;&emsp;return \"Roi\"<br/>\n",
    "&emsp;&emsp;&emsp;&emsp;else:<br/>\n",
    "&emsp;&emsp;&emsp;&emsp;&emsp;&emsp;return \"As\"<br/>\n",
    "<br/>\n",
    "&emsp;&emsp;def getCouleur(self):<br/>\n",
    "&emsp;&emsp;&emsp;&emsp;\"\"\"Renvoie la couleur de la Carte (parmi pique, coeur, carreau, trefle\"\"\"<br/>\n",
    "&emsp;&emsp;&emsp;&emsp;return ['pique', 'coeur', 'carreau', 'trefle'][self.Couleur - 1]<br/>\n",
    "<br/>\n",
    "class PaquetDeCarte:<br/>\n",
    "&emsp;&emsp;def __init__(self):<br/>\n",
    "&emsp;&emsp;&emsp;&emsp;self.contenu = []<br/>\n",
    "<br/>\n",
    "&emsp;&emsp;def remplir(self):<br/>\n",
    "&emsp;&emsp;&emsp;&emsp;\"\"\"Remplit le paquet de cartes\"\"\"<br/>\n",
    "&emsp;&emsp;&emsp;&emsp;#A compléter<br/>\n",
    "<br/>\n",
    "&emsp;&emsp;def getCarteAt(self, pos):<br/>\n",
    "&emsp;&emsp;&emsp;&emsp;\"\"\"Renvoie la Carte qui se trouve à la position donnée\"\"\"<br/>\n",
    "&emsp;&emsp;&emsp;&emsp;#A compléter<br/>\n",
    "</span>\n",
    "    <p style=\"font: 18px Arial, sans-serif;\">\n",
    "<br/><i>Exemple :</i>\n",
    "</p>\n",
    "<p style=\"padding:0 0 0 0px;font: 18px Courier New, sans-serif;\">\n",
    ">>> unPaquet = PaquetDeCarte()<br/>\n",
    ">>> unPaquet.remplir()<br/>\n",
    ">>> uneCarte = unPaquet.getCarteAt(20)<br/>\n",
    ">>> print(uneCarte.getNom() + \" de \" + uneCarte.getCouleur())<br/>\n",
    "7 de coeur<br/>\n",
    "</p>\n",
    "</div>"
   ]
  },
  {
   "cell_type": "code",
   "execution_count": null,
   "metadata": {},
   "outputs": [],
   "source": []
  },
  {
   "cell_type": "markdown",
   "metadata": {},
   "source": [
    "### Complément : contenu du fichier <code>.py</code> distribué avec le sujet"
   ]
  },
  {
   "cell_type": "code",
   "execution_count": 1,
   "metadata": {},
   "outputs": [],
   "source": [
    "class Carte:\n",
    "    def __init__(self, c, v):\n",
    "        \"\"\"Initialise Couleur (entre 1 à 4), et Valeur (entre 1 à 13)\"\"\"\n",
    "        self.Couleur = c\n",
    "        self.Valeur = v\n",
    "    \n",
    "    def getNom(self):\n",
    "        \"\"\"Renvoie le nom de la Carte As, 2, ... 10, Valet, Dame, Roi\"\"\"\n",
    "        if (self.Valeur > 1 and self.Valeur < 11):\n",
    "            return str(self.Valeur)\n",
    "        elif self.Valeur == 11:\n",
    "            return \"Valet\"\n",
    "        elif self.Valeur == 12:\n",
    "            return \"Dame\"\n",
    "        elif self.Valeur == 13:\n",
    "            return \"Roi\"\n",
    "        else:\n",
    "            return \"As\"\n",
    "\n",
    "    def getCouleur(self):\n",
    "        \"\"\"Renvoie la couleur de la Carte (parmi pique, coeur, carreau, trefle\"\"\"\n",
    "        return ['pique', 'coeur', 'carreau', 'trefle'][self.Couleur - 1]\n",
    "\n",
    "class PaquetDeCarte:\n",
    "    def __init__(self):\n",
    "        self.contenu = []\n",
    "    \n",
    "    def remplir(self):\n",
    "        \"\"\"Remplit le paquet de cartes\"\"\"\n",
    "        #A compléter\n",
    "    \n",
    "    def getCarteAt(self, pos):\n",
    "        \"\"\"Renvoie la Carte qui se trouve à la position donnée\"\"\"\n",
    "        #A compléter"
   ]
  },
  {
   "cell_type": "code",
   "execution_count": null,
   "metadata": {},
   "outputs": [],
   "source": []
  }
 ],
 "metadata": {
  "kernelspec": {
   "display_name": "Python 3",
   "language": "python",
   "name": "python3"
  },
  "language_info": {
   "codemirror_mode": {
    "name": "ipython",
    "version": 3
   },
   "file_extension": ".py",
   "mimetype": "text/x-python",
   "name": "python",
   "nbconvert_exporter": "python",
   "pygments_lexer": "ipython3",
   "version": "3.7.1"
  },
  "latex_envs": {
   "LaTeX_envs_menu_present": true,
   "autoclose": false,
   "autocomplete": true,
   "bibliofile": "biblio.bib",
   "cite_by": "apalike",
   "current_citInitial": 1,
   "eqLabelWithNumbers": true,
   "eqNumInitial": 1,
   "hotkeys": {
    "equation": "Ctrl-E",
    "itemize": "Ctrl-I"
   },
   "labels_anchors": false,
   "latex_user_defs": false,
   "report_style_numbering": false,
   "user_envs_cfg": false
  }
 },
 "nbformat": 4,
 "nbformat_minor": 4
}
