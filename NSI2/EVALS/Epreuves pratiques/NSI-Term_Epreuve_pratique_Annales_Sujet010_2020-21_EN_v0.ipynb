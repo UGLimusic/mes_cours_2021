{
 "cells": [
  {
   "cell_type": "markdown",
   "metadata": {},
   "source": [
    "<h1 style='text-align:center'>N.S.I. Term. - 2021.02.15 - Annales - sem20 (prn24)</h1>\n",
    "<h2 style='text-align:center'>Annales Épreuve Pratique 2020-21</h2>\n",
    "<h2 style='text-align:center'>Sujet 010 - énoncé</h2>"
   ]
  },
  {
   "cell_type": "markdown",
   "metadata": {},
   "source": [
    "* Cadrage officiel :  https://www.education.gouv.fr/bo/20/Special2/MENE2001797N.htm"
   ]
  },
  {
   "cell_type": "markdown",
   "metadata": {},
   "source": [
    "**Durée : 1 heure**<br/>\n",
    "<br/>\n",
    "<span style=\"color:blue;font-weight:900;font-family:Arial;font:20px Arial\">**Modalités**</span>\n",
    "<br/>\n",
    "<br/>\n",
    "<div style=\"font:16px Arial\">\n",
    "La partie pratique consiste en la résolution de deux exercices sur ordinateur, chacun étant noté sur 4 points.\n",
    "\n",
    "Le candidat est évalué sur la base d'un dialogue avec un professeur-examinateur. Un examinateur évalue au maximum quatre élèves. L'examinateur ne peut pas évaluer un élève qu'il a eu en classe durant l'année en cours.\n",
    "\n",
    "L'évaluation de cette partie se déroule au cours du deuxième trimestre pendant la période de l'épreuve écrite de spécialité.\n",
    "- **Premier exercice**\n",
    "\n",
    "Le premier exercice consiste à programmer un algorithme figurant explicitement au programme, ne présentant pas de difficulté particulière, dont on fournit une spécification. Il s'agit donc de restituer un algorithme rencontré et travaillé à plusieurs reprises en cours de formation. Le sujet peut proposer un jeu de test avec les réponses attendues pour permettre au candidat de vérifier son travail.\n",
    "\n",
    "- **Deuxième exercice**\n",
    "\n",
    "Pour le second exercice, un programme est fourni au candidat. Cet exercice ne demande pas l'écriture complète d'un programme, mais permet de valider des compétences de programmation suivant des modalités variées : le candidat doit, par exemple, compléter un programme « à trous » afin de répondre à une spécification donnée, ou encore compléter un programme pour le documenter, ou encore compléter un programme en ajoutant des assertions, *etc.*\n",
    "</div>"
   ]
  },
  {
   "cell_type": "markdown",
   "metadata": {},
   "source": [
    "<h2 style='text-align:center'>Sujet 010 - énoncé - v0</h2>"
   ]
  },
  {
   "cell_type": "markdown",
   "metadata": {},
   "source": [
    "https://www.education.gouv.fr/bo/20/Special2/MENE2001797N.htm"
   ]
  },
  {
   "cell_type": "markdown",
   "metadata": {},
   "source": [
    "**Durée 1 heure**  \n",
    "***Compte pour 8 points sur 20***"
   ]
  },
  {
   "cell_type": "markdown",
   "metadata": {},
   "source": [
    "<div style=\"font-family: \"Arial\", Times, serif;\">\n",
    "<h2 style=\"text-align:center\">EXERCICE 1 (4 points)</h2>\n",
    "<span style=\"font: 18px Arial, sans-serif;\">\n",
    "<br/>\n",
    "\n",
    "<p>\n",
    "    Écrire une fonction <code>maxi</code> qui prend en paramètre une liste <code>tab</code>, supposée non vide, de nombres entiers et renvoie un couple donnant le plus grand élément de cette liste, ainsi que l’indice de la première apparition de ce maximum dans la liste.\n",
    "</p>\n",
    "<p style=\"font: 18px Arial, sans-serif;\">\n",
    "<i>Exemple :</i>\n",
    "</p>\n",
    "<p style=\"padding:0 0 0 0px;font: 18px Courier New, sans-serif;\">\n",
    ">>> maxi([1, 5, 6, 9, 1, 2, 3, 7, 9, 8])<br/>\n",
    "(9, 3)<br/>\n",
    "</p>\n",
    "</div>\n",
    "</span>\n",
    "</div>"
   ]
  },
  {
   "cell_type": "code",
   "execution_count": null,
   "metadata": {},
   "outputs": [],
   "source": []
  },
  {
   "cell_type": "markdown",
   "metadata": {},
   "source": [
    "<div style=\"font-family: Arial, Times, serif;\">\n",
    "<h2 style=\"text-align:center\">EXERCICE 2 (4 points)</h2>\n",
    "<span style=\"font: 18px Arial, sans-serif;\">\n",
    "<br/>\n",
    "<p>\n",
    "Cet exercice utilise des piles qui seront représentées en Python par des listes (type <code>list</code>). On rappelle que l’expression <code>T1 = list(T)</code> fait une copie de <code>T</code> indépendante de <code>T</code>, que l’expression <code>x = T.pop()</code> enlève le sommet de la pile <code>T</code> et le place dans la variable <code>x</code> et, enfin, que l’expression <code>T.append(v)</code> place la valeur <code>v</code> au sommet de la pile <code>T</code>.\n",
    "</p>\n",
    "<p>\n",
    "Compléter le code Python de la fonction <code>positif</code> ci-dessous qui prend une pile <code>T</code> de nombres entiers en paramètre et qui renvoie la pile des entiers positifs présents dans <code>T</code>, dans le même ordre, sans modifier la variable <code>T</code>.\n",
    "</p>\n",
    "</span>\n",
    "<br/>\n",
    "<br/>\n",
    "<span style=\"font: 18px Courier New, sans-serif;\">\n",
    "def positif(T):<br/>\n",
    "<span style=\"display:inline-block; width: 36px;\"></span>T2 = ...(T)<br/>\n",
    "&emsp;&emsp;T3 = ...<br/>\n",
    "&emsp;&emsp;while T2 != []:<br/>\n",
    "&emsp;&emsp;&emsp;&emsp;x = ...<br/>\n",
    "&emsp;&emsp;&emsp;&emsp;if ... >= 0:<br/>\n",
    "&emsp;&emsp;&emsp;&emsp;&emsp;&emsp;T3.append(...)<br/>\n",
    "&emsp;&emsp;T2 = []<br/>\n",
    "&emsp;&emsp;while T3 != ...:<br/>\n",
    "&emsp;&emsp;&emsp;&emsp;x = T3.pop()<br/>\n",
    "&emsp;&emsp;&emsp;&emsp;...<br/>\n",
    "&emsp;&emsp;print('T = ', T)<br/>\n",
    "&emsp;&emsp;return T2<br/>\n",
    "</span>\n",
    "<br/>\n",
    "<p style=\"font: 18px Arial, sans-serif;\">\n",
    "<i>Exemple :</i>\n",
    "</p>\n",
    "<p style=\"padding:0 0 0 0px;font: 18px Courier New, sans-serif;\">\n",
    ">>> positif([-1, 0, 5, -3, 4, -6, 10, 9, -8])<br/>\n",
    "T = [-1, 0, 5, -3, 4, -6, 10, 9, -8]<br/>\n",
    "[0, 5, 4, 10, 9]<br/>\n",
    "</p>\n",
    "</div>\n",
    "</span>\n",
    "</div>"
   ]
  },
  {
   "cell_type": "code",
   "execution_count": null,
   "metadata": {},
   "outputs": [],
   "source": []
  },
  {
   "cell_type": "markdown",
   "metadata": {},
   "source": [
    "### Complément : contenu du fichier <code>.py</code> distribué avec le sujet"
   ]
  },
  {
   "cell_type": "code",
   "execution_count": 1,
   "metadata": {},
   "outputs": [],
   "source": [
    "def positif(T):\n",
    "    T2 = ...(T)\n",
    "    T3 = ...\n",
    "    while T2 != []:\n",
    "        x = ...\n",
    "        if ... >= 0:\n",
    "            T3.append(...)\n",
    "    T2 = []\n",
    "    while T3 != ...:\n",
    "        x = T3.pop()\n",
    "        ...\n",
    "    print('T = ',T)\n",
    "    return T2"
   ]
  },
  {
   "cell_type": "code",
   "execution_count": null,
   "metadata": {},
   "outputs": [],
   "source": []
  },
  {
   "cell_type": "code",
   "execution_count": null,
   "metadata": {},
   "outputs": [],
   "source": []
  }
 ],
 "metadata": {
  "kernelspec": {
   "display_name": "Python 3",
   "language": "python",
   "name": "python3"
  },
  "language_info": {
   "codemirror_mode": {
    "name": "ipython",
    "version": 3
   },
   "file_extension": ".py",
   "mimetype": "text/x-python",
   "name": "python",
   "nbconvert_exporter": "python",
   "pygments_lexer": "ipython3",
   "version": "3.7.1"
  },
  "latex_envs": {
   "LaTeX_envs_menu_present": true,
   "autoclose": false,
   "autocomplete": true,
   "bibliofile": "biblio.bib",
   "cite_by": "apalike",
   "current_citInitial": 1,
   "eqLabelWithNumbers": true,
   "eqNumInitial": 1,
   "hotkeys": {
    "equation": "Ctrl-E",
    "itemize": "Ctrl-I"
   },
   "labels_anchors": false,
   "latex_user_defs": false,
   "report_style_numbering": false,
   "user_envs_cfg": false
  }
 },
 "nbformat": 4,
 "nbformat_minor": 4
}
