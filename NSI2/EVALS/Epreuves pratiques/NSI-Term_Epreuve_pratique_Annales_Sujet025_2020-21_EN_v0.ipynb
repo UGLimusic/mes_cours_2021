{
 "cells": [
  {
   "cell_type": "markdown",
   "metadata": {},
   "source": [
    "<h1 style='text-align:center'>N.S.I. Term. - 2021.02.15 - Annales - sem20 (prn24)</h1>\n",
    "<h2 style='text-align:center'>Annales Épreuve Pratique 2020-21</h2>\n",
    "<h2 style='text-align:center'>Sujet 025 - énoncé</h2>"
   ]
  },
  {
   "cell_type": "markdown",
   "metadata": {},
   "source": [
    "* Cadrage officiel :  https://www.education.gouv.fr/bo/20/Special2/MENE2001797N.htm"
   ]
  },
  {
   "cell_type": "markdown",
   "metadata": {},
   "source": [
    "**Durée : 1 heure**<br/>\n",
    "<br/>\n",
    "<span style=\"color:blue;font-weight:900;font-family:Arial;font:20px Arial\">**Modalités**</span>\n",
    "<br/>\n",
    "<br/>\n",
    "<div style=\"font:16px Arial\">\n",
    "La partie pratique consiste en la résolution de deux exercices sur ordinateur, chacun étant noté sur 4 points.\n",
    "\n",
    "Le candidat est évalué sur la base d'un dialogue avec un professeur-examinateur. Un examinateur évalue au maximum quatre élèves. L'examinateur ne peut pas évaluer un élève qu'il a eu en classe durant l'année en cours.\n",
    "\n",
    "L'évaluation de cette partie se déroule au cours du deuxième trimestre pendant la période de l'épreuve écrite de spécialité.\n",
    "- **Premier exercice**\n",
    "\n",
    "Le premier exercice consiste à programmer un algorithme figurant explicitement au programme, ne présentant pas de difficulté particulière, dont on fournit une spécification. Il s'agit donc de restituer un algorithme rencontré et travaillé à plusieurs reprises en cours de formation. Le sujet peut proposer un jeu de test avec les réponses attendues pour permettre au candidat de vérifier son travail.\n",
    "\n",
    "- **Deuxième exercice**\n",
    "\n",
    "Pour le second exercice, un programme est fourni au candidat. Cet exercice ne demande pas l'écriture complète d'un programme, mais permet de valider des compétences de programmation suivant des modalités variées : le candidat doit, par exemple, compléter un programme « à trous » afin de répondre à une spécification donnée, ou encore compléter un programme pour le documenter, ou encore compléter un programme en ajoutant des assertions, *etc.*\n",
    "</div>"
   ]
  },
  {
   "cell_type": "markdown",
   "metadata": {},
   "source": [
    "<h2 style='text-align:center'>Sujet 025 - énoncé - v0</h2>"
   ]
  },
  {
   "cell_type": "markdown",
   "metadata": {},
   "source": [
    "https://www.education.gouv.fr/bo/20/Special2/MENE2001797N.htm"
   ]
  },
  {
   "cell_type": "markdown",
   "metadata": {},
   "source": [
    "**Durée 1 heure**  \n",
    "***Compte pour 8 points sur 20***"
   ]
  },
  {
   "cell_type": "markdown",
   "metadata": {},
   "source": [
    "<div style=\"font-family: Arial, Times, sans-serif;font-size: 18px\">\n",
    "    <h2 style=\"text-align:center\">EXERCICE 1 (4 points)</h2>\n",
    "    <br/>\n",
    "    <p>\n",
    "        Écrire une fonction <code>recherche</code> qui prend en paramètre un tableau de nombres entiers <code>tab</code>, et qui renvoie la liste (éventuellement vide) des couples d'entiers consécutifs successifs qu'il peut y avoir dans <code>tab</code>.\n",
    "    </p>\n",
    "    <p>\n",
    "        <i>Exemples</i> :\n",
    "    </p>\n",
    "    <p style=\"padding:0 0 0 0px;font: 18px Courier New, sans-serif;\">\n",
    "        >>> recherche([1, 4, 3, 5])<br/>\n",
    "        []<br/>\n",
    "        >>> recherche([1, 4, 5, 3])<br/>\n",
    "        [(4, 5)]<br/>\n",
    "        >>> recherche([7, 1, 2, 5, 3, 4])<br/>\n",
    "        [(1, 2), (3, 4)]<br/>\n",
    "        >>> recherche([5, 1, 2, 3, 8, -5, -4, 7])<br/>\n",
    "        [(1, 2), (2, 3), (-5, -4)]<br/>\n",
    "    </p>\n",
    "</div>"
   ]
  },
  {
   "cell_type": "code",
   "execution_count": null,
   "metadata": {},
   "outputs": [],
   "source": []
  },
  {
   "cell_type": "markdown",
   "metadata": {},
   "source": [
    "<div style=\"font-family: Arial, Times, sans-serif;font-size: 18px\">\n",
    "    <h2 style=\"text-align:center\">EXERCICE 2 (4 points)</h2>\n",
    "    <br/>\n",
    "    <p>\n",
    "        Soit une image binaire représentée dans un tableau à 2 dimensions. Les éléments <code>M[i][j]</code>, appelés pixels, sont égaux soit à <code>0</code> soit à <code>1</code>.\n",
    "    </p>\n",
    "    <p>\n",
    "        Une composante d’une image est un sous-ensemble de l’image constitué uniquement de <code>1</code> et de <code>0</code> qui sont côte à côte, soit horizontalement soit verticalement.\n",
    "    </p>\n",
    "    <p>\n",
    "        Par exemple, les composantes de\n",
    "    </p>\n",
    "    <img src=\"https://github.com/lbaille20/NSI-Term_2020-21/raw/master/AnnalesEpreuvePratique2021/Sujet25/NSI-Term_EprPratique2021_Sujet25_ex2_fig1.PNG\" />\n",
    "    <p>\n",
    "        sont\n",
    "    </p>\n",
    "    <img src=\"https://github.com/lbaille20/NSI-Term_2020-21/raw/master/AnnalesEpreuvePratique2021/Sujet25/NSI-Term_EprPratique2021_Sujet25_ex2_fig2.PNG\" />\n",
    "    <br/>\n",
    "    <p>\n",
    "        On souhaite, à partir d’un pixel égal à 1 dans une image <code>M</code>, donner la valeur <code>val</code> à tous les pixels de la composante à laquelle appartient ce pixel.\n",
    "    </p>\n",
    "    <p>\n",
    "        La fonction <code>propager</code> prend pour paramètre une image <code>M</code>, deux entiers <code>i</code> et <code>j</code> et une valeur entière <code>val</code>. Elle met à la valeur <code>val</code> tous les pixels de la composante du pixel <code>M[i][j]</code> s’il vaut <code>1</code> et ne fait rien s’il vaut <code>0</code>.\n",
    "    </p>\n",
    "    <p>\n",
    "        Par exemple, <code>propager(M, 2, 1, 3)</code> donne\n",
    "    </p>\n",
    "    <img src=\"https://github.com/lbaille20/NSI-Term_2020-21/raw/master/AnnalesEpreuvePratique2021/Sujet25/NSI-Term_EprPratique2021_Sujet25_ex2_fig3.PNG\" />\n",
    "    <br/>\n",
    "    <p>\n",
    "        Compléter le code récursif de la fonction <code>propager</code> donné ci-dessous\n",
    "    </p>\n",
    "    <p style=\"font: 18px Courier New, sans-serif;\">\n",
    "        def propager(M, i, j, val):<br/>\n",
    "        <!-- &emsp; équivalent à <span style=\"display:inline-block; width: 36px;\"></span> -->\n",
    "        <br/>\n",
    "        &emsp;&emsp;if M[i][j] == ...:<br/>\n",
    "        &emsp;&emsp;&emsp;&emsp;return<br/>\n",
    "        <br/>\n",
    "        &emsp;&emsp;M[i][j] = val<br/>\n",
    "        <br/>\n",
    "        &emsp;&emsp;# si le pixel au-dessus fait partie de la composante<br/>\n",
    "        &emsp;&emsp;if ((i - 1) >= 0 and M[i - 1][j] == ...):<br/>\n",
    "        &emsp;&emsp;&emsp;&emsp;propager(M, i - 1, j, val)<br/>\n",
    "        <br/>\n",
    "        &emsp;&emsp;# si le pixel au-dessous fait partie de la composante<br/>\n",
    "        &emsp;&emsp;if ((...) < len(M) and M[i + 1][j] == 1):<br/>\n",
    "        &emsp;&emsp;&emsp;&emsp;propager(M, ..., j, val)<br/>\n",
    "        <br/>\n",
    "        &emsp;&emsp;# si le pixel à gauche fait partie de la composante<br/>\n",
    "        &emsp;&emsp;if ((...) >= 0 and M[i][j - 1] == 1):<br/>\n",
    "        &emsp;&emsp;&emsp;&emsp;propager(M, i, ..., val)<br/>\n",
    "        <br/>\n",
    "        &emsp;&emsp;# si le pixel à droite fait partie de la composante<br/>\n",
    "        &emsp;&emsp;if ((...) < len(M[i]) and M[i][j + 1] == 1):<br/>\n",
    "        &emsp;&emsp;&emsp;&emsp;propager(M, i, ..., val)<br/>\n",
    "        <br/>\n",
    "    </p>\n",
    "    <br/>\n",
    "    <p>\n",
    "        <i>Exemple :</i>\n",
    "    </p>\n",
    "    <span style=\"padding:0 0 0 0px;font: 18px Courier New, sans-serif;\">\n",
    "        >>> M = [[0, 0, 1, 0], [0, 1, 0, 1], [1, 1, 1, 0], [0, 1, 1, 0]]<br/>\n",
    "        >>> propager(M, 2, 1, 3)<br/>\n",
    "        >>> M<br/>\n",
    "        [[0, 0, 1, 0], [0, 3, 0, 1], [3, 3, 3, 0], [0, 3, 3, 0]]<br/>\n",
    "    </span>\n",
    "</div>"
   ]
  },
  {
   "cell_type": "code",
   "execution_count": null,
   "metadata": {},
   "outputs": [],
   "source": []
  },
  {
   "cell_type": "markdown",
   "metadata": {},
   "source": [
    "### Complément : contenu du fichier <code>.py</code> distribué avec le sujet"
   ]
  },
  {
   "cell_type": "code",
   "execution_count": 1,
   "metadata": {},
   "outputs": [],
   "source": [
    "def propager(M, i, j, val):\n",
    "    if M[i][j] == ...:\n",
    "        return\n",
    "\n",
    "    M[i][j] = val\n",
    "\n",
    "    # si le pixel au-dessus fait partie de la composante\n",
    "    if ((i - 1) >= 0 and M[i - 1][j] == ...):\n",
    "        propager(M, i - 1, j, val)\n",
    "\n",
    "    # si le pixel au-dessous fait partie de la composante\n",
    "    if ((...) < len(M) and M[i + 1][j] == 1):\n",
    "        propager(M, ..., j, val)\n",
    "\n",
    "    # si le pixel à gauche fait partie de la composante\n",
    "    if ((...) >= 0 and M[i][j - 1] == 1):\n",
    "        propager(M, i, ..., val)\n",
    "\n",
    "    # si le pixel à droite fait partie de la composante\n",
    "    if ((...) < len(M[i]) and M[i][j + 1] == 1):\n",
    "        propager(M, i, ..., val)"
   ]
  },
  {
   "cell_type": "code",
   "execution_count": null,
   "metadata": {},
   "outputs": [],
   "source": []
  }
 ],
 "metadata": {
  "kernelspec": {
   "display_name": "Python 3",
   "language": "python",
   "name": "python3"
  },
  "language_info": {
   "codemirror_mode": {
    "name": "ipython",
    "version": 3
   },
   "file_extension": ".py",
   "mimetype": "text/x-python",
   "name": "python",
   "nbconvert_exporter": "python",
   "pygments_lexer": "ipython3",
   "version": "3.7.1"
  },
  "latex_envs": {
   "LaTeX_envs_menu_present": true,
   "autoclose": false,
   "autocomplete": true,
   "bibliofile": "biblio.bib",
   "cite_by": "apalike",
   "current_citInitial": 1,
   "eqLabelWithNumbers": true,
   "eqNumInitial": 1,
   "hotkeys": {
    "equation": "Ctrl-E",
    "itemize": "Ctrl-I"
   },
   "labels_anchors": false,
   "latex_user_defs": false,
   "report_style_numbering": false,
   "user_envs_cfg": false
  }
 },
 "nbformat": 4,
 "nbformat_minor": 4
}
