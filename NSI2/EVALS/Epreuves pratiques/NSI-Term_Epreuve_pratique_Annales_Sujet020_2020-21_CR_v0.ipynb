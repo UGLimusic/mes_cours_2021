{
 "cells": [
  {
   "cell_type": "markdown",
   "metadata": {},
   "source": [
    "<h1 style='text-align:center'>N.S.I. Term. - 2021.02.15 - Annales - sem20 (prn24)</h1>\n",
    "<h2 style='text-align:center'>Annales Épreuve Pratique 2020-21</h2>\n",
    "<h2 style='text-align:center'>Sujet 020 - corrigé</h2>"
   ]
  },
  {
   "cell_type": "markdown",
   "metadata": {},
   "source": [
    "* Cadrage officiel :  https://www.education.gouv.fr/bo/20/Special2/MENE2001797N.htm"
   ]
  },
  {
   "cell_type": "markdown",
   "metadata": {},
   "source": [
    "**Durée : 1 heure**<br/>\n",
    "<br/>\n",
    "<span style=\"color:blue;font-weight:900;font-family:Arial;font:20px Arial\">**Modalités**</span>\n",
    "<br/>\n",
    "<br/>\n",
    "<div style=\"font:16px Arial\">\n",
    "La partie pratique consiste en la résolution de deux exercices sur ordinateur, chacun étant noté sur 4 points.\n",
    "\n",
    "Le candidat est évalué sur la base d'un dialogue avec un professeur-examinateur. Un examinateur évalue au maximum quatre élèves. L'examinateur ne peut pas évaluer un élève qu'il a eu en classe durant l'année en cours.\n",
    "\n",
    "L'évaluation de cette partie se déroule au cours du deuxième trimestre pendant la période de l'épreuve écrite de spécialité.\n",
    "- **Premier exercice**\n",
    "\n",
    "Le premier exercice consiste à programmer un algorithme figurant explicitement au programme, ne présentant pas de difficulté particulière, dont on fournit une spécification. Il s'agit donc de restituer un algorithme rencontré et travaillé à plusieurs reprises en cours de formation. Le sujet peut proposer un jeu de test avec les réponses attendues pour permettre au candidat de vérifier son travail.\n",
    "\n",
    "- **Deuxième exercice**\n",
    "\n",
    "Pour le second exercice, un programme est fourni au candidat. Cet exercice ne demande pas l'écriture complète d'un programme, mais permet de valider des compétences de programmation suivant des modalités variées : le candidat doit, par exemple, compléter un programme « à trous » afin de répondre à une spécification donnée, ou encore compléter un programme pour le documenter, ou encore compléter un programme en ajoutant des assertions, *etc.*\n",
    "</div>"
   ]
  },
  {
   "cell_type": "markdown",
   "metadata": {},
   "source": [
    "<h2 style='text-align:center'>Sujet 020 - corrigé - v0</h2>"
   ]
  },
  {
   "cell_type": "markdown",
   "metadata": {},
   "source": [
    "https://www.education.gouv.fr/bo/20/Special2/MENE2001797N.htm"
   ]
  },
  {
   "cell_type": "markdown",
   "metadata": {},
   "source": [
    "**Durée 1 heure**  \n",
    "***Compte pour 8 points sur 20***"
   ]
  },
  {
   "cell_type": "markdown",
   "metadata": {},
   "source": [
    "<div style=\"font-family: Arial, Times, serif;\">\n",
    "<h2 style=\"text-align:center\">EXERCICE 1 (4 points)</h2>\n",
    "<span style=\"font: 18px Arial, sans-serif;\">\n",
    "<br/>\n",
    "<p>\n",
    "On a relevé les valeurs moyennes annuelles des températures à Paris pour la période allant de 2013 à 2019. Les résultats ont été récupérés sous la forme de deux listes : l’une pour les températures, l’autre pour les années :\n",
    "</p>\n",
    "<p style=\"padding:0 0 0 0px;font: 18px Courier New, sans-serif;\">\n",
    "t_moy = [14.9, 13.3, 13.1, 12.5, 13.0, 13.6, 13.7]<br/>\n",
    "annees = [2013, 2014, 2015, 2016, 2017, 2018, 2019]<br/>\n",
    "</p>\n",
    "<p>\n",
    "Écrire la fonction <code>mini</code> qui prend en paramètres le tableau <code>releves</code> des relevés et le tableau <code>dates</code> des dates et qui renvoie la plus petite valeur relevée au cours de la période et l’année correspondante (ou la première année où la plus petite valeur a été observée, si elle a été observée plusieurs fois).\n",
    "</p>\n",
    "<br/>\n",
    "<p>\n",
    "<i>Exemple :</i>\n",
    "</p>\n",
    "<p style=\"padding:0 0 0 0px;font: 18px Courier New, sans-serif;\">\n",
    ">>> mini(t_moy, annees)<br/>\n",
    "12.5, 2016<br/>\n",
    "</p>\n",
    "</span>\n",
    "</div>"
   ]
  },
  {
   "cell_type": "code",
   "execution_count": null,
   "metadata": {},
   "outputs": [],
   "source": []
  },
  {
   "cell_type": "markdown",
   "metadata": {},
   "source": [
    "### Corrigé"
   ]
  },
  {
   "cell_type": "markdown",
   "metadata": {},
   "source": [
    "On suppose le tableau des relevés non vide.  \n",
    "Les tableaux `releves` et `dates` sont naturellement supposés de même longueur."
   ]
  },
  {
   "cell_type": "code",
   "execution_count": 1,
   "metadata": {},
   "outputs": [],
   "source": [
    "def mini(releves, dates):\n",
    "    tmin, posmin = releves[0], 0\n",
    "    for i in range(1, len(releves)):\n",
    "        if releves[i] < tmin:\n",
    "            tmin, posmin = releves[i], i\n",
    "    return tmin, dates[posmin]"
   ]
  },
  {
   "cell_type": "markdown",
   "metadata": {},
   "source": [
    "$\\checkmark\\;$ test"
   ]
  },
  {
   "cell_type": "code",
   "execution_count": 2,
   "metadata": {},
   "outputs": [
    {
     "data": {
      "text/plain": [
       "(12.5, 2016)"
      ]
     },
     "execution_count": 2,
     "metadata": {},
     "output_type": "execute_result"
    }
   ],
   "source": [
    "t_moy = [14.9, 13.3, 13.1, 12.5, 13.0, 13.6, 13.7]\n",
    "annees = [2013, 2014, 2015, 2016, 2017, 2018, 2019]\n",
    "\n",
    "mini(t_moy, annees)"
   ]
  },
  {
   "cell_type": "markdown",
   "metadata": {},
   "source": [
    "<div style=\"font-family: Arial, Times, serif;\">\n",
    "<h2 style=\"text-align:center\">EXERCICE 2 (4 points)</h2>\n",
    "<span style=\"font: 18px Arial, sans-serif;\">\n",
    "<br/>\n",
    "<p>\n",
    "Un mot palindrome peut se lire de la même façon de gauche à droite ou de droite à gauche : <i>bob</i>, <i>radar</i>, et <i>non</i> sont des mots palindromes.\n",
    "</p>\n",
    "<p>\n",
    "    De même, les écritures en base 10 de certains nombres entiers sont, elles aussi, des palindromes : <i>33</i>, <i>121</i>, <i>345543</i>. On appelera ces nombres des nombres palindromes.\n",
    "    </p>\n",
    "<p>\n",
    "    L’objectif de cet exercice est d’obtenir un programme Python permettant de tester si un nombre est un nombre palindrome.\n",
    "    </p>\n",
    "    <p>Pour remplir cette tâche, on vous demande de compléter le code des trois fonctions ci-dessous sachant que la fonction <code>est_nbre_palindrome</code> s’appuiera sur la fonction <code>est_palindrome</code> qui elle-même s’appuiera sur la fonction <code>inverse_chaine</code>.\n",
    "    </p>\n",
    "    <p>La fonction <code>inverse_chaine</code> inverse l'ordre des caractères d'une chaîne de caractères <code>chaine</code> et renvoie la chaîne inversée.\n",
    "    </p>\n",
    "    <p>La fonction <code>est_palindrome</code> teste si une chaine de caractères <code>chaine</code> est un palindrome. Elle renvoie <code>True</code> si c’est le cas et <code>False</code> sinon. Cette fonction s’appuie sur la fonction précédente.\n",
    "    </p>\n",
    "    <p>La fonction <code>est_nbre_palindrome</code> teste si un <code>nombre</code> nbre est un palindrome. Elle renvoie <code>True</code> si c’est le cas et <code>False</code> sinon. Cette fonction s’appuie sur la fonction précédente.\n",
    "    </p>\n",
    "    <br/>\n",
    "<p>\n",
    "Compléter le code des trois fonctions ci-dessous.\n",
    "</p>\n",
    "<p style=\"font: 18px Courier New, sans-serif;\">\n",
    "def inverse_chaine(chaine):<br/>\n",
    "<span style=\"display:inline-block; width: 36px;\"></span>result = ...<br/>\n",
    "&emsp;&emsp;for caractere in chaine:<br/>\n",
    "&emsp;&emsp;&emsp;&emsp;result = ...<br/>\n",
    "&emsp;&emsp;return result<br/>\n",
    "    <br/>\n",
    "def est_palindrome(chaine):<br/>\n",
    "&emsp;&emsp;inverse = inverse_chaine(chaine)<br/>\n",
    "&emsp;&emsp;return ...<br/>\n",
    "<br/>\n",
    "def est_nbre_palindrome(nbre):chaine = ...<br/>\n",
    "&emsp;&emsp;chaine = ...<br/>\n",
    "&emsp;&emsp;return est_palindrome(chaine)<br/>\n",
    "</p>\n",
    "<br/>\n",
    "<p>\n",
    "<i>Exemples :</i>\n",
    "</p>\n",
    "<p style=\"padding:0 0 0 0px;font: 18px Courier New, sans-serif;\">\n",
    ">>> inverse_chaine('bac')<br/>\n",
    "'cab'<br/>\n",
    ">>> est_palindrome('NSI')<br/>\n",
    "False<br/>\n",
    ">>> est_palindrome('ISN-NSI')<br/>\n",
    "True<br/>\n",
    ">>> est_nbre_palindrome(214312)<br/>\n",
    "False<br/>\n",
    ">>> est_nbre_palindrome(213312)<br/>\n",
    "True<br/>\n",
    "</p>\n",
    "</span>\n",
    "</div>"
   ]
  },
  {
   "cell_type": "code",
   "execution_count": null,
   "metadata": {},
   "outputs": [],
   "source": []
  },
  {
   "cell_type": "markdown",
   "metadata": {},
   "source": [
    "### Complément : contenu du fichier <code>.py</code> distribué avec le sujet"
   ]
  },
  {
   "cell_type": "code",
   "execution_count": 3,
   "metadata": {},
   "outputs": [],
   "source": [
    "def inverse_chaine(chaine):\n",
    "    result = ...\n",
    "    for caractere in chaine:\n",
    "        result = ...\n",
    "    return result\n",
    "\n",
    "def est_palindrome(chaine):\n",
    "    inverse = inverse_chaine(chaine)\n",
    "    return ...\n",
    "    \n",
    "def est_nbre_palindrome(nbre):\n",
    "    chaine = ...\n",
    "    return est_palindrome(chaine)"
   ]
  },
  {
   "cell_type": "code",
   "execution_count": null,
   "metadata": {},
   "outputs": [],
   "source": []
  },
  {
   "cell_type": "markdown",
   "metadata": {},
   "source": [
    "### Corrigé"
   ]
  },
  {
   "cell_type": "code",
   "execution_count": 4,
   "metadata": {},
   "outputs": [],
   "source": [
    "def inverse_chaine(chaine):\n",
    "    result = \"\" ## initialisation à la chaîne vide de la chaîne inversée\n",
    "    for caractere in chaine: ## parcours par les valeurs de la chaîne à inverser\n",
    "        result = caractere + result ## chaque caractère rencontré est placé au début de la chaîne inversée\n",
    "                                    ## ce qui a pour conséquence d'inverser l'ordre des caractères\n",
    "    return result\n",
    "\n",
    "def est_palindrome(chaine):\n",
    "    inverse = inverse_chaine(chaine)\n",
    "    return chaine == inverse\n",
    "    \n",
    "def est_nbre_palindrome(nbre):\n",
    "    chaine = str(nbre)\n",
    "    return est_palindrome(chaine)"
   ]
  },
  {
   "cell_type": "markdown",
   "metadata": {},
   "source": [
    "$\\checkmark\\;$ tests"
   ]
  },
  {
   "cell_type": "code",
   "execution_count": 5,
   "metadata": {},
   "outputs": [
    {
     "data": {
      "text/plain": [
       "'cab'"
      ]
     },
     "execution_count": 5,
     "metadata": {},
     "output_type": "execute_result"
    }
   ],
   "source": [
    "inverse_chaine('bac')"
   ]
  },
  {
   "cell_type": "code",
   "execution_count": 6,
   "metadata": {},
   "outputs": [
    {
     "data": {
      "text/plain": [
       "False"
      ]
     },
     "execution_count": 6,
     "metadata": {},
     "output_type": "execute_result"
    }
   ],
   "source": [
    "est_palindrome('NSI')"
   ]
  },
  {
   "cell_type": "code",
   "execution_count": 7,
   "metadata": {},
   "outputs": [
    {
     "data": {
      "text/plain": [
       "True"
      ]
     },
     "execution_count": 7,
     "metadata": {},
     "output_type": "execute_result"
    }
   ],
   "source": [
    "est_palindrome('ISN-NSI')"
   ]
  },
  {
   "cell_type": "code",
   "execution_count": 8,
   "metadata": {},
   "outputs": [
    {
     "data": {
      "text/plain": [
       "False"
      ]
     },
     "execution_count": 8,
     "metadata": {},
     "output_type": "execute_result"
    }
   ],
   "source": [
    "est_nbre_palindrome(214312)"
   ]
  },
  {
   "cell_type": "code",
   "execution_count": 9,
   "metadata": {},
   "outputs": [
    {
     "data": {
      "text/plain": [
       "True"
      ]
     },
     "execution_count": 9,
     "metadata": {},
     "output_type": "execute_result"
    }
   ],
   "source": [
    "est_nbre_palindrome(213312)"
   ]
  },
  {
   "cell_type": "markdown",
   "metadata": {},
   "source": [
    "***Note :*** l'inversion de la chaîne est de complexité linéaire (temps d'exécution proportionnel à la longueur de la chaîne) et il en est potentiellement de même pour la comparaison de la chaîne et de la chaîne inversée.  \n",
    "Il serait donc sur le principe préférable d'utiliser l'algorithme suivant, qui compare les caractères en position $k$ et `len(chaine)} - 1 - k`, pour $k$ variant de $0$ à `len(chaine)} // 2`, tant que ceux-ci sont égaux, car son temps d'exécution n'est proportionnel à la longueur de la chaîne à tester, que si la chaîne est un palindrome : "
   ]
  },
  {
   "cell_type": "code",
   "execution_count": 10,
   "metadata": {},
   "outputs": [
    {
     "data": {
      "text/plain": [
       "(False, True, False, True)"
      ]
     },
     "execution_count": 10,
     "metadata": {},
     "output_type": "execute_result"
    }
   ],
   "source": [
    "def est_palindrome1(chaine):\n",
    "    n, k = len(chaine), 0\n",
    "    for k in range(n // 2):\n",
    "        if chaine[k] != chaine[n - 1 - k]:\n",
    "            return False\n",
    "    return True\n",
    "    \n",
    "def est_nbre_palindrome1(nbre):\n",
    "    chaine = str(nbre)\n",
    "    return est_palindrome1(chaine)\n",
    "\n",
    "## tests\n",
    "est_palindrome1('NSI'), est_palindrome1('ISN-NSI'), est_nbre_palindrome1(214312), est_nbre_palindrome1(213312)"
   ]
  },
  {
   "cell_type": "code",
   "execution_count": null,
   "metadata": {},
   "outputs": [],
   "source": []
  }
 ],
 "metadata": {
  "kernelspec": {
   "display_name": "Python 3",
   "language": "python",
   "name": "python3"
  },
  "language_info": {
   "codemirror_mode": {
    "name": "ipython",
    "version": 3
   },
   "file_extension": ".py",
   "mimetype": "text/x-python",
   "name": "python",
   "nbconvert_exporter": "python",
   "pygments_lexer": "ipython3",
   "version": "3.7.1"
  },
  "latex_envs": {
   "LaTeX_envs_menu_present": true,
   "autoclose": false,
   "autocomplete": true,
   "bibliofile": "biblio.bib",
   "cite_by": "apalike",
   "current_citInitial": 1,
   "eqLabelWithNumbers": true,
   "eqNumInitial": 1,
   "hotkeys": {
    "equation": "Ctrl-E",
    "itemize": "Ctrl-I"
   },
   "labels_anchors": false,
   "latex_user_defs": false,
   "report_style_numbering": false,
   "user_envs_cfg": false
  }
 },
 "nbformat": 4,
 "nbformat_minor": 4
}
