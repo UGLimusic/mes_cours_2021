{
 "cells": [
  {
   "cell_type": "markdown",
   "metadata": {},
   "source": [
    "<h1 style='text-align:center'>N.S.I. Term. - 2021.02.15 - Annales - sem20 (prn24)</h1>\n",
    "<h2 style='text-align:center'>Annales Épreuve Pratique 2020-21</h2>\n",
    "<h2 style='text-align:center'>Sujet 008 - corrigé</h2>"
   ]
  },
  {
   "cell_type": "markdown",
   "metadata": {},
   "source": [
    "* Cadrage officiel :  https://www.education.gouv.fr/bo/20/Special2/MENE2001797N.htm"
   ]
  },
  {
   "cell_type": "markdown",
   "metadata": {},
   "source": [
    "**Durée : 1 heure**<br/>\n",
    "<br/>\n",
    "<span style=\"color:blue;font-weight:900;font-family:Arial;font:20px Arial\">**Modalités**</span>\n",
    "<br/>\n",
    "<br/>\n",
    "<div style=\"font:16px Arial\">\n",
    "La partie pratique consiste en la résolution de deux exercices sur ordinateur, chacun étant noté sur 4 points.\n",
    "\n",
    "Le candidat est évalué sur la base d'un dialogue avec un professeur-examinateur. Un examinateur évalue au maximum quatre élèves. L'examinateur ne peut pas évaluer un élève qu'il a eu en classe durant l'année en cours.\n",
    "\n",
    "L'évaluation de cette partie se déroule au cours du deuxième trimestre pendant la période de l'épreuve écrite de spécialité.\n",
    "- **Premier exercice**\n",
    "\n",
    "Le premier exercice consiste à programmer un algorithme figurant explicitement au programme, ne présentant pas de difficulté particulière, dont on fournit une spécification. Il s'agit donc de restituer un algorithme rencontré et travaillé à plusieurs reprises en cours de formation. Le sujet peut proposer un jeu de test avec les réponses attendues pour permettre au candidat de vérifier son travail.\n",
    "\n",
    "- **Deuxième exercice**\n",
    "\n",
    "Pour le second exercice, un programme est fourni au candidat. Cet exercice ne demande pas l'écriture complète d'un programme, mais permet de valider des compétences de programmation suivant des modalités variées : le candidat doit, par exemple, compléter un programme « à trous » afin de répondre à une spécification donnée, ou encore compléter un programme pour le documenter, ou encore compléter un programme en ajoutant des assertions, *etc.*\n",
    "</div>"
   ]
  },
  {
   "cell_type": "markdown",
   "metadata": {},
   "source": [
    "<h2 style='text-align:center'>Sujet 008 - corrigé - v0</h2>"
   ]
  },
  {
   "cell_type": "markdown",
   "metadata": {},
   "source": [
    "https://www.education.gouv.fr/bo/20/Special2/MENE2001797N.htm"
   ]
  },
  {
   "cell_type": "markdown",
   "metadata": {},
   "source": [
    "**Durée 1 heure**  \n",
    "***Compte pour 8 points sur 20***"
   ]
  },
  {
   "cell_type": "markdown",
   "metadata": {},
   "source": [
    "<div style=\"font-family: \"Arial\", Times, serif;\">\n",
    "<h2 style=\"text-align:center\">EXERCICE 1 (4 points)</h2>\n",
    "<span style=\"font: 18px Arial, sans-serif;\">\n",
    "<br/>\n",
    "\n",
    "<p>\n",
    "    Écrire une fonction <code>recherche</code> qui prend en paramètres <code>caractere</code>, un caractère, et <code>mot</code>, une chaîne de caractères, et qui renvoie le nombre d’occurrences de <code>caractere</code> dans <code>mot</code>, c’est-à-dire le nombre de fois où <code>caractere</code> apparaît dans <code>mot</code>.\n",
    "</p>\n",
    "<p style=\"font: 18px Arial, sans-serif;\">\n",
    "<i>Exemples :</i>\n",
    "</p>\n",
    "<p style=\"padding:0 0 0 0px;font: 18px Courier New, sans-serif;\">\n",
    ">>> recherche('e', \"sciences\")<br/>\n",
    "2<br/>\n",
    ">>> recherche('i',\"mississippi\")<br/>\n",
    "4<br/>\n",
    ">>> recherche('a',\"mississippi\")<br/>\n",
    "0<br/>\n",
    "</p>\n",
    "</div>\n",
    "</span>\n",
    "</div>"
   ]
  },
  {
   "cell_type": "code",
   "execution_count": null,
   "metadata": {},
   "outputs": [],
   "source": []
  },
  {
   "cell_type": "markdown",
   "metadata": {},
   "source": [
    "### Corrigé"
   ]
  },
  {
   "cell_type": "code",
   "execution_count": 1,
   "metadata": {},
   "outputs": [],
   "source": [
    "def recherche(caractere, mot):\n",
    "    nombre_occurrences = 0\n",
    "    for lettre in mot:\n",
    "        if lettre == caractere:\n",
    "            nombre_occurrences += 1\n",
    "    return nombre_occurrences"
   ]
  },
  {
   "cell_type": "markdown",
   "metadata": {},
   "source": [
    "$\\checkmark\\;$ tests"
   ]
  },
  {
   "cell_type": "code",
   "execution_count": 2,
   "metadata": {},
   "outputs": [
    {
     "data": {
      "text/plain": [
       "2"
      ]
     },
     "execution_count": 2,
     "metadata": {},
     "output_type": "execute_result"
    }
   ],
   "source": [
    "recherche('e', \"sciences\")"
   ]
  },
  {
   "cell_type": "code",
   "execution_count": 3,
   "metadata": {},
   "outputs": [
    {
     "data": {
      "text/plain": [
       "4"
      ]
     },
     "execution_count": 3,
     "metadata": {},
     "output_type": "execute_result"
    }
   ],
   "source": [
    "recherche('i',\"mississippi\")"
   ]
  },
  {
   "cell_type": "code",
   "execution_count": 4,
   "metadata": {},
   "outputs": [
    {
     "data": {
      "text/plain": [
       "0"
      ]
     },
     "execution_count": 4,
     "metadata": {},
     "output_type": "execute_result"
    }
   ],
   "source": [
    "recherche('a',\"mississippi\")"
   ]
  },
  {
   "cell_type": "markdown",
   "metadata": {},
   "source": [
    "<div style=\"font-family: Arial, Times, serif;\">\n",
    "<h2 style=\"text-align:center\">EXERCICE 2 (4 points)</h2>\n",
    "<span style=\"font: 18px Arial, sans-serif;\">\n",
    "<br/>\n",
    "<p>\n",
    "On s’intéresse à un algorithme récursif qui permet de rendre la monnaie à partir d’une liste donnée de valeurs de pièces et de billets - le système monétaire est donné sous forme d’une liste\n",
    "    <code>pieces=[100, 50, 20, 10, 5, 2, 1]</code> - (on supposera qu’il n’y a pas de limitation quant à leur nombre), on cherche à donner la liste de pièces à rendre pour une somme donnée en argument.\n",
    "</p>\n",
    "<p>\n",
    "Compléter le code Python ci-dessous de la fonction\n",
    "    <code>rendu_glouton_r</code>\n",
    "qui implémente cet algorithme et renvoie la liste des pièces à rendre\n",
    "</p>\n",
    "</span>\n",
    "<br/>\n",
    "<br/>\n",
    "<span style=\"font: 18px Courier New, sans-serif;\">\n",
    "Pieces = [100, 50, 20, 10, 5, 2, 1]<br/>\n",
    "<br/>\n",
    "def rendu_glouton_r(arendre, solution = [], i = 0):<br/>\n",
    "<span style=\"display:inline-block; width: 36px;\"></span>if arendre == 0:<br/>\n",
    "&emsp;&emsp;&emsp;&emsp;return ...<br/>\n",
    "&emsp;&emsp;p = pieces[i]<br/>\n",
    "&emsp;&emsp;if p <= ... :<br/>\n",
    "&emsp;&emsp;&emsp;&emsp;solution.append(...)<br/>\n",
    "&emsp;&emsp;&emsp;&emsp;return rendu_glouton_r(arendre - p, solution, i)<br/>\n",
    "&emsp;&emsp;else:<br/>\n",
    "&emsp;&emsp;&emsp;&emsp;return rendu_glouton_r(arendre, solution, ...)<br/>\n",
    "</span>\n",
    "<br/>\n",
    "<span style=\"font: 18px Arial, sans-serif;\">\n",
    "<p>\n",
    "<br/>\n",
    "On devra obtenir :\n",
    "</p>\n",
    "</span>\n",
    "<p style=\"padding:0 0 0 0px;font: 18px Courier New, sans-serif;\">\n",
    ">>> rendu_glouton_r(68, [], 0)<br/>\n",
    "[50, 10, 5, 2, 1]<br/>\n",
    ">>> rendu_glouton_r(291, [], 0)<br/>\n",
    "[100, 100, 50, 20, 20, 1]<br/>\n",
    "</p>\n",
    "</div>"
   ]
  },
  {
   "cell_type": "code",
   "execution_count": null,
   "metadata": {},
   "outputs": [],
   "source": []
  },
  {
   "cell_type": "markdown",
   "metadata": {},
   "source": [
    "### Complément : contenu du fichier <code>.py</code> distribué avec le sujet"
   ]
  },
  {
   "cell_type": "code",
   "execution_count": 5,
   "metadata": {},
   "outputs": [],
   "source": [
    "Pieces = [100, 50, 20, 10, 5, 2, 1]\n",
    "\n",
    "def rendu_glouton_r(arendre, solution = [], i = 0):\n",
    "    if arendre == 0:\n",
    "        return ...\n",
    "    p = pieces[i]\n",
    "    if p <= ... :\n",
    "        solution.append(...)\n",
    "        return rendu_glouton_r(arendre - p, solution, i)\n",
    "    else :\n",
    "        return rendu_glouton_r(arendre, solution, ...)"
   ]
  },
  {
   "cell_type": "code",
   "execution_count": null,
   "metadata": {},
   "outputs": [],
   "source": []
  },
  {
   "cell_type": "markdown",
   "metadata": {},
   "source": [
    "### Corrigé"
   ]
  },
  {
   "cell_type": "markdown",
   "metadata": {},
   "source": [
    "On remarquera que, la liste des pièces étant ordonnée dans l'ordre décroissant, l'algorithme proposé correspond bien l'algorithme glouton de rendu de monnaie.  \n",
    "On remarquera encore que l'algorithme termine sur une somme à rendre nulle car la somme à rendre initialement est supposée entière, positive, et que la pièce de plus petite valeur faciale a une valeur égale à 1."
   ]
  },
  {
   "cell_type": "code",
   "execution_count": 6,
   "metadata": {},
   "outputs": [],
   "source": [
    "pieces = [100, 50, 20, 10, 5, 2, 1]\n",
    "\n",
    "def rendu_glouton_r(arendre, solution = [], i = 0):\n",
    "    if arendre == 0:    ## si la somme restant à rendre est nulle\n",
    "        return solution ## on renvoie la liste des pièces utilisées pour rendre la somme passée initialement en\n",
    "                        ## argument\n",
    "    p = pieces[i]       ## sinon, on considère la pièce d'indice i\n",
    "    if p <= arendre :   ## si la somme restant à rendre est supérieure à la valeur faciale de la pièce i\n",
    "                        ## on utilise la piece i (on l'ajoute à la liste des pièces utilisées et on diminue\n",
    "                        ## la somme restant à rendre de la valeur faciale de la pièce i)\n",
    "        solution.append(p)\n",
    "        return rendu_glouton_r(arendre - p, solution, i)\n",
    "    else :              ## sinon, on procède à un appel récursif dans lequel on cherche à utiliser la pièce suivante\n",
    "                        ## d'indice i + 1, de valeur faciale inférieure (car la liste des pièces est ordonnée dans\n",
    "                        ## l'ordre décroissant)\n",
    "        return rendu_glouton_r(arendre, solution, i + 1)"
   ]
  },
  {
   "cell_type": "markdown",
   "metadata": {},
   "source": [
    "$\\checkmark\\;$ tests"
   ]
  },
  {
   "cell_type": "code",
   "execution_count": 7,
   "metadata": {},
   "outputs": [
    {
     "data": {
      "text/plain": [
       "[50, 10, 5, 2, 1]"
      ]
     },
     "execution_count": 7,
     "metadata": {},
     "output_type": "execute_result"
    }
   ],
   "source": [
    "rendu_glouton_r(68, [], 0)"
   ]
  },
  {
   "cell_type": "code",
   "execution_count": 8,
   "metadata": {},
   "outputs": [
    {
     "data": {
      "text/plain": [
       "[100, 100, 50, 20, 20, 1]"
      ]
     },
     "execution_count": 8,
     "metadata": {},
     "output_type": "execute_result"
    }
   ],
   "source": [
    "rendu_glouton_r(291, [], 0)"
   ]
  },
  {
   "cell_type": "code",
   "execution_count": null,
   "metadata": {},
   "outputs": [],
   "source": []
  }
 ],
 "metadata": {
  "kernelspec": {
   "display_name": "Python 3",
   "language": "python",
   "name": "python3"
  },
  "language_info": {
   "codemirror_mode": {
    "name": "ipython",
    "version": 3
   },
   "file_extension": ".py",
   "mimetype": "text/x-python",
   "name": "python",
   "nbconvert_exporter": "python",
   "pygments_lexer": "ipython3",
   "version": "3.7.1"
  },
  "latex_envs": {
   "LaTeX_envs_menu_present": true,
   "autoclose": false,
   "autocomplete": true,
   "bibliofile": "biblio.bib",
   "cite_by": "apalike",
   "current_citInitial": 1,
   "eqLabelWithNumbers": true,
   "eqNumInitial": 1,
   "hotkeys": {
    "equation": "Ctrl-E",
    "itemize": "Ctrl-I"
   },
   "labels_anchors": false,
   "latex_user_defs": false,
   "report_style_numbering": false,
   "user_envs_cfg": false
  }
 },
 "nbformat": 4,
 "nbformat_minor": 4
}
