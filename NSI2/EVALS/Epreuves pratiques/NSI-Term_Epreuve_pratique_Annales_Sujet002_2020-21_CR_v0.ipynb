{
 "cells": [
  {
   "cell_type": "markdown",
   "metadata": {},
   "source": [
    "<h1 style='text-align:center'>N.S.I. Term. - 2021.02.15 - Annales - sem20 (prn24)</h1>\n",
    "<h2 style='text-align:center'>Annales Épreuve Pratique 2020-21</h2>\n",
    "<h2 style='text-align:center'>Sujet 002 - corrigé</h2>"
   ]
  },
  {
   "cell_type": "markdown",
   "metadata": {},
   "source": [
    "* Cadrage officiel :  https://www.education.gouv.fr/bo/20/Special2/MENE2001797N.htm"
   ]
  },
  {
   "cell_type": "markdown",
   "metadata": {},
   "source": [
    "**Durée : 1 heure**<br/>\n",
    "<br/>\n",
    "<span style=\"color:blue;font-weight:900;font-family:Arial;font:20px Arial\">**Modalités**</span>\n",
    "<br/>\n",
    "<br/>\n",
    "<div style=\"font:16px Arial\">\n",
    "La partie pratique consiste en la résolution de deux exercices sur ordinateur, chacun étant noté sur 4 points.\n",
    "\n",
    "Le candidat est évalué sur la base d'un dialogue avec un professeur-examinateur. Un examinateur évalue au maximum quatre élèves. L'examinateur ne peut pas évaluer un élève qu'il a eu en classe durant l'année en cours.\n",
    "\n",
    "L'évaluation de cette partie se déroule au cours du deuxième trimestre pendant la période de l'épreuve écrite de spécialité.\n",
    "- **Premier exercice**\n",
    "\n",
    "Le premier exercice consiste à programmer un algorithme figurant explicitement au programme, ne présentant pas de difficulté particulière, dont on fournit une spécification. Il s'agit donc de restituer un algorithme rencontré et travaillé à plusieurs reprises en cours de formation. Le sujet peut proposer un jeu de test avec les réponses attendues pour permettre au candidat de vérifier son travail.\n",
    "\n",
    "- **Deuxième exercice**\n",
    "\n",
    "Pour le second exercice, un programme est fourni au candidat. Cet exercice ne demande pas l'écriture complète d'un programme, mais permet de valider des compétences de programmation suivant des modalités variées : le candidat doit, par exemple, compléter un programme « à trous » afin de répondre à une spécification donnée, ou encore compléter un programme pour le documenter, ou encore compléter un programme en ajoutant des assertions, *etc.*\n",
    "</div>"
   ]
  },
  {
   "cell_type": "markdown",
   "metadata": {},
   "source": [
    "<h2 style='text-align:center'>Sujet 002 - corrigé - v0</h2>"
   ]
  },
  {
   "cell_type": "markdown",
   "metadata": {},
   "source": [
    "https://www.education.gouv.fr/bo/20/Special2/MENE2001797N.htm"
   ]
  },
  {
   "cell_type": "markdown",
   "metadata": {},
   "source": [
    "**Durée 1 heure**  \n",
    "***Compte pour 8 points sur 20***"
   ]
  },
  {
   "cell_type": "markdown",
   "metadata": {},
   "source": [
    "<div style=\"font-family: \"Arial\", Times, serif;\">\n",
    "    <h2 style=\"text-align:center\">EXERCICE 1 (4 points)</h2>\n",
    "    <span style=\"font: 18px Arial, sans-serif;\">\n",
    "    <br/>\n",
    "    <p>\n",
    "    Programmer la fonction <code>moyenne</code> prenant en paramètre un tableau d'entiers <code>tab</code> (type <code>list</code>) qui renvoie la moyenne de ses éléments si le tableau est non vide et affiche <code>'erreur'</code> si le tableau est vide.\n",
    "    </p>\n",
    "    <p style=\"font: 18px Arial, sans-serif;\">\n",
    "        <i>Exemples :</i>\n",
    "    </p>\n",
    "        <p style=\"padding:0 0 0 0px;font: 18px Courier New, sans-serif;\">\n",
    "            >>> moyenne([5, 3, 8])<br/>\n",
    "            5.333333333333333<br/>\n",
    "            >>> moyenne([1, 2, 3, 4, 5, 6, 7, 8, 9, 10])<br/>\n",
    "            5.5<br/>\n",
    "            >>> moyenne([])<br/>\n",
    "            'erreur'<br/>\n",
    "        </p>\n",
    "    </span>\n",
    "</div>"
   ]
  },
  {
   "cell_type": "code",
   "execution_count": null,
   "metadata": {},
   "outputs": [],
   "source": []
  },
  {
   "cell_type": "markdown",
   "metadata": {},
   "source": [
    "### Corrigé"
   ]
  },
  {
   "cell_type": "code",
   "execution_count": 1,
   "metadata": {},
   "outputs": [],
   "source": [
    "def moyenne(tab):\n",
    "    if tab == []:    #on traite en premier le cas du tableau vide pour lequel la moyenne n'est pas définie\n",
    "        return 'erreur'\n",
    "    somme = 0\n",
    "    for val in tab:  #un parcours par les valeurs du tableau convient car l'indice de position de chaque valeur\n",
    "                     #n'est pas utilisé dans cet algorithme\n",
    "        somme += val\n",
    "    return somme / len(tab)"
   ]
  },
  {
   "cell_type": "markdown",
   "metadata": {},
   "source": [
    "$\\checkmark\\;$ tests"
   ]
  },
  {
   "cell_type": "code",
   "execution_count": 2,
   "metadata": {},
   "outputs": [
    {
     "data": {
      "text/plain": [
       "5.333333333333333"
      ]
     },
     "execution_count": 2,
     "metadata": {},
     "output_type": "execute_result"
    }
   ],
   "source": [
    "moyenne([5, 3, 8])"
   ]
  },
  {
   "cell_type": "code",
   "execution_count": 3,
   "metadata": {},
   "outputs": [
    {
     "data": {
      "text/plain": [
       "5.5"
      ]
     },
     "execution_count": 3,
     "metadata": {},
     "output_type": "execute_result"
    }
   ],
   "source": [
    "moyenne([1, 2, 3, 4, 5, 6, 7, 8, 9, 10])"
   ]
  },
  {
   "cell_type": "code",
   "execution_count": 4,
   "metadata": {},
   "outputs": [
    {
     "data": {
      "text/plain": [
       "'erreur'"
      ]
     },
     "execution_count": 4,
     "metadata": {},
     "output_type": "execute_result"
    }
   ],
   "source": [
    "moyenne([])"
   ]
  },
  {
   "cell_type": "markdown",
   "metadata": {},
   "source": [
    "<div style=\"font-family: Arial, Times, serif;\">\n",
    "    <h2 style=\"text-align:center\">EXERCICE 2 (4 points)</h2>\n",
    "<span style=\"font: 18px Arial, sans-serif;\">\n",
    "    <br/>\n",
    "    <p>\n",
    "    On considère un tableau d'entiers <code>tab</code> (type <code>list</code> dont les éléments sont des <code>0</code> ou des <code>1</code>). On se propose de trier ce tableau selon l'algorithme suivant : à chaque étape du tri, le tableau est constitué de trois zones consécutives, la première ne contenant que des <code>0</code>, la seconde n'étant pas triée et la dernière ne contenant que des <code>1</code>.\n",
    "    </p>\n",
    "\n",
    "<table style=\"font: 18px Courier New, sans-serif;border:2pt\">\n",
    "    <tr><td>Zone de 0</td><td>$|$</td><td>Zone non triée</td><td>$|$</td><td>Zone de 1</td>\n",
    "    </tr>\n",
    "</table>\n",
    "\n",
    "<p>\n",
    "Tant que la zone non triée n'est pas réduite à un seul élément, on regarde son premier élément :\n",
    "<br/>\n",
    "        <ul>\n",
    "            <li>si cet élément vaut <code>0</code>, on considère qu'il appartient désormais à la zone ne contenant que des <code>0</code> ;</li>\n",
    "            <li>si cet élément vaut <code>1</code>, il est échangé avec le dernier élément de la zone non triée et on considère alors qu’il appartient à la zone ne contenant que des <code>1</code>.</li>\n",
    "            </ul>\n",
    "    <br/>\n",
    "</p>\n",
    "    <p>\n",
    "Dans tous les cas, à chaque étape du tri, la longueur de la zone non triée diminue de 1.\n",
    "    </p>\n",
    "    <p>\n",
    "    Recopier sous Python en la complétant la fonction <code>tri</code> suivante :\n",
    "    </p>\n",
    "</span>\n",
    "<br/>\n",
    "<span style=\"font: 18px Courier New, sans-serif;\">\n",
    "            def tri(tab):<br/>\n",
    "            &emsp;&emsp;#i est le premier indice de la zone non triee, j le dernier indice.<br/>\n",
    "            <span style=\"display:inline-block; width: 36px;\"></span>#Au debut, la zone non triee est le tableau entier.<br/>\n",
    "            &emsp;&emsp;i = ...<br/>\n",
    "            &emsp;&emsp;j = ...<br/> \n",
    "            &emsp;&emsp;point = tab[0]<br/> \n",
    "            &emsp;&emsp;while i != j :<br/> \n",
    "            &emsp;&emsp;&emsp;&emsp;if tab[i] == 0:<br/> \n",
    "            &emsp;&emsp;&emsp;&emsp;&emsp;&emsp;i = ...<br/>\n",
    "            &emsp;&emsp;&emsp;&emsp;else:<br/> \n",
    "            &emsp;&emsp;&emsp;&emsp;&emsp;&emsp;valeur = tab[j]<br/> \n",
    "            &emsp;&emsp;&emsp;&emsp;&emsp;&emsp;tab[j] = ...<br/>\n",
    "            &emsp;&emsp;&emsp;&emsp;&emsp;&emsp;...<br/>  \n",
    "            &emsp;&emsp;&emsp;&emsp;&emsp;&emsp;j = ...<br/> \n",
    "            &emsp;&emsp;...<br/>\n",
    "            <br/>\n",
    "</span>\n",
    "<p style=\"font: 18px Arial, sans-serif;\">\n",
    "        <i>Exemple :</i>\n",
    "    </p>\n",
    "        <p style=\"padding:0 0 0 0px;font: 18px Courier New, sans-serif;\">\n",
    "            >>> tri([0,1,0,1,0,1,0,1,0])<br/>\n",
    "            [0, 0, 0, 0, 0, 1, 1, 1, 1]<br/>\n",
    "        </p>\n",
    "</div>"
   ]
  },
  {
   "cell_type": "code",
   "execution_count": null,
   "metadata": {},
   "outputs": [],
   "source": []
  },
  {
   "cell_type": "markdown",
   "metadata": {},
   "source": [
    "### Complément : contenu du fichier <code>.py</code> distribué avec le sujet"
   ]
  },
  {
   "cell_type": "code",
   "execution_count": 5,
   "metadata": {},
   "outputs": [],
   "source": [
    "def tri(tab):\n",
    "    #i est le premier indice de la zone non triee, j le dernier indice. \n",
    "    #Au debut, la zone non triee est le tableau entier.\n",
    "    i = ...\n",
    "    j = ...\n",
    "    while i != j :\n",
    "        if tab[i] == 0:\n",
    "            i = ...\n",
    "        else :\n",
    "            valeur = tab[j]\n",
    "            tab[j] = ...\n",
    "            ...\n",
    "            j = ...\n",
    "    ..."
   ]
  },
  {
   "cell_type": "code",
   "execution_count": null,
   "metadata": {},
   "outputs": [],
   "source": []
  },
  {
   "cell_type": "markdown",
   "metadata": {},
   "source": [
    "### Corrigé"
   ]
  },
  {
   "cell_type": "code",
   "execution_count": 6,
   "metadata": {},
   "outputs": [],
   "source": [
    "def tri(tab):\n",
    "    #i est le premier indice de la zone non triee, j le dernier indice. \n",
    "    #Au debut, la zone non triee est le tableau entier.\n",
    "    i = 0\n",
    "    j = len(tab) - 1\n",
    "    while i < j : ## on a remplacé le test i != j par le test i <j plus parlant car toujours i <= j\n",
    "        if tab[i] == 0:\n",
    "            i = i + 1 ## la zone de zéros est agrandie de 1\n",
    "        else :\n",
    "            valeur = tab[j]##sauvegarde de la valeur en tab[j] afin de préparer l'échange de valeurs tab[i]<->tab[j]\n",
    "            tab[j] = 1     ##la valeur 1 en tab[i] est copiée en tab[j]\n",
    "            tab[i] = valeur##la valeur qui se trouvait en tab[j], sauvegardée dans valeur, est recopiée en tab[i]\n",
    "            j = j - 1 ## la zone de 1 est agrandie de 1\n",
    "    return tab ## renvoi de la référence au tableau reçu en entrée"
   ]
  },
  {
   "cell_type": "markdown",
   "metadata": {},
   "source": [
    "$\\checkmark\\;$ test"
   ]
  },
  {
   "cell_type": "code",
   "execution_count": 7,
   "metadata": {},
   "outputs": [
    {
     "data": {
      "text/plain": [
       "[0, 0, 0, 0, 0, 1, 1, 1, 1]"
      ]
     },
     "execution_count": 7,
     "metadata": {},
     "output_type": "execute_result"
    }
   ],
   "source": [
    "tri([0,1,0,1,0,1,0,1,0])"
   ]
  },
  {
   "cell_type": "code",
   "execution_count": null,
   "metadata": {},
   "outputs": [],
   "source": []
  }
 ],
 "metadata": {
  "kernelspec": {
   "display_name": "Python 3",
   "language": "python",
   "name": "python3"
  },
  "language_info": {
   "codemirror_mode": {
    "name": "ipython",
    "version": 3
   },
   "file_extension": ".py",
   "mimetype": "text/x-python",
   "name": "python",
   "nbconvert_exporter": "python",
   "pygments_lexer": "ipython3",
   "version": "3.7.1"
  },
  "latex_envs": {
   "LaTeX_envs_menu_present": true,
   "autoclose": false,
   "autocomplete": true,
   "bibliofile": "biblio.bib",
   "cite_by": "apalike",
   "current_citInitial": 1,
   "eqLabelWithNumbers": true,
   "eqNumInitial": 1,
   "hotkeys": {
    "equation": "Ctrl-E",
    "itemize": "Ctrl-I"
   },
   "labels_anchors": false,
   "latex_user_defs": false,
   "report_style_numbering": false,
   "user_envs_cfg": false
  }
 },
 "nbformat": 4,
 "nbformat_minor": 4
}
