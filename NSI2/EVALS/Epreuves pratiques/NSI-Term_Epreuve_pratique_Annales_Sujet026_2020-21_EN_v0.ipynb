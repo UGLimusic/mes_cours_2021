{
 "cells": [
  {
   "cell_type": "markdown",
   "metadata": {},
   "source": [
    "<h1 style='text-align:center'>N.S.I. Term. - 2021.02.15 - Annales - sem20 (prn24)</h1>\n",
    "<h2 style='text-align:center'>Annales Épreuve Pratique 2020-21</h2>\n",
    "<h2 style='text-align:center'>Sujet 026 - énoncé</h2>"
   ]
  },
  {
   "cell_type": "markdown",
   "metadata": {},
   "source": [
    "* Cadrage officiel :  https://www.education.gouv.fr/bo/20/Special2/MENE2001797N.htm"
   ]
  },
  {
   "cell_type": "markdown",
   "metadata": {},
   "source": [
    "**Durée : 1 heure**<br/>\n",
    "<br/>\n",
    "<span style=\"color:blue;font-weight:900;font-family:Arial;font:20px Arial\">**Modalités**</span>\n",
    "<br/>\n",
    "<br/>\n",
    "<div style=\"font:16px Arial\">\n",
    "La partie pratique consiste en la résolution de deux exercices sur ordinateur, chacun étant noté sur 4 points.\n",
    "\n",
    "Le candidat est évalué sur la base d'un dialogue avec un professeur-examinateur. Un examinateur évalue au maximum quatre élèves. L'examinateur ne peut pas évaluer un élève qu'il a eu en classe durant l'année en cours.\n",
    "\n",
    "L'évaluation de cette partie se déroule au cours du deuxième trimestre pendant la période de l'épreuve écrite de spécialité.\n",
    "- **Premier exercice**\n",
    "\n",
    "Le premier exercice consiste à programmer un algorithme figurant explicitement au programme, ne présentant pas de difficulté particulière, dont on fournit une spécification. Il s'agit donc de restituer un algorithme rencontré et travaillé à plusieurs reprises en cours de formation. Le sujet peut proposer un jeu de test avec les réponses attendues pour permettre au candidat de vérifier son travail.\n",
    "\n",
    "- **Deuxième exercice**\n",
    "\n",
    "Pour le second exercice, un programme est fourni au candidat. Cet exercice ne demande pas l'écriture complète d'un programme, mais permet de valider des compétences de programmation suivant des modalités variées : le candidat doit, par exemple, compléter un programme « à trous » afin de répondre à une spécification donnée, ou encore compléter un programme pour le documenter, ou encore compléter un programme en ajoutant des assertions, *etc.*\n",
    "</div>"
   ]
  },
  {
   "cell_type": "markdown",
   "metadata": {},
   "source": [
    "<h2 style='text-align:center'>Sujet 026 - énoncé - v0</h2>"
   ]
  },
  {
   "cell_type": "markdown",
   "metadata": {},
   "source": [
    "https://www.education.gouv.fr/bo/20/Special2/MENE2001797N.htm"
   ]
  },
  {
   "cell_type": "markdown",
   "metadata": {},
   "source": [
    "**Durée 1 heure**  \n",
    "***Compte pour 8 points sur 20***"
   ]
  },
  {
   "cell_type": "markdown",
   "metadata": {},
   "source": [
    "<div style=\"font-family: Arial, Times, sans-serif;font-size: 18px\">\n",
    "    <h2 style=\"text-align:center\">EXERCICE 1 (4 points)</h2>\n",
    "    <br/>\n",
    "    <p>\n",
    "        Écrire une fonction <code>occurrence_max</code> prenant en paramètres une chaîne de caractères <code>chaine</code> et qui renvoie le caractère le plus fréquent de la chaîne (on renverra le caractère le plus proche du début de l'alphabet si le maximum d'occurrences est réalisé par plusieurs caractères). La chaine ne contient que des lettres en minuscules sans accent.\n",
    "    </p>\n",
    "    <p>\n",
    "        On pourra s’aider du tableau\n",
    "    </p>\n",
    "    <p><code>alphabet = ['a', 'b', 'c', 'd', 'e', 'f', 'g', 'h', 'i', 'j', 'k', 'l', 'm', 'n', 'o', 'p', 'q', 'r', 's', 't', 'u', 'v', 'w', 'x', 'y', 'z']</code>\n",
    "    </p>\n",
    "    <p>\n",
    "        et du tableau <code>occurrence</code> de 26 éléments où l’on mettra dans <code>occurrence[i]</code> le nombre d’apparitions de <code>alphabet[i]</code> dans la chaine. Puis on calculera l’indice <code>k</code> d’un maximum du tableau <code>occurrence</code> et on affichera <code>alphabet[k]</code>.\n",
    "    </p>\n",
    "    <p>\n",
    "        <i>Exemple</i> :\n",
    "    </p>\n",
    "    <p style=\"padding:0 0 0 0px;font: 18px Courier New, sans-serif;\">\n",
    "        >>> ch = 'je suis en terminale et je passe le bac et je souhaite poursuivre des etudes pour devenir expert en informatique'<br/>\n",
    "        >>> occurrence_max(ch)<br/>\n",
    "        'e'<br/>\n",
    "    </p>\n",
    "</div>"
   ]
  },
  {
   "cell_type": "code",
   "execution_count": null,
   "metadata": {},
   "outputs": [],
   "source": []
  },
  {
   "cell_type": "code",
   "execution_count": null,
   "metadata": {},
   "outputs": [],
   "source": []
  },
  {
   "cell_type": "markdown",
   "metadata": {},
   "source": [
    "<div style=\"font-family: Arial, Times, sans-serif;font-size: 18px\">\n",
    "    <h2 style=\"text-align:center\">EXERCICE 2 (4 points)</h2>\n",
    "    <br/>\n",
    "    <p>\n",
    "        On considère une image en 256 niveaux de gris que l’on représente par une grille de nombres, c’est-à-dire une liste composée de sous-listes toutes de longueurs identiques.\n",
    "    </p>\n",
    "    <p>\n",
    "        La largeur de l’image est donc la longueur d’une sous-liste et la hauteur de l’image est le nombre de sous-listes.\n",
    "    </p>\n",
    "    <p>\n",
    "        Chaque sous-liste représente une ligne de l’image et chaque élément des sous-listes est un entier compris entre 0 et 255, représentant l’intensité lumineuse du pixel.\n",
    "    </p>\n",
    "    <p>\n",
    "        On rappelle que le négatif d'une image est obtenu en remplaçant la valeur de chaque pixel par son écart (son &laquo; <i>complément</i> &raquo;) à l'intensité maximale, ici 255.\n",
    "    </p>\n",
    "    <p>Compléter le programme ci-dessous :\n",
    "    </p>\n",
    "    <br/>\n",
    "    <p style=\"font: 18px Courier New, sans-serif;\">\n",
    "        def nbLig(image):<br/>\n",
    "        <!-- &emsp; équivalent à <span style=\"display:inline-block; width: 36px;\"></span> -->\n",
    "        <br/>\n",
    "        &emsp;&emsp;'''renvoie le nombre de lignes de l'image'''<br/>\n",
    "        &emsp;&emsp;return ...<br/>\n",
    "        <br/>\n",
    "        def nbCol(image):<br/>\n",
    "        &emsp;&emsp;'''renvoie la largeur de l'image'''<br/>\n",
    "        &emsp;&emsp;return ...<br/>\n",
    "        <br/>\n",
    "        def negatif(image):<br/>\n",
    "        &emsp;&emsp;'''renvoie le négatif de l'image sous la forme d'une liste de listes'''<br/>\n",
    "        &emsp;&emsp;# on créé une image dont tous les pixels sont à zéro<br/>\n",
    "        &emsp;&emsp;# et de mêmes dimensions que l'image passée en argument<br/>\n",
    "        &emsp;&emsp;L = [[0 for k in range(nbCol(image))] for i in range(nbLig(image))]<br/>\n",
    "        &emsp;&emsp;for i in range(len(image)):<br/>\n",
    "        &emsp;&emsp;&emsp;&emsp;for j in range(...):<br/>\n",
    "        &emsp;&emsp;&emsp;&emsp;&emsp;&emsp;L[i][j] = ...<br/>\n",
    "        &emsp;&emsp;return L<br/>\n",
    "        <br/>\n",
    "        def binaire(image, seuil):<br/>\n",
    "        &emsp;&emsp;'''renvoie une image binarisée de l'image sous la forme<br/>\n",
    "        <span style=\"display:inline-block; width: 70px;\"></span>d'une liste de listes contenant des 0 si la valeur du pixel<br/>\n",
    "        <span style=\"display:inline-block; width: 70px;\"></span>est strictement inférieure au seuil et 1 sinon'''<br/>\n",
    "        &emsp;&emsp;# on créé une image dont tous les pixels sont à zéro<br/>\n",
    "        &emsp;&emsp;# et de mêmes dimensions que l'image passée en argument<br/>\n",
    "        &emsp;&emsp;L = [[0 for k in range(nbCol(image))] for i in range(nbLig(image))]<br/>\n",
    "        &emsp;&emsp;for i in range(len(image)):<br/>\n",
    "        &emsp;&emsp;&emsp;&emsp;for j in range(...):<br/>\n",
    "        &emsp;&emsp;&emsp;&emsp;&emsp;&emsp;if image[i][j] < ... :<br/>\n",
    "        &emsp;&emsp;&emsp;&emsp;&emsp;&emsp;&emsp;&emsp;L[i][j] = ...<br/>\n",
    "        &emsp;&emsp;&emsp;&emsp;&emsp;&emsp;else:<br/>\n",
    "        &emsp;&emsp;&emsp;&emsp;&emsp;&emsp;&emsp;&emsp;L[i][j] = ...<br/>\n",
    "        &emsp;&emsp;return L<br/>\n",
    "    </p>\n",
    "    <br/>\n",
    "    <p>\n",
    "        <i>Exemple :</i>\n",
    "    </p>\n",
    "    <span style=\"padding:0 0 0 0px;font: 18px Courier New, sans-serif;\">\n",
    "        >>> img=[[20, 34, 254, 145, 6], [23, 124, 187, 225, 69], [197, 174, 207, 25, 87], [255, 0, 24, 197, 189]]<br/>\n",
    "        >>> nbLig(img)<br/>\n",
    "        4<br/>\n",
    "        >>> nbCol(img)<br/>\n",
    "        5<br/>\n",
    "        >>> negatif(img)<br/>\n",
    "        [[235, 221, 1, 110, 249], [232, 131, -32, 30, 186], [58, 81, 48, 230, 168], [0, 255, 231, 58, 66]]<br/>\n",
    "        >>> binaire(img, 120)<br/>\n",
    "        [[0, 0, 1, 1, 0], [0, 1, 1, 1, 0], [1, 1, 1, 0, 0], [1, 0, 0, 1, 1]]<br/>\n",
    "    </span>\n",
    "</div>"
   ]
  },
  {
   "cell_type": "code",
   "execution_count": null,
   "metadata": {},
   "outputs": [],
   "source": []
  },
  {
   "cell_type": "markdown",
   "metadata": {},
   "source": [
    "### Complément : contenu du fichier <code>.py</code> distribué avec le sujet"
   ]
  },
  {
   "cell_type": "code",
   "execution_count": 1,
   "metadata": {},
   "outputs": [],
   "source": [
    "def nbLig(image):\n",
    "    '''renvoie le nombre de lignes de l'image'''\n",
    "    return ...\n",
    "\n",
    "def nbCol(image):\n",
    "    '''renvoie la largeur de l'image'''\n",
    "    return ...\n",
    "\n",
    "def negatif(image):\n",
    "    '''renvoie le négatif de l'image sous la forme d'une liste de listes'''\n",
    "    L = [[0 for k in range(nbCol(image))] for i in range(nbLig(image))] # on créé une image de 0 aux mêmes \n",
    "                                                                        # dimensions que le paramètre image \n",
    "    for i in range(len(image)):\n",
    "        for j in range(...):\n",
    "            L[i][j] = ...\n",
    "    return L\n",
    "\n",
    "def binaire(image, seuil):\n",
    "    '''renvoie une image binarisée de l'image sous la forme d'une liste de listes contenant des 0 si la valeur \n",
    "       du pixel est strictement inférieure au seuil et 1 sinon'''\n",
    "    L = [[0 for k in range(nbCol(image))] for i in range(nbLig(image))] # on crée une image de 0 aux mêmes \n",
    "                                                                        # dimensions que le paramètre image \n",
    "    for i in range(len(image)):\n",
    "        for j in range(...):\n",
    "            if image[i][j] < ... :\n",
    "                L[i][j] = ...\n",
    "            else:\n",
    "                L[i][j] = ...\n",
    "    return L"
   ]
  },
  {
   "cell_type": "code",
   "execution_count": null,
   "metadata": {},
   "outputs": [],
   "source": []
  }
 ],
 "metadata": {
  "kernelspec": {
   "display_name": "Python 3",
   "language": "python",
   "name": "python3"
  },
  "language_info": {
   "codemirror_mode": {
    "name": "ipython",
    "version": 3
   },
   "file_extension": ".py",
   "mimetype": "text/x-python",
   "name": "python",
   "nbconvert_exporter": "python",
   "pygments_lexer": "ipython3",
   "version": "3.7.1"
  },
  "latex_envs": {
   "LaTeX_envs_menu_present": true,
   "autoclose": false,
   "autocomplete": true,
   "bibliofile": "biblio.bib",
   "cite_by": "apalike",
   "current_citInitial": 1,
   "eqLabelWithNumbers": true,
   "eqNumInitial": 1,
   "hotkeys": {
    "equation": "Ctrl-E",
    "itemize": "Ctrl-I"
   },
   "labels_anchors": false,
   "latex_user_defs": false,
   "report_style_numbering": false,
   "user_envs_cfg": false
  }
 },
 "nbformat": 4,
 "nbformat_minor": 4
}
