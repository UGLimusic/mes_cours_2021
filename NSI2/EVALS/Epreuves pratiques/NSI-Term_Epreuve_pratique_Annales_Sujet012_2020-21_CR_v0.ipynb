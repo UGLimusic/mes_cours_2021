{
 "cells": [
  {
   "cell_type": "markdown",
   "metadata": {},
   "source": [
    "<h1 style='text-align:center'>N.S.I. Term. - 2021.02.15 - Annales - sem20 (prn24)</h1>\n",
    "<h2 style='text-align:center'>Annales Épreuve Pratique 2020-21</h2>\n",
    "<h2 style='text-align:center'>Sujet 012 - corrigé</h2>"
   ]
  },
  {
   "cell_type": "markdown",
   "metadata": {},
   "source": [
    "* Cadrage officiel :  https://www.education.gouv.fr/bo/20/Special2/MENE2001797N.htm"
   ]
  },
  {
   "cell_type": "markdown",
   "metadata": {},
   "source": [
    "**Durée : 1 heure**<br/>\n",
    "<br/>\n",
    "<span style=\"color:blue;font-weight:900;font-family:Arial;font:20px Arial\">**Modalités**</span>\n",
    "<br/>\n",
    "<br/>\n",
    "<div style=\"font:16px Arial\">\n",
    "La partie pratique consiste en la résolution de deux exercices sur ordinateur, chacun étant noté sur 4 points.\n",
    "\n",
    "Le candidat est évalué sur la base d'un dialogue avec un professeur-examinateur. Un examinateur évalue au maximum quatre élèves. L'examinateur ne peut pas évaluer un élève qu'il a eu en classe durant l'année en cours.\n",
    "\n",
    "L'évaluation de cette partie se déroule au cours du deuxième trimestre pendant la période de l'épreuve écrite de spécialité.\n",
    "- **Premier exercice**\n",
    "\n",
    "Le premier exercice consiste à programmer un algorithme figurant explicitement au programme, ne présentant pas de difficulté particulière, dont on fournit une spécification. Il s'agit donc de restituer un algorithme rencontré et travaillé à plusieurs reprises en cours de formation. Le sujet peut proposer un jeu de test avec les réponses attendues pour permettre au candidat de vérifier son travail.\n",
    "\n",
    "- **Deuxième exercice**\n",
    "\n",
    "Pour le second exercice, un programme est fourni au candidat. Cet exercice ne demande pas l'écriture complète d'un programme, mais permet de valider des compétences de programmation suivant des modalités variées : le candidat doit, par exemple, compléter un programme « à trous » afin de répondre à une spécification donnée, ou encore compléter un programme pour le documenter, ou encore compléter un programme en ajoutant des assertions, *etc.*\n",
    "</div>"
   ]
  },
  {
   "cell_type": "markdown",
   "metadata": {},
   "source": [
    "<h2 style='text-align:center'>Sujet 012 - corrigé - v0</h2>"
   ]
  },
  {
   "cell_type": "markdown",
   "metadata": {},
   "source": [
    "https://www.education.gouv.fr/bo/20/Special2/MENE2001797N.htm"
   ]
  },
  {
   "cell_type": "markdown",
   "metadata": {},
   "source": [
    "**Durée 1 heure**  \n",
    "***Compte pour 8 points sur 20***"
   ]
  },
  {
   "cell_type": "markdown",
   "metadata": {},
   "source": [
    "<div style=\"font-family: \"Arial\", Times, serif;\">\n",
    "<h2 style=\"text-align:center\">EXERCICE 1 (4 points) [idem sujet 10 - Exercice 1]</h2>\n",
    "<span style=\"font: 18px Arial, sans-serif;\">\n",
    "<br/>\n",
    "\n",
    "<p>\n",
    "    Écrire une fonction <code>maxi</code> qui prend en paramètre une liste <code>tab</code>, supposée non vide, de nombres entiers et renvoie un couple donnant le plus grand élément de cette liste, ainsi que l’indice de la première apparition de ce maximum dans la liste.\n",
    "</p>\n",
    "<p style=\"font: 18px Arial, sans-serif;\">\n",
    "<i>Exemple :</i>\n",
    "</p>\n",
    "<p style=\"padding:0 0 0 0px;font: 18px Courier New, sans-serif;\">\n",
    ">>> maxi([1, 5, 6, 9, 1, 2, 3, 7, 9, 8])<br/>\n",
    "(9, 3)<br/>\n",
    "</p>\n",
    "</div>\n",
    "</span>\n",
    "</div>"
   ]
  },
  {
   "cell_type": "code",
   "execution_count": null,
   "metadata": {},
   "outputs": [],
   "source": []
  },
  {
   "cell_type": "markdown",
   "metadata": {},
   "source": [
    "### Corrigé"
   ]
  },
  {
   "cell_type": "code",
   "execution_count": 1,
   "metadata": {},
   "outputs": [],
   "source": [
    "def maxi(tab):\n",
    "    vmax, posmax = tab[0], 0\n",
    "    for k in range(1, len(tab)):\n",
    "        if tab[k] > vmax:\n",
    "            vmax, posmax = tab[k], k\n",
    "    return vmax, posmax"
   ]
  },
  {
   "cell_type": "markdown",
   "metadata": {},
   "source": [
    "$\\checkmark\\;$ test"
   ]
  },
  {
   "cell_type": "code",
   "execution_count": 2,
   "metadata": {},
   "outputs": [
    {
     "data": {
      "text/plain": [
       "(9, 3)"
      ]
     },
     "execution_count": 2,
     "metadata": {},
     "output_type": "execute_result"
    }
   ],
   "source": [
    "maxi([1, 5, 6, 9, 1, 2, 3, 7, 9, 8])"
   ]
  },
  {
   "cell_type": "markdown",
   "metadata": {},
   "source": [
    "<div style=\"font-family: Arial, Times, serif;\">\n",
    "<h2 style=\"text-align:center\">EXERCICE 2 (4 points)</h2>\n",
    "<span style=\"font: 18px Arial, sans-serif;\">\n",
    "<br/>\n",
    "<p>\n",
    "La fonction <code>recherche</code> prend en paramètres deux chaines de caractères <code>gene</code> et <code>seq_adn</code> et renvoie <code>True</code> si on retrouve <code>gene</code> dans <code>seq_adn</code> et <code>False</code> sinon.\n",
    "</p>\n",
    "<p>\n",
    "Compléter le code Python ci-dessous pour qu’il implémente la fonction <code>recherche</code>.\n",
    "</p>\n",
    "</span>\n",
    "<br/>\n",
    "<br/>\n",
    "<span style=\"font: 18px Courier New, sans-serif;\">\n",
    "def recherche(gene, seq_adn):<br/>\n",
    "<span style=\"display:inline-block; width: 36px;\"></span>n = len(seq_adn)<br/>\n",
    "&emsp;&emsp;g = len(gene)<br/>\n",
    "&emsp;&emsp;i = ...<br/>\n",
    "&emsp;&emsp;trouve = False<br/>\n",
    "&emsp;&emsp;while i < ... and trouve == ... :<br/>\n",
    "&emsp;&emsp;&emsp;&emsp;j = 0<br/>\n",
    "&emsp;&emsp;&emsp;&emsp;while j < g and gene[j] == seq_adn[i+j]:<br/>\n",
    "&emsp;&emsp;&emsp;&emsp;&emsp;&emsp;...<br/>\n",
    "&emsp;&emsp;&emsp;&emsp;if j == g:<br/>\n",
    "&emsp;&emsp;&emsp;&emsp;&emsp;&emsp;trouve = True<br/>\n",
    "&emsp;&emsp;&emsp;&emsp;...<br/>\n",
    "&emsp;&emsp;return trouve<br/>\n",
    "</span>\n",
    "<br/>\n",
    "<p style=\"font: 18px Arial, sans-serif;\">\n",
    "<i>Exemples :</i>\n",
    "</p>\n",
    "<p style=\"padding:0 0 0 0px;font: 18px Courier New, sans-serif;\">\n",
    ">>> recherche(\"AATC\", \"GTACAAATCTTGCC\")<br/>\n",
    "True<br/>\n",
    ">>> recherche(\"AGTC\", \"GTACAAATCTTGCC\")<br/>\n",
    "False<br/>\n",
    "</p>\n",
    "</div>\n",
    "</span>\n",
    "</div>"
   ]
  },
  {
   "cell_type": "code",
   "execution_count": null,
   "metadata": {},
   "outputs": [],
   "source": []
  },
  {
   "cell_type": "markdown",
   "metadata": {},
   "source": [
    "### Complément : contenu du fichier <code>.py</code> distribué avec le sujet"
   ]
  },
  {
   "cell_type": "code",
   "execution_count": 3,
   "metadata": {},
   "outputs": [],
   "source": [
    "def recherche(gene, seq_adn):\n",
    "    n = len(seq_adn)\n",
    "    g = len(gene)\n",
    "    i = ...\n",
    "    trouve = False\n",
    "    while i < ... and trouve == ... :\n",
    "        j = 0\n",
    "        while j < g and gene[j] == seq_adn[i+j]:\n",
    "            ...\n",
    "        if j == g:\n",
    "            trouve = True\n",
    "        ...\n",
    "    return trouve"
   ]
  },
  {
   "cell_type": "code",
   "execution_count": null,
   "metadata": {},
   "outputs": [],
   "source": []
  },
  {
   "cell_type": "markdown",
   "metadata": {},
   "source": [
    "### Corrigé"
   ]
  },
  {
   "cell_type": "code",
   "execution_count": 4,
   "metadata": {},
   "outputs": [],
   "source": [
    "def recherche(gene, seq_adn):\n",
    "    n = len(seq_adn)\n",
    "    g = len(gene)\n",
    "    i = 0 #on initie le parcours de la chaîne seq_adn à l'aide de l'indice i\n",
    "    trouve = False\n",
    "    while i < n and trouve == False : # parcours de la chaîne seq_adn jusqu'à trouver la séquence gene\n",
    "                                      # ou jusqu'à arriver à son dernier caractère\n",
    "        j = 0 #on initie le parcours de la chaîne gene à l'aide de l'indice j\n",
    "        while j < g and gene[j] == seq_adn[i+j]: # parcours conjoint de la chaîne gene et la chaîne seq_adn\n",
    "                                                 # à partir de son caractère d'indice i, jusqu'à trouver\n",
    "                                                 # un caractère distinct dans les deux chaînes\n",
    "                                                 # ou jusqu'à arriver au dernier caractère la séquence gene\n",
    "            j += 1 # on passe à la position suivante dans la chaîne gene\n",
    "        ## en sortie de boucle while, soit j == g (on a atteint la fin de la chaîne gene,\n",
    "        ## i.e. on a trouvé la séquence gene dans la chaîne seq_adn)\n",
    "        ## ou bien gene[j] != seq_adn[i+j] (la chaîne gene n'a pas été trouvée, à partir de la position i\n",
    "        ## dans la chaîne seq_adn)\n",
    "        if j == g:\n",
    "            trouve = True # on a trouvé la séquence gene dans la chaîne seq_adn\n",
    "        i += 1 # on passe à la position suivante dans la sequence seq_adn\n",
    "    ## en sortie de boucle while, soit on a trouvé la chaîne gene comme sous-chaîne de la chaîne seq_adn\n",
    "    ## ou bien i ==n et la chaîne gene n'a pas été trouvée comme sous-chaîne de la chaîne seq_adn\n",
    "    return trouve"
   ]
  },
  {
   "cell_type": "markdown",
   "metadata": {},
   "source": [
    "$\\checkmark\\;$ tests"
   ]
  },
  {
   "cell_type": "code",
   "execution_count": 5,
   "metadata": {},
   "outputs": [
    {
     "data": {
      "text/plain": [
       "True"
      ]
     },
     "execution_count": 5,
     "metadata": {},
     "output_type": "execute_result"
    }
   ],
   "source": [
    "recherche(\"AATC\", \"GTACAAATCTTGCC\")"
   ]
  },
  {
   "cell_type": "code",
   "execution_count": 6,
   "metadata": {},
   "outputs": [
    {
     "data": {
      "text/plain": [
       "False"
      ]
     },
     "execution_count": 6,
     "metadata": {},
     "output_type": "execute_result"
    }
   ],
   "source": [
    "recherche(\"AGTC\", \"GTACAAATCTTGCC\")"
   ]
  },
  {
   "cell_type": "markdown",
   "metadata": {},
   "source": [
    "***Note :*** le test `i < n` dans la boucle `while` la plus extérieure, peut-être changé en `i < n - g + 1`.  \n",
    "    En effet, la chaîne `gene` ne peut être présente comme sous-chaîne de la chaîne `seq_adn`, à partir d'une position `i` que si `i` est tel que $i+g-1<n$, car si la séquence `gene` est présente dans la chaîne `seq_adn` avec son premier caractère en position `i`, son dernier caractère devra être en position `i + g - 1` dans la chaîne `seq_adn` et cette position doit être inférieure strictement à la longueur, $n$, de la chaîne `seq_adn`, pour que cette position existe dans la chaîne `seq_adn`.  \n",
    "    Cette condition, $i+g-1<n$ est équivalente à $i<n-g+1$."
   ]
  },
  {
   "cell_type": "markdown",
   "metadata": {},
   "source": [
    "* Vérification de la condition plus restrictive `i < n - g + 1`, sur un test où la séquence `gene` à trouver est en fin de la chaîne `seq_adn` :"
   ]
  },
  {
   "cell_type": "code",
   "execution_count": 7,
   "metadata": {},
   "outputs": [],
   "source": [
    "def recherche1(gene, seq_adn):\n",
    "    n = len(seq_adn)\n",
    "    g = len(gene)\n",
    "    i = 0\n",
    "    trouve = False\n",
    "    while i < n - g + 1 and trouve == False :\n",
    "        j = 0\n",
    "        while j < g and gene[j] == seq_adn[i+j]:\n",
    "            j += 1\n",
    "        if j == g:\n",
    "            trouve = True\n",
    "        i += 1\n",
    "    return trouve"
   ]
  },
  {
   "cell_type": "code",
   "execution_count": 8,
   "metadata": {},
   "outputs": [
    {
     "data": {
      "text/plain": [
       "True"
      ]
     },
     "execution_count": 8,
     "metadata": {},
     "output_type": "execute_result"
    }
   ],
   "source": [
    "recherche1(\"TGCC\", \"GTACAAATCTTGCC\")"
   ]
  },
  {
   "cell_type": "code",
   "execution_count": 9,
   "metadata": {},
   "outputs": [
    {
     "data": {
      "text/plain": [
       "(True, False)"
      ]
     },
     "execution_count": 9,
     "metadata": {},
     "output_type": "execute_result"
    }
   ],
   "source": [
    "## tests avec les précédents exemples\n",
    "recherche1(\"AATC\", \"GTACAAATCTTGCC\"), recherche1(\"AGTC\", \"GTACAAATCTTGCC\")"
   ]
  },
  {
   "cell_type": "code",
   "execution_count": null,
   "metadata": {},
   "outputs": [],
   "source": []
  }
 ],
 "metadata": {
  "kernelspec": {
   "display_name": "Python 3",
   "language": "python",
   "name": "python3"
  },
  "language_info": {
   "codemirror_mode": {
    "name": "ipython",
    "version": 3
   },
   "file_extension": ".py",
   "mimetype": "text/x-python",
   "name": "python",
   "nbconvert_exporter": "python",
   "pygments_lexer": "ipython3",
   "version": "3.7.1"
  },
  "latex_envs": {
   "LaTeX_envs_menu_present": true,
   "autoclose": false,
   "autocomplete": true,
   "bibliofile": "biblio.bib",
   "cite_by": "apalike",
   "current_citInitial": 1,
   "eqLabelWithNumbers": true,
   "eqNumInitial": 1,
   "hotkeys": {
    "equation": "Ctrl-E",
    "itemize": "Ctrl-I"
   },
   "labels_anchors": false,
   "latex_user_defs": false,
   "report_style_numbering": false,
   "user_envs_cfg": false
  }
 },
 "nbformat": 4,
 "nbformat_minor": 4
}
