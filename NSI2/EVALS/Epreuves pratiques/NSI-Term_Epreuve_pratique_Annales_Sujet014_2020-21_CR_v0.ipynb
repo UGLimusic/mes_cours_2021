{
 "cells": [
  {
   "cell_type": "markdown",
   "metadata": {},
   "source": [
    "<h1 style='text-align:center'>N.S.I. Term. - 2021.02.15 - Annales - sem20 (prn24)</h1>\n",
    "<h2 style='text-align:center'>Annales Épreuve Pratique 2020-21</h2>\n",
    "<h2 style='text-align:center'>Sujet 014 - corrigé</h2>"
   ]
  },
  {
   "cell_type": "markdown",
   "metadata": {},
   "source": [
    "* Cadrage officiel :  https://www.education.gouv.fr/bo/20/Special2/MENE2001797N.htm"
   ]
  },
  {
   "cell_type": "markdown",
   "metadata": {},
   "source": [
    "**Durée : 1 heure**<br/>\n",
    "<br/>\n",
    "<span style=\"color:blue;font-weight:900;font-family:Arial;font:20px Arial\">**Modalités**</span>\n",
    "<br/>\n",
    "<br/>\n",
    "<div style=\"font:16px Arial\">\n",
    "La partie pratique consiste en la résolution de deux exercices sur ordinateur, chacun étant noté sur 4 points.\n",
    "\n",
    "Le candidat est évalué sur la base d'un dialogue avec un professeur-examinateur. Un examinateur évalue au maximum quatre élèves. L'examinateur ne peut pas évaluer un élève qu'il a eu en classe durant l'année en cours.\n",
    "\n",
    "L'évaluation de cette partie se déroule au cours du deuxième trimestre pendant la période de l'épreuve écrite de spécialité.\n",
    "- **Premier exercice**\n",
    "\n",
    "Le premier exercice consiste à programmer un algorithme figurant explicitement au programme, ne présentant pas de difficulté particulière, dont on fournit une spécification. Il s'agit donc de restituer un algorithme rencontré et travaillé à plusieurs reprises en cours de formation. Le sujet peut proposer un jeu de test avec les réponses attendues pour permettre au candidat de vérifier son travail.\n",
    "\n",
    "- **Deuxième exercice**\n",
    "\n",
    "Pour le second exercice, un programme est fourni au candidat. Cet exercice ne demande pas l'écriture complète d'un programme, mais permet de valider des compétences de programmation suivant des modalités variées : le candidat doit, par exemple, compléter un programme « à trous » afin de répondre à une spécification donnée, ou encore compléter un programme pour le documenter, ou encore compléter un programme en ajoutant des assertions, *etc.*\n",
    "</div>"
   ]
  },
  {
   "cell_type": "markdown",
   "metadata": {},
   "source": [
    "<h2 style='text-align:center'>Sujet 014 - corrigé - v0</h2>"
   ]
  },
  {
   "cell_type": "markdown",
   "metadata": {},
   "source": [
    "https://www.education.gouv.fr/bo/20/Special2/MENE2001797N.htm"
   ]
  },
  {
   "cell_type": "markdown",
   "metadata": {},
   "source": [
    "**Durée 1 heure**  \n",
    "***Compte pour 8 points sur 20***"
   ]
  },
  {
   "cell_type": "markdown",
   "metadata": {},
   "source": [
    "<div style=\"font-family: \"Arial\", Times, serif;\">\n",
    "<h2 style=\"text-align:center\">EXERCICE 1 (4 points)</h2>\n",
    "<span style=\"font: 18px Arial, sans-serif;\">\n",
    "<br/>\n",
    "\n",
    "<p>\n",
    "    Écrire une fonction <code>recherche</code> qui prend en paramètres <code>elt</code> un nombre et <code>tab</code> un tableau de nombres, et qui renvoie le tableau des indices de <code>elt</code> dans <code>tab</code> si <code>elt</code> est dans <code>tab</code> et le tableau vide <code>[]</code> sinon.\n",
    "</p>\n",
    "<br/>\n",
    "<p style=\"font: 18px Arial, sans-serif;\">\n",
    "<i>Exemples :</i>\n",
    "</p>\n",
    "<p style=\"padding:0 0 0 0px;font: 18px Courier New, sans-serif;\">\n",
    ">>> recherche(3, [3, 2, 1, 3, 2, 1])<br/>\n",
    "[0, 3]<br/>\n",
    ">>> recherche(4, [1, 2, 3])<br/>\n",
    "[]<br/>\n",
    "</p>\n",
    "</div>\n",
    "</span>\n",
    "</div>"
   ]
  },
  {
   "cell_type": "code",
   "execution_count": null,
   "metadata": {},
   "outputs": [],
   "source": []
  },
  {
   "cell_type": "markdown",
   "metadata": {},
   "source": [
    "### Corrigé"
   ]
  },
  {
   "cell_type": "code",
   "execution_count": 1,
   "metadata": {},
   "outputs": [],
   "source": [
    "def recherche(elt, tab):\n",
    "    positions_occurrences = []## initialisation de la liste des positions où la valeur elt se trouve dans tab\n",
    "    for i in range(len(tab)): ## parcours du tableau par les indices\n",
    "        if tab[i] == elt:                  ## si l'on trouve la valeur elt à la position i\n",
    "            positions_occurrences.append(i)## on enregistre la position i dans la liste de ses positions dans tab\n",
    "    return positions_occurrences"
   ]
  },
  {
   "cell_type": "markdown",
   "metadata": {},
   "source": [
    "$\\checkmark\\;$ tests"
   ]
  },
  {
   "cell_type": "code",
   "execution_count": 2,
   "metadata": {},
   "outputs": [
    {
     "data": {
      "text/plain": [
       "[0, 3]"
      ]
     },
     "execution_count": 2,
     "metadata": {},
     "output_type": "execute_result"
    }
   ],
   "source": [
    "recherche(3, [3, 2, 1, 3, 2, 1])"
   ]
  },
  {
   "cell_type": "code",
   "execution_count": 3,
   "metadata": {},
   "outputs": [
    {
     "data": {
      "text/plain": [
       "[]"
      ]
     },
     "execution_count": 3,
     "metadata": {},
     "output_type": "execute_result"
    }
   ],
   "source": [
    "recherche(4, [1, 2, 3])"
   ]
  },
  {
   "cell_type": "markdown",
   "metadata": {},
   "source": [
    "<div style=\"font-family: Arial, Times, serif;\">\n",
    "<h2 style=\"text-align:center\">EXERCICE 2 (4 points)</h2>\n",
    "<span style=\"font: 18px Arial, sans-serif;\">\n",
    "<br/>\n",
    "<p>\n",
    "Un professeur de NSI décide de gérer les résultats de sa classe sous la forme d’un dictionnaire :\n",
    "</p>\n",
    "    <ul>\n",
    "    <li>les clefs sont les noms des élèves ;</li>\n",
    "    <li>les valeurs sont des dictionnaires dont les clefs sont les noms des épreuves et les valeurs sont les notes obtenues associées à leurs coefficients.</li>\n",
    "    </ul>\n",
    "<p>\n",
    "Avec :\n",
    "    </p>\n",
    "</span>\n",
    "<br/>\n",
    "<span style=\"font: 18px Courier New, sans-serif;\">\n",
    "resultats = {'Dupont':{'DS1' : [15.5, 4],<br/>\n",
    "<span style=\"display:inline-block; width: 248px;\"></span>'DM1' : [14.5, 1],<br/>\n",
    "<span style=\"display:inline-block; width: 248px;\"></span>'DS2' : [13, 4],<br/>\n",
    "<span style=\"display:inline-block; width: 248px;\"></span>'PROJET1' : [16, 3],<br/>\n",
    "<span style=\"display:inline-block; width: 248px;\"></span>'DS3' : [14, 4]},<br/>\n",
    "<span style=\"display:inline-block; width: 140px;\"></span>'Durand':{'DS1' : [6 , 4],<br/>\n",
    "<span style=\"display:inline-block; width: 248px;\"></span>'DM1' : [14.5, 1],<br/>\n",
    "<span style=\"display:inline-block; width: 248px;\"></span>'DS2' : [8, 4],<br/>\n",
    "<span style=\"display:inline-block; width: 248px;\"></span>'PROJET1' : [9, 3],<br/>\n",
    "<span style=\"display:inline-block; width: 248px;\"></span>'IE1' : [7, 2],<br/>\n",
    "<span style=\"display:inline-block; width: 248px;\"></span>'DS3' : [8, 4],<br/>\n",
    "<span style=\"display:inline-block; width: 248px;\"></span>'DS4' : [15, 4]}}<br/>\n",
    "<br/>\n",
    "    </span>\n",
    "<span style=\"font: 18px Arial, sans-serif;\">\n",
    "<p>\n",
    "L’élève dont le nom est Durand a ainsi obtenu au DS2 la note de 8 avec un coefficient 4.\n",
    "</p><p>\n",
    "Le professeur crée une fonction <code>moyenne</code> qui prend en paramètre le nom d’un de ces élèves et lui renvoie sa moyenne arrondie au dixième.\n",
    "</p>\n",
    "<br/>\n",
    "<p>\n",
    "Compléter le code du professeur ci-dessous :\n",
    "</p>\n",
    "<br/>\n",
    "    <br/>\n",
    "</span>\n",
    "    <span style=\"font: 18px Courier New, sans-serif;\">\n",
    "    def moyenne(nom):<br/>\n",
    "<span style=\"display:inline-block; width: 36px;\"></span>if nom in ...:<br/>\n",
    "&emsp;&emsp;&emsp;&emsp;notes = resultats[nom]<br/>\n",
    "&emsp;&emsp;&emsp;&emsp;total_points = ...<br/>\n",
    "&emsp;&emsp;&emsp;&emsp;total_coefficients = ...<br/>\n",
    "&emsp;&emsp;&emsp;&emsp;for ... in notes.values():<br/>\n",
    "&emsp;&emsp;&emsp;&emsp;&emsp;&emsp;note, coefficient = valeurs<br/>\n",
    "&emsp;&emsp;&emsp;&emsp;&emsp;&emsp;total_points = total_points + ... * coefficient<br/>\n",
    "&emsp;&emsp;&emsp;&emsp;&emsp;&emsp;total_coefficients = ... + coefficient<br/>\n",
    "&emsp;&emsp;&emsp;&emsp;return round( ... / total_coefficients, 1)<br/>\n",
    "&emsp;&emsp;else:<br/>\n",
    "&emsp;&emsp;&emsp;&emsp;return -1<br/>\n",
    "</span>\n",
    "</div>"
   ]
  },
  {
   "cell_type": "code",
   "execution_count": null,
   "metadata": {},
   "outputs": [],
   "source": []
  },
  {
   "cell_type": "markdown",
   "metadata": {},
   "source": [
    "### Complément : contenu du fichier <code>.py</code> distribué avec le sujet"
   ]
  },
  {
   "cell_type": "code",
   "execution_count": null,
   "metadata": {},
   "outputs": [],
   "source": [
    "resultats = {'Dupont':{'DS1' : [15.5, 4],\n",
    "                       'DM1' : [14.5, 1],\n",
    "                       'DS2' : [13, 4],\n",
    "                       'PROJET1' : [16, 3],\n",
    "                       'DS3' : [14, 4]},\n",
    "             'Durand':{'DS1' : [6 , 4],\n",
    "                       'DM1' : [14.5, 1],\n",
    "                       'DS2' : [8, 4],\n",
    "                       'PROJET1' : [9, 3],\n",
    "                       'IE1' : [7, 2],\n",
    "                       'DS3' : [8, 4],\n",
    "                       'DS4' : [15, 4]}}\n",
    "\n",
    "\n",
    "def moyenne(nom):\n",
    "    if nom in ...:\n",
    "        notes = resultats[nom]\n",
    "        total_points = ...\n",
    "        total_coefficients = ...\n",
    "        for ...  in notes.values():\n",
    "            note , coefficient = valeurs\n",
    "            total_points = total_points + ... * coefficient\n",
    "            total_coefficients = ... + coefficient\n",
    "        return round( ... / total_coefficients, 1)\n",
    "    else:\n",
    "        return -1"
   ]
  },
  {
   "cell_type": "code",
   "execution_count": null,
   "metadata": {},
   "outputs": [],
   "source": []
  },
  {
   "cell_type": "markdown",
   "metadata": {},
   "source": [
    "### Corrigé"
   ]
  },
  {
   "cell_type": "markdown",
   "metadata": {},
   "source": [
    "On notera que la liste <code>resultats</code> est utilisée en tant que variable globale.  \n",
    "Il n'est pas nécessaire que cette liste soit définie avant la fonction <code>moyenne</code>, mais doit l'être avant tout appel à la fonction <code>moyenne</code>."
   ]
  },
  {
   "cell_type": "code",
   "execution_count": 4,
   "metadata": {},
   "outputs": [],
   "source": [
    "def moyenne(nom):\n",
    "    if nom in resultats.keys(): ## si le nom est présent parmi les clés du dictionnaire resultats\n",
    "        notes = resultats[nom]  ## on accède au dictionnaire des notes de l'élève\n",
    "        total_points = 0        ## initialisation du total des points obtenus par l'élève\n",
    "        total_coefficients = 0  ## initialisation du total des coefficients des devoirs faits par l'élève\n",
    "        for valeurs  in notes.values():\n",
    "            note, coefficient = valeurs\n",
    "            total_points = total_points + note * coefficient ## mise à jour du total des points coefficientés obtenus\n",
    "            total_coefficients = total_coefficients + coefficient ## mise à jour du total des coefficients\n",
    "        return round( total_points / total_coefficients, 1)## calcul de la moyenne, arrondi à la première décimale\n",
    "    else:\n",
    "        return -1"
   ]
  },
  {
   "cell_type": "markdown",
   "metadata": {},
   "source": [
    "$\\checkmark\\;$ tests"
   ]
  },
  {
   "cell_type": "code",
   "execution_count": 5,
   "metadata": {},
   "outputs": [],
   "source": [
    "resultats = {'Dupont':{'DS1' : [15.5, 4],\n",
    "                       'DM1' : [14.5, 1],\n",
    "                       'DS2' : [13, 4],\n",
    "                       'PROJET1' : [16, 3],\n",
    "                       'DS3' : [14, 4]},\n",
    "             'Durand':{'DS1' : [6 , 4],\n",
    "                       'DM1' : [14.5, 1],\n",
    "                       'DS2' : [8, 4],\n",
    "                       'PROJET1' : [9, 3],\n",
    "                       'IE1' : [7, 2],\n",
    "                       'DS3' : [8, 4],\n",
    "                       'DS4' : [15, 4]}}"
   ]
  },
  {
   "cell_type": "code",
   "execution_count": 6,
   "metadata": {},
   "outputs": [
    {
     "data": {
      "text/plain": [
       "(14.5, 14.53125)"
      ]
     },
     "execution_count": 6,
     "metadata": {},
     "output_type": "execute_result"
    }
   ],
   "source": [
    "moyenne('Dupont'), (15.5 * 4 + 14.5 * 1 + 13 * 4 + 16 * 3 + 14 * 4) / (4 + 1 + 4 + 3 + 4)"
   ]
  },
  {
   "cell_type": "code",
   "execution_count": 7,
   "metadata": {},
   "outputs": [
    {
     "data": {
      "text/plain": [
       "(9.2, 9.25)"
      ]
     },
     "execution_count": 7,
     "metadata": {},
     "output_type": "execute_result"
    }
   ],
   "source": [
    "moyenne('Durand'), (6 * 4 + 14.5 * 1 + 8 * 4 + 9 * 3 + 7 * 2 + 8 * 4 + 15 * 4) / (4 + 1 + 4 + 3 + 2 + 4 + 4)"
   ]
  },
  {
   "cell_type": "code",
   "execution_count": null,
   "metadata": {},
   "outputs": [],
   "source": []
  }
 ],
 "metadata": {
  "kernelspec": {
   "display_name": "Python 3",
   "language": "python",
   "name": "python3"
  },
  "language_info": {
   "codemirror_mode": {
    "name": "ipython",
    "version": 3
   },
   "file_extension": ".py",
   "mimetype": "text/x-python",
   "name": "python",
   "nbconvert_exporter": "python",
   "pygments_lexer": "ipython3",
   "version": "3.7.1"
  },
  "latex_envs": {
   "LaTeX_envs_menu_present": true,
   "autoclose": false,
   "autocomplete": true,
   "bibliofile": "biblio.bib",
   "cite_by": "apalike",
   "current_citInitial": 1,
   "eqLabelWithNumbers": true,
   "eqNumInitial": 1,
   "hotkeys": {
    "equation": "Ctrl-E",
    "itemize": "Ctrl-I"
   },
   "labels_anchors": false,
   "latex_user_defs": false,
   "report_style_numbering": false,
   "user_envs_cfg": false
  }
 },
 "nbformat": 4,
 "nbformat_minor": 4
}
