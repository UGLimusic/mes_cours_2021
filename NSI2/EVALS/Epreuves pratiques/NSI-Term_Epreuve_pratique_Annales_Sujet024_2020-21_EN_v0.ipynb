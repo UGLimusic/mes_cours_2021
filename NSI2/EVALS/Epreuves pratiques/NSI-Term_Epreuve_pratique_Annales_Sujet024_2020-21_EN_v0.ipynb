{
 "cells": [
  {
   "cell_type": "markdown",
   "metadata": {},
   "source": [
    "<h1 style='text-align:center'>N.S.I. Term. - 2021.02.15 - Annales - sem20 (prn24)</h1>\n",
    "<h2 style='text-align:center'>Annales Épreuve Pratique 2020-21</h2>\n",
    "<h2 style='text-align:center'>Sujet 024 - énoncé</h2>"
   ]
  },
  {
   "cell_type": "markdown",
   "metadata": {},
   "source": [
    "* Cadrage officiel :  https://www.education.gouv.fr/bo/20/Special2/MENE2001797N.htm"
   ]
  },
  {
   "cell_type": "markdown",
   "metadata": {},
   "source": [
    "**Durée : 1 heure**<br/>\n",
    "<br/>\n",
    "<span style=\"color:blue;font-weight:900;font-family:Arial;font:20px Arial\">**Modalités**</span>\n",
    "<br/>\n",
    "<br/>\n",
    "<div style=\"font:16px Arial\">\n",
    "La partie pratique consiste en la résolution de deux exercices sur ordinateur, chacun étant noté sur 4 points.\n",
    "\n",
    "Le candidat est évalué sur la base d'un dialogue avec un professeur-examinateur. Un examinateur évalue au maximum quatre élèves. L'examinateur ne peut pas évaluer un élève qu'il a eu en classe durant l'année en cours.\n",
    "\n",
    "L'évaluation de cette partie se déroule au cours du deuxième trimestre pendant la période de l'épreuve écrite de spécialité.\n",
    "- **Premier exercice**\n",
    "\n",
    "Le premier exercice consiste à programmer un algorithme figurant explicitement au programme, ne présentant pas de difficulté particulière, dont on fournit une spécification. Il s'agit donc de restituer un algorithme rencontré et travaillé à plusieurs reprises en cours de formation. Le sujet peut proposer un jeu de test avec les réponses attendues pour permettre au candidat de vérifier son travail.\n",
    "\n",
    "- **Deuxième exercice**\n",
    "\n",
    "Pour le second exercice, un programme est fourni au candidat. Cet exercice ne demande pas l'écriture complète d'un programme, mais permet de valider des compétences de programmation suivant des modalités variées : le candidat doit, par exemple, compléter un programme « à trous » afin de répondre à une spécification donnée, ou encore compléter un programme pour le documenter, ou encore compléter un programme en ajoutant des assertions, *etc.*\n",
    "</div>"
   ]
  },
  {
   "cell_type": "markdown",
   "metadata": {},
   "source": [
    "<h2 style='text-align:center'>Sujet 024 - énoncé - v0</h2>"
   ]
  },
  {
   "cell_type": "markdown",
   "metadata": {},
   "source": [
    "https://www.education.gouv.fr/bo/20/Special2/MENE2001797N.htm"
   ]
  },
  {
   "cell_type": "markdown",
   "metadata": {},
   "source": [
    "**Durée 1 heure**  \n",
    "***Compte pour 8 points sur 20***"
   ]
  },
  {
   "cell_type": "markdown",
   "metadata": {},
   "source": [
    "<div style=\"font-family: Arial, Times, sans-serif;font-size: 18px\">\n",
    "    <h2 style=\"text-align:center\">EXERCICE 1 (4 points)</h2>\n",
    "    <br/>\n",
    "    <p>\n",
    "        Écrire une fonction <code>recherche</code> qui prend en paramètres <code>elt</code> un nombre et <code>tab</code> un tableau de nombres, et qui renvoie l’indice de la dernière occurrence de <code>elt</code> dans <code>tab</code> si <code>elt</code> est dans <code>tab</code> et <code>-1</code> sinon.\n",
    "    </p>\n",
    "    <p>\n",
    "        <i>Exemples</i> :\n",
    "    </p>\n",
    "    <p style=\"padding:0 0 0 0px;font: 18px Courier New, sans-serif;\">\n",
    "        >>> recherche(1, [2, 3, 4])<br/>\n",
    "        -1<br/>\n",
    "        >>> recherche(1, [10, 12, 1, 56])<br/>\n",
    "        2<br/>\n",
    "        >>> recherche(1, [1, 50, 1])<br/>\n",
    "        2<br/>\n",
    "        >>> recherche(1, [8, 1, 10, 1, 7, 1, 8])<br/>\n",
    "        5<br/>\n",
    "    </p>\n",
    "</div>"
   ]
  },
  {
   "cell_type": "code",
   "execution_count": null,
   "metadata": {},
   "outputs": [],
   "source": []
  },
  {
   "cell_type": "markdown",
   "metadata": {},
   "source": [
    "<div style=\"font-family: Arial, Times, sans-serif;font-size: 18px\">\n",
    "    <h2 style=\"text-align:center\">EXERCICE 2 (4 points)</h2>\n",
    "    <br/>\n",
    "    <p>\n",
    "        On définit une classe gérant une adresse IPv4.\n",
    "    </p>\n",
    "    <p>\n",
    "        On rappelle qu’une adresse IPv4 est une adresse de longueur 4 octets, notée en décimale à point, en séparant chacun des octets par un point. On considère un réseau privé avec une plage d’adresses IP de 192.168.0.0 à 192.168.0.255.\n",
    "    </p>\n",
    "    <p>\n",
    "        On considère que les adresses IP saisies sont valides.\n",
    "    </p>\n",
    "    <p>\n",
    "        Les adresses IP 192.168.0.0 et 192.168.0.255 sont des adresses réservées.\n",
    "    </p>\n",
    "    <p>\n",
    "        Le code ci-dessous implémente la classe <code>AdresseIP</code>.\n",
    "    </p>\n",
    "    <p style=\"font: 18px Courier New, sans-serif;\">\n",
    "        class AdresseIP:<br/>\n",
    "        <!-- &emsp; équivalent à <span style=\"display:inline-block; width: 36px;\"></span> -->\n",
    "        <br/>\n",
    "        &emsp;&emsp;def __init__(self, adresse):<br/>\n",
    "        &emsp;&emsp;&emsp;&emsp;self.adresse = ...<br/>\n",
    "        <br/>\n",
    "        &emsp;&emsp;def liste_octet(self):<br/>\n",
    "        &emsp;&emsp;&emsp;&emsp;\"\"\"renvoie une liste de nombres entiers, la liste des octets de l'adresse IP\"\"\"<br/>\n",
    "        &emsp;&emsp;&emsp;&emsp;return [int(i) for i in self.adresse.split(\".\")]<br/>\n",
    "        <br/>\n",
    "        &emsp;&emsp;def est_reservee(self):<br/>\n",
    "        &emsp;&emsp;&emsp;&emsp;\"\"\"renvoie True si l'adresse IP est une adresse réservée, False sinon\"\"\"<br/>\n",
    "        &emsp;&emsp;&emsp;&emsp;return ... or ...<br/>\n",
    "        <br/>\n",
    "        &emsp;&emsp;def adresse_suivante(self):<br/>\n",
    "        &emsp;&emsp;&emsp;&emsp;\"\"\"renvoie un objet de AdresseIP avec l'adresse IP qui suit l’adresse self<br/>\n",
    "        <span style=\"display:inline-block; width: 104px;\"></span>si elle existe et False sinon\"\"\"<br/>\n",
    "        &emsp;&emsp;&emsp;&emsp;if ... < 254:<br/>\n",
    "        &emsp;&emsp;&emsp;&emsp;&emsp;&emsp;octet_nouveau = ... + ...<br/>\n",
    "        &emsp;&emsp;&emsp;&emsp;&emsp;&emsp;return AdresseIP('192.168.0.' + ...)<br/>\n",
    "        &emsp;&emsp;&emsp;&emsp;else:<br/>\n",
    "        &emsp;&emsp;&emsp;&emsp;&emsp;&emsp;return False\n",
    "    </p>\n",
    "    <br/>\n",
    "    <p>\n",
    "        Compléter le code ci-dessus et instancier trois objets : <code>adresse1</code>, <code>adresse2</code>, <code>adresse3</code> avec respectivement les arguments suivants :\n",
    "<code>'192.168.0.1'</code>, <code>'192.168.0.2'</code>, <code>'192.168.0.0'</code>\n",
    "    </p>\n",
    "    <p>\n",
    "        Vérifier que :\n",
    "    </p>\n",
    "    <span style=\"padding:0 0 0 0px;font: 18px Courier New, sans-serif;\">\n",
    "        >>> adresse1.est_reservee()<br/>\n",
    "        False<br/>\n",
    "        >>> adresse3.est_reservee()<br/>\n",
    "        True<br/>\n",
    "        >>> adresse2.adresse_suivante().adresse<br/>\n",
    "        '192.168.0.3'<br/>\n",
    "    </span>\n",
    "</div>"
   ]
  },
  {
   "cell_type": "code",
   "execution_count": null,
   "metadata": {},
   "outputs": [],
   "source": []
  },
  {
   "cell_type": "markdown",
   "metadata": {},
   "source": [
    "### Complément : contenu du fichier <code>.py</code> distribué avec le sujet"
   ]
  },
  {
   "cell_type": "code",
   "execution_count": 1,
   "metadata": {},
   "outputs": [],
   "source": [
    "class AdresseIP:\n",
    "\n",
    "    def __init__(self, adresse):\n",
    "        self.adresse = ...\n",
    "   \n",
    "    def liste_octet(self):\n",
    "        \"\"\"renvoie une liste de nombres entiers,\n",
    "           la liste des octets de l'adresse IP\"\"\"\n",
    "        return [int(i) for i in self.adresse.split(\".\")] \n",
    "        \n",
    "    def est_reservee(self):\n",
    "        \"\"\"renvoie True si l'adresse IP est une adresse\n",
    "           réservée, False sinon\"\"\"\n",
    "        return ... or ...\n",
    "             \n",
    "    def adresse_suivante(self):\n",
    "        \"\"\"renvoie un objet de AdresseIP avec l'adresse \n",
    "           IP qui suit l’adresse self\n",
    "           si elle existe et False sinon\"\"\"\n",
    "        if ... < 254:\n",
    "            octet_nouveau = ... + ...\n",
    "            return AdresseIP('192.168.0.' + ...)\n",
    "        else:\n",
    "            return False"
   ]
  },
  {
   "cell_type": "code",
   "execution_count": null,
   "metadata": {},
   "outputs": [],
   "source": []
  }
 ],
 "metadata": {
  "kernelspec": {
   "display_name": "Python 3",
   "language": "python",
   "name": "python3"
  },
  "language_info": {
   "codemirror_mode": {
    "name": "ipython",
    "version": 3
   },
   "file_extension": ".py",
   "mimetype": "text/x-python",
   "name": "python",
   "nbconvert_exporter": "python",
   "pygments_lexer": "ipython3",
   "version": "3.7.1"
  },
  "latex_envs": {
   "LaTeX_envs_menu_present": true,
   "autoclose": false,
   "autocomplete": true,
   "bibliofile": "biblio.bib",
   "cite_by": "apalike",
   "current_citInitial": 1,
   "eqLabelWithNumbers": true,
   "eqNumInitial": 1,
   "hotkeys": {
    "equation": "Ctrl-E",
    "itemize": "Ctrl-I"
   },
   "labels_anchors": false,
   "latex_user_defs": false,
   "report_style_numbering": false,
   "user_envs_cfg": false
  }
 },
 "nbformat": 4,
 "nbformat_minor": 4
}
