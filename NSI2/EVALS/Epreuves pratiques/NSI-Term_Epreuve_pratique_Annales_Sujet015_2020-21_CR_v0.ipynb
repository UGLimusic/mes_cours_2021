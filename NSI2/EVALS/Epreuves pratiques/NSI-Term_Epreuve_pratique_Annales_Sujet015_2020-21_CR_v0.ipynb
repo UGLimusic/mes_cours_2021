{
 "cells": [
  {
   "cell_type": "markdown",
   "metadata": {},
   "source": [
    "<h1 style='text-align:center'>N.S.I. Term. - 2021.02.15 - Annales - sem20 (prn24)</h1>\n",
    "<h2 style='text-align:center'>Annales Épreuve Pratique 2020-21</h2>\n",
    "<h2 style='text-align:center'>Sujet 015 - corrigé</h2>"
   ]
  },
  {
   "cell_type": "markdown",
   "metadata": {},
   "source": [
    "* Cadrage officiel :  https://www.education.gouv.fr/bo/20/Special2/MENE2001797N.htm"
   ]
  },
  {
   "cell_type": "markdown",
   "metadata": {},
   "source": [
    "**Durée : 1 heure**<br/>\n",
    "<br/>\n",
    "<span style=\"color:blue;font-weight:900;font-family:Arial;font:20px Arial\">**Modalités**</span>\n",
    "<br/>\n",
    "<br/>\n",
    "<div style=\"font:16px Arial\">\n",
    "La partie pratique consiste en la résolution de deux exercices sur ordinateur, chacun étant noté sur 4 points.\n",
    "\n",
    "Le candidat est évalué sur la base d'un dialogue avec un professeur-examinateur. Un examinateur évalue au maximum quatre élèves. L'examinateur ne peut pas évaluer un élève qu'il a eu en classe durant l'année en cours.\n",
    "\n",
    "L'évaluation de cette partie se déroule au cours du deuxième trimestre pendant la période de l'épreuve écrite de spécialité.\n",
    "- **Premier exercice**\n",
    "\n",
    "Le premier exercice consiste à programmer un algorithme figurant explicitement au programme, ne présentant pas de difficulté particulière, dont on fournit une spécification. Il s'agit donc de restituer un algorithme rencontré et travaillé à plusieurs reprises en cours de formation. Le sujet peut proposer un jeu de test avec les réponses attendues pour permettre au candidat de vérifier son travail.\n",
    "\n",
    "- **Deuxième exercice**\n",
    "\n",
    "Pour le second exercice, un programme est fourni au candidat. Cet exercice ne demande pas l'écriture complète d'un programme, mais permet de valider des compétences de programmation suivant des modalités variées : le candidat doit, par exemple, compléter un programme « à trous » afin de répondre à une spécification donnée, ou encore compléter un programme pour le documenter, ou encore compléter un programme en ajoutant des assertions, *etc.*\n",
    "</div>"
   ]
  },
  {
   "cell_type": "markdown",
   "metadata": {},
   "source": [
    "<h2 style='text-align:center'>Sujet 015 - corrigé - v0</h2>"
   ]
  },
  {
   "cell_type": "markdown",
   "metadata": {},
   "source": [
    "https://www.education.gouv.fr/bo/20/Special2/MENE2001797N.htm"
   ]
  },
  {
   "cell_type": "markdown",
   "metadata": {},
   "source": [
    "**Durée 1 heure**  \n",
    "***Compte pour 8 points sur 20***"
   ]
  },
  {
   "cell_type": "markdown",
   "metadata": {},
   "source": [
    "<div style=\"font-family: \"Arial\", Times, serif;\">\n",
    "<h2 style=\"text-align:center\">EXERCICE 1 (4 points)</h2>\n",
    "<span style=\"font: 18px Arial, sans-serif;\">\n",
    "<br/>\n",
    "\n",
    "<p>\n",
    "    Écrire une fonction <code>RechercheMinMax</code> qui prend en paramètre un tableau de nombres non triés <code>tab</code>, et qui renvoie la plus petite et la plus grande valeur du tableau sous la forme d’un dictionnaire à deux clés <code>'min'</code> et <code>'max'</code>. Les tableaux seront représentés sous forme de liste Python.\n",
    "</p>\n",
    "<br/>\n",
    "<p style=\"font: 18px Arial, sans-serif;\">\n",
    "<i>Exemples :</i>\n",
    "</p>\n",
    "<p style=\"padding:0 0 0 0px;font: 18px Courier New, sans-serif;\">\n",
    ">>> tableau = [0, 1, 4, 2, -2, 9, 3, 1, 7, 1]<br/>\n",
    ">>> resultat = rechercheMinMax(tableau)<br/>\n",
    ">>> resultat<br/>\n",
    "{'min': -2, 'max': 9}<br/>\n",
    "    <br/>\n",
    "    <br/>\n",
    ">>> tableau = []<br/>\n",
    ">>> resultat = rechercheMinMax(tableau)<br/>\n",
    ">>> resultat<br/>\n",
    "{'min': None, 'max': None}<br/>\n",
    "</p>\n",
    "</div>\n",
    "</span>\n",
    "</div>"
   ]
  },
  {
   "cell_type": "code",
   "execution_count": null,
   "metadata": {},
   "outputs": [],
   "source": []
  },
  {
   "cell_type": "markdown",
   "metadata": {},
   "source": [
    "### Corrigé"
   ]
  },
  {
   "cell_type": "code",
   "execution_count": 1,
   "metadata": {},
   "outputs": [],
   "source": [
    "def rechercheMinMax(tab):\n",
    "    if len(tab) == 0: ## traitement d'un tableau vide\n",
    "        return {'min': None, 'max': None}\n",
    "    minmax = {'min': tab[0], 'max': tab[0]} ## initialisation des valeurs min et max pour un tableau non vide\n",
    "    for i in range(1, len(tab)): ## parcours par les indices du tableau tab à partir de la position 1\n",
    "        val, vmin, vmax = tab[i], minmax['min'], minmax['max']\n",
    "        if val < vmin:\n",
    "            minmax['min'] = val\n",
    "        elif val > vmax:\n",
    "            minmax['max'] = val\n",
    "    return minmax"
   ]
  },
  {
   "cell_type": "markdown",
   "metadata": {},
   "source": [
    "$\\checkmark\\;$ tests"
   ]
  },
  {
   "cell_type": "code",
   "execution_count": 2,
   "metadata": {},
   "outputs": [
    {
     "data": {
      "text/plain": [
       "{'min': -2, 'max': 9}"
      ]
     },
     "execution_count": 2,
     "metadata": {},
     "output_type": "execute_result"
    }
   ],
   "source": [
    "tableau = [0, 1, 4, 2, -2, 9, 3, 1, 7, 1]\n",
    "resultat = rechercheMinMax(tableau)\n",
    "resultat"
   ]
  },
  {
   "cell_type": "code",
   "execution_count": 3,
   "metadata": {},
   "outputs": [
    {
     "data": {
      "text/plain": [
       "{'min': None, 'max': None}"
      ]
     },
     "execution_count": 3,
     "metadata": {},
     "output_type": "execute_result"
    }
   ],
   "source": [
    "tableau = []\n",
    "resultat = rechercheMinMax(tableau)\n",
    "resultat"
   ]
  },
  {
   "cell_type": "markdown",
   "metadata": {},
   "source": [
    "<div style=\"font-family: Arial, Times, serif;\">\n",
    "<h2 style=\"text-align:center\">EXERCICE 2 (4 points)</h2>\n",
    "<span style=\"font: 18px Arial, sans-serif;\">\n",
    "<br/>\n",
    "<p>\n",
    "On dispose d’un programme permettant de créer un objet de type <code>PaquetDeCarte</code>, selon les éléments indiqués dans le code ci-dessous.\n",
    "</p>\n",
    "<p>Compléter ce code aux endroits indiqués par <code>#A compléter</code>, puis ajouter des assertions dans l’initialiseur de <code>Carte</code>, ainsi que dans la méthode <code>getCarteAt()</code>.\n",
    "    </p>\n",
    "</span>\n",
    "<br/>\n",
    "<span style=\"font: 18px Courier New, sans-serif;\">\n",
    "class Carte:<br/>\n",
    "<span style=\"display:inline-block; width: 36px;\"></span>def __init__(self, c, v):<br/>\n",
    "&emsp;&emsp;&emsp;&emsp;\"\"\"Initialise Couleur (entre 1 à 4), et Valeur (entre 1 à 13)\"\"\"<br/>\n",
    "&emsp;&emsp;&emsp;&emsp;self.Couleur = c<br/>\n",
    "&emsp;&emsp;&emsp;&emsp;self.Valeur = v<br/>\n",
    "<br/>\n",
    "&emsp;&emsp;def getNom(self):<br/>\n",
    "&emsp;&emsp;&emsp;&emsp;\"\"\"Renvoie le nom de la Carte As, 2, ... 10, Valet, Dame, Roi\"\"\"<br/>\n",
    "&emsp;&emsp;&emsp;&emsp;if (self.Valeur > 1 and self.Valeur < 11):<br/>\n",
    "&emsp;&emsp;&emsp;&emsp;&emsp;&emsp;return str(self.Valeur)<br/>\n",
    "&emsp;&emsp;&emsp;&emsp;elif self.Valeur == 11:<br/>\n",
    "&emsp;&emsp;&emsp;&emsp;&emsp;&emsp;return \"Valet\"<br/>\n",
    "&emsp;&emsp;&emsp;&emsp;elif self.Valeur == 12:<br/>\n",
    "&emsp;&emsp;&emsp;&emsp;&emsp;&emsp;return \"Dame\"<br/>\n",
    "&emsp;&emsp;&emsp;&emsp;elif self.Valeur == 13:<br/>\n",
    "&emsp;&emsp;&emsp;&emsp;&emsp;&emsp;return \"Roi\"<br/>\n",
    "&emsp;&emsp;&emsp;&emsp;else:<br/>\n",
    "&emsp;&emsp;&emsp;&emsp;&emsp;&emsp;return \"As\"<br/>\n",
    "<br/>\n",
    "&emsp;&emsp;def getCouleur(self):<br/>\n",
    "&emsp;&emsp;&emsp;&emsp;\"\"\"Renvoie la couleur de la Carte (parmi pique, coeur, carreau, trefle\"\"\"<br/>\n",
    "&emsp;&emsp;&emsp;&emsp;return ['pique', 'coeur', 'carreau', 'trefle'][self.Couleur - 1]<br/>\n",
    "<br/>\n",
    "class PaquetDeCarte:<br/>\n",
    "&emsp;&emsp;def __init__(self):<br/>\n",
    "&emsp;&emsp;&emsp;&emsp;self.contenu = []<br/>\n",
    "<br/>\n",
    "&emsp;&emsp;def remplir(self):<br/>\n",
    "&emsp;&emsp;&emsp;&emsp;\"\"\"Remplit le paquet de cartes\"\"\"<br/>\n",
    "&emsp;&emsp;&emsp;&emsp;#A compléter<br/>\n",
    "<br/>\n",
    "&emsp;&emsp;def getCarteAt(self, pos):<br/>\n",
    "&emsp;&emsp;&emsp;&emsp;\"\"\"Renvoie la Carte qui se trouve à la position donnée\"\"\"<br/>\n",
    "&emsp;&emsp;&emsp;&emsp;#A compléter<br/>\n",
    "</span>\n",
    "    <p style=\"font: 18px Arial, sans-serif;\">\n",
    "<br/><i>Exemple :</i>\n",
    "</p>\n",
    "<p style=\"padding:0 0 0 0px;font: 18px Courier New, sans-serif;\">\n",
    ">>> unPaquet = PaquetDeCarte()<br/>\n",
    ">>> unPaquet.remplir()<br/>\n",
    ">>> uneCarte = unPaquet.getCarteAt(20)<br/>\n",
    ">>> print(uneCarte.getNom() + \" de \" + uneCarte.getCouleur())<br/>\n",
    "7 de coeur<br/>\n",
    "</p>\n",
    "</div>"
   ]
  },
  {
   "cell_type": "code",
   "execution_count": null,
   "metadata": {},
   "outputs": [],
   "source": []
  },
  {
   "cell_type": "markdown",
   "metadata": {},
   "source": [
    "### Complément : contenu du fichier <code>.py</code> distribué avec le sujet"
   ]
  },
  {
   "cell_type": "code",
   "execution_count": 4,
   "metadata": {},
   "outputs": [],
   "source": [
    "class Carte:\n",
    "    def __init__(self, c, v):\n",
    "        \"\"\"Initialise Couleur (entre 1 à 4), et Valeur (entre 1 à 13)\"\"\"\n",
    "        self.Couleur = c\n",
    "        self.Valeur = v\n",
    "    \n",
    "    def getNom(self):\n",
    "        \"\"\"Renvoie le nom de la Carte As, 2, ... 10, Valet, Dame, Roi\"\"\"\n",
    "        if (self.Valeur > 1 and self.Valeur < 11):\n",
    "            return str(self.Valeur)\n",
    "        elif self.Valeur == 11:\n",
    "            return \"Valet\"\n",
    "        elif self.Valeur == 12:\n",
    "            return \"Dame\"\n",
    "        elif self.Valeur == 13:\n",
    "            return \"Roi\"\n",
    "        else:\n",
    "            return \"As\"\n",
    "\n",
    "    def getCouleur(self):\n",
    "        \"\"\"Renvoie la couleur de la Carte (parmi pique, coeur, carreau, trefle\"\"\"\n",
    "        return ['pique', 'coeur', 'carreau', 'trefle'][self.Couleur - 1]\n",
    "\n",
    "class PaquetDeCarte:\n",
    "    def __init__(self):\n",
    "        self.contenu = []\n",
    "    \n",
    "    def remplir(self):\n",
    "        \"\"\"Remplit le paquet de cartes\"\"\"\n",
    "        #A compléter\n",
    "    \n",
    "    def getCarteAt(self, pos):\n",
    "        \"\"\"Renvoie la Carte qui se trouve à la position donnée\"\"\"\n",
    "        #A compléter"
   ]
  },
  {
   "cell_type": "code",
   "execution_count": null,
   "metadata": {},
   "outputs": [],
   "source": []
  },
  {
   "cell_type": "markdown",
   "metadata": {},
   "source": [
    "### Corrigé"
   ]
  },
  {
   "cell_type": "markdown",
   "metadata": {},
   "source": [
    "On notera que :  \n",
    "* l'implémentation de la méthode `getNom`, impose que l'As soit associé à la valeur 1 ;  \n",
    "* l'annotation du constructeur de la classe `Carte` impose que les couleurs soient numérotées de 1 à 4 ; \n",
    "* et l'implémentation de la méthode `getCouleur`, impose que les couleurs 'pique', 'coeur', 'carreau', 'trefle' soient numérotées, respectivement, 1, 2, 3 et 4.  \n",
    "\n",
    "Enfin, pour que la carte citée en exemple, à la place numérotée 20, soit un 6 de cœur, il faut que les cartes soient numérotée de 1 à 52, avec les 13 premiers numéros attribués aux cartes à 'pique', les 13 suivants à 'coeur', puis 13 à 'carreau' et enfin 13 à 'trefle'."
   ]
  },
  {
   "cell_type": "code",
   "execution_count": 5,
   "metadata": {},
   "outputs": [],
   "source": [
    "class Carte:\n",
    "    def __init__(self, c, v):\n",
    "        \"\"\"Initialise Couleur (entre 1 à 4), et Valeur (entre 1 à 13)\"\"\"\n",
    "        assert 1 <= v <= 13, 'valeur incorrecte'\n",
    "        assert 1 <= c <= 4, 'couleur incorrecte'\n",
    "        self.Couleur = c\n",
    "        self.Valeur = v\n",
    "    \n",
    "    def getNom(self):\n",
    "        \"\"\"Renvoie le nom de la Carte As, 2, ... 10, Valet, Dame, Roi\"\"\"\n",
    "        if (self.Valeur > 1 and self.Valeur < 11):\n",
    "            return str(self.Valeur)\n",
    "        elif self.Valeur == 11:\n",
    "            return \"Valet\"\n",
    "        elif self.Valeur == 12:\n",
    "            return \"Dame\"\n",
    "        elif self.Valeur == 13:\n",
    "            return \"Roi\"\n",
    "        else:\n",
    "            return \"As\"\n",
    "\n",
    "    def getCouleur(self):\n",
    "        \"\"\"Renvoie la couleur de la Carte (parmi pique, coeur, carreau, trefle\"\"\"\n",
    "        return ['pique', 'coeur', 'carreau', 'trefle'][self.Couleur - 1]\n",
    "\n",
    "class PaquetDeCarte:\n",
    "    def __init__(self):\n",
    "        self.contenu = []\n",
    "    \n",
    "    def remplir(self):\n",
    "        \"\"\"Remplit le paquet de cartes\"\"\"\n",
    "        assert self.contenu == [], 'paquet déjà rempli' ## on vérifie que le paquet est vide avant de le remplir\n",
    "        for c in range(1, 5):\n",
    "            for v in range(1, 14):\n",
    "                self.contenu.append(Carte(c, v)) ## on instancie un objet de la classe Carte pour chaque couleur\n",
    "                                                 ## et chaque valeur\n",
    "    \n",
    "    def getCarteAt(self, pos):\n",
    "        \"\"\"Renvoie la Carte qui se trouve à la position donnée\"\"\"\n",
    "        #assert 1 <= pos <= 52 ## on verifie que la position est valide pour un jeu de 52 cartes\n",
    "        return self.contenu[pos - 1]"
   ]
  },
  {
   "cell_type": "markdown",
   "metadata": {},
   "source": [
    "$\\checkmark\\;$ tests"
   ]
  },
  {
   "cell_type": "code",
   "execution_count": 6,
   "metadata": {},
   "outputs": [
    {
     "name": "stdout",
     "output_type": "stream",
     "text": [
      "7 de coeur\n"
     ]
    }
   ],
   "source": [
    "unPaquet = PaquetDeCarte()\n",
    "unPaquet.remplir()\n",
    "uneCarte = unPaquet.getCarteAt(20)\n",
    "print(uneCarte.getNom() + \" de \" + uneCarte.getCouleur())"
   ]
  },
  {
   "cell_type": "markdown",
   "metadata": {},
   "source": [
    "Affichage de toutes les cartes avec leur numéro :"
   ]
  },
  {
   "cell_type": "code",
   "execution_count": 7,
   "metadata": {},
   "outputs": [
    {
     "name": "stdout",
     "output_type": "stream",
     "text": [
      "carte n ° 1 : As de pique\n",
      "carte n ° 2 : 2 de pique\n",
      "carte n ° 3 : 3 de pique\n",
      "carte n ° 4 : 4 de pique\n",
      "carte n ° 5 : 5 de pique\n",
      "carte n ° 6 : 6 de pique\n",
      "carte n ° 7 : 7 de pique\n",
      "carte n ° 8 : 8 de pique\n",
      "carte n ° 9 : 9 de pique\n",
      "carte n ° 10 : 10 de pique\n",
      "carte n ° 11 : Valet de pique\n",
      "carte n ° 12 : Dame de pique\n",
      "carte n ° 13 : Roi de pique\n",
      "carte n ° 14 : As de coeur\n",
      "carte n ° 15 : 2 de coeur\n",
      "carte n ° 16 : 3 de coeur\n",
      "carte n ° 17 : 4 de coeur\n",
      "carte n ° 18 : 5 de coeur\n",
      "carte n ° 19 : 6 de coeur\n",
      "carte n ° 20 : 7 de coeur\n",
      "carte n ° 21 : 8 de coeur\n",
      "carte n ° 22 : 9 de coeur\n",
      "carte n ° 23 : 10 de coeur\n",
      "carte n ° 24 : Valet de coeur\n",
      "carte n ° 25 : Dame de coeur\n",
      "carte n ° 26 : Roi de coeur\n",
      "carte n ° 27 : As de carreau\n",
      "carte n ° 28 : 2 de carreau\n",
      "carte n ° 29 : 3 de carreau\n",
      "carte n ° 30 : 4 de carreau\n",
      "carte n ° 31 : 5 de carreau\n",
      "carte n ° 32 : 6 de carreau\n",
      "carte n ° 33 : 7 de carreau\n",
      "carte n ° 34 : 8 de carreau\n",
      "carte n ° 35 : 9 de carreau\n",
      "carte n ° 36 : 10 de carreau\n",
      "carte n ° 37 : Valet de carreau\n",
      "carte n ° 38 : Dame de carreau\n",
      "carte n ° 39 : Roi de carreau\n",
      "carte n ° 40 : As de trefle\n",
      "carte n ° 41 : 2 de trefle\n",
      "carte n ° 42 : 3 de trefle\n",
      "carte n ° 43 : 4 de trefle\n",
      "carte n ° 44 : 5 de trefle\n",
      "carte n ° 45 : 6 de trefle\n",
      "carte n ° 46 : 7 de trefle\n",
      "carte n ° 47 : 8 de trefle\n",
      "carte n ° 48 : 9 de trefle\n",
      "carte n ° 49 : 10 de trefle\n",
      "carte n ° 50 : Valet de trefle\n",
      "carte n ° 51 : Dame de trefle\n",
      "carte n ° 52 : Roi de trefle\n"
     ]
    }
   ],
   "source": [
    "for pos in range(1, 53):\n",
    "    uneCarte = unPaquet.getCarteAt(pos)\n",
    "    print('carte n °', pos, ':', uneCarte.getNom() + \" de \" + uneCarte.getCouleur())"
   ]
  },
  {
   "cell_type": "code",
   "execution_count": null,
   "metadata": {},
   "outputs": [],
   "source": []
  },
  {
   "cell_type": "code",
   "execution_count": null,
   "metadata": {},
   "outputs": [],
   "source": []
  }
 ],
 "metadata": {
  "kernelspec": {
   "display_name": "Python 3",
   "language": "python",
   "name": "python3"
  },
  "language_info": {
   "codemirror_mode": {
    "name": "ipython",
    "version": 3
   },
   "file_extension": ".py",
   "mimetype": "text/x-python",
   "name": "python",
   "nbconvert_exporter": "python",
   "pygments_lexer": "ipython3",
   "version": "3.7.1"
  },
  "latex_envs": {
   "LaTeX_envs_menu_present": true,
   "autoclose": false,
   "autocomplete": true,
   "bibliofile": "biblio.bib",
   "cite_by": "apalike",
   "current_citInitial": 1,
   "eqLabelWithNumbers": true,
   "eqNumInitial": 1,
   "hotkeys": {
    "equation": "Ctrl-E",
    "itemize": "Ctrl-I"
   },
   "labels_anchors": false,
   "latex_user_defs": false,
   "report_style_numbering": false,
   "user_envs_cfg": false
  }
 },
 "nbformat": 4,
 "nbformat_minor": 4
}
