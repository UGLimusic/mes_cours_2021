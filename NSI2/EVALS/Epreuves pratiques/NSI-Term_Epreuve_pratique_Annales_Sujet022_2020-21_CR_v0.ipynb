{
 "cells": [
  {
   "cell_type": "markdown",
   "metadata": {},
   "source": [
    "<h1 style='text-align:center'>N.S.I. Term. - 2021.02.15 - Annales - sem20 (prn24)</h1>\n",
    "<h2 style='text-align:center'>Annales Épreuve Pratique 2020-21</h2>\n",
    "<h2 style='text-align:center'>Sujet 022 - corrigé</h2>"
   ]
  },
  {
   "cell_type": "markdown",
   "metadata": {},
   "source": [
    "* Cadrage officiel :  https://www.education.gouv.fr/bo/20/Special2/MENE2001797N.htm"
   ]
  },
  {
   "cell_type": "markdown",
   "metadata": {},
   "source": [
    "**Durée : 1 heure**<br/>\n",
    "<br/>\n",
    "<span style=\"color:blue;font-weight:900;font-family:Arial;font:20px Arial\">**Modalités**</span>\n",
    "<br/>\n",
    "<br/>\n",
    "<div style=\"font:16px Arial\">\n",
    "La partie pratique consiste en la résolution de deux exercices sur ordinateur, chacun étant noté sur 4 points.\n",
    "\n",
    "Le candidat est évalué sur la base d'un dialogue avec un professeur-examinateur. Un examinateur évalue au maximum quatre élèves. L'examinateur ne peut pas évaluer un élève qu'il a eu en classe durant l'année en cours.\n",
    "\n",
    "L'évaluation de cette partie se déroule au cours du deuxième trimestre pendant la période de l'épreuve écrite de spécialité.\n",
    "- **Premier exercice**\n",
    "\n",
    "Le premier exercice consiste à programmer un algorithme figurant explicitement au programme, ne présentant pas de difficulté particulière, dont on fournit une spécification. Il s'agit donc de restituer un algorithme rencontré et travaillé à plusieurs reprises en cours de formation. Le sujet peut proposer un jeu de test avec les réponses attendues pour permettre au candidat de vérifier son travail.\n",
    "\n",
    "- **Deuxième exercice**\n",
    "\n",
    "Pour le second exercice, un programme est fourni au candidat. Cet exercice ne demande pas l'écriture complète d'un programme, mais permet de valider des compétences de programmation suivant des modalités variées : le candidat doit, par exemple, compléter un programme « à trous » afin de répondre à une spécification donnée, ou encore compléter un programme pour le documenter, ou encore compléter un programme en ajoutant des assertions, *etc.*\n",
    "</div>"
   ]
  },
  {
   "cell_type": "markdown",
   "metadata": {},
   "source": [
    "<h2 style='text-align:center'>Sujet 022 - corrigé - v0</h2>"
   ]
  },
  {
   "cell_type": "markdown",
   "metadata": {},
   "source": [
    "https://www.education.gouv.fr/bo/20/Special2/MENE2001797N.htm"
   ]
  },
  {
   "cell_type": "markdown",
   "metadata": {},
   "source": [
    "**Durée 1 heure**  \n",
    "***Compte pour 8 points sur 20***"
   ]
  },
  {
   "cell_type": "markdown",
   "metadata": {},
   "source": [
    "<div style=\"font-family: Arial, Times, serif;\">\n",
    "<h2 style=\"text-align:center\">EXERCICE 1 (4 points)</h2>\n",
    "<span style=\"font: 18px Arial, sans-serif;\">\n",
    "<br/>\n",
    "<p>\n",
    "Écrire en langage Python une fonction <code>recherche</code> prenant comme paramètres une variable <code>a</code> de type numérique (<code>float</code> ou <code>int</code>) et un tableau <code>t</code> (type <code>list</code>) et qui renvoie le nombre d'occurrences de <code>a</code> dans <code>t</code>.\n",
    "</p>\n",
    "<br/>\n",
    "<p>\n",
    "Exemples d'utilisations de la fonction <code>recherche</code> :\n",
    "</p>\n",
    "<p style=\"padding:0 0 0 0px;font: 18px Courier New, sans-serif;\">\n",
    ">>> recherche(5, [])<br/>\n",
    "0<br/>\n",
    ">>> recherche(5, [-2, 3, 4, 8])<br/>\n",
    "0<br/>\n",
    ">>> recherche(5, [-2, 3, 1, 5, 3, 7, 4])<br/>\n",
    "1<br/>\n",
    ">>> recherche(5, [-2, 5, 3, 5, 4, 5])<br/>\n",
    "3<br/>\n",
    "</p>\n",
    "</span>\n",
    "</div>"
   ]
  },
  {
   "cell_type": "code",
   "execution_count": null,
   "metadata": {},
   "outputs": [],
   "source": []
  },
  {
   "cell_type": "markdown",
   "metadata": {},
   "source": [
    "### Corrigé"
   ]
  },
  {
   "cell_type": "code",
   "execution_count": 1,
   "metadata": {},
   "outputs": [],
   "source": [
    "def recherche(a, t):\n",
    "    nombre_occurrences = 0\n",
    "    for v in t: ## parcours du tableau t par les valeurs\n",
    "        if v == a:\n",
    "            nombre_occurrences += 1\n",
    "    return nombre_occurrences"
   ]
  },
  {
   "cell_type": "markdown",
   "metadata": {},
   "source": [
    "$\\checkmark\\;$ tests"
   ]
  },
  {
   "cell_type": "code",
   "execution_count": 2,
   "metadata": {},
   "outputs": [
    {
     "data": {
      "text/plain": [
       "0"
      ]
     },
     "execution_count": 2,
     "metadata": {},
     "output_type": "execute_result"
    }
   ],
   "source": [
    "recherche(5, [])"
   ]
  },
  {
   "cell_type": "code",
   "execution_count": 3,
   "metadata": {},
   "outputs": [
    {
     "data": {
      "text/plain": [
       "0"
      ]
     },
     "execution_count": 3,
     "metadata": {},
     "output_type": "execute_result"
    }
   ],
   "source": [
    "recherche(5, [-2, 3, 4, 8])"
   ]
  },
  {
   "cell_type": "code",
   "execution_count": 4,
   "metadata": {},
   "outputs": [
    {
     "data": {
      "text/plain": [
       "1"
      ]
     },
     "execution_count": 4,
     "metadata": {},
     "output_type": "execute_result"
    }
   ],
   "source": [
    "recherche(5, [-2, 3, 1, 5, 3, 7, 4])"
   ]
  },
  {
   "cell_type": "code",
   "execution_count": 5,
   "metadata": {},
   "outputs": [
    {
     "data": {
      "text/plain": [
       "3"
      ]
     },
     "execution_count": 5,
     "metadata": {},
     "output_type": "execute_result"
    }
   ],
   "source": [
    "recherche(5, [-2, 5, 3, 5, 4, 5])"
   ]
  },
  {
   "cell_type": "markdown",
   "metadata": {},
   "source": [
    "<div style=\"font-family: Arial, Times, serif;\">\n",
    "<h2 style=\"text-align:center\">EXERCICE 2 (4 points)</h2>\n",
    "<span style=\"font: 18px Arial, sans-serif;\">\n",
    "<br/>\n",
    "<p>\n",
    "    La fonction <code>rendu_monnaie_centimes</code> prend en paramètres deux nombres entiers positifs <code>s_due</code> et <code>s_versee</code> et elle permet de procéder au rendu de monnaie de la différence <code>s_versee – s_due</code> pour des achats effectués avec le système de pièces de la zone Euro. On utilise pour cela un algorithme qui commence par rendre le maximum de pièces de plus grandes valeurs et ainsi de suite. La fonction renvoie la liste des pièces qui composent le rendu.\n",
    "</p>\n",
    "<p>\n",
    "    Toutes les sommes sont exprimées en centimes d’euros. Les valeurs possibles pour les pièces sont donc <code>[1, 2, 5, 10, 20, 50, 100, 200]</code>.\n",
    "</p>\n",
    "<p>Ainsi, l’instruction <code>rendu_monnaie_centimes(452, 500)</code> renverra la liste <code>[20, 20, 5, 2, 1]</code>.<br/>\n",
    "En effet, la somme à rendre est de 48 centimes soit 20 + 20 + 5 + 2 + 1.\n",
    "    </p>\n",
    "    <p>\n",
    "        Le code de la fonction est donné ci-dessous :\n",
    "    </p>\n",
    "<p style=\"font: 18px Courier New, sans-serif;\">\n",
    "def rendu_monnaie_centimes(s_due, s_versee):<br/>\n",
    "<!-- &emsp; équivalent à <span style=\"display:inline-block; width: 36px;\"></span> -->\n",
    "&emsp;&emsp;pieces = [1, 2, 5, 10, 20, 50, 100, 200]<br/>\n",
    "&emsp;&emsp;rendu = ...<br/>\n",
    "&emsp;&emsp;a_rendre = ...<br/>\n",
    "&emsp;&emsp;i = len(pieces) - 1<br/>\n",
    "&emsp;&emsp;while a_rendre > ... :<br/>\n",
    "&emsp;&emsp;&emsp;&emsp;if pieces[i] <= a_rendre :<br/>\n",
    "&emsp;&emsp;&emsp;&emsp;&emsp;&emsp;rendu.append(...)<br/>\n",
    "&emsp;&emsp;&emsp;&emsp;&emsp;&emsp;a_rendre = ...<br/>\n",
    "&emsp;&emsp;&emsp;&emsp;else:<br/>\n",
    "&emsp;&emsp;&emsp;&emsp;&emsp;&emsp;i = ...<br/>\n",
    "&emsp;&emsp;return rendu<br/>\n",
    "</p>\n",
    "<br/>\n",
    "<p>\n",
    "    Compléter ce code pour qu’il donne :\n",
    "</p>\n",
    "<p style=\"padding:0 0 0 0px;font: 18px Courier New, sans-serif;\">\n",
    ">>> rendu_monnaie_centimes(700, 700)<br/>\n",
    "[]<br/>\n",
    ">>> rendu_monnaie_centimes(112, 500)<br/>\n",
    "[200, 100, 50, 20, 10, 5, 2, 1]<br/>\n",
    "</p>\n",
    "</span>\n",
    "</div>"
   ]
  },
  {
   "cell_type": "code",
   "execution_count": null,
   "metadata": {},
   "outputs": [],
   "source": []
  },
  {
   "cell_type": "markdown",
   "metadata": {},
   "source": [
    "### Complément : contenu du fichier <code>.py</code> distribué avec le sujet"
   ]
  },
  {
   "cell_type": "code",
   "execution_count": 1,
   "metadata": {},
   "outputs": [],
   "source": [
    "def rendu_monnaie_centimes(s_due, s_versee):\n",
    "    pieces = [1, 2, 5, 10, 20, 50, 100, 200]\n",
    "    rendu = ...\n",
    "    a_rendre = ...\n",
    "    i = len(pieces) - 1\n",
    "    while a_rendre > ... :\n",
    "        if pieces[i] <= a_rendre :\n",
    "            rendu.append(...)\n",
    "            a_rendre = ...\n",
    "        else :\n",
    "            i = ...\n",
    "    return rendu"
   ]
  },
  {
   "cell_type": "code",
   "execution_count": null,
   "metadata": {},
   "outputs": [],
   "source": []
  },
  {
   "cell_type": "markdown",
   "metadata": {},
   "source": [
    "### Corrigé"
   ]
  },
  {
   "cell_type": "markdown",
   "metadata": {},
   "source": [
    "L'algorithme suivant est correct, car la liste des pièces est ordonnée dans l'ordre croissant et parce que la pièce de plus petite valeur a une valeur égale à 1."
   ]
  },
  {
   "cell_type": "code",
   "execution_count": 9,
   "metadata": {},
   "outputs": [],
   "source": [
    "def rendu_monnaie_centimes(s_due, s_versee):\n",
    "    pieces = [1, 2, 5, 10, 20, 50, 100, 200]\n",
    "    rendu = [] ## initialisation à la liste vide de la liste des pièces à utiliser pour rendre la monnaie\n",
    "    a_rendre = s_versee - s_due ## somme à rendre\n",
    "    i = len(pieces) - 1  ## on cherche à utiliser pour commencer la pièce de plus grande valeur\n",
    "    while a_rendre > 0 : ## tant qu'il reste de la monnaie à rendre\n",
    "        if pieces[i] <= a_rendre : ## si la pièce d'indice i peut-être utilisée pour rendre la somme restante\n",
    "            rendu.append(pieces[i])## on ajoute la pièce à la liste des pièces à rendre\n",
    "            a_rendre = a_rendre - pieces[i] ## on actualise la somme à rendre\n",
    "        else : ## si la pièce d'indice i est de trop grande valeur pour être utilisée\n",
    "            i = i - 1 ## on cherche à utiliser la pièce suivante, de moins grande valeur\n",
    "    return rendu"
   ]
  },
  {
   "cell_type": "markdown",
   "metadata": {},
   "source": [
    "$\\checkmark\\;$ tests"
   ]
  },
  {
   "cell_type": "code",
   "execution_count": 10,
   "metadata": {},
   "outputs": [
    {
     "data": {
      "text/plain": [
       "[]"
      ]
     },
     "execution_count": 10,
     "metadata": {},
     "output_type": "execute_result"
    }
   ],
   "source": [
    "rendu_monnaie_centimes(700, 700)"
   ]
  },
  {
   "cell_type": "code",
   "execution_count": 11,
   "metadata": {},
   "outputs": [
    {
     "data": {
      "text/plain": [
       "[200, 100, 50, 20, 10, 5, 2, 1]"
      ]
     },
     "execution_count": 11,
     "metadata": {},
     "output_type": "execute_result"
    }
   ],
   "source": [
    "rendu_monnaie_centimes(112, 500)"
   ]
  },
  {
   "cell_type": "code",
   "execution_count": null,
   "metadata": {},
   "outputs": [],
   "source": []
  }
 ],
 "metadata": {
  "kernelspec": {
   "display_name": "Python 3",
   "language": "python",
   "name": "python3"
  },
  "language_info": {
   "codemirror_mode": {
    "name": "ipython",
    "version": 3
   },
   "file_extension": ".py",
   "mimetype": "text/x-python",
   "name": "python",
   "nbconvert_exporter": "python",
   "pygments_lexer": "ipython3",
   "version": "3.7.1"
  },
  "latex_envs": {
   "LaTeX_envs_menu_present": true,
   "autoclose": false,
   "autocomplete": true,
   "bibliofile": "biblio.bib",
   "cite_by": "apalike",
   "current_citInitial": 1,
   "eqLabelWithNumbers": true,
   "eqNumInitial": 1,
   "hotkeys": {
    "equation": "Ctrl-E",
    "itemize": "Ctrl-I"
   },
   "labels_anchors": false,
   "latex_user_defs": false,
   "report_style_numbering": false,
   "user_envs_cfg": false
  }
 },
 "nbformat": 4,
 "nbformat_minor": 4
}
