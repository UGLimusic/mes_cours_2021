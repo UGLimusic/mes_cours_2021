{
 "cells": [
  {
   "cell_type": "markdown",
   "metadata": {},
   "source": [
    "<h1 style='text-align:center'>N.S.I. Term. - 2021.02.15 - Annales - sem20 (prn24)</h1>\n",
    "<h2 style='text-align:center'>Annales Épreuve Pratique 2020-21</h2>\n",
    "<h2 style='text-align:center'>Sujet 030 - énoncé</h2>"
   ]
  },
  {
   "cell_type": "markdown",
   "metadata": {},
   "source": [
    "* Cadrage officiel :  https://www.education.gouv.fr/bo/20/Special2/MENE2001797N.htm"
   ]
  },
  {
   "cell_type": "markdown",
   "metadata": {},
   "source": [
    "**Durée : 1 heure**<br/>\n",
    "<br/>\n",
    "<span style=\"color:blue;font-weight:900;font-family:Arial;font:20px Arial\">**Modalités**</span>\n",
    "<br/>\n",
    "<br/>\n",
    "<div style=\"font:16px Arial\">\n",
    "La partie pratique consiste en la résolution de deux exercices sur ordinateur, chacun étant noté sur 4 points.\n",
    "\n",
    "Le candidat est évalué sur la base d'un dialogue avec un professeur-examinateur. Un examinateur évalue au maximum quatre élèves. L'examinateur ne peut pas évaluer un élève qu'il a eu en classe durant l'année en cours.\n",
    "\n",
    "L'évaluation de cette partie se déroule au cours du deuxième trimestre pendant la période de l'épreuve écrite de spécialité.\n",
    "- **Premier exercice**\n",
    "\n",
    "Le premier exercice consiste à programmer un algorithme figurant explicitement au programme, ne présentant pas de difficulté particulière, dont on fournit une spécification. Il s'agit donc de restituer un algorithme rencontré et travaillé à plusieurs reprises en cours de formation. Le sujet peut proposer un jeu de test avec les réponses attendues pour permettre au candidat de vérifier son travail.\n",
    "\n",
    "- **Deuxième exercice**\n",
    "\n",
    "Pour le second exercice, un programme est fourni au candidat. Cet exercice ne demande pas l'écriture complète d'un programme, mais permet de valider des compétences de programmation suivant des modalités variées : le candidat doit, par exemple, compléter un programme « à trous » afin de répondre à une spécification donnée, ou encore compléter un programme pour le documenter, ou encore compléter un programme en ajoutant des assertions, *etc.*\n",
    "</div>"
   ]
  },
  {
   "cell_type": "markdown",
   "metadata": {},
   "source": [
    "<h2 style='text-align:center'>Sujet 030 - corrigé - v0</h2>"
   ]
  },
  {
   "cell_type": "markdown",
   "metadata": {},
   "source": [
    "https://www.education.gouv.fr/bo/20/Special2/MENE2001797N.htm"
   ]
  },
  {
   "cell_type": "markdown",
   "metadata": {},
   "source": [
    "**Durée 1 heure**  \n",
    "***Compte pour 8 points sur 20***"
   ]
  },
  {
   "cell_type": "markdown",
   "metadata": {},
   "source": [
    "<div style=\"font-family: \"Arial\", Times, serif;\">\n",
    "    <h2 style=\"text-align:center\">EXERCICE 1 (4 points)</h2>\n",
    "    <span style=\"font: 18px Arial, sans-serif;\">\n",
    "    <br/>\n",
    "    <p>\n",
    "    Programmer la fonction <code>multiplication</code>, prenant en paramètres deux nombres entiers <code>n1</code> et <code>n2</code>, et qui renvoie le produit de ces deux nombres.<br/>\n",
    "Les seules opérations autorisées sont l’addition et la soustraction.\n",
    "    </p>\n",
    "    <p style=\"font: 18px Arial, sans-serif;\">\n",
    "        <i>Exemples :</i>\n",
    "    </p>\n",
    "        <p style=\"padding:0 0 0 0px;font: 18px Courier New, sans-serif;\">\n",
    "            >>> multiplication(3, 5)<br/>\n",
    "            15<br/>\n",
    "            >>> multiplication(-4, -8)<br/>\n",
    "            32<br/>\n",
    "            >>> multiplication(-2, 6)<br/>\n",
    "            -12<br/>\n",
    "            >>> multiplication(-2, 0)<br/>\n",
    "            0<br/>\n",
    "        </p>\n",
    "    </span>\n",
    "</div>"
   ]
  },
  {
   "cell_type": "code",
   "execution_count": null,
   "metadata": {},
   "outputs": [],
   "source": []
  },
  {
   "cell_type": "markdown",
   "metadata": {},
   "source": [
    "### Corrigé"
   ]
  },
  {
   "cell_type": "code",
   "execution_count": 1,
   "metadata": {},
   "outputs": [],
   "source": [
    "def multiplication(n1, n2):\n",
    "    \"\"\"on utilise que, si n1 >= 0, alors n1 * n2 est égal à l'addition de n1 entiers égaux à n2\"\"\"\n",
    "    if n1 < 0:          ## si n1 est négatif, on change n1 en son opposé afin de pouvoir utiliser un \"range(n1)\"\n",
    "                        ## pour additionner n1 fois la valeur n2\n",
    "                        ## on change également n2 en son opposé afin de ne pas changer le signe du produit.\n",
    "        n1, n2 = -n1, -n2\n",
    "    somme = 0\n",
    "    for k in range(n1):\n",
    "        somme += n2\n",
    "    return somme"
   ]
  },
  {
   "cell_type": "markdown",
   "metadata": {},
   "source": [
    "$\\checkmark\\;$ tests"
   ]
  },
  {
   "cell_type": "code",
   "execution_count": 2,
   "metadata": {},
   "outputs": [
    {
     "data": {
      "text/plain": [
       "15"
      ]
     },
     "execution_count": 2,
     "metadata": {},
     "output_type": "execute_result"
    }
   ],
   "source": [
    "multiplication(3, 5)"
   ]
  },
  {
   "cell_type": "code",
   "execution_count": 3,
   "metadata": {},
   "outputs": [
    {
     "data": {
      "text/plain": [
       "32"
      ]
     },
     "execution_count": 3,
     "metadata": {},
     "output_type": "execute_result"
    }
   ],
   "source": [
    "multiplication(-4, -8)"
   ]
  },
  {
   "cell_type": "code",
   "execution_count": 4,
   "metadata": {},
   "outputs": [
    {
     "data": {
      "text/plain": [
       "-12"
      ]
     },
     "execution_count": 4,
     "metadata": {},
     "output_type": "execute_result"
    }
   ],
   "source": [
    "multiplication(-2, 6)"
   ]
  },
  {
   "cell_type": "code",
   "execution_count": 5,
   "metadata": {},
   "outputs": [
    {
     "data": {
      "text/plain": [
       "0"
      ]
     },
     "execution_count": 5,
     "metadata": {},
     "output_type": "execute_result"
    }
   ],
   "source": [
    "multiplication(-2, 0)"
   ]
  },
  {
   "cell_type": "markdown",
   "metadata": {},
   "source": [
    "<div style=\"font-family: Arial, Times, sans-serif;font-size: 18px\">\n",
    "    <h2 style=\"text-align:center\">EXERCICE 2 (4 points)</h2>\n",
    "    <br/>\n",
    "    <p>\n",
    "        Soit <code>T</code> un tableau non vide d'entiers triés dans l'ordre croissant et <code>n</code> un entier.\n",
    "    </p>\n",
    "    <p>\n",
    "        La fonction <code>chercher</code>, donnée à la page suivante, doit renvoyer un indice où la valeur <code>n</code> apparaît éventuellement dans <code>T</code>, et <code>None</code> sinon.\n",
    "    </p>\n",
    "    <p>\n",
    "        Les paramètres de la fonction sont :<br/>\n",
    "        &emsp;-&emsp;<code>T</code>, le tableau dans lequel s'effectue la recherche ;<br/>\n",
    "        &emsp;-&emsp;<code>n</code>, l'entier à chercher dans le tableau ;<br/>\n",
    "        &emsp;-&emsp;<code>i</code>, l'indice de début de la partie du tableau où s'effectue la recherche ;<br/>\n",
    "        &emsp;-&emsp;<code>j</code>, l'indice de fin de la partie du tableau où s'effectue la recherche.<br/>\n",
    "    </p>\n",
    "    <p>\n",
    "        La fonction <code>chercher</code> est une fonction récursive basée sur le principe « diviser pour régner ».\n",
    "    </p>\n",
    "    <p>\n",
    "        Le code de la fonction commence par vérifier si <code>0 <= i</code> et <code>j < len(T)</code>. Si cette condition n’est pas vérifiée, elle affiche <code>\"Erreur\"</code> puis renvoie <code>None</code>.\n",
    "    </p>\n",
    "    <p>\n",
    "        Recopier et compléter le code de la fonction <code>chercher</code> proposée ci-dessous :\n",
    "    </p>\n",
    "    <br/>\n",
    "    <div style=\"font: 18px Courier New, sans-serif;\">\n",
    "        def chercher(T, n, i, j):<br/>\n",
    "        &emsp;&emsp;if i < 0 or ??? :<br/>\n",
    "        &emsp;&emsp;&emsp;&emsp;print(\"Erreur\")<br/>\n",
    "        &emsp;&emsp;&emsp;&emsp;return None<br/>\n",
    "        &emsp;&emsp;if i > j :<br/>\n",
    "        &emsp;&emsp;&emsp;&emsp;return None<br/>\n",
    "        &emsp;&emsp;m = (i + j) // ???<br/>\n",
    "        &emsp;&emsp;if T[m] < ??? :<br/>\n",
    "        &emsp;&emsp;&emsp;&emsp;return chercher(T, n, ??? , ???)<br/>\n",
    "        &emsp;&emsp;elif ??? :<br/>\n",
    "        &emsp;&emsp;&emsp;&emsp;return chercher(T, n, ??? , ???)<br/>\n",
    "        &emsp;&emsp;else :<br/>\n",
    "        &emsp;&emsp;&emsp;&emsp;return ???<br/>\n",
    "    </div>\n",
    "    <p>\n",
    "        L’exécution du code doit donner :\n",
    "    </p>\n",
    "    <div style=\"font: 18px Courier New, sans-serif;\">\n",
    "        >>> chercher([1, 5, 6, 6, 9, 12], 7, 0, 10)<br/>\n",
    "        Erreur<br/>\n",
    "        >>> chercher([1, 5, 6, 6, 9, 12], 7, 0, 5)<br/>\n",
    "        >>> chercher([1, 5, 6, 6, 9, 12], 9, 0, 5)<br/>\n",
    "        4<br/>\n",
    "        >>> chercher([1, 5, 6, 6, 9, 12], 6, 0, 5)<br/>\n",
    "        2<br/>\n",
    "    </div>\n",
    "</div>"
   ]
  },
  {
   "cell_type": "code",
   "execution_count": null,
   "metadata": {},
   "outputs": [],
   "source": []
  },
  {
   "cell_type": "markdown",
   "metadata": {},
   "source": [
    "### Complément : contenu du fichier <code>.py</code> distribué avec le sujet"
   ]
  },
  {
   "cell_type": "code",
   "execution_count": 6,
   "metadata": {},
   "outputs": [
    {
     "ename": "SyntaxError",
     "evalue": "invalid syntax (<ipython-input-6-5a99d90ad28a>, line 2)",
     "output_type": "error",
     "traceback": [
      "\u001b[1;36m  File \u001b[1;32m\"<ipython-input-6-5a99d90ad28a>\"\u001b[1;36m, line \u001b[1;32m2\u001b[0m\n\u001b[1;33m    if i < 0 or ??? :\u001b[0m\n\u001b[1;37m                ^\u001b[0m\n\u001b[1;31mSyntaxError\u001b[0m\u001b[1;31m:\u001b[0m invalid syntax\n"
     ]
    }
   ],
   "source": [
    "def chercher(T, n, i, j):\n",
    "    if i < 0 or ??? :\n",
    "        print(\"Erreur\")\n",
    "        return None    \n",
    "    if i > j :\n",
    "        return None\n",
    "    m = (i + j) // ???\n",
    "    if T[m] < ??? :\n",
    "        return chercher(T, n, ??? , ???)\n",
    "    elif ??? :\n",
    "        return chercher(T, n, ??? , ??? )\n",
    "    else :\n",
    "        return ???"
   ]
  },
  {
   "cell_type": "markdown",
   "metadata": {},
   "source": [
    "### Corrigé"
   ]
  },
  {
   "cell_type": "code",
   "execution_count": 7,
   "metadata": {},
   "outputs": [],
   "source": [
    "def chercher(T, n, i, j):\n",
    "    if i < 0 or j >= len(T): ## si la plage de recherche n'est pas incluse dans le tableau\n",
    "        print(\"Erreur\")\n",
    "        return None    \n",
    "    if i > j :  ## si la plage de recherche ne contient aucune valeur\n",
    "        return None\n",
    "    m = (i + j) // 2 ## détermination de la position \"médiane\" entre les extrémités de la plage de recherche\n",
    "    if T[m] < n :  ## si l'entier cherché ne peut se trouver qu'à la droite de la valeur médiane\n",
    "        return chercher(T, n, m + 1, j) ## on réduit la zone de recherche à sa partie située\n",
    "                                        ## à la droite de la valeur médiane\n",
    "    elif n < T[m] :  ## si l'entier cherché ne peut se trouver qu'à la gauche de la valeur médiane\n",
    "        return chercher(T, n, i, m - 1) ## on réduit la zone de recherche à sa partie située\n",
    "                                        ## à la gauche de la valeur médiane\n",
    "    else:            ## sinon la valeur n est égal à la valeur médiane T[m]\n",
    "        return m ## on renvoie la position de la valeur médiane, valeur égale à n"
   ]
  },
  {
   "cell_type": "markdown",
   "metadata": {},
   "source": [
    "$\\checkmark\\;$ tests"
   ]
  },
  {
   "cell_type": "code",
   "execution_count": 8,
   "metadata": {},
   "outputs": [
    {
     "name": "stdout",
     "output_type": "stream",
     "text": [
      "Erreur\n"
     ]
    }
   ],
   "source": [
    "chercher([1, 5, 6, 6, 9, 12], 7, 0, 10)"
   ]
  },
  {
   "cell_type": "code",
   "execution_count": 9,
   "metadata": {},
   "outputs": [],
   "source": [
    "chercher([1, 5, 6, 6, 9, 12], 7, 0, 5)"
   ]
  },
  {
   "cell_type": "code",
   "execution_count": 10,
   "metadata": {},
   "outputs": [
    {
     "data": {
      "text/plain": [
       "4"
      ]
     },
     "execution_count": 10,
     "metadata": {},
     "output_type": "execute_result"
    }
   ],
   "source": [
    "chercher([1, 5, 6, 6, 9, 12], 9, 0, 5)"
   ]
  },
  {
   "cell_type": "code",
   "execution_count": 11,
   "metadata": {},
   "outputs": [
    {
     "data": {
      "text/plain": [
       "2"
      ]
     },
     "execution_count": 11,
     "metadata": {},
     "output_type": "execute_result"
    }
   ],
   "source": [
    "chercher([1, 5, 6, 6, 9, 12], 6, 0, 5)"
   ]
  },
  {
   "cell_type": "code",
   "execution_count": null,
   "metadata": {},
   "outputs": [],
   "source": []
  }
 ],
 "metadata": {
  "kernelspec": {
   "display_name": "Python 3",
   "language": "python",
   "name": "python3"
  },
  "language_info": {
   "codemirror_mode": {
    "name": "ipython",
    "version": 3
   },
   "file_extension": ".py",
   "mimetype": "text/x-python",
   "name": "python",
   "nbconvert_exporter": "python",
   "pygments_lexer": "ipython3",
   "version": "3.7.1"
  },
  "latex_envs": {
   "LaTeX_envs_menu_present": true,
   "autoclose": false,
   "autocomplete": true,
   "bibliofile": "biblio.bib",
   "cite_by": "apalike",
   "current_citInitial": 1,
   "eqLabelWithNumbers": true,
   "eqNumInitial": 1,
   "hotkeys": {
    "equation": "Ctrl-E",
    "itemize": "Ctrl-I"
   },
   "labels_anchors": false,
   "latex_user_defs": false,
   "report_style_numbering": false,
   "user_envs_cfg": false
  }
 },
 "nbformat": 4,
 "nbformat_minor": 4
}
