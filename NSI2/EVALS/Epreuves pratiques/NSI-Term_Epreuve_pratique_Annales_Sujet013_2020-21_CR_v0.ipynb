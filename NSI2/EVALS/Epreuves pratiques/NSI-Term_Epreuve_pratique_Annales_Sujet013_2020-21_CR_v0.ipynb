{
 "cells": [
  {
   "cell_type": "markdown",
   "metadata": {},
   "source": [
    "<h1 style='text-align:center'>N.S.I. Term. - 2021.02.15 - Annales - sem20 (prn24)</h1>\n",
    "<h2 style='text-align:center'>Annales Épreuve Pratique 2020-21</h2>\n",
    "<h2 style='text-align:center'>Sujet 013 - corrigé</h2>"
   ]
  },
  {
   "cell_type": "markdown",
   "metadata": {},
   "source": [
    "* Cadrage officiel :  https://www.education.gouv.fr/bo/20/Special2/MENE2001797N.htm"
   ]
  },
  {
   "cell_type": "markdown",
   "metadata": {},
   "source": [
    "**Durée : 1 heure**<br/>\n",
    "<br/>\n",
    "<span style=\"color:blue;font-weight:900;font-family:Arial;font:20px Arial\">**Modalités**</span>\n",
    "<br/>\n",
    "<br/>\n",
    "<div style=\"font:16px Arial\">\n",
    "La partie pratique consiste en la résolution de deux exercices sur ordinateur, chacun étant noté sur 4 points.\n",
    "\n",
    "Le candidat est évalué sur la base d'un dialogue avec un professeur-examinateur. Un examinateur évalue au maximum quatre élèves. L'examinateur ne peut pas évaluer un élève qu'il a eu en classe durant l'année en cours.\n",
    "\n",
    "L'évaluation de cette partie se déroule au cours du deuxième trimestre pendant la période de l'épreuve écrite de spécialité.\n",
    "- **Premier exercice**\n",
    "\n",
    "Le premier exercice consiste à programmer un algorithme figurant explicitement au programme, ne présentant pas de difficulté particulière, dont on fournit une spécification. Il s'agit donc de restituer un algorithme rencontré et travaillé à plusieurs reprises en cours de formation. Le sujet peut proposer un jeu de test avec les réponses attendues pour permettre au candidat de vérifier son travail.\n",
    "\n",
    "- **Deuxième exercice**\n",
    "\n",
    "Pour le second exercice, un programme est fourni au candidat. Cet exercice ne demande pas l'écriture complète d'un programme, mais permet de valider des compétences de programmation suivant des modalités variées : le candidat doit, par exemple, compléter un programme « à trous » afin de répondre à une spécification donnée, ou encore compléter un programme pour le documenter, ou encore compléter un programme en ajoutant des assertions, *etc.*\n",
    "</div>"
   ]
  },
  {
   "cell_type": "markdown",
   "metadata": {},
   "source": [
    "<h2 style='text-align:center'>Sujet 013 - corrigé - v0</h2>"
   ]
  },
  {
   "cell_type": "markdown",
   "metadata": {},
   "source": [
    "https://www.education.gouv.fr/bo/20/Special2/MENE2001797N.htm"
   ]
  },
  {
   "cell_type": "markdown",
   "metadata": {},
   "source": [
    "**Durée 1 heure**  \n",
    "***Compte pour 8 points sur 20***"
   ]
  },
  {
   "cell_type": "markdown",
   "metadata": {},
   "source": [
    "<div style=\"font-family: \"Arial\", Times, serif;\">\n",
    "<h2 style=\"text-align:center\">EXERCICE 1 (4 points)</h2>\n",
    "<span style=\"font: 18px Arial, sans-serif;\">\n",
    "<br/>\n",
    "\n",
    "<p>\n",
    "    Écrire une fonction <code>tri_selection</code> qui prend en paramètre une liste <code>tab</code> de nombres entiers et qui renvoie le tableau trié par ordre croissant.\n",
    "</p>\n",
    "<p>\n",
    "    On utilisera l’algorithme suivant :\n",
    "</p>\n",
    "<ul>\n",
    "    <li>on recherche le plus petit élément du tableau, et on l'échange avec l'élément d'indice 0 ;</li>\n",
    "    <li>on recherche le second plus petit élément du tableau, et on l'échange avec l'élément d'indice 1 ;</li>\n",
    "    <li>on continue de cette façon jusqu'à ce que le tableau soit entièrement trié.</li>\n",
    "    </ul>\n",
    "    <br/>\n",
    "<p style=\"font: 18px Arial, sans-serif;\">\n",
    "<i>Exemple :</i>\n",
    "</p>\n",
    "<p style=\"padding:0 0 0 0px;font: 18px Courier New, sans-serif;\">\n",
    ">>> tri_selection([1, 52, 6, -9, 12])<br/>\n",
    "[-9, 1, 6, 12, 52]<br/>\n",
    "</p>\n",
    "</div>\n",
    "</span>\n",
    "</div>"
   ]
  },
  {
   "cell_type": "code",
   "execution_count": null,
   "metadata": {},
   "outputs": [],
   "source": []
  },
  {
   "cell_type": "markdown",
   "metadata": {},
   "source": [
    "### Corrigé"
   ]
  },
  {
   "cell_type": "code",
   "execution_count": 1,
   "metadata": {},
   "outputs": [],
   "source": [
    "def tri_selection(tab):\n",
    "    n = len(tab)\n",
    "    for i in range(n - 1):\n",
    "        ## recherche de la postion du minimum au-delà de la position i = 0 incluse\n",
    "        posmin, vmin = i, tab[i]\n",
    "        for j in range(i + 1, n):\n",
    "            if tab[j] < vmin:\n",
    "                posmin, vmin = j, tab[j]\n",
    "        ## échange du minimum trouvé avec la valeur en position i (la valeur du minimum a été sauvegardé dans vmin)\n",
    "        tab[posmin] = tab[i]\n",
    "        tab[i] = vmin\n",
    "    return tab"
   ]
  },
  {
   "cell_type": "markdown",
   "metadata": {},
   "source": [
    "$\\checkmark\\;$ tests"
   ]
  },
  {
   "cell_type": "code",
   "execution_count": 2,
   "metadata": {},
   "outputs": [
    {
     "data": {
      "text/plain": [
       "[-9, 1, 6, 12, 52]"
      ]
     },
     "execution_count": 2,
     "metadata": {},
     "output_type": "execute_result"
    }
   ],
   "source": [
    "tri_selection([1, 52, 6, -9, 12])"
   ]
  },
  {
   "cell_type": "code",
   "execution_count": 3,
   "metadata": {},
   "outputs": [
    {
     "data": {
      "text/plain": [
       "[1, 2, 3, 4, 5, 6, 7, 8]"
      ]
     },
     "execution_count": 3,
     "metadata": {},
     "output_type": "execute_result"
    }
   ],
   "source": [
    "tri_selection([8, 7, 6, 5, 4, 3, 2, 1])"
   ]
  },
  {
   "cell_type": "markdown",
   "metadata": {},
   "source": [
    "<div style=\"font-family: Arial, Times, serif;\">\n",
    "<h2 style=\"text-align:center\">EXERCICE 2 (4 points)</h2>\n",
    "<span style=\"font: 18px Arial, sans-serif;\">\n",
    "<br/>\n",
    "<p>\n",
    "Le jeu du « plus ou moins » consiste à deviner un nombre entier choisi entre 1 et 99.\n",
    "</p>\n",
    "<p>\n",
    "Un élève de NSI décide de le coder en langage Python de la manière suivante :\n",
    "</p>\n",
    "    <ul>\n",
    "    <li>le programme génère un nombre entier aléatoire compris entre 1 et 99 ;</li>\n",
    "    <li>si la proposition de l’utilisateur est plus petite que le nombre cherché, l’utilisateur en est averti. Il peut alors en tester un autre ;</li>\n",
    "    <li>si la proposition de l’utilisateur est plus grande que le nombre cherché, l’utilisateur en est averti. Il peut alors en tester un autre ;</li>\n",
    "        <li>si l’utilisateur trouve le bon nombre en 10 essais ou moins, il gagne ;</li>\n",
    "        <li>si l’utilisateur a fait plus de 10 essais sans trouver le bon nombre, il perd.</li>\n",
    "    </ul>\n",
    "    <br/>\n",
    "<p>\n",
    "La fonction <code>randint</code> est utilisée. Si $a$ et $b$ sont des entiers, <code>randint(a, b)</code> renvoie un nombre entier compris entre $a$ et $b$.\n",
    "</p>\n",
    "<p>\n",
    "    Compléter le code ci-dessous et le tester :\n",
    "    </p>\n",
    "</span>\n",
    "<br/>\n",
    "<br/>\n",
    "<span style=\"font: 18px Courier New, sans-serif;\">\n",
    "    from random import randint<br/>\n",
    "    <br/>\n",
    "def plus_ou_moins():<br/>\n",
    "<span style=\"display:inline-block; width: 36px;\"></span>nb_mystere = randint(1, ...)<br/>\n",
    "&emsp;&emsp;nb_test = int(input(\"Proposez un nombre entre 1 et 99 : \"))<br/>\n",
    "&emsp;&emsp;compteur = ...<br/>\n",
    "    <br/>\n",
    "&emsp;&emsp;while nb_mystere != ... and compteur < ... :<br/>\n",
    "&emsp;&emsp;&emsp;&emsp;compteur = compteur + ...<br/>\n",
    "&emsp;&emsp;&emsp;&emsp;if nb_mystere ... nb_test:<br/>\n",
    "&emsp;&emsp;&emsp;&emsp;&emsp;&emsp;nb_test = int(input(\"Trop petit ! Testez encore : \"))<br/>\n",
    "&emsp;&emsp;&emsp;&emsp;else:<br/>\n",
    "&emsp;&emsp;&emsp;&emsp;&emsp;&emsp;nb_test = int(input(\"Trop grand ! Testez encore : \"))<br/>\n",
    "    <br/>\n",
    "&emsp;&emsp;if nb_mystere == nb_test:<br/>\n",
    "&emsp;&emsp;&emsp;&emsp;print (\"Bravo ! Le nombre était \", ...)<br/>\n",
    "&emsp;&emsp;&emsp;&emsp;print(\"Nombre d'essais: \", ...)<br/>\n",
    "&emsp;&emsp;else:<br/>\n",
    "&emsp;&emsp;&emsp;&emsp;print (\"Perdu ! Le nombre était \", ...)<br/>\n",
    "</span>\n",
    "</div>\n",
    "</span>\n",
    "</div>"
   ]
  },
  {
   "cell_type": "code",
   "execution_count": null,
   "metadata": {},
   "outputs": [],
   "source": []
  },
  {
   "cell_type": "markdown",
   "metadata": {},
   "source": [
    "### Complément : contenu du fichier <code>.py</code> distribué avec le sujet"
   ]
  },
  {
   "cell_type": "code",
   "execution_count": 4,
   "metadata": {},
   "outputs": [
    {
     "ename": "SyntaxError",
     "evalue": "invalid syntax (<ipython-input-4-93e662b8f189>, line 10)",
     "output_type": "error",
     "traceback": [
      "\u001b[1;36m  File \u001b[1;32m\"<ipython-input-4-93e662b8f189>\"\u001b[1;36m, line \u001b[1;32m10\u001b[0m\n\u001b[1;33m    if nb_mystere ... nb_test:\u001b[0m\n\u001b[1;37m                    ^\u001b[0m\n\u001b[1;31mSyntaxError\u001b[0m\u001b[1;31m:\u001b[0m invalid syntax\n"
     ]
    }
   ],
   "source": [
    "from random import randint\n",
    "\n",
    "def plus_ou_moins():\n",
    "    nb_mystere = randint(1, ...)\n",
    "    nb_test = int(input(\"Proposez un nombre entre 1 et 99 : \"))\n",
    "    compteur = ...\n",
    "\n",
    "    while nb_mystere != ... and compteur < ... :\n",
    "        compteur = compteur + ...\n",
    "        if nb_mystere ... nb_test:\n",
    "            nb_test = int(input(\"Trop petit ! Testez encore : \"))\n",
    "        else:\n",
    "            nb_test = int(input(\"Trop grand ! Testez encore : \"))\n",
    "\n",
    "    if nb_mystere == nb_test:\n",
    "        print (\"Bravo ! Le nombre était \", ...)\n",
    "        print(\"Nombre d'essais: \", ...)\n",
    "    else:\n",
    "        print (\"Perdu ! Le nombre était \", ...)"
   ]
  },
  {
   "cell_type": "code",
   "execution_count": null,
   "metadata": {},
   "outputs": [],
   "source": []
  },
  {
   "cell_type": "markdown",
   "metadata": {},
   "source": [
    "### Corrigé"
   ]
  },
  {
   "cell_type": "code",
   "execution_count": 5,
   "metadata": {},
   "outputs": [],
   "source": [
    "from random import randint\n",
    "\n",
    "def plus_ou_moins():\n",
    "    nb_mystere = randint(1, 99) ## tirage pseudo-aléatoire de l'entier à trouver\n",
    "    nb_test = int(input(\"Proposez un nombre entre 1 et 99 : \"))\n",
    "    compteur = 1 ## on compte le nombre de propositions faites par l'utilisateur\n",
    "\n",
    "    while nb_mystere != nb_test and compteur < 10 : ## si le nombre n'a pas été trouvé et si le nombre de tentatives\n",
    "                                                    ## n'égale ni n'excède 10\n",
    "        compteur = compteur + 1 ## on actualise le nombre de propositions faites par l'utilisateur\n",
    "                                ## (par anticipation !)\n",
    "        if nb_mystere > nb_test:## si le nombre précédemment proposé est < au nombre à trouver\n",
    "            nb_test = int(input(\"Trop petit ! Testez encore : \"))\n",
    "        else:                   ## si le nombre précédemment proposé est > au nombre à trouver\n",
    "            nb_test = int(input(\"Trop grand ! Testez encore : \"))\n",
    "    ## en sortie de boucle while, le nombre a été trouvé, ou le nombre de tentatives est égal à 10\n",
    "    if nb_mystere == nb_test: ## le nombre a été trouvé\n",
    "        print (\"Bravo ! Le nombre était \", nb_test)\n",
    "        print(\"Nombre d'essais: \", compteur)\n",
    "    else:                     ## le nombre de tentatives est égal à 10 et le nombre n'a pas été trouvé\n",
    "        print (\"Perdu ! Le nombre était \", nb_mystere)"
   ]
  },
  {
   "cell_type": "code",
   "execution_count": 6,
   "metadata": {},
   "outputs": [
    {
     "name": "stdout",
     "output_type": "stream",
     "text": [
      "Proposez un nombre entre 1 et 99 : 50\n",
      "Trop grand ! Testez encore : 26\n",
      "Trop grand ! Testez encore : 14\n",
      "Trop grand ! Testez encore : 7\n",
      "Trop petit ! Testez encore : 10\n",
      "Trop petit ! Testez encore : 12\n",
      "Trop grand ! Testez encore : 11\n",
      "Bravo ! Le nombre était  11\n",
      "Nombre d'essais:  7\n"
     ]
    }
   ],
   "source": [
    "plus_ou_moins()"
   ]
  },
  {
   "cell_type": "code",
   "execution_count": 8,
   "metadata": {},
   "outputs": [
    {
     "name": "stdout",
     "output_type": "stream",
     "text": [
      "Proposez un nombre entre 1 et 99 : 1\n",
      "Trop petit ! Testez encore : 2\n",
      "Trop petit ! Testez encore : 3\n",
      "Trop petit ! Testez encore : 4\n",
      "Trop petit ! Testez encore : 5\n",
      "Trop petit ! Testez encore : 6\n",
      "Trop petit ! Testez encore : 7\n",
      "Trop petit ! Testez encore : 8\n",
      "Trop petit ! Testez encore : 9\n",
      "Trop petit ! Testez encore : 10\n",
      "Perdu ! Le nombre était  92\n"
     ]
    }
   ],
   "source": [
    "plus_ou_moins()"
   ]
  },
  {
   "cell_type": "code",
   "execution_count": null,
   "metadata": {},
   "outputs": [],
   "source": []
  }
 ],
 "metadata": {
  "kernelspec": {
   "display_name": "Python 3",
   "language": "python",
   "name": "python3"
  },
  "language_info": {
   "codemirror_mode": {
    "name": "ipython",
    "version": 3
   },
   "file_extension": ".py",
   "mimetype": "text/x-python",
   "name": "python",
   "nbconvert_exporter": "python",
   "pygments_lexer": "ipython3",
   "version": "3.7.1"
  },
  "latex_envs": {
   "LaTeX_envs_menu_present": true,
   "autoclose": false,
   "autocomplete": true,
   "bibliofile": "biblio.bib",
   "cite_by": "apalike",
   "current_citInitial": 1,
   "eqLabelWithNumbers": true,
   "eqNumInitial": 1,
   "hotkeys": {
    "equation": "Ctrl-E",
    "itemize": "Ctrl-I"
   },
   "labels_anchors": false,
   "latex_user_defs": false,
   "report_style_numbering": false,
   "user_envs_cfg": false
  }
 },
 "nbformat": 4,
 "nbformat_minor": 4
}
