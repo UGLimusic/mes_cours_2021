{
 "cells": [
  {
   "cell_type": "markdown",
   "metadata": {},
   "source": [
    "<h1 style='text-align:center'>N.S.I. Term. - 2021.02.15 - Annales - sem20 (prn24)</h1>\n",
    "<h2 style='text-align:center'>Annales Épreuve Pratique 2020-21</h2>\n",
    "<h2 style='text-align:center'>Sujet 019 - corrigé</h2>"
   ]
  },
  {
   "cell_type": "markdown",
   "metadata": {},
   "source": [
    "* Cadrage officiel :  https://www.education.gouv.fr/bo/20/Special2/MENE2001797N.htm"
   ]
  },
  {
   "cell_type": "markdown",
   "metadata": {},
   "source": [
    "**Durée : 1 heure**<br/>\n",
    "<br/>\n",
    "<span style=\"color:blue;font-weight:900;font-family:Arial;font:20px Arial\">**Modalités**</span>\n",
    "<br/>\n",
    "<br/>\n",
    "<div style=\"font:16px Arial\">\n",
    "La partie pratique consiste en la résolution de deux exercices sur ordinateur, chacun étant noté sur 4 points.\n",
    "\n",
    "Le candidat est évalué sur la base d'un dialogue avec un professeur-examinateur. Un examinateur évalue au maximum quatre élèves. L'examinateur ne peut pas évaluer un élève qu'il a eu en classe durant l'année en cours.\n",
    "\n",
    "L'évaluation de cette partie se déroule au cours du deuxième trimestre pendant la période de l'épreuve écrite de spécialité.\n",
    "- **Premier exercice**\n",
    "\n",
    "Le premier exercice consiste à programmer un algorithme figurant explicitement au programme, ne présentant pas de difficulté particulière, dont on fournit une spécification. Il s'agit donc de restituer un algorithme rencontré et travaillé à plusieurs reprises en cours de formation. Le sujet peut proposer un jeu de test avec les réponses attendues pour permettre au candidat de vérifier son travail.\n",
    "\n",
    "- **Deuxième exercice**\n",
    "\n",
    "Pour le second exercice, un programme est fourni au candidat. Cet exercice ne demande pas l'écriture complète d'un programme, mais permet de valider des compétences de programmation suivant des modalités variées : le candidat doit, par exemple, compléter un programme « à trous » afin de répondre à une spécification donnée, ou encore compléter un programme pour le documenter, ou encore compléter un programme en ajoutant des assertions, *etc.*\n",
    "</div>"
   ]
  },
  {
   "cell_type": "markdown",
   "metadata": {},
   "source": [
    "<h2 style='text-align:center'>Sujet 019 - corrigé - v0</h2>"
   ]
  },
  {
   "cell_type": "markdown",
   "metadata": {},
   "source": [
    "https://www.education.gouv.fr/bo/20/Special2/MENE2001797N.htm"
   ]
  },
  {
   "cell_type": "markdown",
   "metadata": {},
   "source": [
    "**Durée 1 heure**  \n",
    "***Compte pour 8 points sur 20***"
   ]
  },
  {
   "cell_type": "markdown",
   "metadata": {},
   "source": [
    "<div style=\"font-family: Arial, Times, serif;\">\n",
    "<h2 style=\"text-align:center\">EXERCICE 1 (4 points)</h2>\n",
    "<span style=\"font: 18px Arial, sans-serif;\">\n",
    "<br/>\n",
    "<p>\n",
    "Écrire une fonction <code>recherche</code> qui prend en paramètres un tableau <code>tab</code> de nombres entiers triés par ordre croissant et un nombre entier <code>n</code>, et qui effectue une recherche dichotomique du nombre entier <code>n</code> dans le tableau non vide <code>tab</code>.\n",
    "</p>\n",
    "<p>\n",
    "Cette fonction doit renvoyer un indice correspondant au nombre cherché s’il est dans le tableau, <code>-1</code> sinon.\n",
    "</p>\n",
    "<br/>\n",
    "<p>\n",
    "<i>Exemples :</i>\n",
    "</p>\n",
    "<p style=\"padding:0 0 0 0px;font: 18px Courier New, sans-serif;\">\n",
    ">>> recherche([2, 3, 4, 5, 6], 5)<br/>\n",
    "3<br/>\n",
    ">>> recherche([2, 3, 4, 6, 7], 5)<br/>\n",
    "-1<br/>\n",
    "</p>\n",
    "</span>\n",
    "</div>"
   ]
  },
  {
   "cell_type": "code",
   "execution_count": null,
   "metadata": {},
   "outputs": [],
   "source": []
  },
  {
   "cell_type": "markdown",
   "metadata": {},
   "source": [
    "### Corrigé"
   ]
  },
  {
   "cell_type": "code",
   "execution_count": 1,
   "metadata": {},
   "outputs": [],
   "source": [
    "def recherche(tab, n):\n",
    "    a, b = 0, len(tab) - 1 ## les valeurs des entiers a et b définissent les extrémités de la portion du tableau trié\n",
    "                           ## dans laquelle l'entier cherché peut se trouver (les positions a et b sont incluses)\n",
    "    while a <= b: ## tant que la portion de tableau dans laquelle on cherche n contient au moins un élément\n",
    "        m = (a + b) // 2 ## on détermine la place de la valeur située \"au milieu\" de la portion de recherche\n",
    "        if tab[m] == n:\n",
    "            return m ## si la valeur est trouvée, on renvoie sa position\n",
    "        elif n < tab[m]: ## sachant que le tableau est trié\n",
    "            b = m - 1 ## on reduit la zone de recherche, sachant que n < tab[m] et que le tableau est trié\n",
    "        else:\n",
    "            a = m + 1 ## on reduit la zone de recherche, sachant que tab[m] < n et que le tableau est trié\n",
    "    ## en sortie de boucle while, il est impossible que n soit dans le tableau car la zone de recherche est vide\n",
    "    return -1"
   ]
  },
  {
   "cell_type": "markdown",
   "metadata": {},
   "source": [
    "$\\checkmark\\;$ tests"
   ]
  },
  {
   "cell_type": "code",
   "execution_count": 2,
   "metadata": {},
   "outputs": [
    {
     "data": {
      "text/plain": [
       "3"
      ]
     },
     "execution_count": 2,
     "metadata": {},
     "output_type": "execute_result"
    }
   ],
   "source": [
    "recherche([2, 3, 4, 5, 6], 5)"
   ]
  },
  {
   "cell_type": "code",
   "execution_count": 3,
   "metadata": {},
   "outputs": [
    {
     "data": {
      "text/plain": [
       "-1"
      ]
     },
     "execution_count": 3,
     "metadata": {},
     "output_type": "execute_result"
    }
   ],
   "source": [
    "recherche([2, 3, 4, 6, 7], 5)"
   ]
  },
  {
   "cell_type": "markdown",
   "metadata": {},
   "source": [
    "<div style=\"font-family: Arial, Times, serif;\">\n",
    "<h2 style=\"text-align:center\">EXERCICE 2 (4 points)</h2>\n",
    "<span style=\"font: 18px Arial, sans-serif;\">\n",
    "<br/>\n",
    "<p>\n",
    "Le codage de César transforme un message en changeant chaque lettre en la décalant dans l’alphabet.\n",
    "</p>\n",
    "<p>\n",
    "    Par exemple, avec un décalage de 3, le A se transforme en D, le B en E, ..., le X en A, le Y en B et le Z en C. Les autres caractères (' ', '!','?', ...) ne sont pas codés.\n",
    "    </p>\n",
    "<p>\n",
    "    La fonction <code>position_alphabet</code> ci-dessous prend en paramètre un caractère <code>lettre</code> et renvoie la position de <code>lettre</code> dans la chaîne de caractères <code>ALPHABET</code> s’il s’y trouve et <code>-1</code> sinon.\n",
    "    </p>\n",
    "    <p>La fonction <code>cesar</code> prend en paramètre une chaîne de caractères <code>message</code> et un nombre entier <code>decalage</code> et renvoie le nouveau message codé avec le codage de César utilisant le décalage <code>decalage</code>.\n",
    "    </p>\n",
    "    <br/>\n",
    "<p style=\"font: 18px Courier New, sans-serif;\">\n",
    "ALPHABET = 'ABCDEFGHIJKLMNOPQRSTUVWXYZ'<br/>\n",
    "    <br/>\n",
    "def position_alphabet(lettre):<br/>\n",
    "<span style=\"display:inline-block; width: 36px;\"></span>return ALPHABET.find(lettre)<br/>\n",
    "<br/>\n",
    "def cesar(message, decalage):<br/>\n",
    "&emsp;&emsp;resultat = ''<br/>\n",
    "&emsp;&emsp;i = ...<br/>\n",
    "&emsp;&emsp;for ... in message:<br/>\n",
    "&emsp;&emsp;&emsp;&emsp;if lettre in ALPHABET:<br/>\n",
    "&emsp;&emsp;&emsp;&emsp;&emsp;&emsp;indice = ( ... ) % 26<br/>\n",
    "&emsp;&emsp;&emsp;&emsp;&emsp;&emsp;resultat = resultat + ALPHABET[indice]<br/>\n",
    "&emsp;&emsp;&emsp;&emsp;else:<br/>\n",
    "&emsp;&emsp;&emsp;&emsp;&emsp;&emsp;resultat = ...<br/>\n",
    "&emsp;&emsp;i = ...<br/>\n",
    "&emsp;&emsp;return resultat<br/>\n",
    "</p>\n",
    "<br/>\n",
    "<p>\n",
    "Compléter la fonction <code>cesar</code>.\n",
    "</p>\n",
    "<p>\n",
    "<i>Exemples :</i>\n",
    "</p>\n",
    "<p style=\"padding:0 0 0 0px;font: 18px Courier New, sans-serif;\">\n",
    ">>> cesar('BONJOUR A TOUS. VIVE LA MATIERE NSI !', 4)<br/>\n",
    "'FSRNSYV E XSYW. ZMZI PE QEXMIVI RWM !'<br/>\n",
    "    <br/>\n",
    "    <br/>\n",
    ">>> cesar('GTSOTZW F YTZX. ANAJ QF RFYNJWJ SXN !', -5)<br/>\n",
    "'BONJOUR A TOUS. VIVE LA MATIERE NSI !'<br/>\n",
    "</p>\n",
    "</span>\n",
    "</div>"
   ]
  },
  {
   "cell_type": "code",
   "execution_count": null,
   "metadata": {},
   "outputs": [],
   "source": []
  },
  {
   "cell_type": "markdown",
   "metadata": {},
   "source": [
    "### Complément : contenu du fichier <code>.py</code> distribué avec le sujet"
   ]
  },
  {
   "cell_type": "code",
   "execution_count": 4,
   "metadata": {},
   "outputs": [
    {
     "ename": "SyntaxError",
     "evalue": "can't assign to Ellipsis (<ipython-input-4-6cce0d3a5eb1>, line 8)",
     "output_type": "error",
     "traceback": [
      "\u001b[1;36m  File \u001b[1;32m\"<ipython-input-4-6cce0d3a5eb1>\"\u001b[1;36m, line \u001b[1;32m8\u001b[0m\n\u001b[1;33m    for ... in message :\u001b[0m\n\u001b[1;37m       ^\u001b[0m\n\u001b[1;31mSyntaxError\u001b[0m\u001b[1;31m:\u001b[0m can't assign to Ellipsis\n"
     ]
    }
   ],
   "source": [
    "ALPHABET = 'ABCDEFGHIJKLMNOPQRSTUVWXYZ'\n",
    "\n",
    "def position_alphabet(lettre):\n",
    "    return ALPHABET.find(lettre)\n",
    "\n",
    "def cesar(message, decalage):\n",
    "    resultat = ''\n",
    "    for ... in message :\n",
    "        if lettre in ALPHABET :\n",
    "            indice = ( ... ) % 26\n",
    "            resultat = resultat + ALPHABET[indice]\n",
    "        else:\n",
    "            resultat = ...\n",
    "    return resultat"
   ]
  },
  {
   "cell_type": "code",
   "execution_count": null,
   "metadata": {},
   "outputs": [],
   "source": []
  },
  {
   "cell_type": "markdown",
   "metadata": {},
   "source": [
    "### Corrigé"
   ]
  },
  {
   "cell_type": "code",
   "execution_count": null,
   "metadata": {},
   "outputs": [],
   "source": [
    "ALPHABET = 'ABCDEFGHIJKLMNOPQRSTUVWXYZ'\n",
    "\n",
    "def position_alphabet(lettre):\n",
    "    return ALPHABET.find(lettre)\n",
    "\n",
    "def cesar(message, decalage):\n",
    "    resultat = ''\n",
    "    for lettre in message :\n",
    "        if lettre in ALPHABET:\n",
    "            indice = (position_alphabet(lettre) + decalage) % 26\n",
    "            resultat = resultat + ALPHABET[indice]\n",
    "        else:\n",
    "            resultat = resultat + lettre\n",
    "    return resultat"
   ]
  },
  {
   "cell_type": "markdown",
   "metadata": {},
   "source": [
    "$\\checkmark\\;$ tests"
   ]
  },
  {
   "cell_type": "code",
   "execution_count": null,
   "metadata": {},
   "outputs": [],
   "source": [
    "cesar('BONJOUR A TOUS. VIVE LA MATIERE NSI !', 4)"
   ]
  },
  {
   "cell_type": "code",
   "execution_count": null,
   "metadata": {},
   "outputs": [],
   "source": [
    "cesar('GTSOTZW F YTZX. ANAJ QF RFYNJWJ SXN !', -5)"
   ]
  },
  {
   "cell_type": "markdown",
   "metadata": {},
   "source": [
    "***Note :*** sur le principe, au lieu d'effectuer deux recherches dans la chaîne `ALPHABET`, une pour vérifier que la lettre est dans l'alphabet (`lettre in ALPHABET`), l'autre pour trouver, le cas échéant, sa position dans l'alphabet (`ALPHABET.find(lettre)`), il serait plus indiquer de choisir l'implémentation suivante :"
   ]
  },
  {
   "cell_type": "code",
   "execution_count": 5,
   "metadata": {},
   "outputs": [
    {
     "data": {
      "text/plain": [
       "('FSRNSYV E XSYW. ZMZI PE QEXMIVI RWM !',\n",
       " 'BONJOUR A TOUS. VIVE LA MATIERE NSI !')"
      ]
     },
     "execution_count": 5,
     "metadata": {},
     "output_type": "execute_result"
    }
   ],
   "source": [
    "ALPHABET = 'ABCDEFGHIJKLMNOPQRSTUVWXYZ'\n",
    "\n",
    "def position_alphabet(lettre):\n",
    "    return ALPHABET.find(lettre)\n",
    "\n",
    "def cesar1(message, decalage):\n",
    "    resultat = ''\n",
    "    for lettre in message :\n",
    "        position = position_alphabet(lettre)\n",
    "        if position != -1:\n",
    "            indice = (position + decalage) % 26\n",
    "            resultat = resultat + ALPHABET[indice]\n",
    "        else:\n",
    "            resultat = resultat + lettre\n",
    "    return resultat\n",
    "\n",
    "## tests\n",
    "cesar1('BONJOUR A TOUS. VIVE LA MATIERE NSI !', 4), cesar1('GTSOTZW F YTZX. ANAJ QF RFYNJWJ SXN !', -5)"
   ]
  },
  {
   "cell_type": "markdown",
   "metadata": {},
   "source": [
    "On pourrait d'ailleurs utiliser la fonction `recherche`, implémentée à l'exercice 1, au lieu de la fonction `position_alphabet` :"
   ]
  },
  {
   "cell_type": "code",
   "execution_count": 6,
   "metadata": {},
   "outputs": [
    {
     "data": {
      "text/plain": [
       "('FSRNSYV E XSYW. ZMZI PE QEXMIVI RWM !',\n",
       " 'BONJOUR A TOUS. VIVE LA MATIERE NSI !')"
      ]
     },
     "execution_count": 6,
     "metadata": {},
     "output_type": "execute_result"
    }
   ],
   "source": [
    "ALPHABET = 'ABCDEFGHIJKLMNOPQRSTUVWXYZ'\n",
    "\n",
    "def cesar2(message, decalage):\n",
    "    resultat = ''\n",
    "    for lettre in message :\n",
    "        position = recherche(ALPHABET, lettre)\n",
    "        if position != -1:\n",
    "            indice = (position + decalage) % 26\n",
    "            resultat = resultat + ALPHABET[indice]\n",
    "        else:\n",
    "            resultat = resultat + lettre\n",
    "    return resultat\n",
    "\n",
    "## tests\n",
    "cesar2('BONJOUR A TOUS. VIVE LA MATIERE NSI !', 4), cesar2('GTSOTZW F YTZX. ANAJ QF RFYNJWJ SXN !', -5)"
   ]
  },
  {
   "cell_type": "code",
   "execution_count": null,
   "metadata": {},
   "outputs": [],
   "source": []
  }
 ],
 "metadata": {
  "kernelspec": {
   "display_name": "Python 3",
   "language": "python",
   "name": "python3"
  },
  "language_info": {
   "codemirror_mode": {
    "name": "ipython",
    "version": 3
   },
   "file_extension": ".py",
   "mimetype": "text/x-python",
   "name": "python",
   "nbconvert_exporter": "python",
   "pygments_lexer": "ipython3",
   "version": "3.7.1"
  },
  "latex_envs": {
   "LaTeX_envs_menu_present": true,
   "autoclose": false,
   "autocomplete": true,
   "bibliofile": "biblio.bib",
   "cite_by": "apalike",
   "current_citInitial": 1,
   "eqLabelWithNumbers": true,
   "eqNumInitial": 1,
   "hotkeys": {
    "equation": "Ctrl-E",
    "itemize": "Ctrl-I"
   },
   "labels_anchors": false,
   "latex_user_defs": false,
   "report_style_numbering": false,
   "user_envs_cfg": false
  }
 },
 "nbformat": 4,
 "nbformat_minor": 4
}
