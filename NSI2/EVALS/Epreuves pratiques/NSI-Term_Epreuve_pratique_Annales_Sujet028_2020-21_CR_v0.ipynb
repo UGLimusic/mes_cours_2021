{
 "cells": [
  {
   "cell_type": "markdown",
   "metadata": {},
   "source": [
    "<h1 style='text-align:center'>N.S.I. Term. - 2021.02.15 - Annales - sem20 (prn24)</h1>\n",
    "<h2 style='text-align:center'>Annales Épreuve Pratique 2020-21</h2>\n",
    "<h2 style='text-align:center'>Sujet 028 - corrigé</h2>"
   ]
  },
  {
   "cell_type": "markdown",
   "metadata": {},
   "source": [
    "* Cadrage officiel :  https://www.education.gouv.fr/bo/20/Special2/MENE2001797N.htm"
   ]
  },
  {
   "cell_type": "markdown",
   "metadata": {},
   "source": [
    "**Durée : 1 heure**<br/>\n",
    "<br/>\n",
    "<span style=\"color:blue;font-weight:900;font-family:Arial;font:20px Arial\">**Modalités**</span>\n",
    "<br/>\n",
    "<br/>\n",
    "<div style=\"font:16px Arial\">\n",
    "La partie pratique consiste en la résolution de deux exercices sur ordinateur, chacun étant noté sur 4 points.\n",
    "\n",
    "Le candidat est évalué sur la base d'un dialogue avec un professeur-examinateur. Un examinateur évalue au maximum quatre élèves. L'examinateur ne peut pas évaluer un élève qu'il a eu en classe durant l'année en cours.\n",
    "\n",
    "L'évaluation de cette partie se déroule au cours du deuxième trimestre pendant la période de l'épreuve écrite de spécialité.\n",
    "- **Premier exercice**\n",
    "\n",
    "Le premier exercice consiste à programmer un algorithme figurant explicitement au programme, ne présentant pas de difficulté particulière, dont on fournit une spécification. Il s'agit donc de restituer un algorithme rencontré et travaillé à plusieurs reprises en cours de formation. Le sujet peut proposer un jeu de test avec les réponses attendues pour permettre au candidat de vérifier son travail.\n",
    "\n",
    "- **Deuxième exercice**\n",
    "\n",
    "Pour le second exercice, un programme est fourni au candidat. Cet exercice ne demande pas l'écriture complète d'un programme, mais permet de valider des compétences de programmation suivant des modalités variées : le candidat doit, par exemple, compléter un programme « à trous » afin de répondre à une spécification donnée, ou encore compléter un programme pour le documenter, ou encore compléter un programme en ajoutant des assertions, *etc.*\n",
    "</div>"
   ]
  },
  {
   "cell_type": "markdown",
   "metadata": {},
   "source": [
    "<h2 style='text-align:center'>Sujet 028 - corrigé - v0</h2>"
   ]
  },
  {
   "cell_type": "markdown",
   "metadata": {},
   "source": [
    "https://www.education.gouv.fr/bo/20/Special2/MENE2001797N.htm"
   ]
  },
  {
   "cell_type": "markdown",
   "metadata": {},
   "source": [
    "**Durée 1 heure**  \n",
    "***Compte pour 8 points sur 20***"
   ]
  },
  {
   "cell_type": "markdown",
   "metadata": {},
   "source": [
    "<div style=\"font-family: Arial, Times, sans-serif;font-size: 18px\">\n",
    "    <h2 style=\"text-align:center\">EXERCICE 1 (4 points)</h2>\n",
    "    <br/>\n",
    "    <p>\n",
    "        Dans cet exercice, un arbre binaire de caractères est stocké sous la forme d’un dictionnaire où les clefs sont les caractères étiquetant les noeuds de l’arbre et les valeurs, pour chaque clef, la liste des caractères étiquetant, respectivement, les racines des fils gauche et droit du noeud. Si l'un ou l'autre des fils est l'arbre vide, on fait figurer la chaîne vide dans la liste pour représenter un arbre vide.\n",
    "    </p>\n",
    "    <p>\n",
    "        Par exemple, l’arbre\n",
    "    </p>\n",
    "    <img src=\"https://github.com/lbaille20/NSI-Term_2020-21/raw/master/AnnalesEpreuvePratique2021/Sujet28/NSI-Term_EprPratique2021_Sujet28_ex1_fig1.PNG\" alt = \"\" width = 64%/>\n",
    "    <p>\n",
    "        est stocké dans\n",
    "    </p>\n",
    "    <p style=\"font: 18px Courier New, sans-serif;\">\n",
    "        a = {'F': ['B', 'G'], 'B': ['A', 'D'], 'A': ['', ''], 'D': ['C', 'E'], 'C': ['', ''], \\<br/>\n",
    "        <span style=\"display:inline-block; width: 54px;\"></span>'E': ['', ''], 'G': ['', 'I'], 'I': ['', 'H'], 'H': ['', '']}\n",
    "    </p>\n",
    "    <p>\n",
    "        Écrire une fonction récursive <code>taille</code> prenant en paramètres un arbre binaire <code>arbre</code>\n",
    "sous la forme d’un dictionnaire et un caractère <code>lettre</code> qui est l'étiquette de la racine de l’arbre, et qui renvoie la taille de l’arbre à savoir le nombre total de noeuds.\n",
    "    </p>\n",
    "    <p>\n",
    "        On pourra distinguer les 4 cas où les deux « fils » du nœud sont <code>''</code>, le fils gauche seulement est <code>''</code>, le fils droit seulement est <code>''</code>, aucun des deux fils n’est <code>''</code>.\n",
    "        Écrire une fonction récursive <code>taille</code> prenant en paramètres un arbre binaire <code>arbre</code>\n",
    "sous la forme d’un dictionnaire et un caractère <code>lettre</code> qui est l'étiquette de la racine de l’arbre, et qui renvoie la taille de l’arbre à savoir le nombre total de noeuds.\n",
    "    </p>\n",
    "    <p>\n",
    "        <i>Exemple</i> :\n",
    "    </p>\n",
    "    <p style=\"padding:0 0 0 0px;font: 18px Courier New, sans-serif;\">\n",
    "        >>> taille(a, 'F')<br/>\n",
    "        9<br/>\n",
    "    </p>\n",
    "</div>"
   ]
  },
  {
   "cell_type": "code",
   "execution_count": null,
   "metadata": {},
   "outputs": [],
   "source": []
  },
  {
   "cell_type": "markdown",
   "metadata": {},
   "source": [
    "### Corrigé"
   ]
  },
  {
   "cell_type": "markdown",
   "metadata": {},
   "source": [
    "On remarquera que l'implémentation de la structure d'arbre proposée ne tient que si les nœuds de l'arbre ont des étiquettes deux à deux distinctes.  \n",
    "On ne traite pas le cas de l'arbre vide, qui selon le modèle devrait être représenté par le dictionnaire vide."
   ]
  },
  {
   "cell_type": "code",
   "execution_count": 1,
   "metadata": {},
   "outputs": [],
   "source": [
    "def taille(arbre, lettre):\n",
    "    ## traitement du cas de base de l'arbre réduit à une feuille (un nœud unique, sans fils)\n",
    "    if arbre[lettre] == ['', '']:\n",
    "        return 1 ## un arbre réduit à une feuille a une taille égale à 1\n",
    "    ## traitement de trois sous-cas du cas général (cas nécessitant au moins un appel récursif)\n",
    "    if arbre[lettre][0] == '':  ## si l'arbre n'a qu'un fils droit (et pas de fils gauche)\n",
    "        return 1 + taille(arbre, arbre[lettre][1]) ## la taille de l'arbre est de 1 (sa racine) + taille(fils droit)\n",
    "    if arbre[lettre][1] == '':  ## si l'arbre n'a qu'un fils gauche (et pas de fils droit)\n",
    "        return 1 + taille(arbre, arbre[lettre][0]) ## la taille de l'arbre est de 1 (sa racine) + taille(fils gauche)\n",
    "    ## si la racine de l'arbre a deux fils, sa taille est de 1 + la somme des tailles de ses deux fils\n",
    "    return 1 + taille(arbre, arbre[lettre][0]) + taille(arbre, arbre[lettre][1]) "
   ]
  },
  {
   "cell_type": "markdown",
   "metadata": {},
   "source": [
    "$\\checkmark\\;$ test"
   ]
  },
  {
   "cell_type": "code",
   "execution_count": 2,
   "metadata": {},
   "outputs": [
    {
     "data": {
      "text/plain": [
       "9"
      ]
     },
     "execution_count": 2,
     "metadata": {},
     "output_type": "execute_result"
    }
   ],
   "source": [
    "a = {'F': ['B', 'G'], 'B': ['A', 'D'], 'A': ['', ''], 'D': ['C', 'E'], 'C': ['', ''], \\\n",
    "     'E': ['', ''], 'G': ['', 'I'], 'I': ['', 'H'], 'H': ['', '']}\n",
    "\n",
    "taille(a, 'F')"
   ]
  },
  {
   "cell_type": "markdown",
   "metadata": {},
   "source": [
    "<div style=\"font-family: Arial, Times, sans-serif;font-size: 18px\">\n",
    "    <h2 style=\"text-align:center\">EXERCICE 2 (4 points)</h2>\n",
    "    <br/>\n",
    "    <p>\n",
    "        On considère l'algorithme de tri de tableau suivant : à chaque étape, on parcourt depuis\n",
    "le début du tableau tous les éléments non rangés et on place en dernière position le plus\n",
    "grand élément.\n",
    "    </p>\n",
    "    <p>\n",
    "        Exemple avec le tableau :\n",
    "    </p>\n",
    "    <div style=\"font: 18px Courier New, sans-serif;text-align:center\">\n",
    "        t = [41, 55, 21, 18, 12, 6, 25]\n",
    "    </div>\n",
    "    <p>\n",
    "        Etape 1 : on parcourt tous les éléments du tableau, on permute le plus grand élément avec le dernier. Le tableau devient\n",
    "    </p>\n",
    "    <br/>\n",
    "    <div style=\"font: 18px Courier New, sans-serif;text-align:center\">\n",
    "        t = [41, 25, 21, 18, 12, 6, <b>55</b>]\n",
    "    </div>\n",
    "    <p>\n",
    "        Etape 2 : on parcourt tous les éléments sauf le dernier on permute le plus grand élément\n",
    "trouvé avec l'avant-dernier. Le tableau devient\n",
    "    </p>\n",
    "    <br/>\n",
    "    <div style=\"font: 18px Courier New, sans-serif;text-align:center\">\n",
    "        t = [6, 25, 21, 18, 12, <b>41</b>, <b>55</b>]\n",
    "    </div>\n",
    "    <p>\n",
    "        Et ainsi de suite.\n",
    "    </p>\n",
    "    <p>\n",
    "        La code de la fonction <code>tri_iteratif</code> qui implémente cet algorithme est donné ci-dessous.\n",
    "    </p>\n",
    "    <br/>\n",
    "    <p style=\"font: 18px Courier New, sans-serif;\">\n",
    "    def tri_iteratif(tab):<br/>\n",
    "    &emsp;&emsp;for k in range( ... , 1, -1):<br/>\n",
    "    &emsp;&emsp;&emsp;&emsp;imax = ...<br/>\n",
    "    &emsp;&emsp;&emsp;&emsp;for i in range(0, ... ):<br/>\n",
    "    &emsp;&emsp;&emsp;&emsp;&emsp;&emsp;if tab[i] > ... :<br/>\n",
    "    &emsp;&emsp;&emsp;&emsp;&emsp;&emsp;&emsp;&emsp;imax = i<br/>\n",
    "    &emsp;&emsp;&emsp;&emsp;if tab[imax] > ... :<br/>\n",
    "    &emsp;&emsp;&emsp;&emsp;&emsp;&emsp;... , tab[imax] = tab[imax], ...<br/>\n",
    "    &emsp;&emsp;return tab<br/>\n",
    "    </p>\n",
    "    <br/>\n",
    "    <p>\n",
    "    Compléter le code qui doit donner :\n",
    "    </p>\n",
    "    <br/>\n",
    "    <span style=\"padding:0 0 0 0px;font: 18px Courier New, sans-serif;\">\n",
    "        >>> tri_iteratif([41, 55, 21, 18, 12, 6, 25])<br/>\n",
    "        [6, 18, 12, 21, 25, 41, 55]<br/>\n",
    "    </span>\n",
    "    <br/>\n",
    "    <p>\n",
    "    On rappelle que l’instruction\n",
    "    </p>\n",
    "    <p>\n",
    "    <span style=\"padding:0 0 0 0px;font: 18px Courier New, sans-serif;\">\n",
    "        a, b = b, a\n",
    "    </span>\n",
    "    </p>\n",
    "    <p>\n",
    "    échange les contenus de <code>a</code> et de <code>b</code>.\n",
    "    </p>\n",
    "</div>"
   ]
  },
  {
   "cell_type": "code",
   "execution_count": null,
   "metadata": {},
   "outputs": [],
   "source": []
  },
  {
   "cell_type": "markdown",
   "metadata": {},
   "source": [
    "### Complément : contenu du fichier <code>.py</code> distribué avec le sujet"
   ]
  },
  {
   "cell_type": "code",
   "execution_count": 3,
   "metadata": {},
   "outputs": [
    {
     "ename": "SyntaxError",
     "evalue": "can't assign to Ellipsis (<ipython-input-3-d7b89c9afc05>, line 8)",
     "output_type": "error",
     "traceback": [
      "\u001b[1;36m  File \u001b[1;32m\"<ipython-input-3-d7b89c9afc05>\"\u001b[1;36m, line \u001b[1;32m8\u001b[0m\n\u001b[1;33m    ... , tab[imax] = tab[imax] , ...\u001b[0m\n\u001b[1;37m    ^\u001b[0m\n\u001b[1;31mSyntaxError\u001b[0m\u001b[1;31m:\u001b[0m can't assign to Ellipsis\n"
     ]
    }
   ],
   "source": [
    "def tri_iteratif(tab):\n",
    "    for k in range( ... , 1, -1):\n",
    "        imax = ...\n",
    "        for i in range(0, ... ):\n",
    "            if tab[i] > ... :\n",
    "                imax = i\n",
    "        if tab[imax] > ... :\n",
    "            ... , tab[imax] = tab[imax] , ...\n",
    "    return tab"
   ]
  },
  {
   "cell_type": "code",
   "execution_count": null,
   "metadata": {},
   "outputs": [],
   "source": []
  },
  {
   "cell_type": "markdown",
   "metadata": {},
   "source": [
    "### Corrigé"
   ]
  },
  {
   "cell_type": "code",
   "execution_count": 23,
   "metadata": {},
   "outputs": [],
   "source": [
    "def tri_iteratif(tab):\n",
    "    for k in range(len(tab) - 1, 0, -1): ## pour chaque valeur de k, on va chercher la position du maximum\n",
    "                                         ## entre les positions 0 et k (incluses), afin ensuite d'échanger\n",
    "                                         ## le maximum trouvé avec la valeur en position k\n",
    "                                         ## À la fin de l'itération d'indice k, les valeurs non triées seront entre\n",
    "                                         ## les positions 0 et k - 1 (incluses)\n",
    "        imax = k ## initialisation de la position du maximum entre les positions 0 à k (incluses) à la position k\n",
    "        for i in range(0, k): ## on examine les valeurs entre les positions 0 (incluse) et k (exclue) \n",
    "            if tab[i] > tab[imax] : ## à chaque fois que l'on trouve, entre les positions 0 à k - 1,\n",
    "                                    ## une valeur strictement plus grande que le maximum déjà rencontré\n",
    "                imax = i            ## On enregistre sa position dans imax.\n",
    "        if tab[imax] > tab[k] : ## si on a trouvé entre les positions 0 à k - 1 (incluses), une valeur strictement\n",
    "                                ## plus grande que la valeur en position k :\n",
    "            tab[k], tab[imax] = tab[imax], tab[k] ## on l'échange avec la valeur en position k\n",
    "                                                  ## le tableau est alors trié de la position k jusqu'à sa fin\n",
    "                                                  ## et les valeurs entre les positions 0 à k - 1 sont inférieures\n",
    "                                                  ## ou égales à la valeur tab[k] et restent à trier\n",
    "    return tab"
   ]
  },
  {
   "cell_type": "markdown",
   "metadata": {},
   "source": [
    "$\\checkmark\\;$ tests"
   ]
  },
  {
   "cell_type": "code",
   "execution_count": 24,
   "metadata": {},
   "outputs": [
    {
     "data": {
      "text/plain": [
       "[6, 12, 18, 21, 25, 41, 55]"
      ]
     },
     "execution_count": 24,
     "metadata": {},
     "output_type": "execute_result"
    }
   ],
   "source": [
    "tri_iteratif([41, 55, 21, 18, 12, 6, 25])"
   ]
  },
  {
   "cell_type": "code",
   "execution_count": 25,
   "metadata": {},
   "outputs": [
    {
     "data": {
      "text/plain": [
       "[1, 2, 3, 4, 5, 6, 7, 8]"
      ]
     },
     "execution_count": 25,
     "metadata": {},
     "output_type": "execute_result"
    }
   ],
   "source": [
    "tri_iteratif([8, 7, 6, 5, 4, 3, 2, 1])"
   ]
  },
  {
   "cell_type": "code",
   "execution_count": 26,
   "metadata": {},
   "outputs": [
    {
     "data": {
      "text/plain": [
       "[1, 2, 3, 4, 5, 6, 7, 8]"
      ]
     },
     "execution_count": 26,
     "metadata": {},
     "output_type": "execute_result"
    }
   ],
   "source": [
    "tri_iteratif([8, 1, 2, 3, 4, 5, 6, 7])"
   ]
  },
  {
   "cell_type": "code",
   "execution_count": null,
   "metadata": {},
   "outputs": [],
   "source": []
  }
 ],
 "metadata": {
  "kernelspec": {
   "display_name": "Python 3",
   "language": "python",
   "name": "python3"
  },
  "language_info": {
   "codemirror_mode": {
    "name": "ipython",
    "version": 3
   },
   "file_extension": ".py",
   "mimetype": "text/x-python",
   "name": "python",
   "nbconvert_exporter": "python",
   "pygments_lexer": "ipython3",
   "version": "3.7.1"
  },
  "latex_envs": {
   "LaTeX_envs_menu_present": true,
   "autoclose": false,
   "autocomplete": true,
   "bibliofile": "biblio.bib",
   "cite_by": "apalike",
   "current_citInitial": 1,
   "eqLabelWithNumbers": true,
   "eqNumInitial": 1,
   "hotkeys": {
    "equation": "Ctrl-E",
    "itemize": "Ctrl-I"
   },
   "labels_anchors": false,
   "latex_user_defs": false,
   "report_style_numbering": false,
   "user_envs_cfg": false
  }
 },
 "nbformat": 4,
 "nbformat_minor": 4
}
