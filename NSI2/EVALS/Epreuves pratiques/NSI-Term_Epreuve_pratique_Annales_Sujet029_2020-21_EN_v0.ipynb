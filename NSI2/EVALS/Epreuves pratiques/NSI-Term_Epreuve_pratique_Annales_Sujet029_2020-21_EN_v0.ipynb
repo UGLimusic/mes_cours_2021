{
 "cells": [
  {
   "cell_type": "markdown",
   "metadata": {},
   "source": [
    "<h1 style='text-align:center'>N.S.I. Term. - 2021.02.15 - Annales - sem20 (prn24)</h1>\n",
    "<h2 style='text-align:center'>Annales Épreuve Pratique 2020-21</h2>\n",
    "<h2 style='text-align:center'>Sujet 029 - énoncé</h2>"
   ]
  },
  {
   "cell_type": "markdown",
   "metadata": {},
   "source": [
    "* Cadrage officiel :  https://www.education.gouv.fr/bo/20/Special2/MENE2001797N.htm"
   ]
  },
  {
   "cell_type": "markdown",
   "metadata": {},
   "source": [
    "**Durée : 1 heure**<br/>\n",
    "<br/>\n",
    "<span style=\"color:blue;font-weight:900;font-family:Arial;font:20px Arial\">**Modalités**</span>\n",
    "<br/>\n",
    "<br/>\n",
    "<div style=\"font:16px Arial\">\n",
    "La partie pratique consiste en la résolution de deux exercices sur ordinateur, chacun étant noté sur 4 points.\n",
    "\n",
    "Le candidat est évalué sur la base d'un dialogue avec un professeur-examinateur. Un examinateur évalue au maximum quatre élèves. L'examinateur ne peut pas évaluer un élève qu'il a eu en classe durant l'année en cours.\n",
    "\n",
    "L'évaluation de cette partie se déroule au cours du deuxième trimestre pendant la période de l'épreuve écrite de spécialité.\n",
    "- **Premier exercice**\n",
    "\n",
    "Le premier exercice consiste à programmer un algorithme figurant explicitement au programme, ne présentant pas de difficulté particulière, dont on fournit une spécification. Il s'agit donc de restituer un algorithme rencontré et travaillé à plusieurs reprises en cours de formation. Le sujet peut proposer un jeu de test avec les réponses attendues pour permettre au candidat de vérifier son travail.\n",
    "\n",
    "- **Deuxième exercice**\n",
    "\n",
    "Pour le second exercice, un programme est fourni au candidat. Cet exercice ne demande pas l'écriture complète d'un programme, mais permet de valider des compétences de programmation suivant des modalités variées : le candidat doit, par exemple, compléter un programme « à trous » afin de répondre à une spécification donnée, ou encore compléter un programme pour le documenter, ou encore compléter un programme en ajoutant des assertions, *etc.*\n",
    "</div>"
   ]
  },
  {
   "cell_type": "markdown",
   "metadata": {},
   "source": [
    "<h2 style='text-align:center'>Sujet 029 - énoncé - v0</h2>"
   ]
  },
  {
   "cell_type": "markdown",
   "metadata": {},
   "source": [
    "https://www.education.gouv.fr/bo/20/Special2/MENE2001797N.htm"
   ]
  },
  {
   "cell_type": "markdown",
   "metadata": {},
   "source": [
    "**Durée 1 heure**  \n",
    "***Compte pour 8 points sur 20***"
   ]
  },
  {
   "cell_type": "markdown",
   "metadata": {},
   "source": [
    "<div style=\"font-family: Arial, Times, sans-serif;font-size: 18px\">\n",
    "    <h2 style=\"text-align:center\">EXERCICE 1 (4 points)</h2>\n",
    "    <br/>\n",
    "    <p>\n",
    "        Soit un nombre entier supérieur ou égal à 1 :<br/>\n",
    "        &emsp;-&emsp;s'il est pair, on le divise par 2 ;<br/>\n",
    "        &emsp;-&emsp;s'il est impair, on le multiplie par 3 et on ajoute 1.<br/>\n",
    "        Puis on recommence ces étapes avec le nombre entier obtenu, jusqu’à ce que l’on obtienne la valeur 1.\n",
    "    </p>\n",
    "    <p>\n",
    "        On définit ainsi la suite $(u_n)$ par<br/>\n",
    "        &emsp;-&emsp;$u_0 = k$, où $k$ est un entier choisi initialement ;<br/>\n",
    "        &emsp;-&emsp;$u_{n+1} = u_n \\;/\\; 2$ si $u_n$ est pair ;<br/>\n",
    "        &emsp;-&emsp;$u_{n+1} = 3\\times u_n + 1$ si $u_n$ est impair.\n",
    "    </p>\n",
    "    <br/>\n",
    "    <p>\n",
    "        <b>On admet que, quel que soit l’entier k choisi au départ, la suite finit toujours sur la valeur 1.</b>\n",
    "    </p>\n",
    "    <p>\n",
    "        Écrire une fonction <code>calcul</code> prenant en paramètres un entier $n$ strictement positif et qui renvoie la liste des valeurs $u_n$, en partant de $k$ et jusqu’à atteindre 1.\n",
    "    </p>\n",
    "    <p>\n",
    "        <i>Exemple</i> :\n",
    "    </p>\n",
    "    <p style=\"padding:0 0 0 0px;font: 18px Courier New, sans-serif;\">\n",
    "        >>> calcul(7)<br/>\n",
    "        [7, 22, 11, 34, 17, 52, 26, 13, 40, 20, 10, 5, 16, 8, 4, 2, 1]<br/>\n",
    "    </p>\n",
    "</div>"
   ]
  },
  {
   "cell_type": "code",
   "execution_count": null,
   "metadata": {},
   "outputs": [],
   "source": []
  },
  {
   "cell_type": "markdown",
   "metadata": {},
   "source": [
    "<div style=\"font-family: Arial, Times, sans-serif;font-size: 18px\">\n",
    "    <h2 style=\"text-align:center\">EXERCICE 2 (4 points)</h2>\n",
    "    <br/>\n",
    "    <p>\n",
    "        On affecte à chaque lettre de l’alphabet un code selon les tableaux ci-dessous :\n",
    "    </p>\n",
    "    <img src=\"https://github.com/lbaille20/NSI-Term_2020-21/raw/master/AnnalesEpreuvePratique2021/Sujet29/NSI-Term_EprPratique2021_Sujet29_ex2_fig1.PNG\" alt = \"\" width = 64%/>\n",
    "    <p>\n",
    "        Pour un mot donné, on détermine d’une part son <i>code alphabétique concaténé</i>, obtenu par la juxtaposition des codes de chacun de ses caractères, et d’autre part, son <i>code additionné</i>, qui est la somme des codes de chacun de ses caractères. Par ailleurs, on dit que ce mot est « <i>parfait</i> » si le code additionné divise le code concaténé.\n",
    "    </p>\n",
    "    <p>\n",
    "        Exemples :\n",
    "    </p>\n",
    "    <br/>\n",
    "        &emsp;-&emsp;Pour le mot <code>\"PAUL\"</code>, le code concaténé est la chaîne <code>\"1612112\"</code>, soit l’entier $1\\,612\\,112$.<br/>\n",
    "    <span style=\"display:inline-block; width: 42px;\"></span>Son code additionné est l’entier $50$ car $16+1+21+12=50$.<br/>\n",
    "    <span style=\"display:inline-block; width: 42px;\"></span>$50$ ne divise pas l’entier $1\\,612\\,112$ ; par conséquent, le mot <code>\"PAUL\"</code> n’est pas parfait.<br/>\n",
    "    <br/>\n",
    "        &emsp;-&emsp;Pour le mot <code>\"ALAIN\"</code>, le code concaténé est la chaîne <code>\"1121914\"</code>, soit l’entier $1\\,121\\,914$.<br/>\n",
    "    <span style=\"display:inline-block; width: 42px;\"></span>Son code additionné est l’entier $37$ car $1+12+1+9+14=37$.<br/>\n",
    "    <span style=\"display:inline-block; width: 42px;\"></span>$37$ divise l’entier $1\\,121\\,914$ ; par conséquent, le mot <code>\"ALAIN\"</code> est parfait.<br/>\n",
    "    <p>\n",
    "        Compléter la fonction <code>est_parfait</code> ci-dessous qui prend comme argument une chaîne de caractères <code>mot</code> (en lettres majuscules non accentuées) et qui renvoie le code alphabétique concaténé, le code additionné de <code>mot</code>, ainsi qu’un booléen qui indique si <code>mot</code> est parfait ou pas.\n",
    "    </p>\n",
    "    <br/>\n",
    "    <br/>\n",
    "    <div style=\"font: 18px Courier New, sans-serif;\">\n",
    "        <span style=\"display:inline-block; width: 36px;\"></span>dico = {\"A\": 1, \"B\": 2, \"C\": 3, \"D\": 4, \"E\": 5, \"F\": 6, \"G\": 7, \\<br/>\n",
    "        <span style=\"display:inline-block; width: 122px;\"></span>\"H\": 8, \"I\": 9, \"J\": 10, \"K\": 11, \"L\": 12, \"M\": 13, \\<br/>\n",
    "        <span style=\"display:inline-block; width: 122px;\"></span>\"N\": 14, \"O\": 15, \"P\": 16, \"Q\": 17, \"R\": 18, \"S\": 19, \\<br/>\n",
    "        <span style=\"display:inline-block; width: 122px;\"></span>\"T\": 20, \"U\": 21,\"V\": 22, \"W\": 23, \"X\": 24, \"Y\": 25, \"Z\": 26}<br/>\n",
    "        <br/>\n",
    "        &emsp;&emsp;def est_parfait(mot) :<br/>\n",
    "        &emsp;&emsp;&emsp;&emsp;#mot est une chaîne de caractères (en lettres majuscules non accentuées)<br/>\n",
    "        &emsp;&emsp;&emsp;&emsp;code_c = \"\"<br/>\n",
    "        &emsp;&emsp;&emsp;&emsp;code_a = ???<br/>\n",
    "        &emsp;&emsp;&emsp;&emsp;for c in mot :<br/>\n",
    "        &emsp;&emsp;&emsp;&emsp;&emsp;&emsp;code_c = code_c + ???<br/>\n",
    "        &emsp;&emsp;&emsp;&emsp;&emsp;&emsp;code_a = ???<br/>\n",
    "        &emsp;&emsp;&emsp;&emsp;code_c = int(code_c)<br/>\n",
    "        &emsp;&emsp;&emsp;&emsp;if ??? :<br/>\n",
    "        &emsp;&emsp;&emsp;&emsp;&emsp;&emsp;mot_est_parfait = True<br/>\n",
    "        &emsp;&emsp;&emsp;&emsp;else:<br/>\n",
    "        &emsp;&emsp;&emsp;&emsp;&emsp;&emsp;mot_est_parfait = False<br/>\n",
    "        &emsp;&emsp;&emsp;&emsp;return [code_a, code_c, mot_est_parfait]<br/>\n",
    "    <br/>    \n",
    "    </div>\n",
    "    <br/>\n",
    "    <p>\n",
    "        <i>Exemples :</i>\n",
    "    </p>\n",
    "    <br/>\n",
    "    <div style=\"font: 18px Courier New, sans-serif;\">\n",
    "        >>> est_parfait(\"PAUL\")<br/>\n",
    "        [50, 1612112, False]<br/>\n",
    "        >>> est_parfait(\"ALAIN\")<br/>\n",
    "        [37, 1121914, True]<br/>\n",
    "    </div>\n",
    "</div>"
   ]
  },
  {
   "cell_type": "code",
   "execution_count": null,
   "metadata": {},
   "outputs": [],
   "source": []
  },
  {
   "cell_type": "markdown",
   "metadata": {},
   "source": [
    "### Complément : contenu du fichier <code>.py</code> distribué avec le sujet"
   ]
  },
  {
   "cell_type": "code",
   "execution_count": 1,
   "metadata": {},
   "outputs": [
    {
     "ename": "SyntaxError",
     "evalue": "invalid syntax (<ipython-input-1-470947e6b8b0>, line 9)",
     "output_type": "error",
     "traceback": [
      "\u001b[1;36m  File \u001b[1;32m\"<ipython-input-1-470947e6b8b0>\"\u001b[1;36m, line \u001b[1;32m9\u001b[0m\n\u001b[1;33m    code_a = ???\u001b[0m\n\u001b[1;37m             ^\u001b[0m\n\u001b[1;31mSyntaxError\u001b[0m\u001b[1;31m:\u001b[0m invalid syntax\n"
     ]
    }
   ],
   "source": [
    "dico = {\"A\": 1, \"B\": 2, \"C\": 3, \"D\": 4, \"E\": 5, \"F\": 6, \"G\": 7, \\\n",
    "        \"H\": 8, \"I\": 9, \"J\": 10, \"K\": 11, \"L\": 12, \"M\": 13, \\\n",
    "        \"N\": 14, \"O\": 15, \"P\": 16, \"Q\": 17, \"R\": 18, \"S\": 19, \\\n",
    "        \"T\": 20, \"U\": 21,\"V\": 22, \"W\": 23, \"X\": 24, \"Y\": 25, \"Z\": 26}\n",
    "\n",
    "def est_parfait(mot) :\n",
    "    #mot est une chaîne de caractères (en lettres majuscules non accentuées)\n",
    "    code_c = \"\"\n",
    "    code_a = ???\n",
    "    for c in mot :\n",
    "        code_c = code_c + ???\n",
    "        code_a = ???\n",
    "    code_c = int(code_c)\n",
    "    if ??? :\n",
    "        mot_est_parfait = True\n",
    "    else :\n",
    "        mot_est_parfait = False\n",
    "    return [code_a, code_c, mot_est_parfait]"
   ]
  },
  {
   "cell_type": "code",
   "execution_count": null,
   "metadata": {},
   "outputs": [],
   "source": []
  }
 ],
 "metadata": {
  "kernelspec": {
   "display_name": "Python 3",
   "language": "python",
   "name": "python3"
  },
  "language_info": {
   "codemirror_mode": {
    "name": "ipython",
    "version": 3
   },
   "file_extension": ".py",
   "mimetype": "text/x-python",
   "name": "python",
   "nbconvert_exporter": "python",
   "pygments_lexer": "ipython3",
   "version": "3.7.1"
  },
  "latex_envs": {
   "LaTeX_envs_menu_present": true,
   "autoclose": false,
   "autocomplete": true,
   "bibliofile": "biblio.bib",
   "cite_by": "apalike",
   "current_citInitial": 1,
   "eqLabelWithNumbers": true,
   "eqNumInitial": 1,
   "hotkeys": {
    "equation": "Ctrl-E",
    "itemize": "Ctrl-I"
   },
   "labels_anchors": false,
   "latex_user_defs": false,
   "report_style_numbering": false,
   "user_envs_cfg": false
  }
 },
 "nbformat": 4,
 "nbformat_minor": 4
}
