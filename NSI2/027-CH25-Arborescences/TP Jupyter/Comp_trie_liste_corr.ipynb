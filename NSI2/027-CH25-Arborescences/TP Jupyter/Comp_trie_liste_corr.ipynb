{
 "cells": [
  {
   "cell_type": "markdown",
   "metadata": {},
   "source": [
    "# Comparaison Trie / liste\n",
    "\n",
    "On va comparer les vitesses d'exécution de certains procédés suivant qu'on utilise une liste ou bien un Trie\n",
    "\n",
    "Commençons par nous fabriquer une fonction donnant le temps système en millisecondes :"
   ]
  },
  {
   "cell_type": "code",
   "execution_count": 84,
   "metadata": {},
   "outputs": [],
   "source": [
    "from time import process_time_ns\n",
    "def temps():\n",
    "    return process_time_ns()/10**6"
   ]
  },
  {
   "cell_type": "markdown",
   "metadata": {},
   "source": [
    "Maintenant, importons une classe Trie. Lisez bien les docs des méthodes pour pouvoir les utiliser ensuite."
   ]
  },
  {
   "cell_type": "code",
   "execution_count": 69,
   "metadata": {},
   "outputs": [],
   "source": [
    "class Trie:\n",
    "\n",
    "    def __init__(self, valeur=None, fin=False):\n",
    "        \"\"\" Pour créer un noeud, vide par défaut \"\"\"\n",
    "        self.valeur = valeur\n",
    "        self.fin = fin\n",
    "        self.fils = dict()\n",
    "\n",
    "        \n",
    "    def ajoute_mot(self, mot: str) -> None:\n",
    "        \"\"\" Ajoute un mot, à utiliser sur la racine du trie \"\"\"\n",
    "        if len(mot) == 1:\n",
    "            if mot not in self.fils:\n",
    "                self.fils[mot] = Trie(mot, True)\n",
    "            else:\n",
    "                self.fils[mot].fin = True\n",
    "        else:\n",
    "            lettre = mot[0]\n",
    "            if lettre not in self.fils:\n",
    "                self.fils[lettre] = Trie(lettre)\n",
    "            self.fils[lettre].ajoute_mot(mot[1:])\n",
    "\n",
    "            \n",
    "    def __contains__(self, mot) -> bool:\n",
    "        \"\"\" permet d'écrire if mot in trie, à utiliser sur la racine \"\"\"\n",
    "        if len(mot) == 1:\n",
    "            return mot in self.fils and self.fils[mot].fin\n",
    "        else:\n",
    "            lettre = mot[0]\n",
    "            if lettre not in self.fils:\n",
    "                return False\n",
    "            else:\n",
    "                return mot [1:] in self.fils[lettre]\n",
    "\n",
    "    \n",
    "    def commence_par(self, debut) -> list:\n",
    "        \"\"\" Renvoie la liste de tous les mots du trie qui commencent par début, à utiliser sur la racine \"\"\"\n",
    "        debut2 = debut\n",
    "        courant = self\n",
    "        while debut:\n",
    "            if debut[0] not in courant.fils:\n",
    "                return []\n",
    "            courant = courant.fils[debut[0]]\n",
    "            debut = debut[1:]\n",
    "        return courant.contenu(debut2[:-1])\n",
    "   \n",
    "\n",
    "        def contenu(self, mot=None, liste=None) -> list:\n",
    "        \"\"\" Renvoie la liste des mots (ou des fins de mots) d'un trie. Pas utilisé par les élèves \"\"\"\n",
    "        mot = mot or \"\"\n",
    "        liste = liste or []\n",
    "        if self.valeur:\n",
    "            mot += self.valeur\n",
    "        if self.fin:\n",
    "            liste.append(mot)\n",
    "        for u in self.fils.values():\n",
    "            liste2 = u.contenu(mot, liste)\n",
    "            for m in liste2:\n",
    "                if m not in liste:\n",
    "                    liste.append(m)\n",
    "        return liste\n"
   ]
  },
  {
   "cell_type": "markdown",
   "metadata": {},
   "source": [
    "## Créer `liste_mots` et mesurer le temps d'exécution\n",
    "\n",
    "Exécuter la cellule suivante."
   ]
  },
  {
   "cell_type": "code",
   "execution_count": 70,
   "metadata": {},
   "outputs": [
    {
     "name": "stdout",
     "output_type": "stream",
     "text": [
      "La construction du dictionnaire-liste a duré 78.125 millisecondes.\n"
     ]
    }
   ],
   "source": [
    "debut = temps()\n",
    "liste_mots = []  # on part d'une liste vide\n",
    "with open('dico.txt', 'rt', encoding='utf8') as fichier:  # on ouvre le fichier\n",
    "    ligne = fichier.readline()  # on lit une ligne\n",
    "    while ligne:\n",
    "        liste_mots.append(ligne[:-1])  # On enlève le dernier caractere, c'est un \\n\n",
    "        ligne = fichier.readline()\n",
    "duree = temps()-debut\n",
    "print(f\"La construction du dictionnaire-liste a duré {duree} millisecondes.\")"
   ]
  },
  {
   "cell_type": "markdown",
   "metadata": {},
   "source": [
    "## Créer `trie_mots` et mesurer le temps d'exécution\n",
    "\n",
    "Inspires-toi de la cellule précédente pour créer `trie_mots`"
   ]
  },
  {
   "cell_type": "code",
   "execution_count": 85,
   "metadata": {},
   "outputs": [
    {
     "name": "stdout",
     "output_type": "stream",
     "text": [
      "La construction du dictionnaire-trie a duré 2906.25 millisecondes.\n"
     ]
    }
   ],
   "source": [
    "debut = temps()\n",
    "trie_mots = Trie()  # on crée le trie\n",
    "\n",
    "# Quelques lignes\n",
    "\n",
    "duree = temps()-debut\n",
    "print(f\"La construction du dictionnaire-trie a duré {duree} millisecondes.\")"
   ]
  },
  {
   "cell_type": "markdown",
   "metadata": {},
   "source": [
    "## Créer des listes de mots aléatoires de longueur donnée\n",
    "\n",
    "Créer la fonction `liste_mots_aleatoires` qui\n",
    "- en entrée prend deux `int` : `n` et `longueur`\n",
    "- renvoie une liste de `n` mots qui sont en majuscules, aléatoires et tous de longueur `longueur`.\n",
    "\n",
    "Par exemple `liste_mots_aleatoires(3,4)` peut renvoyer `['AHSZ','PURE','ZARU']`."
   ]
  },
  {
   "cell_type": "code",
   "execution_count": 72,
   "metadata": {},
   "outputs": [],
   "source": [
    "from random import choice\n",
    "def liste_mots_aleatoires(n : int,longueur : int) -> list:\n",
    "    alphabet = 'AZERTYUIOPQSDFGHJKLMWXCVBN'\n",
    "    resultat = []\n",
    "   # Allez, ce n'est pas si dur\n",
    "    return resultat"
   ]
  },
  {
   "cell_type": "markdown",
   "metadata": {},
   "source": [
    "## Chercher des mots aléatoires dans `liste_mots`\n",
    "\n",
    "On va chercher `nombre` mots de longueur `longueur` aléatoires dans la `liste_mots`, en affichant ceux qui y sont effectivement :\n",
    "d'abord on les mets dans une liste `resultat`, puis on affiche, tout ça en mesurant le timing (il y a peut de chance qu'on en trouve si `longueur` est grand."
   ]
  },
  {
   "cell_type": "code",
   "execution_count": 92,
   "metadata": {},
   "outputs": [
    {
     "name": "stdout",
     "output_type": "stream",
     "text": [
      "On génère la liste des mots aléatoires\n",
      "on commence la recherche\n",
      "La recherche de 10000 mots de longueur 5 dans le dictionnaire-liste a duré 19421.875 millisecondes.\n",
      "\n",
      "['PAMES', 'JUTES', 'SAUGE']\n"
     ]
    }
   ],
   "source": [
    "nombre = 10000\n",
    "longueur = 5\n",
    "print(\"On génère la liste des mots aléatoires\")\n",
    "mots_aleatoires = liste_mots_aleatoires(nombre,longueur)\n",
    "print(\"on commence la recherche\")\n",
    "resultat = []\n",
    "debut = temps()\n",
    "for mot in mots_aleatoires:\n",
    "    if mot in liste_mots:\n",
    "        resultat.append(mot)\n",
    "duree = temps()-debut\n",
    "print(f\"La recherche de {nombre} mots de longueur {longueur} dans le dictionnaire-liste a duré {duree} millisecondes.\")\n",
    "print()\n",
    "print(resultat)"
   ]
  },
  {
   "cell_type": "markdown",
   "metadata": {},
   "source": [
    "Faire de même avec `trie_mots`."
   ]
  },
  {
   "cell_type": "code",
   "execution_count": 96,
   "metadata": {},
   "outputs": [
    {
     "name": "stdout",
     "output_type": "stream",
     "text": [
      "On génère la liste des mots aléatoires\n",
      "on commence la recherche\n",
      "La recherche de 10000 mots de longueur 5 dans le dictionnaire-trie a duré 0.0 millisecondes.\n",
      "['FEMME', 'TERRI', 'BIOME', 'GENTS', 'OTITE']\n"
     ]
    }
   ],
   "source": [
    "nombre = 10000\n",
    "longueur = 5\n",
    "print(\"On génère la liste des mots aléatoires\")\n",
    "mots_aleatoires = liste_mots_aleatoires(nombre,longueur)\n",
    "print(\"on commence la recherche\")\n",
    "resultat = []\n",
    "debut = temps()\n",
    "for mot in mots_aleatoires:\n",
    "    if mot in trie_mots:\n",
    "        resultat.append(mot)\n",
    "duree = temps()-debut\n",
    "print(f\"La recherche de {nombre} mots de longueur {longueur} dans le dictionnaire-trie a duré {duree} millisecondes.\")\n",
    "print(resultat)"
   ]
  },
  {
   "cell_type": "markdown",
   "metadata": {},
   "source": [
    "## Autocomplétion\n",
    "\n",
    "On commence par générer `nombre` débuts de mots de `longueur` lettres, puis on extrait (*retrieve*) de `trie_mots` la liste des mots commençant par ces préfixes."
   ]
  },
  {
   "cell_type": "code",
   "execution_count": 110,
   "metadata": {},
   "outputs": [
    {
     "name": "stdout",
     "output_type": "stream",
     "text": [
      "On génère la liste des débuts de mots aléatoires.\n",
      "On commence la recherche d'autocomplétion.\n",
      "La recherche dans le dictionnaire-liste a duré 0.0 millisecondes.\n",
      "ESCR\n",
      "['ESCRIMA', 'ESCRIMAI', 'ESCRIMAIENT', 'ESCRIMAIS', 'ESCRIMAIT', 'ESCRIMAMES', 'ESCRIMANT', 'ESCRIMAS', 'ESCRIMASSE', 'ESCRIMASSENT', 'ESCRIMASSES', 'ESCRIMASSIEZ', 'ESCRIMASSIONS', 'ESCRIMAT', 'ESCRIMATES', 'ESCRIME', 'ESCRIMENT', 'ESCRIMER', 'ESCRIMERA', 'ESCRIMERAI', 'ESCRIMERAIENT', 'ESCRIMERAIS', 'ESCRIMERAIT', 'ESCRIMERAS', 'ESCRIMERENT', 'ESCRIMEREZ', 'ESCRIMERIEZ', 'ESCRIMERIONS', 'ESCRIMERONS', 'ESCRIMERONT', 'ESCRIMES', 'ESCRIMEUR', 'ESCRIMEURS', 'ESCRIMEUSE', 'ESCRIMEUSES', 'ESCRIMEZ', 'ESCRIMIEZ', 'ESCRIMIONS', 'ESCRIMONS', 'ESCROC', 'ESCROCS', 'ESCROQUA', 'ESCROQUAI', 'ESCROQUAIENT', 'ESCROQUAIS', 'ESCROQUAIT', 'ESCROQUAMES', 'ESCROQUANT', 'ESCROQUAS', 'ESCROQUASSE', 'ESCROQUASSENT', 'ESCROQUASSES', 'ESCROQUASSIEZ', 'ESCROQUASSIONS', 'ESCROQUAT', 'ESCROQUATES', 'ESCROQUE', 'ESCROQUEE', 'ESCROQUEES', 'ESCROQUENT', 'ESCROQUER', 'ESCROQUERA', 'ESCROQUERAI', 'ESCROQUERAIENT', 'ESCROQUERAIS', 'ESCROQUERAIT', 'ESCROQUERAS', 'ESCROQUERENT', 'ESCROQUEREZ', 'ESCROQUERIE', 'ESCROQUERIES', 'ESCROQUERIEZ', 'ESCROQUERIONS', 'ESCROQUERONS', 'ESCROQUERONT', 'ESCROQUES', 'ESCROQUEZ', 'ESCROQUIEZ', 'ESCROQUIONS', 'ESCROQUONS']\n",
      "\n",
      "ENHA\n",
      "['ENHARDI', 'ENHARDIE', 'ENHARDIES', 'ENHARDIMES', 'ENHARDIR', 'ENHARDIRA', 'ENHARDIRAI', 'ENHARDIRAIENT', 'ENHARDIRAIS', 'ENHARDIRAIT', 'ENHARDIRAS', 'ENHARDIRENT', 'ENHARDIREZ', 'ENHARDIRIEZ', 'ENHARDIRIONS', 'ENHARDIRONS', 'ENHARDIRONT', 'ENHARDIS', 'ENHARDISSAIENT', 'ENHARDISSAIS', 'ENHARDISSAIT', 'ENHARDISSANT', 'ENHARDISSE', 'ENHARDISSENT', 'ENHARDISSES', 'ENHARDISSEZ', 'ENHARDISSIEZ', 'ENHARDISSIONS', 'ENHARDISSONS', 'ENHARDIT', 'ENHARDITES', 'ENHARMONIE', 'ENHARMONIES', 'ENHARMONIQUE', 'ENHARMONIQUES', 'ENHARNACHA', 'ENHARNACHAI', 'ENHARNACHAIENT', 'ENHARNACHAIS', 'ENHARNACHAIT', 'ENHARNACHAMES', 'ENHARNACHANT', 'ENHARNACHAS', 'ENHARNACHASSE', 'ENHARNACHASSENT', 'ENHARNACHASSES', 'ENHARNACHASSIEZ', 'ENHARNACHASSIONS', 'ENHARNACHAT', 'ENHARNACHATES', 'ENHARNACHE', 'ENHARNACHENT', 'ENHARNACHER', 'ENHARNACHERENT', 'ENHARNACHES', 'ENHARNACHEZ', 'ENHARNACHIEZ', 'ENHARNACHIONS', 'ENHARNACHONS']\n",
      "\n",
      "PUTA\n",
      "['PUTAIN', 'PUTAINS', 'PUTASSIER', 'PUTATIF', 'PUTATIVE', 'PUTATIVES']\n",
      "\n"
     ]
    }
   ],
   "source": [
    "longueur = 4\n",
    "nombre = 100\n",
    "print(\"On génère la liste des débuts de mots aléatoires.\")\n",
    "debuts_aleatoires = liste_mots_aleatoires(nombre,longueur)\n",
    "print(\"On commence la recherche d'autocomplétion.\")\n",
    "debut= temps()\n",
    "resultat = {}\n",
    "for debut_mot in debuts_aleatoires:\n",
    "    liste=trie_mots.commence_par(debut_mot)\n",
    "    if liste != []:\n",
    "        resultat[debut_mot] = liste\n",
    "    \n",
    "duree = temps()-debut\n",
    "print(f\"La recherche dans le dictionnaire-liste a duré {duree} millisecondes.\")   \n",
    "l =[(x,resultat[x]) for x in resultat]\n",
    "for x in l:\n",
    "    print(x[0])\n",
    "    print(x[1])\n",
    "    print()"
   ]
  },
  {
   "cell_type": "markdown",
   "metadata": {},
   "source": [
    "À toi de faire de même pour `liste_mots`... en te débrouillant, ce n'est pas trop difficile"
   ]
  },
  {
   "cell_type": "code",
   "execution_count": 111,
   "metadata": {},
   "outputs": [
    {
     "name": "stdout",
     "output_type": "stream",
     "text": [
      "On génère la liste des débuts de mots aléatoires.\n",
      "On commence la recherche d'autocomplétion.\n",
      "La recherche dans le dictionnaire-liste a duré 23859.375 millisecondes.\n",
      "PEYO ['PEYOTL']\n",
      "\n",
      "CHON ['CHONDRIOME', 'CHONDRIOSOME', 'CHONDROBLASTE']\n",
      "\n",
      "SAMI ['SAMIEN', 'SAMIT', 'SAMITS']\n",
      "\n",
      "PUAM ['PUAMES']\n",
      "\n",
      "RASO ['RASOIR', 'RASOIRS', 'RASONS']\n",
      "\n",
      "ARME ['ARME', 'ARMEE', 'ARMEES', 'ARMELINE', 'ARMEMENT', 'ARMEMENTS', 'ARMENIEN', 'ARMENIENNE', 'ARMENIENNES', 'ARMENIENS', 'ARMENT', 'ARMER', 'ARMERA', 'ARMERAI', 'ARMERAIENT', 'ARMERAIS', 'ARMERAIT', 'ARMERAS', 'ARMERENT', 'ARMEREZ', 'ARMERIEZ', 'ARMERIONS', 'ARMERONS', 'ARMERONT', 'ARMES', 'ARMET', 'ARMEUSE', 'ARMEZ']\n",
      "\n",
      "ENFA ['ENFAITEAU', 'ENFAITEAUX', 'ENFAITER', 'ENFANCE', 'ENFANCES', 'ENFANT', 'ENFANTA', 'ENFANTAI', 'ENFANTAIENT', 'ENFANTAIS', 'ENFANTAIT', 'ENFANTAMES', 'ENFANTANT', 'ENFANTAS', 'ENFANTASSE', 'ENFANTASSENT', 'ENFANTASSES', 'ENFANTASSIEZ', 'ENFANTASSIONS', 'ENFANTAT', 'ENFANTATES', 'ENFANTE', 'ENFANTEMENT', 'ENFANTEMENTS', 'ENFANTENT', 'ENFANTER', 'ENFANTERENT', 'ENFANTES', 'ENFANTEZ', 'ENFANTIEZ', 'ENFANTILLAGE', 'ENFANTILLAGES', 'ENFANTIN', 'ENFANTINE', 'ENFANTINES', 'ENFANTINS', 'ENFANTIONS', 'ENFANTONS', 'ENFANTS', 'ENFARINA', 'ENFARINAI', 'ENFARINAIENT', 'ENFARINAIS', 'ENFARINAIT', 'ENFARINAMES', 'ENFARINANT', 'ENFARINAS', 'ENFARINASSE', 'ENFARINASSENT', 'ENFARINASSES', 'ENFARINASSIEZ', 'ENFARINASSIONS', 'ENFARINAT', 'ENFARINATES', 'ENFARINE', 'ENFARINEE', 'ENFARINEES', 'ENFARINENT', 'ENFARINER', 'ENFARINERENT', 'ENFARINES', 'ENFARINEZ', 'ENFARINIEZ', 'ENFARINIONS', 'ENFARINONS']\n",
      "\n",
      "COBR ['COBRA', 'COBRAS']\n",
      "\n",
      "SONG ['SONGE', 'SONGEA', 'SONGEAI', 'SONGEAIENT', 'SONGEAIS', 'SONGEAIT', 'SONGEAMES', 'SONGEANT', 'SONGEAS', 'SONGEASSE', 'SONGEASSENT', 'SONGEASSES', 'SONGEASSIEZ', 'SONGEASSIONS', 'SONGEAT', 'SONGEATES', 'SONGEE', 'SONGEES', 'SONGENT', 'SONGEONS', 'SONGER', 'SONGERA', 'SONGERAI', 'SONGERAIENT', 'SONGERAIS', 'SONGERAIT', 'SONGERAS', 'SONGERENT', 'SONGEREZ', 'SONGERIE', 'SONGERIES', 'SONGERIEZ', 'SONGERIONS', 'SONGERONS', 'SONGERONT', 'SONGES', 'SONGEUR', 'SONGEURS', 'SONGEUSE', 'SONGEUSES', 'SONGEZ', 'SONGIEZ', 'SONGIONS']\n",
      "\n",
      "OPUS ['OPUS', 'OPUSCULE', 'OPUSCULES']\n",
      "\n",
      "POUX ['POUX']\n",
      "\n",
      "MAIA ['MAIA']\n",
      "\n",
      "BARD ['BARD', 'BARDA', 'BARDAGE', 'BARDAGES', 'BARDAI', 'BARDAIENT', 'BARDAIS', 'BARDAIT', 'BARDAMES', 'BARDANE', 'BARDANT', 'BARDAS', 'BARDASSE', 'BARDASSENT', 'BARDASSES', 'BARDASSIEZ', 'BARDASSIONS', 'BARDAT', 'BARDATES', 'BARDE', 'BARDEAU', 'BARDEAUX', 'BARDEE', 'BARDEES', 'BARDENT', 'BARDER', 'BARDERA', 'BARDERAI', 'BARDERAIENT', 'BARDERAIS', 'BARDERAIT', 'BARDERAS', 'BARDERENT', 'BARDEREZ', 'BARDERIEZ', 'BARDERIONS', 'BARDERONS', 'BARDERONT', 'BARDES', 'BARDEZ', 'BARDIEZ', 'BARDIONS', 'BARDIS', 'BARDONS', 'BARDOT']\n",
      "\n",
      "DIDU ['DIDUCTEUR', 'DIDUCTION']\n",
      "\n"
     ]
    }
   ],
   "source": [
    "nombre = 1000\n",
    "longueur = 4\n",
    "print(\"On génère la liste des débuts de mots aléatoires.\")\n",
    "debuts_aleatoires = liste_mots_aleatoires(nombre,longueur)\n",
    "print(\"On commence la recherche d'autocomplétion.\")\n",
    "debut= temps()\n",
    "resultat = {}\n",
    "for debut_mot in debuts_aleatoires:\n",
    "    resultat[debut_mot]=[]\n",
    "    for mot in liste_mots:\n",
    "        if mot[:longueur]==debut_mot:\n",
    "                resultat[debut_mot].append(mot)\n",
    "duree = temps()-debut\n",
    "print(f\"La recherche dans le dictionnaire-liste a duré {duree} millisecondes.\")   \n",
    "l =[(x,resultat[x]) for x in resultat if resultat[x]!=[]]\n",
    "for x in l:\n",
    "    print(x[0],x[1])\n",
    "    print()"
   ]
  },
  {
   "cell_type": "markdown",
   "metadata": {},
   "source": [
    "![YES](https://media.giphy.com/media/VGVwLultLZjrrssAak/giphy.gif)"
   ]
  },
  {
   "cell_type": "code",
   "execution_count": null,
   "metadata": {},
   "outputs": [],
   "source": []
  }
 ],
 "metadata": {
  "kernelspec": {
   "display_name": "Python 3",
   "language": "python",
   "name": "python3"
  },
  "language_info": {
   "codemirror_mode": {
    "name": "ipython",
    "version": 3
   },
   "file_extension": ".py",
   "mimetype": "text/x-python",
   "name": "python",
   "nbconvert_exporter": "python",
   "pygments_lexer": "ipython3",
   "version": "3.8.7"
  }
 },
 "nbformat": 4,
 "nbformat_minor": 4
}
