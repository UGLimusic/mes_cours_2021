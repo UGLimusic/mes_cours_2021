{
 "cells": [
  {
   "cell_type": "markdown",
   "metadata": {},
   "source": [
    "# Comparaison Trie / liste\n",
    "\n",
    "On va comparer les vitesses d'exécution de certains procédés suivant qu'on utilise une liste ou bien un Trie\n",
    "\n",
    "Commençons par nous fabriquer une fonction donnant le temps système en millisecondes :"
   ]
  },
  {
   "cell_type": "code",
   "execution_count": null,
   "metadata": {},
   "outputs": [],
   "source": [
    "from time import process_time_ns\n",
    "def temps():\n",
    "    return process_time_ns()/10**6"
   ]
  },
  {
   "cell_type": "markdown",
   "metadata": {},
   "source": [
    "Maintenant, importons une classe Trie. Lisez bien les docs des méthodes pour pouvoir les utiliser ensuite."
   ]
  },
  {
   "cell_type": "code",
   "execution_count": null,
   "metadata": {},
   "outputs": [],
   "source": [
    "class Trie:\n",
    "\n",
    "    def __init__(self, valeur=None, fin=False):\n",
    "        \"\"\" Pour créer un noeud, vide par défaut \"\"\"\n",
    "        self.valeur = valeur\n",
    "        self.fin = fin\n",
    "        self.fils = dict()\n",
    "\n",
    "        \n",
    "    def ajoute_mot(self, mot: str) -> None:\n",
    "        \"\"\" Ajoute un mot, à utiliser sur la racine du trie \"\"\"\n",
    "        if len(mot) == 1:\n",
    "            if mot not in self.fils:\n",
    "                self.fils[mot] = Trie(mot, True)\n",
    "            else:\n",
    "                self.fils[mot].fin = True\n",
    "        else:\n",
    "            lettre = mot[0]\n",
    "            if lettre not in self.fils:\n",
    "                self.fils[lettre] = Trie(lettre)\n",
    "            self.fils[lettre].ajoute_mot(mot[1:])\n",
    "\n",
    "            \n",
    "    def __contains__(self, mot) -> bool:\n",
    "        \"\"\" permet d'écrire if mot in trie, à utiliser sur la racine \"\"\"\n",
    "        if len(mot) == 1:\n",
    "            return mot in self.fils and self.fils[mot].fin\n",
    "        else:\n",
    "            lettre = mot[0]\n",
    "            if lettre not in self.fils:\n",
    "                return False\n",
    "            else:\n",
    "                return mot [1:] in self.fils[lettre]\n",
    "\n",
    "    \n",
    "    def commence_par(self, debut) -> list:\n",
    "        \"\"\" Renvoie la liste de tous les mots du trie qui commencent par début, à utiliser sur la racine \"\"\"\n",
    "        debut2 = debut\n",
    "        courant = self\n",
    "        while debut:\n",
    "            if debut[0] not in courant.fils:\n",
    "                return []\n",
    "            courant = courant.fils[debut[0]]\n",
    "            debut = debut[1:]\n",
    "        return courant.contenu(debut2[:-1])\n",
    "   \n",
    "\n",
    "        def contenu(self, mot=None, liste=None) -> list:\n",
    "        \"\"\" Renvoie la liste des mots (ou des fins de mots) d'un trie. Pas utilisé par les élèves \"\"\"\n",
    "        mot = mot or \"\"\n",
    "        liste = liste or []\n",
    "        if self.valeur:\n",
    "            mot += self.valeur\n",
    "        if self.fin:\n",
    "            liste.append(mot)\n",
    "        for u in self.fils.values():\n",
    "            liste2 = u.contenu(mot, liste)\n",
    "            for m in liste2:\n",
    "                if m not in liste:\n",
    "                    liste.append(m)\n",
    "        return liste\n"
   ]
  },
  {
   "cell_type": "markdown",
   "metadata": {},
   "source": [
    "## Créer `liste_mots` et mesurer le temps d'exécution\n",
    "\n",
    "Exécuter la cellule suivante."
   ]
  },
  {
   "cell_type": "code",
   "execution_count": null,
   "metadata": {},
   "outputs": [],
   "source": [
    "debut = temps()\n",
    "liste_mots = []  # on part d'une liste vide\n",
    "with open('dico.txt', 'rt', encoding='utf8') as fichier:  # on ouvre le fichier\n",
    "    ligne = fichier.readline()  # on lit une ligne\n",
    "    while ligne:\n",
    "        liste_mots.append(ligne[:-1])  # On enlève le dernier caractere, c'est un \\n\n",
    "        ligne = fichier.readline()\n",
    "duree = temps()-debut\n",
    "print(f\"La construction du dictionnaire-liste a duré {duree} millisecondes.\")"
   ]
  },
  {
   "cell_type": "markdown",
   "metadata": {},
   "source": [
    "## Créer `trie_mots` et mesurer le temps d'exécution\n",
    "\n",
    "Inspires-toi de la cellule précédente pour créer `trie_mots`"
   ]
  },
  {
   "cell_type": "code",
   "execution_count": null,
   "metadata": {},
   "outputs": [],
   "source": [
    "debut = temps()\n",
    "trie_mots = Trie()  # on crée le trie\n",
    "\n",
    "# Quelques lignes\n",
    "\n",
    "duree = temps()-debut\n",
    "print(f\"La construction du dictionnaire-trie a duré {duree} millisecondes.\")"
   ]
  },
  {
   "cell_type": "markdown",
   "metadata": {},
   "source": [
    "## Créer des listes de mots aléatoires de longueur donnée\n",
    "\n",
    "Créer la fonction `liste_mots_aleatoires` qui\n",
    "- en entrée prend deux `int` : `n` et `longueur`\n",
    "- renvoie une liste de `n` mots qui sont en majuscules, aléatoires et tous de longueur `longueur`.\n",
    "\n",
    "Par exemple `liste_mots_aleatoires(3,4)` peut renvoyer `['AHSZ','PURE','ZARU']`."
   ]
  },
  {
   "cell_type": "code",
   "execution_count": null,
   "metadata": {},
   "outputs": [],
   "source": [
    "from random import choice\n",
    "def liste_mots_aleatoires(n : int,longueur : int) -> list:\n",
    "    alphabet = 'AZERTYUIOPQSDFGHJKLMWXCVBN'\n",
    "    resultat = []\n",
    "   # Allez, ce n'est pas si dur\n",
    "    return resultat"
   ]
  },
  {
   "cell_type": "markdown",
   "metadata": {},
   "source": [
    "## Chercher des mots aléatoires dans `liste_mots`\n",
    "\n",
    "On va chercher `nombre` mots de longueur `longueur` aléatoires dans la `liste_mots`, en affichant ceux qui y sont effectivement :\n",
    "d'abord on les mets dans une liste `resultat`, puis on affiche, tout ça en mesurant le timing (il y a peut de chance qu'on en trouve si `longueur` est grand."
   ]
  },
  {
   "cell_type": "code",
   "execution_count": null,
   "metadata": {},
   "outputs": [],
   "source": [
    "nombre = 10000\n",
    "longueur = 5\n",
    "print(\"On génère la liste des mots aléatoires\")\n",
    "mots_aleatoires = liste_mots_aleatoires(nombre,longueur)\n",
    "print(\"on commence la recherche\")\n",
    "resultat = []\n",
    "debut = temps()\n",
    "for mot in mots_aleatoires:\n",
    "    if mot in liste_mots:\n",
    "        resultat.append(mot)\n",
    "duree = temps()-debut\n",
    "print(f\"La recherche de {nombre} mots de longueur {longueur} dans le dictionnaire-liste a duré {duree} millisecondes.\")\n",
    "print()\n",
    "print(resultat)"
   ]
  },
  {
   "cell_type": "markdown",
   "metadata": {},
   "source": [
    "Faire de même avec `trie_mots`."
   ]
  },
  {
   "cell_type": "code",
   "execution_count": null,
   "metadata": {},
   "outputs": [],
   "source": [
    "nombre = 10000\n",
    "longueur = 5\n",
    "print(\"On génère la liste des mots aléatoires\")\n",
    "mots_aleatoires = liste_mots_aleatoires(nombre,longueur)\n",
    "print(\"on commence la recherche\")\n",
    "resultat = []\n",
    "debut = temps()\n",
    "\n",
    "# you can do it\n",
    "\n",
    "duree = temps()-debut\n",
    "print(f\"La recherche de {nombre} mots de longueur {longueur} dans le dictionnaire-trie a duré {duree} millisecondes.\")\n",
    "print(resultat)"
   ]
  },
  {
   "cell_type": "markdown",
   "metadata": {},
   "source": [
    "## Autocomplétion\n",
    "\n",
    "On commence par générer `nombre` débuts de mots de `longueur` lettres, puis on extrait (*retrieve*) de `trie_mots` la liste des mots commençant par ces préfixes."
   ]
  },
  {
   "cell_type": "code",
   "execution_count": null,
   "metadata": {},
   "outputs": [],
   "source": [
    "longueur = 4\n",
    "nombre = 100\n",
    "print(\"On génère la liste des débuts de mots aléatoires.\")\n",
    "debuts_aleatoires = liste_mots_aleatoires(nombre,longueur)\n",
    "print(\"On commence la recherche d'autocomplétion.\")\n",
    "debut= temps()\n",
    "resultat = {}\n",
    "for debut_mot in debuts_aleatoires:\n",
    "    liste=trie_mots.commence_par(debut_mot)\n",
    "    if liste != []:\n",
    "        resultat[debut_mot] = liste  \n",
    "duree = temps()-debut\n",
    "print(f\"La recherche dans le dictionnaire-liste a duré {duree} millisecondes.\")   \n",
    "l =[(x,resultat[x]) for x in resultat]\n",
    "for x in l:\n",
    "    print(x[0])\n",
    "    print(x[1])\n",
    "    print()"
   ]
  },
  {
   "cell_type": "markdown",
   "metadata": {},
   "source": [
    "À toi de faire de même pour `liste_mots`... en te débrouillant, ce n'est pas trop difficile"
   ]
  },
  {
   "cell_type": "code",
   "execution_count": null,
   "metadata": {},
   "outputs": [],
   "source": [
    "nombre = 1000\n",
    "longueur = 4\n",
    "print(\"On génère la liste des débuts de mots aléatoires.\")\n",
    "debuts_aleatoires = liste_mots_aleatoires(nombre,longueur)\n",
    "print(\"On commence la recherche d'autocomplétion.\")\n",
    "debut= temps()\n",
    "resultat = {}\n",
    "\n",
    "# Ce n'est pas si dur...\n",
    "\n",
    "duree = temps()-debut\n",
    "print(f\"La recherche dans le dictionnaire-liste a duré {duree} millisecondes.\")   \n",
    "l =[(x,resultat[x]) for x in resultat if resultat[x]!=[]]\n",
    "for x in l:\n",
    "    print(x[0],x[1])\n",
    "    print()"
   ]
  },
  {
   "cell_type": "markdown",
   "metadata": {},
   "source": [
    "![YES](https://media.giphy.com/media/VGVwLultLZjrrssAak/giphy.gif)"
   ]
  }
 ],
 "metadata": {
  "kernelspec": {
   "display_name": "Python 3",
   "language": "python",
   "name": "python3"
  },
  "language_info": {
   "codemirror_mode": {
    "name": "ipython",
    "version": 3
   },
   "file_extension": ".py",
   "mimetype": "text/x-python",
   "name": "python",
   "nbconvert_exporter": "python",
   "pygments_lexer": "ipython3",
   "version": "3.8.7"
  }
 },
 "nbformat": 4,
 "nbformat_minor": 4
}
