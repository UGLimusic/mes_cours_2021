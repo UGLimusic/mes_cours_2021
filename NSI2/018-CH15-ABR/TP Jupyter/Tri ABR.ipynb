{
 "cells": [
  {
   "cell_type": "markdown",
   "metadata": {},
   "source": [
    "# Comparaison tri par sélection / tri ABR\n",
    "\n",
    "Nous allons comparer le tri par ABR avec un tri lent vu l'année dernière : le tri par selection, dont voici le principe :\n",
    "\n",
    "## Tri par selection\n",
    "\n",
    "\n",
    "- on considère une liste `lst` de longueur n;\n",
    "- on trouve l'indice du min de `lst`, on l'échange avec `lst[0]`;\n",
    "- on recommence avec `lst[1:]` dont on trouve l'indice du min, que l'on échange avec `lst[1]`;\n",
    "- et ainsi de suite jusqu'à `lst[n-2:]`.\n",
    "\n",
    "\n",
    "![img](img/sel.gif)\n",
    "\n",
    "Programme ici la fonction `indice_minimum` qui\n",
    "- en entrée prend une liste `lst` et un entier `i `qui est un indice de cette liste;\n",
    "- renvoie l’indice du plus petit élément de la liste situé à partir de l’indice `i`.\n",
    "\n",
    "Par exemple `indice_minimum([1,4,7,2,5,8],2)` renverra 3 \n"
   ]
  },
  {
   "cell_type": "code",
   "execution_count": null,
   "metadata": {},
   "outputs": [],
   "source": [
    "def indice_minimum(lst : list, i : int) -> int:\n",
    "    pass"
   ]
  },
  {
   "cell_type": "markdown",
   "metadata": {},
   "source": [
    "Exécuter la cellule de test suivante pour vérifier qu'il n'y a pas d'erreur de syntaxe (rien ne doit s'afficher)"
   ]
  },
  {
   "cell_type": "code",
   "execution_count": null,
   "metadata": {},
   "outputs": [],
   "source": [
    "indice_minimum([1,2,3,1,5,6],2)"
   ]
  },
  {
   "cell_type": "markdown",
   "metadata": {},
   "source": [
    "Exécute maintenant cette cellule de test pour vérifier que ta fonction est correcte."
   ]
  },
  {
   "cell_type": "code",
   "execution_count": null,
   "metadata": {},
   "outputs": [],
   "source": [
    "try:\n",
    "    assert indice_minimum([1,2,4,65,5,4,8],1)==1\n",
    "    assert indice_minimum([1,2,4,65,5,4,8],5)==5\n",
    "except:\n",
    "    print('Ta fonction est mal codée.')\n",
    "else:\n",
    "    print('Tout est OK, tu peux continuer.')"
   ]
  },
  {
   "cell_type": "markdown",
   "metadata": {},
   "source": [
    "Tu peux maintenant programmer la fonction suivante en Python\n",
    "\n",
    "```\n",
    "fonction tri_selection(lst)\n",
    "    n = longueur(lst)\n",
    "    pour i allant de 0 à n - 2\n",
    "        p = indice_minimum(lst,i)\n",
    "        échanger lst[p] et lst[i]\n",
    "```"
   ]
  },
  {
   "cell_type": "code",
   "execution_count": null,
   "metadata": {},
   "outputs": [],
   "source": [
    "def tri_selection(lst):\n",
    "    pass"
   ]
  },
  {
   "cell_type": "markdown",
   "metadata": {},
   "source": [
    "Exécute la cellule suivante pour dépister les éventuelles erreurs de syntaxe."
   ]
  },
  {
   "cell_type": "code",
   "execution_count": null,
   "metadata": {},
   "outputs": [],
   "source": [
    "tri_selection([3,2,1])"
   ]
  },
  {
   "cell_type": "markdown",
   "metadata": {},
   "source": [
    "Exécuter la cellule de test suivante pour vérifier."
   ]
  },
  {
   "cell_type": "code",
   "execution_count": null,
   "metadata": {},
   "outputs": [],
   "source": [
    "from random import randint\n",
    "L1 = [randint(0,100) for _ in range(10)]\n",
    "print('Je choisis la liste \\t\\t',L1)\n",
    "L2 = L1[:]\n",
    "L2.sort()\n",
    "print('En la triant on doit obtenir\\t',L2)\n",
    "tri_selection(L1)\n",
    "print('Avec ta fonction on obtient\\t',L1)\n",
    "t = False\n",
    "for (x,y) in zip(L1,L2):\n",
    "    if x !=y:\n",
    "        t = True\n",
    "if t:\n",
    "    print('Ta fonction est mal codée.')\n",
    "else:\n",
    "    print('Tout est OK, tu peux continuer.')"
   ]
  },
  {
   "cell_type": "markdown",
   "metadata": {},
   "source": [
    "## Complexité\n",
    "\n",
    "tu vas maintenant rajouter une variable globale `opel` dans les 2 fonctions précédentes, que tu vas recopier ci dessous.\n",
    "Tu l'augmenteras de 1 à chaque accès à `lst` en lecture/écriture (pas pour `len`).\n",
    "\n",
    "**Ce que tu vas mesurer, c'est le nombre *réel* d'opels qui sont exécutées lors du tri d'une liste par sélection, pas le nombre dans le pire des cas.**\n",
    "\n",
    "Commençons par la fonction `indice_minimum`"
   ]
  },
  {
   "cell_type": "code",
   "execution_count": null,
   "metadata": {},
   "outputs": [],
   "source": [
    "nb_opel = 0 #on définit la variable\n",
    "def indice_minimum(lst : list, i : int) -> int:\n",
    "    global nb_opel\n",
    "    pass\n"
   ]
  },
  {
   "cell_type": "markdown",
   "metadata": {},
   "source": [
    "Exécuter la cellule de test suivante pour vérifier."
   ]
  },
  {
   "cell_type": "code",
   "execution_count": null,
   "metadata": {},
   "outputs": [],
   "source": [
    "try:\n",
    "    nb_opel = 0\n",
    "    indice_minimum([2,3,8,4,8,484,5,621,45],0)\n",
    "    assert nb_opel == 10\n",
    "except:\n",
    "        print('Ta fonction est mal codée.')\n",
    "else:\n",
    "    print('Tout est OK, tu peux continuer.')"
   ]
  },
  {
   "cell_type": "markdown",
   "metadata": {},
   "source": [
    "On passe la la fonction `tri_selection`"
   ]
  },
  {
   "cell_type": "code",
   "execution_count": null,
   "metadata": {},
   "outputs": [],
   "source": [
    "def tri_selection(lst):\n",
    "    global nb_opel\n",
    "    pass"
   ]
  },
  {
   "cell_type": "markdown",
   "metadata": {},
   "source": [
    "Et on exécute la cellule de test."
   ]
  },
  {
   "cell_type": "code",
   "execution_count": null,
   "metadata": {},
   "outputs": [],
   "source": [
    "try:\n",
    "    nb_opel = 0\n",
    "    tri_selection([2,3,8,4,8,484,5,621,45])\n",
    "    print(nb_opel)\n",
    "    assert nb_opel == 73\n",
    "except:\n",
    "        print('Ta fonction est mal codée.')\n",
    "else:\n",
    "    print('Tout est OK, tu peux continuer.')"
   ]
  },
  {
   "cell_type": "markdown",
   "metadata": {},
   "source": [
    "Le graphique suivant montre le nombre d'opel nécessaires (en ordonnée) pour trier un tableau d'une taille donnée (en abscisse)."
   ]
  },
  {
   "cell_type": "code",
   "execution_count": null,
   "metadata": {},
   "outputs": [],
   "source": [
    "import matplotlib.pyplot as plt\n",
    "from random import shuffle\n",
    "X = []\n",
    "Y = []\n",
    "\n",
    "for i in range(1,500):\n",
    "    L = [_ for _ in range(i)]\n",
    "    shuffle(L)\n",
    "\n",
    "    \n",
    "    X.append(i)\n",
    "    nb_opel = 0\n",
    "    tri_selection(L)\n",
    "    Y.append(nb_opel)\n",
    "    \n",
    "plt.plot(X,Y,label = \"tri par sélection\")\n",
    "\n",
    "\n",
    "plt.title(\"Complexité du tri par sélection\")\n",
    "plt.legend()\n",
    "plt.show()"
   ]
  },
  {
   "cell_type": "markdown",
   "metadata": {},
   "source": [
    "# Un ABR pour trier\n",
    "\n",
    "On va reprendre la classe `NodeBST` de la feuille d'exercices.\n",
    "Tu vas devoir y ajouter :\n",
    "- une variable de classe `opel` de type `int` valantr zéro;\n",
    "- une méthode de classe `reset` pour remettre `opel` à zéro;\n",
    "- une augmentation de 1 de `opel` dans les méthodes `infix` et `add_value` :\n",
    "    - à chaque accès à un fils droit ou fils gauche;\n",
    "    - à chaque création d'un nouveau noeud;\n"
   ]
  },
  {
   "cell_type": "code",
   "execution_count": null,
   "metadata": {},
   "outputs": [],
   "source": [
    "class NodeBST:\n",
    "    opel = 0\n",
    "    pass"
   ]
  },
  {
   "cell_type": "markdown",
   "metadata": {},
   "source": [
    "Tu vas maintenant créer la fonction `tri_ABR` qui\n",
    "- en entrée prend une liste d'entiers;\n",
    "- construit un ABR avec ces entiers en créant une racine avec le premier et en ajoutant les autres un par un;\n",
    "- renvoie le parcours infixe de l'ABR qui est la liste triée."
   ]
  },
  {
   "cell_type": "code",
   "execution_count": null,
   "metadata": {},
   "outputs": [],
   "source": [
    "def tri_ABR(lst:list)->list:\n",
    "    pass\n"
   ]
  },
  {
   "cell_type": "markdown",
   "metadata": {},
   "source": [
    "Exécute la cellule suivante."
   ]
  },
  {
   "cell_type": "code",
   "execution_count": null,
   "metadata": {},
   "outputs": [],
   "source": [
    "L1 = [randint(0,100) for _ in range(10)]\n",
    "print('Je choisis la liste \\t\\t',L1)\n",
    "L2 = L1[:]\n",
    "L2.sort()\n",
    "print('En la triant on doit obtenir\\t',L2)\n",
    "L1 = tri_ABR(L1)\n",
    "print('Avec ta fonction on obtient\\t',L1)\n",
    "t = False\n",
    "for (x,y) in zip(L1,L2):\n",
    "    if x !=y:\n",
    "        t = True\n",
    "if t:\n",
    "    print('Ta fonction est mal codée.')\n",
    "else:\n",
    "    print('Tout est OK, tu peux continuer.')"
   ]
  },
  {
   "cell_type": "markdown",
   "metadata": {},
   "source": [
    "Exécute la cellule suivante pour comparer les complexités du tri avec ABR avec le tri par sélection."
   ]
  },
  {
   "cell_type": "code",
   "execution_count": null,
   "metadata": {
    "scrolled": false
   },
   "outputs": [],
   "source": [
    "import matplotlib.pyplot as plt\n",
    "from random import shuffle\n",
    "X = []\n",
    "Y = []\n",
    "Z = []\n",
    "for i in range(1,500):\n",
    "    L = [_ for _ in range(i)]\n",
    "    shuffle(L)\n",
    "    L2 = L[:]\n",
    "    \n",
    "    X.append(i)\n",
    "    nb_opel = 0\n",
    "    tri_selection(L)\n",
    "    Y.append(nb_opel)\n",
    "    NodeBST.reset()\n",
    "    tri_ABR(L2)\n",
    "    Z.append(NodeBST.opel)\n",
    "    \n",
    "plt.plot(X,Y,label = \"tri par sélection\")\n",
    "plt.plot(X,Z,label = \"tri par ABR\")\n",
    "\n",
    "plt.title(\"Complexité des tris\")\n",
    "plt.legend()\n",
    "plt.show()"
   ]
  },
  {
   "cell_type": "markdown",
   "metadata": {},
   "source": [
    "![YES](https://media.giphy.com/media/2Vp0UxNcA8TEQ/source.gif)"
   ]
  }
 ],
 "metadata": {
  "kernelspec": {
   "display_name": "Python 3",
   "language": "python",
   "name": "python3"
  },
  "language_info": {
   "codemirror_mode": {
    "name": "ipython",
    "version": 3
   },
   "file_extension": ".py",
   "mimetype": "text/x-python",
   "name": "python",
   "nbconvert_exporter": "python",
   "pygments_lexer": "ipython3",
   "version": "3.8.7"
  }
 },
 "nbformat": 4,
 "nbformat_minor": 4
}
