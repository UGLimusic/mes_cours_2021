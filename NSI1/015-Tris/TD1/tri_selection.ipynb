{
 "cells": [
  {
   "cell_type": "markdown",
   "metadata": {},
   "source": [
    "# Tri par selection\n",
    "\n",
    "## Codage\n",
    "\n",
    "Programmer la fonction suivante en Python\n",
    "\n",
    "```\n",
    "fonction indice_minimum(lst,i)\n",
    "    n = longueur(lst)\n",
    "    mini = lst[i]\n",
    "    i_mini = i\n",
    "    pour j allant de i à n - 1\n",
    "        si lst[j] < mini\n",
    "            mini = lst[j]\n",
    "            i_mini = j\n",
    "    renvoyer i_mini\n",
    "```\n"
   ]
  },
  {
   "cell_type": "code",
   "execution_count": null,
   "metadata": {},
   "outputs": [],
   "source": [
    "def indice_minimum(lst : list, i : int) -> int:\n",
    "    pass # enlève et code\n"
   ]
  },
  {
   "cell_type": "markdown",
   "metadata": {},
   "source": [
    "Exécuter la cellule de test suivante pour vérifier qu'il n'y a pas d'erreur de syntaxe (rien ne doit s'afficher)"
   ]
  },
  {
   "cell_type": "code",
   "execution_count": null,
   "metadata": {},
   "outputs": [],
   "source": [
    "indice_minimum([1,2,3,1,5,6],2)"
   ]
  },
  {
   "cell_type": "markdown",
   "metadata": {},
   "source": [
    "Exécute maintenant cette cellule de test pour vérifier que ta fonction est correcte."
   ]
  },
  {
   "cell_type": "code",
   "execution_count": null,
   "metadata": {},
   "outputs": [],
   "source": [
    "try:\n",
    "    assert indice_minimum([1,2,4,65,5,4,8],1)==1\n",
    "    assert indice_minimum([1,2,4,65,5,4,8],5)==5\n",
    "except:\n",
    "    print('Ta fonction est mal codée.')\n",
    "else:\n",
    "    print('Tout est OK, tu peux continuer.')"
   ]
  },
  {
   "cell_type": "markdown",
   "metadata": {},
   "source": [
    "Programme la fonction suivante en Python\n",
    "\n",
    "```\n",
    "fonction tri_selection(lst)\n",
    "    n = longueur(lst)\n",
    "    pour i allant de 0 à n - 2\n",
    "        p = indice_minimum(lst,i)\n",
    "        échanger lst[p] et lst[i]\n",
    "```"
   ]
  },
  {
   "cell_type": "code",
   "execution_count": null,
   "metadata": {},
   "outputs": [],
   "source": [
    "def tri_selection(lst):\n",
    "    pass # enlève et code\n"
   ]
  },
  {
   "cell_type": "markdown",
   "metadata": {},
   "source": [
    "Exécute la cellule suivante pour dépister les éventuelles erreurs de syntaxe."
   ]
  },
  {
   "cell_type": "code",
   "execution_count": null,
   "metadata": {},
   "outputs": [],
   "source": [
    "tri_selection([3,2,1])"
   ]
  },
  {
   "cell_type": "markdown",
   "metadata": {},
   "source": [
    "Exécuter la cellule de test suivante pour vérifier."
   ]
  },
  {
   "cell_type": "code",
   "execution_count": null,
   "metadata": {},
   "outputs": [],
   "source": [
    "from random import randint\n",
    "L1 = [randint(0,100) for _ in range(10)]\n",
    "print('Je choisis la liste \\t\\t',L1)\n",
    "L2 = L1[:]\n",
    "L2.sort()\n",
    "print('En la triant on doit obtenir\\t',L2)\n",
    "tri_selection(L1)\n",
    "print('Avec ta fonction on obtient\\t',L1)\n",
    "t = False\n",
    "for (x,y) in zip(L1,L2):\n",
    "    if x !=y:\n",
    "        t = True\n",
    "if t:\n",
    "    print('Ta fonction est mal codée.')\n",
    "else:\n",
    "    print('Tout est OK, tu peux continuer.')"
   ]
  },
  {
   "cell_type": "markdown",
   "metadata": {},
   "source": [
    "## Complexité"
   ]
  },
  {
   "cell_type": "markdown",
   "metadata": {},
   "source": [
    "tu vas maintenant rajouter une variable globale `opel` dans les 2 fonctions précédentes, que tu vas recopier ci dessous.\n",
    "Tu l'augmenteras de 1 à chaque accès à `lst` en lecture/écriture.\n",
    "\n",
    "**Ce que tu vas mesurer, c'est le nombre *réel* d'opels qui sont exécutées lors du tri d'une liste, pas le nombre dans le pire des cas**\n",
    "\n",
    "Commençons par la fonction `indice_minimum`"
   ]
  },
  {
   "cell_type": "code",
   "execution_count": null,
   "metadata": {},
   "outputs": [],
   "source": [
    "nb_opel = 0 #on définit la variable\n",
    "def indice_minimum(lst : list, i : int) -> int:\n",
    "    global nb_opel\n",
    "    pass # enlève et code\n"
   ]
  },
  {
   "cell_type": "markdown",
   "metadata": {},
   "source": [
    "Exécuter la cellule de test suivante pour vérifier."
   ]
  },
  {
   "cell_type": "code",
   "execution_count": null,
   "metadata": {},
   "outputs": [],
   "source": [
    "try:\n",
    "    nb_opel = 0\n",
    "    indice_minimum([2,3,8,4,8,484,5,621,45],0)\n",
    "    assert nb_opel == 10\n",
    "except:\n",
    "        print('Ta fonction est mal codée.')\n",
    "else:\n",
    "    print('Tout est OK, tu peux continuer.')"
   ]
  },
  {
   "cell_type": "markdown",
   "metadata": {},
   "source": [
    "On passe la la fonction `tri_selection`"
   ]
  },
  {
   "cell_type": "code",
   "execution_count": null,
   "metadata": {},
   "outputs": [],
   "source": [
    "def tri_selection(lst):\n",
    "    global nb_opel\n",
    "    pass # enlève et code\n"
   ]
  },
  {
   "cell_type": "markdown",
   "metadata": {},
   "source": [
    "Exécute la cellule de test pour vérifier que tout va bien."
   ]
  },
  {
   "cell_type": "code",
   "execution_count": null,
   "metadata": {},
   "outputs": [],
   "source": [
    "try:\n",
    "    nb_opel = 0\n",
    "    tri_selection([2,3,8,4,8,484,5,621,45])\n",
    "    print(nb_opel)\n",
    "    assert nb_opel == 73\n",
    "except:\n",
    "        print('Ta fonction est mal codée.')\n",
    "else:\n",
    "    print('Tout est OK, tu peux continuer.')"
   ]
  },
  {
   "cell_type": "markdown",
   "metadata": {},
   "source": [
    "## Illustration des résultats\n",
    "\n",
    "Contrairtement au résultat du cours, `nb_opel` n'est pas toujours automatiquement augmenté : on va obtenir des résultats *effectifs* et non des résultats *pire cas*.\n",
    "\n",
    "Exécute la cellule suivante."
   ]
  },
  {
   "cell_type": "code",
   "execution_count": null,
   "metadata": {},
   "outputs": [],
   "source": [
    "import matplotlib.pyplot as plt\n",
    "\n",
    "X = []\n",
    "Y = []\n",
    "Z = []\n",
    "for i in range(1,400):\n",
    "    L = [randint(1,10000) for _ in range(i)]\n",
    "    nb_opel = 0\n",
    "    tri_selection(L)\n",
    "    X.append(i)\n",
    "    Y.append(nb_opel)\n",
    "    Z.append(i**2+2*i-3)\n",
    "plt.plot(X,Y,label = \"nombre effectif d'opels\")\n",
    "plt.plot(X,Z,label = \"nombre d'opels dans le pire des cas\")\n",
    "plt.title(\"Complexité du tri par selection\")\n",
    "plt.legend()\n",
    "plt.show()"
   ]
  },
  {
   "cell_type": "markdown",
   "metadata": {},
   "source": [
    "Comme on peut le voir, la complexité réelle semble bien de l'ordre de $n^2$.\n",
    "On peut essayer de déterminer \"à la main\" le coefficient $a$ tel que la courbe bleu se rapproche le plus de la courbe de la fonction définie sur $\\mathbb{N}^*$ par $$n\\mapsto an^2$$\n",
    "Il suffit d'essayer successivement des valeurs de $a$ :"
   ]
  },
  {
   "cell_type": "code",
   "execution_count": null,
   "metadata": {},
   "outputs": [],
   "source": [
    "X = []\n",
    "Y = []\n",
    "Z = []\n",
    "a = float(input(\"Entrer une valeur de a : \"))\n",
    "for i in range(1,400):\n",
    "    L = [randint(1,10000) for _ in range(i)]\n",
    "    nb_opel = 0\n",
    "    tri_selection(L)\n",
    "    X.append(i)\n",
    "    Y.append(nb_opel)\n",
    "    Z.append(a*i**2)\n",
    "plt.plot(X,Y,label = \"nombre effectif d'opels\")\n",
    "plt.plot(X,Z,label = \"x |--> \"+str(a)+\"*x^2\")\n",
    "plt.title(\"Complexité du tri par selection\")\n",
    "plt.legend()\n",
    "plt.show()"
   ]
  },
  {
   "cell_type": "markdown",
   "metadata": {},
   "source": [
    "Si on se réfère aux résultats que tu as trouvés, pour une liste de taille 100000, combien faut-il d'opels environ pour la trier avec le tri par selection ?\n",
    "Fais le calcul dans la cellule suivante."
   ]
  },
  {
   "cell_type": "code",
   "execution_count": null,
   "metadata": {},
   "outputs": [],
   "source": []
  }
 ],
 "metadata": {
  "kernelspec": {
   "display_name": "Python 3",
   "language": "python",
   "name": "python3"
  },
  "language_info": {
   "codemirror_mode": {
    "name": "ipython",
    "version": 3
   },
   "file_extension": ".py",
   "mimetype": "text/x-python",
   "name": "python",
   "nbconvert_exporter": "python",
   "pygments_lexer": "ipython3",
   "version": "3.8.6"
  }
 },
 "nbformat": 4,
 "nbformat_minor": 4
}
