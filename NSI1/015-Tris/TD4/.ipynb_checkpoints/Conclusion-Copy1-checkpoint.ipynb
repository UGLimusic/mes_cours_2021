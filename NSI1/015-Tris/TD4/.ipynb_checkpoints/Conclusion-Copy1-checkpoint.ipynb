{
 "cells": [
  {
   "cell_type": "markdown",
   "metadata": {},
   "source": [
    "# Etude expérimentale de la complexité du tri fusion\n",
    "\n",
    "Nous faisons le choix de ne comptabiliser en tant qu'*opérations élémentaires* que les accès aux éléments de la liste."
   ]
  },
  {
   "cell_type": "code",
   "execution_count": 35,
   "metadata": {},
   "outputs": [
    {
     "data": {
      "application/javascript": [
       "\n",
       "            setTimeout(function() {\n",
       "                var nbb_cell_id = 35;\n",
       "                var nbb_unformatted_code = \"def scinde(lst: list) -> tuple:\\n    return lst[: len(lst) // 2], lst[len(lst) // 2 :]\\n\\n\\ndef fusion(lst1: list, lst2: list) -> list:\\n    global nb_opel\\n    if not lst1 or not lst2:  \\n        return lst1 or lst2  \\n    else:\\n        a, b = lst1[0], lst2[0]\\n        nb_opel += 2 # comptabilisation des opels\\n        if a < b:  \\n            return [a] + fusion(lst1[1:], lst2)  \\n        elif b > a:\\n            return [b] + fusion(lst1, lst2[1:])\\n        else:  \\n            return [a, b] + fusion(lst1[1:], lst2[1:])\\n\\n\\ndef tri_fusion(lst: list) -> list:\\n    if len(lst) < 2:\\n        return lst\\n    lst1, lst2 = scinde(lst)\\n    return fusion(\\n        tri_fusion(lst1), tri_fusion(lst2))\";\n",
       "                var nbb_formatted_code = \"def scinde(lst: list) -> tuple:\\n    return lst[: len(lst) // 2], lst[len(lst) // 2 :]\\n\\n\\ndef fusion(lst1: list, lst2: list) -> list:\\n    global nb_opel\\n    if not lst1 or not lst2:\\n        return lst1 or lst2\\n    else:\\n        a, b = lst1[0], lst2[0]\\n        nb_opel += 2  # comptabilisation des opels\\n        if a < b:\\n            return [a] + fusion(lst1[1:], lst2)\\n        elif b > a:\\n            return [b] + fusion(lst1, lst2[1:])\\n        else:\\n            return [a, b] + fusion(lst1[1:], lst2[1:])\\n\\n\\ndef tri_fusion(lst: list) -> list:\\n    if len(lst) < 2:\\n        return lst\\n    lst1, lst2 = scinde(lst)\\n    return fusion(tri_fusion(lst1), tri_fusion(lst2))\";\n",
       "                var nbb_cells = Jupyter.notebook.get_cells();\n",
       "                for (var i = 0; i < nbb_cells.length; ++i) {\n",
       "                    if (nbb_cells[i].input_prompt_number == nbb_cell_id) {\n",
       "                        if (nbb_cells[i].get_text() == nbb_unformatted_code) {\n",
       "                             nbb_cells[i].set_text(nbb_formatted_code);\n",
       "                        }\n",
       "                        break;\n",
       "                    }\n",
       "                }\n",
       "            }, 500);\n",
       "            "
      ],
      "text/plain": [
       "<IPython.core.display.Javascript object>"
      ]
     },
     "metadata": {},
     "output_type": "display_data"
    },
    {
     "data": {
      "application/javascript": [
       "\n",
       "            setTimeout(function() {\n",
       "                var nbb_cell_id = 35;\n",
       "                var nbb_unformatted_code = \"def scinde(lst: list) -> tuple:\\n    return lst[: len(lst) // 2], lst[len(lst) // 2 :]\\n\\n\\ndef fusion(lst1: list, lst2: list) -> list:\\n    global nb_opel\\n    if not lst1 or not lst2:  \\n        return lst1 or lst2  \\n    else:\\n        a, b = lst1[0], lst2[0]\\n        nb_opel += 2 # comptabilisation des opels\\n        if a < b:  \\n            return [a] + fusion(lst1[1:], lst2)  \\n        elif b > a:\\n            return [b] + fusion(lst1, lst2[1:])\\n        else:  \\n            return [a, b] + fusion(lst1[1:], lst2[1:])\\n\\n\\ndef tri_fusion(lst: list) -> list:\\n    if len(lst) < 2:\\n        return lst\\n    lst1, lst2 = scinde(lst)\\n    return fusion(\\n        tri_fusion(lst1), tri_fusion(lst2))\";\n",
       "                var nbb_formatted_code = \"def scinde(lst: list) -> tuple:\\n    return lst[: len(lst) // 2], lst[len(lst) // 2 :]\\n\\n\\ndef fusion(lst1: list, lst2: list) -> list:\\n    global nb_opel\\n    if not lst1 or not lst2:\\n        return lst1 or lst2\\n    else:\\n        a, b = lst1[0], lst2[0]\\n        nb_opel += 2  # comptabilisation des opels\\n        if a < b:\\n            return [a] + fusion(lst1[1:], lst2)\\n        elif b > a:\\n            return [b] + fusion(lst1, lst2[1:])\\n        else:\\n            return [a, b] + fusion(lst1[1:], lst2[1:])\\n\\n\\ndef tri_fusion(lst: list) -> list:\\n    if len(lst) < 2:\\n        return lst\\n    lst1, lst2 = scinde(lst)\\n    return fusion(tri_fusion(lst1), tri_fusion(lst2))\";\n",
       "                var nbb_cells = Jupyter.notebook.get_cells();\n",
       "                for (var i = 0; i < nbb_cells.length; ++i) {\n",
       "                    if (nbb_cells[i].input_prompt_number == nbb_cell_id) {\n",
       "                        if (nbb_cells[i].get_text() == nbb_unformatted_code) {\n",
       "                             nbb_cells[i].set_text(nbb_formatted_code);\n",
       "                        }\n",
       "                        break;\n",
       "                    }\n",
       "                }\n",
       "            }, 500);\n",
       "            "
      ],
      "text/plain": [
       "<IPython.core.display.Javascript object>"
      ]
     },
     "metadata": {},
     "output_type": "display_data"
    }
   ],
   "source": [
    "def scinde(lst: list) -> tuple:\n",
    "    return lst[: len(lst) // 2], lst[len(lst) // 2 :]\n",
    "\n",
    "\n",
    "def fusion(lst1: list, lst2: list) -> list:\n",
    "    global nb_opel\n",
    "    if not lst1 or not lst2:\n",
    "        return lst1 or lst2\n",
    "    else:\n",
    "        a, b = lst1[0], lst2[0]\n",
    "        nb_opel += 2  # comptabilisation des opels\n",
    "        if a < b:\n",
    "            return [a] + fusion(lst1[1:], lst2)\n",
    "        elif b > a:\n",
    "            return [b] + fusion(lst1, lst2[1:])\n",
    "        else:\n",
    "            return [a, b] + fusion(lst1[1:], lst2[1:])\n",
    "\n",
    "\n",
    "def tri_fusion(lst: list) -> list:\n",
    "    if len(lst) < 2:\n",
    "        return lst\n",
    "    lst1, lst2 = scinde(lst)\n",
    "    return fusion(tri_fusion(lst1), tri_fusion(lst2))"
   ]
  },
  {
   "cell_type": "markdown",
   "metadata": {},
   "source": [
    "En théorie, si $n$ est la taille de la liste, le nombre d'opérations élémentaires lors du tri fusion de la liste est «de l'ordre de $n\\times\\log n$\n",
    "Déterminer (à $10^{-1}$ près) la valeur de $c$ qui convient le mieux."
   ]
  },
  {
   "cell_type": "code",
   "execution_count": 38,
   "metadata": {
    "scrolled": true
   },
   "outputs": [
    {
     "name": "stdout",
     "output_type": "stream",
     "text": [
      "Entrer la valeur du coefficient multiplicatif : 1.4\n"
     ]
    },
    {
     "data": {
      "image/png": "[encoded data removed]",
      "text/plain": [
       "<Figure size 432x288 with 1 Axes>"
      ]
     },
     "metadata": {
      "needs_background": "light"
     },
     "output_type": "display_data"
    },
    {
     "data": {
      "application/javascript": [
       "\n",
       "            setTimeout(function() {\n",
       "                var nbb_cell_id = 38;\n",
       "                var nbb_unformatted_code = \"import matplotlib.pyplot as plt\\nfrom random import randint\\nfrom math import log\\n\\nX = []\\nY = []\\nZ = []\\nc = float(input(\\\"Entrer la valeur du coefficient multiplicatif : \\\"))\\nfor i in range(1, 1000, 2):\\n    L = [randint(1, 10000) for _ in range(i)]\\n    X.append(i)\\n    nb_opel = 0\\n    tri_fusion(L)\\n    Y.append(nb_opel)\\n    Z.append(c * i * log(i))\\nplt.plot(X, Y, label=\\\"tri fusion\\\")\\nplt.plot(X, Z, label=f\\\"x \\u27fc {c}*x*ln(x)\\\")\\n\\nplt.title(\\\"Complexit\\u00e9 des tris\\\")\\nplt.legend()\\nplt.show()\";\n",
       "                var nbb_formatted_code = \"import matplotlib.pyplot as plt\\nfrom random import randint\\nfrom math import log\\n\\nX = []\\nY = []\\nZ = []\\nc = float(input(\\\"Entrer la valeur du coefficient multiplicatif : \\\"))\\nfor i in range(1, 1000, 2):\\n    L = [randint(1, 10000) for _ in range(i)]\\n    X.append(i)\\n    nb_opel = 0\\n    tri_fusion(L)\\n    Y.append(nb_opel)\\n    Z.append(c * i * log(i))\\nplt.plot(X, Y, label=\\\"tri fusion\\\")\\nplt.plot(X, Z, label=f\\\"x \\u27fc {c}*x*ln(x)\\\")\\n\\nplt.title(\\\"Complexit\\u00e9 des tris\\\")\\nplt.legend()\\nplt.show()\";\n",
       "                var nbb_cells = Jupyter.notebook.get_cells();\n",
       "                for (var i = 0; i < nbb_cells.length; ++i) {\n",
       "                    if (nbb_cells[i].input_prompt_number == nbb_cell_id) {\n",
       "                        if (nbb_cells[i].get_text() == nbb_unformatted_code) {\n",
       "                             nbb_cells[i].set_text(nbb_formatted_code);\n",
       "                        }\n",
       "                        break;\n",
       "                    }\n",
       "                }\n",
       "            }, 500);\n",
       "            "
      ],
      "text/plain": [
       "<IPython.core.display.Javascript object>"
      ]
     },
     "metadata": {},
     "output_type": "display_data"
    },
    {
     "data": {
      "application/javascript": [
       "\n",
       "            setTimeout(function() {\n",
       "                var nbb_cell_id = 38;\n",
       "                var nbb_unformatted_code = \"import matplotlib.pyplot as plt\\nfrom random import randint\\nfrom math import log\\n\\nX = []\\nY = []\\nZ = []\\nc = float(input(\\\"Entrer la valeur du coefficient multiplicatif : \\\"))\\nfor i in range(1, 1000, 2):\\n    L = [randint(1, 10000) for _ in range(i)]\\n    X.append(i)\\n    nb_opel = 0\\n    tri_fusion(L)\\n    Y.append(nb_opel)\\n    Z.append(c * i * log(i))\\nplt.plot(X, Y, label=\\\"tri fusion\\\")\\nplt.plot(X, Z, label=f\\\"x \\u27fc {c}*x*ln(x)\\\")\\n\\nplt.title(\\\"Complexit\\u00e9 des tris\\\")\\nplt.legend()\\nplt.show()\";\n",
       "                var nbb_formatted_code = \"import matplotlib.pyplot as plt\\nfrom random import randint\\nfrom math import log\\n\\nX = []\\nY = []\\nZ = []\\nc = float(input(\\\"Entrer la valeur du coefficient multiplicatif : \\\"))\\nfor i in range(1, 1000, 2):\\n    L = [randint(1, 10000) for _ in range(i)]\\n    X.append(i)\\n    nb_opel = 0\\n    tri_fusion(L)\\n    Y.append(nb_opel)\\n    Z.append(c * i * log(i))\\nplt.plot(X, Y, label=\\\"tri fusion\\\")\\nplt.plot(X, Z, label=f\\\"x \\u27fc {c}*x*ln(x)\\\")\\n\\nplt.title(\\\"Complexit\\u00e9 des tris\\\")\\nplt.legend()\\nplt.show()\";\n",
       "                var nbb_cells = Jupyter.notebook.get_cells();\n",
       "                for (var i = 0; i < nbb_cells.length; ++i) {\n",
       "                    if (nbb_cells[i].input_prompt_number == nbb_cell_id) {\n",
       "                        if (nbb_cells[i].get_text() == nbb_unformatted_code) {\n",
       "                             nbb_cells[i].set_text(nbb_formatted_code);\n",
       "                        }\n",
       "                        break;\n",
       "                    }\n",
       "                }\n",
       "            }, 500);\n",
       "            "
      ],
      "text/plain": [
       "<IPython.core.display.Javascript object>"
      ]
     },
     "metadata": {},
     "output_type": "display_data"
    }
   ],
   "source": [
    "import matplotlib.pyplot as plt\n",
    "from random import randint\n",
    "from math import log\n",
    "\n",
    "X = []\n",
    "Y = []\n",
    "Z = []\n",
    "c = float(input(\"Entrer la valeur du coefficient multiplicatif : \"))\n",
    "for i in range(1, 1000, 2):\n",
    "    L = [randint(1, 10000) for _ in range(i)]\n",
    "    X.append(i)\n",
    "    nb_opel = 0\n",
    "    tri_fusion(L)\n",
    "    Y.append(nb_opel)\n",
    "    Z.append(c * i * log(i))\n",
    "plt.plot(X, Y, label=\"tri fusion\")\n",
    "plt.plot(X, Z, label=f\"x ⟼ {c}*x*log(x)\")\n",
    "\n",
    "plt.title(\"Complexité des tris\")\n",
    "plt.legend()\n",
    "plt.show()"
   ]
  },
  {
   "cell_type": "code",
   "execution_count": null,
   "metadata": {},
   "outputs": [],
   "source": []
  }
 ],
 "metadata": {
  "kernelspec": {
   "display_name": "Python 3",
   "language": "python",
   "name": "python3"
  },
  "language_info": {
   "codemirror_mode": {
    "name": "ipython",
    "version": 3
   },
   "file_extension": ".py",
   "mimetype": "text/x-python",
   "name": "python",
   "nbconvert_exporter": "python",
   "pygments_lexer": "ipython3",
   "version": "3.9.2"
  }
 },
 "nbformat": 4,
 "nbformat_minor": 4
}
