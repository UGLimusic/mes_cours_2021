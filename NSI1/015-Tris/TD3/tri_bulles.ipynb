{
 "cells": [
  {
   "cell_type": "markdown",
   "metadata": {},
   "source": [
    "# Tri à bulles\n",
    "\n",
    "# Algorithme de base\n",
    "\n",
    "On considère une liste d'entiers `lst`.\n",
    "- on parcourt la liste du premier élément à l'avant-dernier : si cet élément est plus grand que le suivant, on les échange;\n",
    "- tandt qu'on a fait au moins un échange, on recommence.\n",
    "\n",
    "Programme la fonction `tri_bulles`"
   ]
  },
  {
   "cell_type": "code",
   "execution_count": null,
   "metadata": {},
   "outputs": [],
   "source": [
    "def tri_bulles(lst : list) -> None:\n",
    "    pass # enlève et code\n"
   ]
  },
  {
   "cell_type": "markdown",
   "metadata": {},
   "source": [
    "Exécute la cellule de test suivante : elle ne doit pas produire d'erreur."
   ]
  },
  {
   "cell_type": "code",
   "execution_count": null,
   "metadata": {},
   "outputs": [],
   "source": [
    "tri_bulles([3,2,1])\n",
    "print(\"Pas d'erreur.\")"
   ]
  },
  {
   "cell_type": "markdown",
   "metadata": {},
   "source": [
    "Exécute la cellule de test suivante pour vérifier que `place` fait bien ce qu'il faut."
   ]
  },
  {
   "cell_type": "code",
   "execution_count": null,
   "metadata": {
    "scrolled": true
   },
   "outputs": [],
   "source": [
    "from random import randint\n",
    "\n",
    "L1 = [randint(1,1000) for _ in range(10)]\n",
    "L2 = L1[:]\n",
    "L2.sort()\n",
    "tri_bulles(L1)\n",
    "if L1==L2:\n",
    "    print(\"Tout est OK, tu peux continuer.\")\n",
    "else:\n",
    "    print(\"Il y a un problème dans la fonction.\")\n"
   ]
  },
  {
   "cell_type": "markdown",
   "metadata": {},
   "source": [
    "# Complexité\n",
    "\n",
    "tu vas maintenant rajouter une variable globale `opel` dans les 2 fonctions précédentes, que tu vas recopier ci dessous.\n",
    "Tu l'augmenteras de 1 à chaque accès à `lst` en lecture/écriture, de 2 s'il y a un échange.\n",
    "\n",
    "**Ce procédé nous permet de mesurer le nombre d'opels *réel* pour trier une liste donnée, pas la complexité pire cas.**\n",
    "\n",
    "Commençons par la fonction `place`"
   ]
  },
  {
   "cell_type": "code",
   "execution_count": null,
   "metadata": {},
   "outputs": [],
   "source": [
    "nb_opel = 0\n",
    "def tri_bulles(lst : list) -> None:\n",
    "    global nb_opel\n",
    "    pass # enlève et code\n"
   ]
  },
  {
   "cell_type": "markdown",
   "metadata": {},
   "source": [
    "Exécute la cellule de tests suivante."
   ]
  },
  {
   "cell_type": "code",
   "execution_count": null,
   "metadata": {},
   "outputs": [],
   "source": [
    "nb_opel = 0\n",
    "L = [21,58,231,426,551,621,3546,32135,116851,2223213,2]\n",
    "tri_bulles(L)\n",
    "print(nb_opel)\n"
   ]
  },
  {
   "cell_type": "markdown",
   "metadata": {},
   "source": [
    "## Illustration des résultats\n",
    "\n",
    "Exécute la cellule suivante."
   ]
  },
  {
   "cell_type": "code",
   "execution_count": null,
   "metadata": {},
   "outputs": [],
   "source": [
    "import matplotlib.pyplot as plt\n",
    "\n",
    "X = []\n",
    "Y = []\n",
    "Z = []\n",
    "for i in range(1,400):\n",
    "    L = [randint(1,10000) for _ in range(i)]\n",
    "    nb_opel = 0\n",
    "    tri_bulles(L)\n",
    "    X.append(i)\n",
    "    Y.append(nb_opel)\n",
    "\n",
    "plt.plot(X,Y,label = \"complexité effective\")\n",
    "plt.title(\"Complexité du tri par insertion\")\n",
    "plt.legend()\n",
    "plt.show()"
   ]
  },
  {
   "cell_type": "markdown",
   "metadata": {},
   "source": [
    "Comme on peut le voir, la complexité réelle semble bien de l'ordre de $n^2$.\n",
    "On peut essayer de déterminer \"à la main\" le coefficient $a$ tel que la courbe bleu se rapproche le plus de la courbe de la fonction définie sur $\\mathbb{N}^*$ par $$n\\mapsto an^2$$\n",
    "Il suffit d'essayer successivement des valeurs de $a$ :"
   ]
  },
  {
   "cell_type": "code",
   "execution_count": null,
   "metadata": {},
   "outputs": [],
   "source": [
    "X = []\n",
    "Y = []\n",
    "Z = []\n",
    "a = float(input(\"Entrer une valeur de a : \"))\n",
    "for i in range(1,400):\n",
    "    L = [randint(1,10000) for _ in range(i)]\n",
    "    nb_opel = 0\n",
    "    tri_bulles(L)\n",
    "    X.append(i)\n",
    "    Y.append(nb_opel)\n",
    "    Z.append(a*i**2)\n",
    "plt.plot(X,Y,label = \"complexité effective\")\n",
    "plt.plot(X,Z,label = \"x |--> \"+str(a)+\"*x^2\")\n",
    "plt.title(\"Complexité du tri par selection\")\n",
    "plt.legend()\n",
    "plt.show()"
   ]
  },
  {
   "cell_type": "markdown",
   "metadata": {},
   "source": [
    "Si on se réfère aux résultats que tu as trouvés, pour une liste de taille 100000, combien faut-il d'opels environ pour la trier avec le tri par selection ?"
   ]
  },
  {
   "cell_type": "code",
   "execution_count": null,
   "metadata": {},
   "outputs": [],
   "source": [
    "2.4*100000**2"
   ]
  },
  {
   "cell_type": "markdown",
   "metadata": {},
   "source": [
    "## Amélioration de l'algorithme\n",
    "\n",
    "Lorsqu'on considère une liste `lst` et qu'on la trie avec le tri à bulles :\n",
    "- à la fin du premier parcourt de `lst`, que peut-on dire de son dernier élément ?\n",
    "- est-il nécessaire de parcourir `lst` en entier la deuxième fois ?\n",
    "- que dire des deux derniers éléments de `lst` au bout du deuxième parcours ?\n"
   ]
  },
  {
   "cell_type": "raw",
   "metadata": {},
   "source": []
  },
  {
   "cell_type": "markdown",
   "metadata": {},
   "source": [
    "En prenant en compte les considérations précédentes, écris une nouvelle fonction `tri_bulles2`, qui elle aussi comptabilise les `nb_opel`, et qui va être plus performante que `tri_bulles`."
   ]
  },
  {
   "cell_type": "code",
   "execution_count": null,
   "metadata": {},
   "outputs": [],
   "source": [
    "nb_opel = 0\n",
    "def tri_bulles2(lst : list) -> None:\n",
    "    global nb_opel\n",
    "    pass # enlève et code\n"
   ]
  },
  {
   "cell_type": "markdown",
   "metadata": {},
   "source": [
    "Exécute la cellule de test suivante : elle ne doit pas produire d'erreur."
   ]
  },
  {
   "cell_type": "code",
   "execution_count": null,
   "metadata": {},
   "outputs": [],
   "source": [
    "tri_bulles2([3,2,1])\n",
    "print(\"Pas d'erreur.\")"
   ]
  },
  {
   "cell_type": "markdown",
   "metadata": {},
   "source": [
    "Exécute la cellule de test suivante pour vérifier que `place` fait bien ce qu'il faut."
   ]
  },
  {
   "cell_type": "code",
   "execution_count": null,
   "metadata": {
    "scrolled": true
   },
   "outputs": [],
   "source": [
    "from random import randint\n",
    "\n",
    "L1 = [randint(1,1000) for _ in range(10)]\n",
    "L2 = L1[:]\n",
    "L2.sort()\n",
    "tri_bulles(L1)\n",
    "if L1==L2:\n",
    "    print(\"Tout est OK, tu peux continuer.\")\n",
    "else:\n",
    "    print(\"Il y a un problème dans la fonction.\")\n"
   ]
  },
  {
   "cell_type": "markdown",
   "metadata": {},
   "source": [
    "## Comparaison des complexités\n",
    "\n",
    "Exécute la cellule suivant pour une interprétation graphique des résultats."
   ]
  },
  {
   "cell_type": "code",
   "execution_count": null,
   "metadata": {},
   "outputs": [],
   "source": [
    "X = []\n",
    "Y = []\n",
    "Z = []\n",
    "for i in range(1,400):\n",
    "    L = [randint(1,10000) for _ in range(i)]\n",
    "    Lc = L[:]\n",
    "    nb_opel = 0\n",
    "    tri_bulles(L)\n",
    "    X.append(i)\n",
    "    Y.append(nb_opel)\n",
    "    nb_opel = 0\n",
    "    tri_bulles2(Lc)\n",
    "    Z.append(nb_opel)\n",
    "plt.plot(X,Y,label = \"nombre effectif d'opels de tri_bulle\")\n",
    "plt.plot(X,Z,label = \"nombre effectif d'opels de tri_bulle2\")\n",
    "plt.title(\"Comparaison des complexités\")\n",
    "plt.legend()\n",
    "plt.show()"
   ]
  },
  {
   "cell_type": "markdown",
   "metadata": {},
   "source": [
    "Comme on peut le voir, la complexité de `tri_bulles2` semble bien de l'ordre de $n^2$, et inférieure à celle de `tri_bulle`.\n",
    "On peut essayer de déterminer \"à la main\" le coefficient $a$ tel que la courbe bleue se rapproche le plus de la courbe de la fonction définie sur $\\mathbb{N}^*$ par $$n\\mapsto an^2$$\n",
    "Il suffit d'essayer successivement des valeurs de $a$ :"
   ]
  },
  {
   "cell_type": "code",
   "execution_count": null,
   "metadata": {},
   "outputs": [],
   "source": [
    "X = []\n",
    "Y = []\n",
    "Z = []\n",
    "a = float(input(\"Entrer une valeur de a : \"))\n",
    "for i in range(1,400):\n",
    "    L = [randint(1,10000) for _ in range(i)]\n",
    "    nb_opel = 0\n",
    "    tri_bulles2(L)\n",
    "    X.append(i)\n",
    "    Y.append(nb_opel)\n",
    "    Z.append(a*i**2)\n",
    "plt.plot(X,Y,label = \"complexité effective\")\n",
    "plt.plot(X,Z,label = \"x |--> \"+str(a)+\"*x^2\")\n",
    "plt.title(\"Complexité du tri par selection\")\n",
    "plt.legend()\n",
    "plt.show()"
   ]
  }
 ],
 "metadata": {
  "kernelspec": {
   "display_name": "Python 3",
   "language": "python",
   "name": "python3"
  },
  "language_info": {
   "codemirror_mode": {
    "name": "ipython",
    "version": 3
   },
   "file_extension": ".py",
   "mimetype": "text/x-python",
   "name": "python",
   "nbconvert_exporter": "python",
   "pygments_lexer": "ipython3",
   "version": "3.8.6"
  }
 },
 "nbformat": 4,
 "nbformat_minor": 4
}
