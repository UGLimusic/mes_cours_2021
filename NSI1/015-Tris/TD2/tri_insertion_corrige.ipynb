{
 "cells": [
  {
   "cell_type": "markdown",
   "metadata": {},
   "source": [
    "# Tri par insertion\n",
    "\n",
    "## fonction `place`\n",
    "\n",
    "Programmer la fonction\n",
    "```\n",
    "fonction place(lst : liste, i : entier):\n",
    "    tant que i > 0 et que lst[i-1] > lst[i]:\n",
    "        echange lst[i] et lst[i-1]\n",
    "        i = i - 1\n",
    "```"
   ]
  },
  {
   "cell_type": "code",
   "execution_count": 1,
   "metadata": {},
   "outputs": [],
   "source": [
    "def place(lst : list, i : int) -> None:\n",
    "    while i>0 and lst[i]< lst[i-1]:\n",
    "        lst[i], lst[i-1] = lst[i-1], lst[i]\n",
    "        i -= 1"
   ]
  },
  {
   "cell_type": "markdown",
   "metadata": {},
   "source": [
    "Exécute la cellule de test suivante : elle ne doit pas produire d'erreur."
   ]
  },
  {
   "cell_type": "code",
   "execution_count": 2,
   "metadata": {},
   "outputs": [],
   "source": [
    "place([1,4,2],2)"
   ]
  },
  {
   "cell_type": "markdown",
   "metadata": {},
   "source": [
    "Exécute la cellule de test suivante pour vérifier que `place` fait bien ce qu'il faut."
   ]
  },
  {
   "cell_type": "code",
   "execution_count": 3,
   "metadata": {},
   "outputs": [
    {
     "name": "stdout",
     "output_type": "stream",
     "text": [
      "Tout est OK, tu peux continuer.\n"
     ]
    }
   ],
   "source": [
    "from random import randint\n",
    "\n",
    "L1 = [randint(1,1000) for _ in range(10)]\n",
    "L1.sort()\n",
    "L1.extend([randint(1,1000) for _ in range(10)])\n",
    "L2 = L1[:11]\n",
    "L2.sort()\n",
    "place(L1,10)\n",
    "if L1[:11]==L2:\n",
    "    print(\"Tout est OK, tu peux continuer.\")\n",
    "else:\n",
    "    print(\"Il y a un problème dans la fonction.\")\n"
   ]
  },
  {
   "cell_type": "markdown",
   "metadata": {},
   "source": [
    "## fonction `tri_insertion`\n",
    "\n",
    "Programmer la fonction\n",
    "```\n",
    "fonction tri_insertion( lst : liste): \n",
    "    n = longueur(lst)\n",
    "    pour i allant de 1 à n-1:\n",
    "        place(lst,i)\n",
    "```"
   ]
  },
  {
   "cell_type": "code",
   "execution_count": 4,
   "metadata": {},
   "outputs": [],
   "source": [
    "def tri_insertion(lst: list) -> None:\n",
    "    n = len(lst)\n",
    "    for i in range(1,n):\n",
    "        place(lst,i)\n"
   ]
  },
  {
   "cell_type": "markdown",
   "metadata": {},
   "source": [
    "Exécute la cellule suivante pour repérer les éventuelles erreurs de syntaxe."
   ]
  },
  {
   "cell_type": "code",
   "execution_count": 6,
   "metadata": {},
   "outputs": [],
   "source": [
    "tri_insertion([21,584,231,6,51,321,3546,32135,16851,3213,2])"
   ]
  },
  {
   "cell_type": "markdown",
   "metadata": {},
   "source": [
    "Exécute la cellule de test suivante pour vérifier que `tri_selection` fait bien ce qu'il faut."
   ]
  },
  {
   "cell_type": "code",
   "execution_count": 7,
   "metadata": {},
   "outputs": [
    {
     "name": "stdout",
     "output_type": "stream",
     "text": [
      "Je choisis la liste \t\t [64, 83, 69, 48, 34, 86, 31, 72, 72, 83]\n",
      "En la triant on doit obtenir\t [31, 34, 48, 64, 69, 72, 72, 83, 83, 86]\n",
      "Avec ta fonction on obtient\t [31, 34, 48, 64, 69, 72, 72, 83, 83, 86]\n",
      "Tout est OK, tu peux continuer.\n"
     ]
    }
   ],
   "source": [
    "L1 = [randint(0,100) for _ in range(10)]\n",
    "print('Je choisis la liste \\t\\t',L1)\n",
    "L2 = L1[:]\n",
    "L2.sort()\n",
    "print('En la triant on doit obtenir\\t',L2)\n",
    "tri_insertion(L1)\n",
    "print('Avec ta fonction on obtient\\t',L1)\n",
    "t = False\n",
    "for (x,y) in zip(L1,L2):\n",
    "    if x !=y:\n",
    "        t = True\n",
    "if t:\n",
    "    print('Ta fonction est mal codée.')\n",
    "else:\n",
    "    print('Tout est OK, tu peux continuer.')"
   ]
  },
  {
   "cell_type": "markdown",
   "metadata": {},
   "source": [
    "# Complexité\n",
    "\n",
    "tu vas maintenant rajouter une variable globale `opel` dans les 2 fonctions précédentes, que tu vas recopier ci dessous.\n",
    "Tu l'augmenteras de 1 à chaque accès à `lst` en lecture/écriture, de 2 s'il y a un échange.\n",
    "\n",
    "**Ce procédé nous permet de mesurer le nombre d'opels *réel* pour trier une liste donnée, pas la complexité pire cas.**\n",
    "\n",
    "Commençons par la fonction `place`"
   ]
  },
  {
   "cell_type": "code",
   "execution_count": 8,
   "metadata": {},
   "outputs": [],
   "source": [
    "nb_opel = 0\n",
    "def place(lst : list, i : int) -> None:\n",
    "    global nb_opel\n",
    "    while i>0 and lst[i]< lst[i-1]:\n",
    "        nb_opel +=4\n",
    "        lst[i], lst[i-1] = lst[i-1], lst[i]\n",
    "        i -= 1"
   ]
  },
  {
   "cell_type": "markdown",
   "metadata": {},
   "source": [
    "Exécute la cellule de tests suivante."
   ]
  },
  {
   "cell_type": "code",
   "execution_count": 9,
   "metadata": {},
   "outputs": [
    {
     "name": "stdout",
     "output_type": "stream",
     "text": [
      "Tout est OK tu peux continuer.\n"
     ]
    }
   ],
   "source": [
    "nb_opel = 0\n",
    "L = [21,58,231,426,551,621,3546,32135,116851,2223213,2]\n",
    "place(L,10)\n",
    "if nb_opel ==40:\n",
    "    print(\"Tout est OK tu peux continuer.\")\n",
    "else:\n",
    "    print(\"Il semble y avoir un problème.\")"
   ]
  },
  {
   "cell_type": "markdown",
   "metadata": {},
   "source": [
    "Pourquoi n'est-ce pas nécessaire de faire la même chose pour`tri_insertion` ?"
   ]
  },
  {
   "cell_type": "raw",
   "metadata": {},
   "source": [
    "Car on n'accède pas directement au éléments de la liste : c'est la fonction `place` qui s'en charge."
   ]
  },
  {
   "cell_type": "markdown",
   "metadata": {},
   "source": [
    "## Illustration des résultats\n",
    "\n",
    "Contraireement au résultat du cours, `nb_opel` n'est pas toujours automatiquement augmenté : on va obtenir des résultats *effectifs* et non des résultats *pire cas*.\n",
    "\n",
    "Exécute la cellule suivante."
   ]
  },
  {
   "cell_type": "code",
   "execution_count": 12,
   "metadata": {},
   "outputs": [
    {
     "data": {
      "image/png": "[encoded data removed]",
      "text/plain": [
       "<Figure size 432x288 with 1 Axes>"
      ]
     },
     "metadata": {
      "needs_background": "light"
     },
     "output_type": "display_data"
    }
   ],
   "source": [
    "import matplotlib.pyplot as plt\n",
    "\n",
    "X = []\n",
    "Y = []\n",
    "Z = []\n",
    "for i in range(1,400):\n",
    "    L = [randint(1,10000) for _ in range(i)]\n",
    "    nb_opel = 0\n",
    "    tri_insertion(L)\n",
    "    X.append(i)\n",
    "    Y.append(nb_opel)\n",
    "    Z.append(2*i**2-2*i)\n",
    "plt.plot(X,Y,label = \"nombre effectifs d'opels\")\n",
    "plt.plot(X,Z,label = \"nombre dans le pire des cas\")\n",
    "plt.title(\"Complexité du tri par insertion\")\n",
    "plt.legend()\n",
    "plt.show()"
   ]
  },
  {
   "cell_type": "markdown",
   "metadata": {},
   "source": [
    "Comme on peut le voir, la complexité réelle semble bien de l'ordre de $n^2$.\n",
    "On peut essayer de déterminer \"à la main\" le coefficient $a$ tel que la courbe bleu se rapproche le plus de la courbe de la fonction définie sur $\\mathbb{N}^*$ par $$n\\mapsto an^2$$\n",
    "Il suffit d'essayer successivement des valeurs de $a$ :"
   ]
  },
  {
   "cell_type": "code",
   "execution_count": 14,
   "metadata": {},
   "outputs": [
    {
     "name": "stdout",
     "output_type": "stream",
     "text": [
      "Entrer une valeur de a : 1\n"
     ]
    },
    {
     "data": {
      "image/png": "[encoded data removed]",
      "text/plain": [
       "<Figure size 432x288 with 1 Axes>"
      ]
     },
     "metadata": {
      "needs_background": "light"
     },
     "output_type": "display_data"
    }
   ],
   "source": [
    "X = []\n",
    "Y = []\n",
    "Z = []\n",
    "a = float(input(\"Entrer une valeur de a : \"))\n",
    "for i in range(1,400):\n",
    "    L = [randint(1,10000) for _ in range(i)]\n",
    "    nb_opel = 0\n",
    "    tri_insertion(L)\n",
    "    X.append(i)\n",
    "    Y.append(nb_opel)\n",
    "    Z.append(a*i**2)\n",
    "plt.plot(X,Y,label = \"nombre effectif d'opels\")\n",
    "plt.plot(X,Z,label = \"x |--> \"+str(a)+\"*x^2\")\n",
    "plt.title(\"Complexité du tri par selection\")\n",
    "plt.legend()\n",
    "plt.show()"
   ]
  },
  {
   "cell_type": "markdown",
   "metadata": {},
   "source": [
    "Si on se réfère aux résultats que tu as trouvés, pour une liste de taille 100000, combien faut-il d'opels environ pour la trier avec le tri par selection ?"
   ]
  },
  {
   "cell_type": "code",
   "execution_count": null,
   "metadata": {},
   "outputs": [],
   "source": [
    "100000"
   ]
  }
 ],
 "metadata": {
  "kernelspec": {
   "display_name": "Python 3",
   "language": "python",
   "name": "python3"
  },
  "language_info": {
   "codemirror_mode": {
    "name": "ipython",
    "version": 3
   },
   "file_extension": ".py",
   "mimetype": "text/x-python",
   "name": "python",
   "nbconvert_exporter": "python",
   "pygments_lexer": "ipython3",
   "version": "3.8.6"
  }
 },
 "nbformat": 4,
 "nbformat_minor": 4
}
